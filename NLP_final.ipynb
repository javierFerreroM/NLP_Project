{
  "nbformat": 4,
  "nbformat_minor": 0,
  "metadata": {
    "colab": {
      "name": "NLP_final.ipynb",
      "provenance": [],
      "collapsed_sections": [],
      "toc_visible": true,
      "include_colab_link": true
    },
    "kernelspec": {
      "name": "python3",
      "display_name": "Python 3"
    },
    "language_info": {
      "name": "python"
    },
    "accelerator": "GPU",
    "gpuClass": "standard"
  },
  "cells": [
    {
      "cell_type": "markdown",
      "metadata": {
        "id": "view-in-github",
        "colab_type": "text"
      },
      "source": [
        "<a href=\"https://colab.research.google.com/github/javierFerreroM/NLP_Project/blob/main/NLP_final.ipynb\" target=\"_parent\"><img src=\"https://colab.research.google.com/assets/colab-badge.svg\" alt=\"Open In Colab\"/></a>"
      ]
    },
    {
      "cell_type": "markdown",
      "source": [
        "#Clasificación multilabel de los sentimientos de los tweets"
      ],
      "metadata": {
        "id": "BtKaEly95s5q"
      }
    },
    {
      "cell_type": "markdown",
      "source": [
        "##Introducción al problema"
      ],
      "metadata": {
        "id": "mIrE_09652ND"
      }
    },
    {
      "cell_type": "markdown",
      "source": [
        "Se trata de un problema de clasificación multietiqueta en el que tenéis que etiquetar un conjunto de tweets de acuerdo a 11 sentimientos ('anger', 'anticipation', 'disgust', 'fear', 'joy', 'love', 'optimism', 'pessimism', 'sadness', 'surprise', 'trust').\n",
        "Disponéis de un conjunto de 3561 tweets etiquetas para entrenar y validar el modelo o modelos necesarios, en el archivo 'sem_eval_train_es.csv'.\n",
        "\n",
        "Cada alumno tiene que validar sus modelos sobre el conjunto ciego de test con el nombre 'sem_eval_test_blank_es.csv'. Cada Tweet tiene un ID (primera columna) que tenéis que mantener en vuestra solución. Debéis aplicar vuestro modelo entrenado a este conjunto y guardarlo en un archivo CSV de nombre 'soluciones_nombre_apellido1_apellido2.csv'. El archivo CSV a entregar debe tener esta estructura de Pandas:\n",
        "\n",
        "<class 'pandas.core.frame.DataFrame'>  \n",
        "RangeIndex: 679 entries, 0 to 678  \n",
        "Data columns (total 12 columns):  \n",
        "\n",
        "| #  | Column       |  Non-Null Count  | Dtype |  \n",
        "|--- | ------       |  --------------  | ----- |  \n",
        " 0   | ID            | 679 non-null    | object|\n",
        " 1   | anger         | 679 non-null    | bool  |\n",
        " 2   | anticipation  | 679 non-null    | bool  |\n",
        " 3   | disgust       | 679 non-null    | bool  |\n",
        " 4   | fear          | 679 non-null    | bool  |\n",
        " 5   | joy           | 679 non-null    | bool  |\n",
        " 6   | love          | 679 non-null    | bool  |\n",
        " 7   | optimism      | 679 non-null    | bool  |\n",
        " 8   | pessimism     | 679 non-null    | bool  |\n",
        " 9   | sadness       | 679 non-null    | bool  |\n",
        " 10  | surprise      | 679 non-null    | bool  |\n",
        " 11  | trust         | 679 non-null    | bool  |\n",
        "dtypes: bool(11), object(1)\n",
        "Si el archivo no tiene exactamente esa estructura no se podrá evaluar.\n",
        "\n",
        "Entrega:\n",
        "\n",
        "Cada alumno deberá entregar a través de esta tarea habilitada en AV el archivo CSV de las predicciones en el conjunto ciego de test y todo el código en Python utilizado tanto para el entrenamiento de los modelos como la inferencia en el conjunto ciego de test. El código Python se entregará como Notebook de Jupyter."
      ],
      "metadata": {
        "id": "krolOmE_Si91"
      }
    },
    {
      "cell_type": "code",
      "source": [
        "from google.colab import drive\n",
        "drive.mount('/content/drive')"
      ],
      "metadata": {
        "colab": {
          "base_uri": "https://localhost:8080/"
        },
        "id": "6QG3e5MtnhCC",
        "outputId": "eb3a28ea-dbd5-4bb3-b17d-054a6e2106f6"
      },
      "execution_count": null,
      "outputs": [
        {
          "output_type": "stream",
          "name": "stdout",
          "text": [
            "Mounted at /content/drive\n"
          ]
        }
      ]
    },
    {
      "cell_type": "code",
      "source": [
        "!pip install Unidecode"
      ],
      "metadata": {
        "colab": {
          "base_uri": "https://localhost:8080/"
        },
        "id": "TWh2CbRiXSz1",
        "outputId": "5434e9a3-608d-4bb9-f821-58f37d8bce6b"
      },
      "execution_count": null,
      "outputs": [
        {
          "output_type": "stream",
          "name": "stdout",
          "text": [
            "Looking in indexes: https://pypi.org/simple, https://us-python.pkg.dev/colab-wheels/public/simple/\n",
            "Collecting Unidecode\n",
            "  Downloading Unidecode-1.3.4-py3-none-any.whl (235 kB)\n",
            "\u001b[K     |████████████████████████████████| 235 kB 11.6 MB/s \n",
            "\u001b[?25hInstalling collected packages: Unidecode\n",
            "Successfully installed Unidecode-1.3.4\n"
          ]
        }
      ]
    },
    {
      "cell_type": "code",
      "source": [
        "import pandas as pd\n",
        "import numpy as np\n",
        "from numpy import array\n",
        "from numpy import argmax\n",
        "import re\n",
        "from unidecode import unidecode\n",
        "from keras.preprocessing.text import Tokenizer\n",
        "import nltk \n",
        "from scipy.stats import randint\n",
        "import seaborn as sns # used for plot interactive graph.\n",
        "import matplotlib.pyplot as plt\n",
        "import seaborn as sns\n",
        "from io import StringIO\n",
        "from IPython.display import SVG, display, clear_output\n",
        "from keras.utils.vis_utils import model_to_dot\n",
        "import tensorflow as tf\n",
        "import copy\n",
        "\n",
        "# from sklearn.preprocessing import LabelEncoder\n",
        "# from sklearn.preprocessing import OneHotEncoder\n",
        "# from sklearn.model_selection import train_test_split\n",
        "# from sklearn.feature_extraction.text import TfidfVectorizer\n",
        "# from sklearn.feature_selection import chi2\n",
        "# from IPython.display import display\n",
        "# from sklearn.model_selection import train_test_split\n",
        "# from sklearn.feature_extraction.text import TfidfTransformer\n",
        "# from sklearn.naive_bayes import MultinomialNB\n",
        "# from sklearn.linear_model import LogisticRegression\n",
        "# from sklearn.ensemble import RandomForestClassifier\n",
        "# from sklearn.svm import LinearSVC\n",
        "# from sklearn.model_selection import cross_val_score\n",
        "# from sklearn.metrics import confusion_matrix\n",
        "# from sklearn import metrics\n",
        "\n",
        "from keras.preprocessing.text import one_hot\n",
        "from keras.preprocessing.sequence import pad_sequences\n",
        "from keras.models import Sequential\n",
        "from keras.layers.core import Activation, Dropout, Dense\n",
        "from keras.layers import Flatten, LSTM\n",
        "from keras.layers import GlobalMaxPooling1D\n",
        "from keras.models import Model\n",
        "from keras.layers.embeddings import Embedding\n",
        "from sklearn.model_selection import train_test_split\n",
        "from keras.preprocessing.text import Tokenizer\n",
        "from keras.layers import Input\n",
        "from keras.layers.merge import Concatenate"
      ],
      "metadata": {
        "id": "psARrQW3NYTX"
      },
      "execution_count": null,
      "outputs": []
    },
    {
      "cell_type": "code",
      "execution_count": null,
      "metadata": {
        "id": "aVNu0j-5SBfP",
        "colab": {
          "base_uri": "https://localhost:8080/"
        },
        "outputId": "f628046f-5245-44e4-e08b-b76205dca52e"
      },
      "outputs": [
        {
          "output_type": "stream",
          "name": "stdout",
          "text": [
            "Training Set: (3561, 13) 3561\n",
            "Test Set: (679, 2) 679\n"
          ]
        }
      ],
      "source": [
        "train = pd.read_csv('/content/drive/MyDrive/Colab Notebooks/Datasets/NLP/sem_eval_train_es.csv')\n",
        "print(\"Training Set:\"% train.columns, train.shape, len(train))\n",
        "test = pd.read_csv('/content/drive/MyDrive/Colab Notebooks/Datasets/NLP/sem_eval_test_blank_es.csv')\n",
        "print(\"Test Set:\"% test.columns, test.shape, len(test))"
      ]
    },
    {
      "cell_type": "markdown",
      "source": [
        "Es siempre una buena idea limpiar los datos obtenidos. Debemos eliminar signos de puntuación para evitar introducir ruido en el entrenamiento, dado que símbolos de puntuación tales como @, #, !, etc.\n",
        "\n",
        "Para ello, la biblioteca de python re nos va a permitir buscar expresiones regulares, para eliminar mayúsculas, etc"
      ],
      "metadata": {
        "id": "Wi9MuFUIUk6Z"
      }
    },
    {
      "cell_type": "code",
      "source": [
        "train.head()"
      ],
      "metadata": {
        "colab": {
          "base_uri": "https://localhost:8080/",
          "height": 337
        },
        "id": "AWVasqUeVZ5_",
        "outputId": "09221dbd-cdc6-4539-b8b7-d3ad9cc65a12"
      },
      "execution_count": null,
      "outputs": [
        {
          "output_type": "execute_result",
          "data": {
            "text/plain": [
              "              ID                                              Tweet  anger  \\\n",
              "0  2018-Es-01643  @aliciaenp Ajajjaa somos del clan twitteras pe...  False   \n",
              "1  2018-Es-05142  @AwadaNai la mala suerte del gato fichame la c...  False   \n",
              "2  2018-Es-05379  @audiomano A mí tampoco me agrado mucho eso. E...   True   \n",
              "3  2018-Es-00208  Para llevar a los bebes de un lugar a otro deb...  False   \n",
              "4  2018-Es-01385  @DalasReview me encanta la terrible hipocresia...   True   \n",
              "\n",
              "   anticipation  disgust   fear    joy   love  optimism  pessimism  sadness  \\\n",
              "0         False    False  False   True  False     False      False    False   \n",
              "1         False    False   True  False  False     False       True    False   \n",
              "2         False    False  False  False  False     False      False    False   \n",
              "3         False    False  False   True  False     False      False    False   \n",
              "4         False     True  False  False  False     False      False    False   \n",
              "\n",
              "   surprise  trust  \n",
              "0     False  False  \n",
              "1     False  False  \n",
              "2     False  False  \n",
              "3     False  False  \n",
              "4     False  False  "
            ],
            "text/html": [
              "\n",
              "  <div id=\"df-9a076628-9992-4b5a-8ac7-a6abb5dd538a\">\n",
              "    <div class=\"colab-df-container\">\n",
              "      <div>\n",
              "<style scoped>\n",
              "    .dataframe tbody tr th:only-of-type {\n",
              "        vertical-align: middle;\n",
              "    }\n",
              "\n",
              "    .dataframe tbody tr th {\n",
              "        vertical-align: top;\n",
              "    }\n",
              "\n",
              "    .dataframe thead th {\n",
              "        text-align: right;\n",
              "    }\n",
              "</style>\n",
              "<table border=\"1\" class=\"dataframe\">\n",
              "  <thead>\n",
              "    <tr style=\"text-align: right;\">\n",
              "      <th></th>\n",
              "      <th>ID</th>\n",
              "      <th>Tweet</th>\n",
              "      <th>anger</th>\n",
              "      <th>anticipation</th>\n",
              "      <th>disgust</th>\n",
              "      <th>fear</th>\n",
              "      <th>joy</th>\n",
              "      <th>love</th>\n",
              "      <th>optimism</th>\n",
              "      <th>pessimism</th>\n",
              "      <th>sadness</th>\n",
              "      <th>surprise</th>\n",
              "      <th>trust</th>\n",
              "    </tr>\n",
              "  </thead>\n",
              "  <tbody>\n",
              "    <tr>\n",
              "      <th>0</th>\n",
              "      <td>2018-Es-01643</td>\n",
              "      <td>@aliciaenp Ajajjaa somos del clan twitteras pe...</td>\n",
              "      <td>False</td>\n",
              "      <td>False</td>\n",
              "      <td>False</td>\n",
              "      <td>False</td>\n",
              "      <td>True</td>\n",
              "      <td>False</td>\n",
              "      <td>False</td>\n",
              "      <td>False</td>\n",
              "      <td>False</td>\n",
              "      <td>False</td>\n",
              "      <td>False</td>\n",
              "    </tr>\n",
              "    <tr>\n",
              "      <th>1</th>\n",
              "      <td>2018-Es-05142</td>\n",
              "      <td>@AwadaNai la mala suerte del gato fichame la c...</td>\n",
              "      <td>False</td>\n",
              "      <td>False</td>\n",
              "      <td>False</td>\n",
              "      <td>True</td>\n",
              "      <td>False</td>\n",
              "      <td>False</td>\n",
              "      <td>False</td>\n",
              "      <td>True</td>\n",
              "      <td>False</td>\n",
              "      <td>False</td>\n",
              "      <td>False</td>\n",
              "    </tr>\n",
              "    <tr>\n",
              "      <th>2</th>\n",
              "      <td>2018-Es-05379</td>\n",
              "      <td>@audiomano A mí tampoco me agrado mucho eso. E...</td>\n",
              "      <td>True</td>\n",
              "      <td>False</td>\n",
              "      <td>False</td>\n",
              "      <td>False</td>\n",
              "      <td>False</td>\n",
              "      <td>False</td>\n",
              "      <td>False</td>\n",
              "      <td>False</td>\n",
              "      <td>False</td>\n",
              "      <td>False</td>\n",
              "      <td>False</td>\n",
              "    </tr>\n",
              "    <tr>\n",
              "      <th>3</th>\n",
              "      <td>2018-Es-00208</td>\n",
              "      <td>Para llevar a los bebes de un lugar a otro deb...</td>\n",
              "      <td>False</td>\n",
              "      <td>False</td>\n",
              "      <td>False</td>\n",
              "      <td>False</td>\n",
              "      <td>True</td>\n",
              "      <td>False</td>\n",
              "      <td>False</td>\n",
              "      <td>False</td>\n",
              "      <td>False</td>\n",
              "      <td>False</td>\n",
              "      <td>False</td>\n",
              "    </tr>\n",
              "    <tr>\n",
              "      <th>4</th>\n",
              "      <td>2018-Es-01385</td>\n",
              "      <td>@DalasReview me encanta la terrible hipocresia...</td>\n",
              "      <td>True</td>\n",
              "      <td>False</td>\n",
              "      <td>True</td>\n",
              "      <td>False</td>\n",
              "      <td>False</td>\n",
              "      <td>False</td>\n",
              "      <td>False</td>\n",
              "      <td>False</td>\n",
              "      <td>False</td>\n",
              "      <td>False</td>\n",
              "      <td>False</td>\n",
              "    </tr>\n",
              "  </tbody>\n",
              "</table>\n",
              "</div>\n",
              "      <button class=\"colab-df-convert\" onclick=\"convertToInteractive('df-9a076628-9992-4b5a-8ac7-a6abb5dd538a')\"\n",
              "              title=\"Convert this dataframe to an interactive table.\"\n",
              "              style=\"display:none;\">\n",
              "        \n",
              "  <svg xmlns=\"http://www.w3.org/2000/svg\" height=\"24px\"viewBox=\"0 0 24 24\"\n",
              "       width=\"24px\">\n",
              "    <path d=\"M0 0h24v24H0V0z\" fill=\"none\"/>\n",
              "    <path d=\"M18.56 5.44l.94 2.06.94-2.06 2.06-.94-2.06-.94-.94-2.06-.94 2.06-2.06.94zm-11 1L8.5 8.5l.94-2.06 2.06-.94-2.06-.94L8.5 2.5l-.94 2.06-2.06.94zm10 10l.94 2.06.94-2.06 2.06-.94-2.06-.94-.94-2.06-.94 2.06-2.06.94z\"/><path d=\"M17.41 7.96l-1.37-1.37c-.4-.4-.92-.59-1.43-.59-.52 0-1.04.2-1.43.59L10.3 9.45l-7.72 7.72c-.78.78-.78 2.05 0 2.83L4 21.41c.39.39.9.59 1.41.59.51 0 1.02-.2 1.41-.59l7.78-7.78 2.81-2.81c.8-.78.8-2.07 0-2.86zM5.41 20L4 18.59l7.72-7.72 1.47 1.35L5.41 20z\"/>\n",
              "  </svg>\n",
              "      </button>\n",
              "      \n",
              "  <style>\n",
              "    .colab-df-container {\n",
              "      display:flex;\n",
              "      flex-wrap:wrap;\n",
              "      gap: 12px;\n",
              "    }\n",
              "\n",
              "    .colab-df-convert {\n",
              "      background-color: #E8F0FE;\n",
              "      border: none;\n",
              "      border-radius: 50%;\n",
              "      cursor: pointer;\n",
              "      display: none;\n",
              "      fill: #1967D2;\n",
              "      height: 32px;\n",
              "      padding: 0 0 0 0;\n",
              "      width: 32px;\n",
              "    }\n",
              "\n",
              "    .colab-df-convert:hover {\n",
              "      background-color: #E2EBFA;\n",
              "      box-shadow: 0px 1px 2px rgba(60, 64, 67, 0.3), 0px 1px 3px 1px rgba(60, 64, 67, 0.15);\n",
              "      fill: #174EA6;\n",
              "    }\n",
              "\n",
              "    [theme=dark] .colab-df-convert {\n",
              "      background-color: #3B4455;\n",
              "      fill: #D2E3FC;\n",
              "    }\n",
              "\n",
              "    [theme=dark] .colab-df-convert:hover {\n",
              "      background-color: #434B5C;\n",
              "      box-shadow: 0px 1px 3px 1px rgba(0, 0, 0, 0.15);\n",
              "      filter: drop-shadow(0px 1px 2px rgba(0, 0, 0, 0.3));\n",
              "      fill: #FFFFFF;\n",
              "    }\n",
              "  </style>\n",
              "\n",
              "      <script>\n",
              "        const buttonEl =\n",
              "          document.querySelector('#df-9a076628-9992-4b5a-8ac7-a6abb5dd538a button.colab-df-convert');\n",
              "        buttonEl.style.display =\n",
              "          google.colab.kernel.accessAllowed ? 'block' : 'none';\n",
              "\n",
              "        async function convertToInteractive(key) {\n",
              "          const element = document.querySelector('#df-9a076628-9992-4b5a-8ac7-a6abb5dd538a');\n",
              "          const dataTable =\n",
              "            await google.colab.kernel.invokeFunction('convertToInteractive',\n",
              "                                                     [key], {});\n",
              "          if (!dataTable) return;\n",
              "\n",
              "          const docLinkHtml = 'Like what you see? Visit the ' +\n",
              "            '<a target=\"_blank\" href=https://colab.research.google.com/notebooks/data_table.ipynb>data table notebook</a>'\n",
              "            + ' to learn more about interactive tables.';\n",
              "          element.innerHTML = '';\n",
              "          dataTable['output_type'] = 'display_data';\n",
              "          await google.colab.output.renderOutput(dataTable, element);\n",
              "          const docLink = document.createElement('div');\n",
              "          docLink.innerHTML = docLinkHtml;\n",
              "          element.appendChild(docLink);\n",
              "        }\n",
              "      </script>\n",
              "    </div>\n",
              "  </div>\n",
              "  "
            ]
          },
          "metadata": {},
          "execution_count": 5
        }
      ]
    },
    {
      "cell_type": "code",
      "source": [
        "train.info"
      ],
      "metadata": {
        "colab": {
          "base_uri": "https://localhost:8080/"
        },
        "id": "I18OCRvlIOQt",
        "outputId": "e1c23955-9461-471b-bd0f-3c744a1a9cde"
      },
      "execution_count": null,
      "outputs": [
        {
          "output_type": "execute_result",
          "data": {
            "text/plain": [
              "<bound method DataFrame.info of                  ID                                              Tweet  anger  \\\n",
              "0     2018-Es-01643  @aliciaenp Ajajjaa somos del clan twitteras pe...  False   \n",
              "1     2018-Es-05142  @AwadaNai la mala suerte del gato fichame la c...  False   \n",
              "2     2018-Es-05379  @audiomano A mí tampoco me agrado mucho eso. E...   True   \n",
              "3     2018-Es-00208  Para llevar a los bebes de un lugar a otro deb...  False   \n",
              "4     2018-Es-01385  @DalasReview me encanta la terrible hipocresia...   True   \n",
              "...             ...                                                ...    ...   \n",
              "3556  2018-Es-06340  Ahorita quisiera que mi preocupación más grand...  False   \n",
              "3557  2018-Es-00439  El mayor criminal del país diciéndole “delincu...   True   \n",
              "3558  2018-Es-04919  Mi prima de 4 años se ha enfadado conmigo porq...   True   \n",
              "3559  2018-Es-02703                      @lennycia Jajaja...  Ya seee   False   \n",
              "3560  2018-Es-02680  Quiero abrazar. Quiero querer. Me hace falta e...  False   \n",
              "\n",
              "      anticipation  disgust   fear    joy   love  optimism  pessimism  \\\n",
              "0            False    False  False   True  False     False      False   \n",
              "1            False    False   True  False  False     False       True   \n",
              "2            False    False  False  False  False     False      False   \n",
              "3            False    False  False   True  False     False      False   \n",
              "4            False     True  False  False  False     False      False   \n",
              "...            ...      ...    ...    ...    ...       ...        ...   \n",
              "3556         False    False   True  False  False     False       True   \n",
              "3557         False     True  False  False  False     False      False   \n",
              "3558         False    False  False  False  False     False      False   \n",
              "3559         False    False  False   True  False     False      False   \n",
              "3560         False    False  False  False   True     False      False   \n",
              "\n",
              "      sadness  surprise  trust  \n",
              "0       False     False  False  \n",
              "1       False     False  False  \n",
              "2       False     False  False  \n",
              "3       False     False  False  \n",
              "4       False     False  False  \n",
              "...       ...       ...    ...  \n",
              "3556     True     False  False  \n",
              "3557    False     False  False  \n",
              "3558    False      True  False  \n",
              "3559    False     False  False  \n",
              "3560     True     False  False  \n",
              "\n",
              "[3561 rows x 13 columns]>"
            ]
          },
          "metadata": {},
          "execution_count": 6
        }
      ]
    },
    {
      "cell_type": "markdown",
      "source": [
        "##Prepare the dataset"
      ],
      "metadata": {
        "id": "eZvmFhpL5HNK"
      }
    },
    {
      "cell_type": "markdown",
      "source": [
        "###Clean the dataset"
      ],
      "metadata": {
        "id": "1EtfZiIY6QRS"
      }
    },
    {
      "cell_type": "code",
      "source": [
        "def  clean_text(df, text_field):\n",
        "    df[text_field] = df[text_field].str.lower() # pasar todo a minúsculas\n",
        "    df[text_field] = df[text_field].apply(unidecode) # Eliminar los acentos y símbolos sobre las letras\n",
        "    df[text_field] = df[text_field].apply(lambda elem: re.sub(r\"(@[A-Za-z0-9]+)|([^0-9A-Za-z \\t])|(\\w+:\\/\\/\\S+)|^rt|http.+?\", \"\", elem))  # Eliminar caracteres extraños\n",
        "    return df\n",
        "test_clean = clean_text(test, \"Tweet\")\n",
        "train_clean = clean_text(train, \"Tweet\")"
      ],
      "metadata": {
        "id": "GLWpE9BUVG1D"
      },
      "execution_count": null,
      "outputs": []
    },
    {
      "cell_type": "code",
      "source": [
        "train.head()"
      ],
      "metadata": {
        "colab": {
          "base_uri": "https://localhost:8080/",
          "height": 337
        },
        "id": "u3VwibcpVfcu",
        "outputId": "e728e5cc-cb8c-4c44-94fd-f2fd12336dc0"
      },
      "execution_count": null,
      "outputs": [
        {
          "output_type": "execute_result",
          "data": {
            "text/plain": [
              "              ID                                              Tweet  anger  \\\n",
              "0  2018-Es-01643   ajajjaa somos del clan twitteras perdidas pa ...  False   \n",
              "1  2018-Es-05142   la mala suerte del gato fichame la cara de he...  False   \n",
              "2  2018-Es-05379   a mi tampoco me agrado mucho eso especialment...   True   \n",
              "3  2018-Es-00208  para llevar a los bebes de un lugar a otro deb...  False   \n",
              "4  2018-Es-01385   me encanta la terrible hipocresia y doble mor...   True   \n",
              "\n",
              "   anticipation  disgust   fear    joy   love  optimism  pessimism  sadness  \\\n",
              "0         False    False  False   True  False     False      False    False   \n",
              "1         False    False   True  False  False     False       True    False   \n",
              "2         False    False  False  False  False     False      False    False   \n",
              "3         False    False  False   True  False     False      False    False   \n",
              "4         False     True  False  False  False     False      False    False   \n",
              "\n",
              "   surprise  trust  \n",
              "0     False  False  \n",
              "1     False  False  \n",
              "2     False  False  \n",
              "3     False  False  \n",
              "4     False  False  "
            ],
            "text/html": [
              "\n",
              "  <div id=\"df-2ba48107-d288-4632-9cc0-ad01c829c0fd\">\n",
              "    <div class=\"colab-df-container\">\n",
              "      <div>\n",
              "<style scoped>\n",
              "    .dataframe tbody tr th:only-of-type {\n",
              "        vertical-align: middle;\n",
              "    }\n",
              "\n",
              "    .dataframe tbody tr th {\n",
              "        vertical-align: top;\n",
              "    }\n",
              "\n",
              "    .dataframe thead th {\n",
              "        text-align: right;\n",
              "    }\n",
              "</style>\n",
              "<table border=\"1\" class=\"dataframe\">\n",
              "  <thead>\n",
              "    <tr style=\"text-align: right;\">\n",
              "      <th></th>\n",
              "      <th>ID</th>\n",
              "      <th>Tweet</th>\n",
              "      <th>anger</th>\n",
              "      <th>anticipation</th>\n",
              "      <th>disgust</th>\n",
              "      <th>fear</th>\n",
              "      <th>joy</th>\n",
              "      <th>love</th>\n",
              "      <th>optimism</th>\n",
              "      <th>pessimism</th>\n",
              "      <th>sadness</th>\n",
              "      <th>surprise</th>\n",
              "      <th>trust</th>\n",
              "    </tr>\n",
              "  </thead>\n",
              "  <tbody>\n",
              "    <tr>\n",
              "      <th>0</th>\n",
              "      <td>2018-Es-01643</td>\n",
              "      <td>ajajjaa somos del clan twitteras perdidas pa ...</td>\n",
              "      <td>False</td>\n",
              "      <td>False</td>\n",
              "      <td>False</td>\n",
              "      <td>False</td>\n",
              "      <td>True</td>\n",
              "      <td>False</td>\n",
              "      <td>False</td>\n",
              "      <td>False</td>\n",
              "      <td>False</td>\n",
              "      <td>False</td>\n",
              "      <td>False</td>\n",
              "    </tr>\n",
              "    <tr>\n",
              "      <th>1</th>\n",
              "      <td>2018-Es-05142</td>\n",
              "      <td>la mala suerte del gato fichame la cara de he...</td>\n",
              "      <td>False</td>\n",
              "      <td>False</td>\n",
              "      <td>False</td>\n",
              "      <td>True</td>\n",
              "      <td>False</td>\n",
              "      <td>False</td>\n",
              "      <td>False</td>\n",
              "      <td>True</td>\n",
              "      <td>False</td>\n",
              "      <td>False</td>\n",
              "      <td>False</td>\n",
              "    </tr>\n",
              "    <tr>\n",
              "      <th>2</th>\n",
              "      <td>2018-Es-05379</td>\n",
              "      <td>a mi tampoco me agrado mucho eso especialment...</td>\n",
              "      <td>True</td>\n",
              "      <td>False</td>\n",
              "      <td>False</td>\n",
              "      <td>False</td>\n",
              "      <td>False</td>\n",
              "      <td>False</td>\n",
              "      <td>False</td>\n",
              "      <td>False</td>\n",
              "      <td>False</td>\n",
              "      <td>False</td>\n",
              "      <td>False</td>\n",
              "    </tr>\n",
              "    <tr>\n",
              "      <th>3</th>\n",
              "      <td>2018-Es-00208</td>\n",
              "      <td>para llevar a los bebes de un lugar a otro deb...</td>\n",
              "      <td>False</td>\n",
              "      <td>False</td>\n",
              "      <td>False</td>\n",
              "      <td>False</td>\n",
              "      <td>True</td>\n",
              "      <td>False</td>\n",
              "      <td>False</td>\n",
              "      <td>False</td>\n",
              "      <td>False</td>\n",
              "      <td>False</td>\n",
              "      <td>False</td>\n",
              "    </tr>\n",
              "    <tr>\n",
              "      <th>4</th>\n",
              "      <td>2018-Es-01385</td>\n",
              "      <td>me encanta la terrible hipocresia y doble mor...</td>\n",
              "      <td>True</td>\n",
              "      <td>False</td>\n",
              "      <td>True</td>\n",
              "      <td>False</td>\n",
              "      <td>False</td>\n",
              "      <td>False</td>\n",
              "      <td>False</td>\n",
              "      <td>False</td>\n",
              "      <td>False</td>\n",
              "      <td>False</td>\n",
              "      <td>False</td>\n",
              "    </tr>\n",
              "  </tbody>\n",
              "</table>\n",
              "</div>\n",
              "      <button class=\"colab-df-convert\" onclick=\"convertToInteractive('df-2ba48107-d288-4632-9cc0-ad01c829c0fd')\"\n",
              "              title=\"Convert this dataframe to an interactive table.\"\n",
              "              style=\"display:none;\">\n",
              "        \n",
              "  <svg xmlns=\"http://www.w3.org/2000/svg\" height=\"24px\"viewBox=\"0 0 24 24\"\n",
              "       width=\"24px\">\n",
              "    <path d=\"M0 0h24v24H0V0z\" fill=\"none\"/>\n",
              "    <path d=\"M18.56 5.44l.94 2.06.94-2.06 2.06-.94-2.06-.94-.94-2.06-.94 2.06-2.06.94zm-11 1L8.5 8.5l.94-2.06 2.06-.94-2.06-.94L8.5 2.5l-.94 2.06-2.06.94zm10 10l.94 2.06.94-2.06 2.06-.94-2.06-.94-.94-2.06-.94 2.06-2.06.94z\"/><path d=\"M17.41 7.96l-1.37-1.37c-.4-.4-.92-.59-1.43-.59-.52 0-1.04.2-1.43.59L10.3 9.45l-7.72 7.72c-.78.78-.78 2.05 0 2.83L4 21.41c.39.39.9.59 1.41.59.51 0 1.02-.2 1.41-.59l7.78-7.78 2.81-2.81c.8-.78.8-2.07 0-2.86zM5.41 20L4 18.59l7.72-7.72 1.47 1.35L5.41 20z\"/>\n",
              "  </svg>\n",
              "      </button>\n",
              "      \n",
              "  <style>\n",
              "    .colab-df-container {\n",
              "      display:flex;\n",
              "      flex-wrap:wrap;\n",
              "      gap: 12px;\n",
              "    }\n",
              "\n",
              "    .colab-df-convert {\n",
              "      background-color: #E8F0FE;\n",
              "      border: none;\n",
              "      border-radius: 50%;\n",
              "      cursor: pointer;\n",
              "      display: none;\n",
              "      fill: #1967D2;\n",
              "      height: 32px;\n",
              "      padding: 0 0 0 0;\n",
              "      width: 32px;\n",
              "    }\n",
              "\n",
              "    .colab-df-convert:hover {\n",
              "      background-color: #E2EBFA;\n",
              "      box-shadow: 0px 1px 2px rgba(60, 64, 67, 0.3), 0px 1px 3px 1px rgba(60, 64, 67, 0.15);\n",
              "      fill: #174EA6;\n",
              "    }\n",
              "\n",
              "    [theme=dark] .colab-df-convert {\n",
              "      background-color: #3B4455;\n",
              "      fill: #D2E3FC;\n",
              "    }\n",
              "\n",
              "    [theme=dark] .colab-df-convert:hover {\n",
              "      background-color: #434B5C;\n",
              "      box-shadow: 0px 1px 3px 1px rgba(0, 0, 0, 0.15);\n",
              "      filter: drop-shadow(0px 1px 2px rgba(0, 0, 0, 0.3));\n",
              "      fill: #FFFFFF;\n",
              "    }\n",
              "  </style>\n",
              "\n",
              "      <script>\n",
              "        const buttonEl =\n",
              "          document.querySelector('#df-2ba48107-d288-4632-9cc0-ad01c829c0fd button.colab-df-convert');\n",
              "        buttonEl.style.display =\n",
              "          google.colab.kernel.accessAllowed ? 'block' : 'none';\n",
              "\n",
              "        async function convertToInteractive(key) {\n",
              "          const element = document.querySelector('#df-2ba48107-d288-4632-9cc0-ad01c829c0fd');\n",
              "          const dataTable =\n",
              "            await google.colab.kernel.invokeFunction('convertToInteractive',\n",
              "                                                     [key], {});\n",
              "          if (!dataTable) return;\n",
              "\n",
              "          const docLinkHtml = 'Like what you see? Visit the ' +\n",
              "            '<a target=\"_blank\" href=https://colab.research.google.com/notebooks/data_table.ipynb>data table notebook</a>'\n",
              "            + ' to learn more about interactive tables.';\n",
              "          element.innerHTML = '';\n",
              "          dataTable['output_type'] = 'display_data';\n",
              "          await google.colab.output.renderOutput(dataTable, element);\n",
              "          const docLink = document.createElement('div');\n",
              "          docLink.innerHTML = docLinkHtml;\n",
              "          element.appendChild(docLink);\n",
              "        }\n",
              "      </script>\n",
              "    </div>\n",
              "  </div>\n",
              "  "
            ]
          },
          "metadata": {},
          "execution_count": 8
        }
      ]
    },
    {
      "cell_type": "code",
      "source": [
        "# Check for null values\n",
        "np.sum(train_clean.isnull().any(axis=1))"
      ],
      "metadata": {
        "colab": {
          "base_uri": "https://localhost:8080/"
        },
        "id": "TMkIOedBHnSy",
        "outputId": "c6d4c3d0-16c6-4a97-8b66-e39b483df234"
      },
      "execution_count": null,
      "outputs": [
        {
          "output_type": "execute_result",
          "data": {
            "text/plain": [
              "0"
            ]
          },
          "metadata": {},
          "execution_count": 9
        }
      ]
    },
    {
      "cell_type": "markdown",
      "source": [
        "###Tokenize the text"
      ],
      "metadata": {
        "id": "e8188LbP5MLJ"
      }
    },
    {
      "cell_type": "code",
      "source": [
        "# Tokenizer: Split sentences into words\n",
        "# The Embedding layer expects the words to be in numeric form.\n",
        "nltk.download('punkt')\n",
        "train_clean['tokenized_sents'] = train_clean.apply(lambda row: nltk.word_tokenize(row['Tweet']), axis=1)\n",
        "test_clean['tokenized_sents'] = test_clean.apply(lambda row: nltk.word_tokenize(row['Tweet']), axis=1)"
      ],
      "metadata": {
        "colab": {
          "base_uri": "https://localhost:8080/"
        },
        "id": "P8OO6MiBNDmX",
        "outputId": "00ac60d4-6f3b-4873-df0c-a994535e255f"
      },
      "execution_count": null,
      "outputs": [
        {
          "output_type": "stream",
          "name": "stderr",
          "text": [
            "[nltk_data] Downloading package punkt to /root/nltk_data...\n",
            "[nltk_data]   Unzipping tokenizers/punkt.zip.\n"
          ]
        }
      ]
    },
    {
      "cell_type": "code",
      "source": [
        "train_clean['tokenized_sents']"
      ],
      "metadata": {
        "colab": {
          "base_uri": "https://localhost:8080/"
        },
        "id": "_o8epjpYHqMK",
        "outputId": "491a3e5c-dc5d-4114-ddf3-15a142936e6a"
      },
      "execution_count": null,
      "outputs": [
        {
          "output_type": "execute_result",
          "data": {
            "text/plain": [
              "0       [ajajjaa, somos, del, clan, twitteras, perdida...\n",
              "1       [la, mala, suerte, del, gato, fichame, la, car...\n",
              "2       [a, mi, tampoco, me, agrado, mucho, eso, espec...\n",
              "3       [para, llevar, a, los, bebes, de, un, lugar, a...\n",
              "4       [me, encanta, la, terrible, hipocresia, y, dob...\n",
              "                              ...                        \n",
              "3556    [ahorita, quisiera, que, mi, preocupacion, mas...\n",
              "3557    [el, mayor, criminal, del, pais, diciendole, d...\n",
              "3558    [mi, prima, de, 4, anos, se, ha, enfadado, con...\n",
              "3559                                   [jajaja, ya, seee]\n",
              "3560    [quiero, abrazar, quiero, querer, me, hace, fa...\n",
              "Name: tokenized_sents, Length: 3561, dtype: object"
            ]
          },
          "metadata": {},
          "execution_count": 11
        }
      ]
    },
    {
      "cell_type": "code",
      "source": [
        "test_clean['tokenized_sents']"
      ],
      "metadata": {
        "id": "ScCDjidO3TMn",
        "outputId": "0f0da1c4-aaa9-45bf-9b78-79ee6663381e",
        "colab": {
          "base_uri": "https://localhost:8080/"
        }
      },
      "execution_count": null,
      "outputs": [
        {
          "output_type": "execute_result",
          "data": {
            "text/plain": [
              "0      [no, me, pienso, perder, la, pelea, de, mcgreg...\n",
              "1      [yo, preocupada, pensando, que, mi, papa, ya, ...\n",
              "2      [pucha, ya, no, me, sirven, todos, los, carros...\n",
              "3      [si, estar, contigo, es, un, delito, hago, cie...\n",
              "4      [perfect, y, de, una, mansa, ni, que, terrible...\n",
              "                             ...                        \n",
              "674    [peligro, al, volante, tec, los, santos, memes...\n",
              "675    [vamos, a, ver, q, sucedio, en, mi, barrio, en...\n",
              "676    [felicidades, fer, que, esta, pasando, al, agu...\n",
              "677    [lamento, mi, confusion, de, rama, legislativa...\n",
              "678    [mi, sobrina, vio, la, foto, que, esta, en, la...\n",
              "Name: tokenized_sents, Length: 679, dtype: object"
            ]
          },
          "metadata": {},
          "execution_count": 12
        }
      ]
    },
    {
      "cell_type": "markdown",
      "source": [
        "###Check the configuration of the dataset"
      ],
      "metadata": {
        "id": "XbU2dWTI5QGA"
      }
    },
    {
      "cell_type": "code",
      "source": [
        "#Check if the classes are imbalanced\n",
        "count = {}\n",
        "for i in train_clean.columns:\n",
        "  if i not in ['ID', 'Tweet']:\n",
        "    count[i] = len(train_clean[train_clean[i]==True])\n",
        "print(count)\n",
        "\n",
        "\n",
        "fig = plt.figure()\n",
        "ax = fig.add_axes([0,0,1,1])\n",
        "ax.bar(count.keys(),count.values())\n",
        "plt.show()\n",
        "# Number of rows and columns\n",
        "print('Count of columns in the data is:  ', len(train_clean.columns))\n",
        "print('Count of rows in the data is:  ', len(train_clean))"
      ],
      "metadata": {
        "id": "kO67jvY8Y8_j",
        "colab": {
          "base_uri": "https://localhost:8080/",
          "height": 410
        },
        "outputId": "d4aed9e6-88a9-4739-804a-b9d39cec8b55"
      },
      "execution_count": null,
      "outputs": [
        {
          "output_type": "stream",
          "name": "stdout",
          "text": [
            "{'anger': 1155, 'anticipation': 415, 'disgust': 521, 'fear': 373, 'joy': 1087, 'love': 261, 'optimism': 378, 'pessimism': 578, 'sadness': 845, 'surprise': 169, 'trust': 175, 'tokenized_sents': 0}\n"
          ]
        },
        {
          "output_type": "display_data",
          "data": {
            "text/plain": [
              "<Figure size 432x288 with 1 Axes>"
            ],
            "image/png": "[encoded data removed]"
          },
          "metadata": {
            "needs_background": "light"
          }
        },
        {
          "output_type": "stream",
          "name": "stdout",
          "text": [
            "Count of columns in the data is:   14\n",
            "Count of rows in the data is:   3561\n"
          ]
        }
      ]
    },
    {
      "cell_type": "code",
      "source": [
        "train_clean.head(10)"
      ],
      "metadata": {
        "colab": {
          "base_uri": "https://localhost:8080/",
          "height": 754
        },
        "id": "J_CWww4KO50w",
        "outputId": "83ee5bd4-38ae-4363-e135-a4fb3bb2b2e0"
      },
      "execution_count": null,
      "outputs": [
        {
          "output_type": "execute_result",
          "data": {
            "text/plain": [
              "              ID                                              Tweet  anger  \\\n",
              "0  2018-Es-01643   ajajjaa somos del clan twitteras perdidas pa ...  False   \n",
              "1  2018-Es-05142   la mala suerte del gato fichame la cara de he...  False   \n",
              "2  2018-Es-05379   a mi tampoco me agrado mucho eso especialment...   True   \n",
              "3  2018-Es-00208  para llevar a los bebes de un lugar a otro deb...  False   \n",
              "4  2018-Es-01385   me encanta la terrible hipocresia y doble mor...   True   \n",
              "5  2018-Es-00089  en venezuela el trafico aereo esta tan peligro...  False   \n",
              "6  2018-Es-05189  me voy a morir sin saber por que  y  y  me die...  False   \n",
              "7  2018-Es-02108                                     terrible  esto   True   \n",
              "8  2018-Es-00795    para tristeza y felicidad ed sheeran al rescate  False   \n",
              "9  2018-Es-02243  con razon mi vieja se fue rapido a santa fe si...  False   \n",
              "\n",
              "   anticipation  disgust   fear    joy   love  optimism  pessimism  sadness  \\\n",
              "0         False    False  False   True  False     False      False    False   \n",
              "1         False    False   True  False  False     False       True    False   \n",
              "2         False    False  False  False  False     False      False    False   \n",
              "3         False    False  False   True  False     False      False    False   \n",
              "4         False     True  False  False  False     False      False    False   \n",
              "5          True    False   True  False  False     False       True    False   \n",
              "6         False    False   True  False  False     False      False     True   \n",
              "7         False     True  False  False  False     False      False     True   \n",
              "8         False    False  False   True  False     False      False     True   \n",
              "9         False    False  False  False  False     False       True    False   \n",
              "\n",
              "   surprise  trust                                    tokenized_sents  \n",
              "0     False  False  [ajajjaa, somos, del, clan, twitteras, perdida...  \n",
              "1     False  False  [la, mala, suerte, del, gato, fichame, la, car...  \n",
              "2     False  False  [a, mi, tampoco, me, agrado, mucho, eso, espec...  \n",
              "3     False  False  [para, llevar, a, los, bebes, de, un, lugar, a...  \n",
              "4     False  False  [me, encanta, la, terrible, hipocresia, y, dob...  \n",
              "5     False  False  [en, venezuela, el, trafico, aereo, esta, tan,...  \n",
              "6     False  False  [me, voy, a, morir, sin, saber, por, que, y, y...  \n",
              "7     False  False                                   [terrible, esto]  \n",
              "8     False  False  [para, tristeza, y, felicidad, ed, sheeran, al...  \n",
              "9     False  False  [con, razon, mi, vieja, se, fue, rapido, a, sa...  "
            ],
            "text/html": [
              "\n",
              "  <div id=\"df-896be3e2-f615-4375-b712-4f2e75c3ec33\">\n",
              "    <div class=\"colab-df-container\">\n",
              "      <div>\n",
              "<style scoped>\n",
              "    .dataframe tbody tr th:only-of-type {\n",
              "        vertical-align: middle;\n",
              "    }\n",
              "\n",
              "    .dataframe tbody tr th {\n",
              "        vertical-align: top;\n",
              "    }\n",
              "\n",
              "    .dataframe thead th {\n",
              "        text-align: right;\n",
              "    }\n",
              "</style>\n",
              "<table border=\"1\" class=\"dataframe\">\n",
              "  <thead>\n",
              "    <tr style=\"text-align: right;\">\n",
              "      <th></th>\n",
              "      <th>ID</th>\n",
              "      <th>Tweet</th>\n",
              "      <th>anger</th>\n",
              "      <th>anticipation</th>\n",
              "      <th>disgust</th>\n",
              "      <th>fear</th>\n",
              "      <th>joy</th>\n",
              "      <th>love</th>\n",
              "      <th>optimism</th>\n",
              "      <th>pessimism</th>\n",
              "      <th>sadness</th>\n",
              "      <th>surprise</th>\n",
              "      <th>trust</th>\n",
              "      <th>tokenized_sents</th>\n",
              "    </tr>\n",
              "  </thead>\n",
              "  <tbody>\n",
              "    <tr>\n",
              "      <th>0</th>\n",
              "      <td>2018-Es-01643</td>\n",
              "      <td>ajajjaa somos del clan twitteras perdidas pa ...</td>\n",
              "      <td>False</td>\n",
              "      <td>False</td>\n",
              "      <td>False</td>\n",
              "      <td>False</td>\n",
              "      <td>True</td>\n",
              "      <td>False</td>\n",
              "      <td>False</td>\n",
              "      <td>False</td>\n",
              "      <td>False</td>\n",
              "      <td>False</td>\n",
              "      <td>False</td>\n",
              "      <td>[ajajjaa, somos, del, clan, twitteras, perdida...</td>\n",
              "    </tr>\n",
              "    <tr>\n",
              "      <th>1</th>\n",
              "      <td>2018-Es-05142</td>\n",
              "      <td>la mala suerte del gato fichame la cara de he...</td>\n",
              "      <td>False</td>\n",
              "      <td>False</td>\n",
              "      <td>False</td>\n",
              "      <td>True</td>\n",
              "      <td>False</td>\n",
              "      <td>False</td>\n",
              "      <td>False</td>\n",
              "      <td>True</td>\n",
              "      <td>False</td>\n",
              "      <td>False</td>\n",
              "      <td>False</td>\n",
              "      <td>[la, mala, suerte, del, gato, fichame, la, car...</td>\n",
              "    </tr>\n",
              "    <tr>\n",
              "      <th>2</th>\n",
              "      <td>2018-Es-05379</td>\n",
              "      <td>a mi tampoco me agrado mucho eso especialment...</td>\n",
              "      <td>True</td>\n",
              "      <td>False</td>\n",
              "      <td>False</td>\n",
              "      <td>False</td>\n",
              "      <td>False</td>\n",
              "      <td>False</td>\n",
              "      <td>False</td>\n",
              "      <td>False</td>\n",
              "      <td>False</td>\n",
              "      <td>False</td>\n",
              "      <td>False</td>\n",
              "      <td>[a, mi, tampoco, me, agrado, mucho, eso, espec...</td>\n",
              "    </tr>\n",
              "    <tr>\n",
              "      <th>3</th>\n",
              "      <td>2018-Es-00208</td>\n",
              "      <td>para llevar a los bebes de un lugar a otro deb...</td>\n",
              "      <td>False</td>\n",
              "      <td>False</td>\n",
              "      <td>False</td>\n",
              "      <td>False</td>\n",
              "      <td>True</td>\n",
              "      <td>False</td>\n",
              "      <td>False</td>\n",
              "      <td>False</td>\n",
              "      <td>False</td>\n",
              "      <td>False</td>\n",
              "      <td>False</td>\n",
              "      <td>[para, llevar, a, los, bebes, de, un, lugar, a...</td>\n",
              "    </tr>\n",
              "    <tr>\n",
              "      <th>4</th>\n",
              "      <td>2018-Es-01385</td>\n",
              "      <td>me encanta la terrible hipocresia y doble mor...</td>\n",
              "      <td>True</td>\n",
              "      <td>False</td>\n",
              "      <td>True</td>\n",
              "      <td>False</td>\n",
              "      <td>False</td>\n",
              "      <td>False</td>\n",
              "      <td>False</td>\n",
              "      <td>False</td>\n",
              "      <td>False</td>\n",
              "      <td>False</td>\n",
              "      <td>False</td>\n",
              "      <td>[me, encanta, la, terrible, hipocresia, y, dob...</td>\n",
              "    </tr>\n",
              "    <tr>\n",
              "      <th>5</th>\n",
              "      <td>2018-Es-00089</td>\n",
              "      <td>en venezuela el trafico aereo esta tan peligro...</td>\n",
              "      <td>False</td>\n",
              "      <td>True</td>\n",
              "      <td>False</td>\n",
              "      <td>True</td>\n",
              "      <td>False</td>\n",
              "      <td>False</td>\n",
              "      <td>False</td>\n",
              "      <td>True</td>\n",
              "      <td>False</td>\n",
              "      <td>False</td>\n",
              "      <td>False</td>\n",
              "      <td>[en, venezuela, el, trafico, aereo, esta, tan,...</td>\n",
              "    </tr>\n",
              "    <tr>\n",
              "      <th>6</th>\n",
              "      <td>2018-Es-05189</td>\n",
              "      <td>me voy a morir sin saber por que  y  y  me die...</td>\n",
              "      <td>False</td>\n",
              "      <td>False</td>\n",
              "      <td>False</td>\n",
              "      <td>True</td>\n",
              "      <td>False</td>\n",
              "      <td>False</td>\n",
              "      <td>False</td>\n",
              "      <td>False</td>\n",
              "      <td>True</td>\n",
              "      <td>False</td>\n",
              "      <td>False</td>\n",
              "      <td>[me, voy, a, morir, sin, saber, por, que, y, y...</td>\n",
              "    </tr>\n",
              "    <tr>\n",
              "      <th>7</th>\n",
              "      <td>2018-Es-02108</td>\n",
              "      <td>terrible  esto</td>\n",
              "      <td>True</td>\n",
              "      <td>False</td>\n",
              "      <td>True</td>\n",
              "      <td>False</td>\n",
              "      <td>False</td>\n",
              "      <td>False</td>\n",
              "      <td>False</td>\n",
              "      <td>False</td>\n",
              "      <td>True</td>\n",
              "      <td>False</td>\n",
              "      <td>False</td>\n",
              "      <td>[terrible, esto]</td>\n",
              "    </tr>\n",
              "    <tr>\n",
              "      <th>8</th>\n",
              "      <td>2018-Es-00795</td>\n",
              "      <td>para tristeza y felicidad ed sheeran al rescate</td>\n",
              "      <td>False</td>\n",
              "      <td>False</td>\n",
              "      <td>False</td>\n",
              "      <td>False</td>\n",
              "      <td>True</td>\n",
              "      <td>False</td>\n",
              "      <td>False</td>\n",
              "      <td>False</td>\n",
              "      <td>True</td>\n",
              "      <td>False</td>\n",
              "      <td>False</td>\n",
              "      <td>[para, tristeza, y, felicidad, ed, sheeran, al...</td>\n",
              "    </tr>\n",
              "    <tr>\n",
              "      <th>9</th>\n",
              "      <td>2018-Es-02243</td>\n",
              "      <td>con razon mi vieja se fue rapido a santa fe si...</td>\n",
              "      <td>False</td>\n",
              "      <td>False</td>\n",
              "      <td>False</td>\n",
              "      <td>False</td>\n",
              "      <td>False</td>\n",
              "      <td>False</td>\n",
              "      <td>False</td>\n",
              "      <td>True</td>\n",
              "      <td>False</td>\n",
              "      <td>False</td>\n",
              "      <td>False</td>\n",
              "      <td>[con, razon, mi, vieja, se, fue, rapido, a, sa...</td>\n",
              "    </tr>\n",
              "  </tbody>\n",
              "</table>\n",
              "</div>\n",
              "      <button class=\"colab-df-convert\" onclick=\"convertToInteractive('df-896be3e2-f615-4375-b712-4f2e75c3ec33')\"\n",
              "              title=\"Convert this dataframe to an interactive table.\"\n",
              "              style=\"display:none;\">\n",
              "        \n",
              "  <svg xmlns=\"http://www.w3.org/2000/svg\" height=\"24px\"viewBox=\"0 0 24 24\"\n",
              "       width=\"24px\">\n",
              "    <path d=\"M0 0h24v24H0V0z\" fill=\"none\"/>\n",
              "    <path d=\"M18.56 5.44l.94 2.06.94-2.06 2.06-.94-2.06-.94-.94-2.06-.94 2.06-2.06.94zm-11 1L8.5 8.5l.94-2.06 2.06-.94-2.06-.94L8.5 2.5l-.94 2.06-2.06.94zm10 10l.94 2.06.94-2.06 2.06-.94-2.06-.94-.94-2.06-.94 2.06-2.06.94z\"/><path d=\"M17.41 7.96l-1.37-1.37c-.4-.4-.92-.59-1.43-.59-.52 0-1.04.2-1.43.59L10.3 9.45l-7.72 7.72c-.78.78-.78 2.05 0 2.83L4 21.41c.39.39.9.59 1.41.59.51 0 1.02-.2 1.41-.59l7.78-7.78 2.81-2.81c.8-.78.8-2.07 0-2.86zM5.41 20L4 18.59l7.72-7.72 1.47 1.35L5.41 20z\"/>\n",
              "  </svg>\n",
              "      </button>\n",
              "      \n",
              "  <style>\n",
              "    .colab-df-container {\n",
              "      display:flex;\n",
              "      flex-wrap:wrap;\n",
              "      gap: 12px;\n",
              "    }\n",
              "\n",
              "    .colab-df-convert {\n",
              "      background-color: #E8F0FE;\n",
              "      border: none;\n",
              "      border-radius: 50%;\n",
              "      cursor: pointer;\n",
              "      display: none;\n",
              "      fill: #1967D2;\n",
              "      height: 32px;\n",
              "      padding: 0 0 0 0;\n",
              "      width: 32px;\n",
              "    }\n",
              "\n",
              "    .colab-df-convert:hover {\n",
              "      background-color: #E2EBFA;\n",
              "      box-shadow: 0px 1px 2px rgba(60, 64, 67, 0.3), 0px 1px 3px 1px rgba(60, 64, 67, 0.15);\n",
              "      fill: #174EA6;\n",
              "    }\n",
              "\n",
              "    [theme=dark] .colab-df-convert {\n",
              "      background-color: #3B4455;\n",
              "      fill: #D2E3FC;\n",
              "    }\n",
              "\n",
              "    [theme=dark] .colab-df-convert:hover {\n",
              "      background-color: #434B5C;\n",
              "      box-shadow: 0px 1px 3px 1px rgba(0, 0, 0, 0.15);\n",
              "      filter: drop-shadow(0px 1px 2px rgba(0, 0, 0, 0.3));\n",
              "      fill: #FFFFFF;\n",
              "    }\n",
              "  </style>\n",
              "\n",
              "      <script>\n",
              "        const buttonEl =\n",
              "          document.querySelector('#df-896be3e2-f615-4375-b712-4f2e75c3ec33 button.colab-df-convert');\n",
              "        buttonEl.style.display =\n",
              "          google.colab.kernel.accessAllowed ? 'block' : 'none';\n",
              "\n",
              "        async function convertToInteractive(key) {\n",
              "          const element = document.querySelector('#df-896be3e2-f615-4375-b712-4f2e75c3ec33');\n",
              "          const dataTable =\n",
              "            await google.colab.kernel.invokeFunction('convertToInteractive',\n",
              "                                                     [key], {});\n",
              "          if (!dataTable) return;\n",
              "\n",
              "          const docLinkHtml = 'Like what you see? Visit the ' +\n",
              "            '<a target=\"_blank\" href=https://colab.research.google.com/notebooks/data_table.ipynb>data table notebook</a>'\n",
              "            + ' to learn more about interactive tables.';\n",
              "          element.innerHTML = '';\n",
              "          dataTable['output_type'] = 'display_data';\n",
              "          await google.colab.output.renderOutput(dataTable, element);\n",
              "          const docLink = document.createElement('div');\n",
              "          docLink.innerHTML = docLinkHtml;\n",
              "          element.appendChild(docLink);\n",
              "        }\n",
              "      </script>\n",
              "    </div>\n",
              "  </div>\n",
              "  "
            ]
          },
          "metadata": {},
          "execution_count": 14
        }
      ]
    },
    {
      "cell_type": "markdown",
      "source": [
        "###Translate words into their numerical values"
      ],
      "metadata": {
        "id": "FYRUltB25UqI"
      }
    },
    {
      "cell_type": "code",
      "source": [
        "# Translate the words into their numerical values for train\n",
        "all_words = []\n",
        "embedded_sentences = []\n",
        "\n",
        "for tweet in train_clean['tokenized_sents']:\n",
        "  for word in tweet:\n",
        "    all_words.append(word)\n",
        "\n",
        "unique_words = set(all_words)\n",
        "print(len(unique_words))\n",
        "\n",
        "embedded_sentences = [one_hot(tweet, len(unique_words)) for tweet in train_clean['Tweet']]\n",
        "print(embedded_sentences)"
      ],
      "metadata": {
        "colab": {
          "base_uri": "https://localhost:8080/"
        },
        "id": "PKPSBGYAG59T",
        "outputId": "97ef0c3a-0c8f-4049-c298-afc828206484"
      },
      "execution_count": null,
      "outputs": [
        {
          "output_type": "stream",
          "name": "stdout",
          "text": [
            "8726\n",
            "[[7036, 5668, 1389, 7039, 606, 7764, 5167, 8271, 7991], [5474, 1694, 3164, 1389, 8178, 2850, 5474, 979, 3789, 3331, 3343, 6189], [5644, 5174, 3651, 3343, 5643, 7742, 720, 737, 2244, 8228, 3789, 254, 2849, 1566, 2729], [1966, 2211, 5644, 6836, 136, 3789, 6978, 1367, 5644, 351, 1892, 7527, 8339, 2303, 7527, 278, 836, 5474, 7359, 2412, 5767], [3343, 3023, 5474, 5520, 7550, 3907, 7282, 4383, 6397, 507, 5211, 7915, 2789, 1423, 893, 173, 1273, 1668, 2155, 2849, 683], [2412, 7740, 254, 4448, 7322, 5211, 3641, 788, 7560, 254, 8408, 5778, 2223, 7208, 650], [3343, 6871, 5644, 8709, 3482, 5402, 2244, 6397, 3907, 3907, 3343, 5540, 7518, 3907, 6836, 8598, 4595, 3224, 4043, 6397, 492, 8019], [5520, 1295], [1966, 511, 3907, 658, 3642, 2424, 3028, 3285], [7626, 7191, 5174, 749, 492, 2922, 2778, 5644, 2994, 7776, 3482, 1970, 2849, 2881, 6397, 3343, 8385, 5293], [1273, 8076, 3789, 1805, 6135, 5644, 296, 7915, 7626, 5474, 6397, 5569, 5856, 720, 3614, 4894, 3688, 4705, 4026, 3789, 2138, 5644, 5474, 7915, 6397, 3343, 8127], [6397, 420, 4403, 1423, 6298, 400, 939, 2849, 1681, 62, 2849, 1273, 6215], [6171, 1471, 2244, 1767, 1614, 3907, 3894, 5474, 5247], [4705, 6435, 1966, 8097, 6656, 2506, 8178, 2506, 2280, 8181, 6978, 4698, 5521], [6683, 6836, 6035, 3789, 2751, 5128, 1349, 4705, 3746, 3095, 111], [6397, 5679, 173, 2265, 983], [6397, 4487, 492, 6514, 7127, 3789, 1387, 5770, 3389, 4487, 5853], [1051, 2046, 5035, 7410, 4687, 7528, 3789, 5174, 4529], [254, 7865, 2849, 3343, 6246, 4963, 5729, 5644, 5474, 7078, 7037, 179, 6171, 530], [3945, 3789, 4079, 408, 2982, 5644, 3031, 4246, 3342, 4026, 5474, 3800, 6991, 6397, 2849, 7837, 688], [173, 6722, 7560, 3789, 6576, 408, 5778, 492, 6397, 173, 5540, 3789, 3155, 1966, 3079, 3641, 3305, 5607, 5778, 492, 6397, 175, 6089, 3789, 7630, 3907, 3688, 6991], [3905, 3551, 2341], [3589, 6978, 5494, 5786, 5618, 2355, 370, 492, 6614, 5644, 5174, 4246, 2654], [5174, 1491, 2269, 1931, 7029, 3907, 4413, 5778, 173, 4388], [2849, 492, 1966, 6397, 5239, 3789, 7314, 5474, 6228, 7151, 408, 7410, 4661, 254, 7630], [2849, 492, 6397, 4416, 745, 7899], [7362, 7592, 5030, 5474, 2720, 1389, 7539, 5142, 5474, 1729, 3102, 6978, 8427, 4390], [8097, 6871, 5644, 7582, 1262, 5345, 3789, 5206, 7844], [1574, 1566, 6397, 4950, 6171, 7837, 1273, 8422, 5644, 299, 789, 173, 7410, 4441], [7314, 3789, 7871, 3482, 3804, 6836, 6397, 8501, 4662, 5288, 2412, 1109, 1389, 4448, 4403], [4352, 2244, 2906, 1149, 6978, 6812, 1966, 4034, 3614, 6397, 296, 3224, 6397, 3342, 173, 3710, 3343, 4387, 2751, 6273], [747, 2706, 1694, 5920, 2802, 862, 1262, 5849, 1533, 1072, 1072, 1072], [2849, 6614, 6057, 7132, 3694, 3907, 5778, 5003, 1581, 6397, 3023, 4705, 656, 1966, 5977, 5376, 254, 2215, 3907, 2575], [3350, 6477, 3907, 4967, 2412, 8485, 3907, 820, 5019, 3789, 8050], [6397, 7784, 3343, 6234, 5788, 7655, 3789, 2395, 7524, 3907, 6397, 3389, 2412, 8390], [5174, 3013, 4195, 2412, 8067, 2849, 4861, 1449, 2412, 7623, 5692, 7457, 6397, 5474, 6889, 1389, 6089, 492, 6171, 4861, 7284, 5474, 4359, 6171, 6596, 6978, 10, 511], [1423, 8389, 1358, 6871, 5644, 242, 2621, 3626], [6057, 400], [7211, 3077], [6391, 3031, 5619, 5920, 1423, 507, 4705, 1529, 3959, 3907, 3030, 3614, 1966, 7694], [4105, 3343, 4214, 939, 2412, 5174, 386, 6171, 3841, 1195, 5853, 6728, 5474, 1987, 7590, 2412, 5979, 2412, 5474, 2720, 1389, 3551, 4379], [1257, 5778, 173, 1471, 6397, 2849], [863, 225, 3116, 254, 7121, 5243, 2107], [4423, 5474, 6268, 3907, 5474, 2851, 5644, 5474, 4067, 1916, 3789, 4519], [7753, 3127, 6397, 2971, 6978, 7487, 7098, 2751, 3056], [939, 2849, 5243, 6991, 4391], [4516, 254, 580, 3789, 7313, 5762, 2412, 1951, 3789, 4434, 4886, 3758], [2849, 3614, 4604, 6821, 2382, 7788, 582, 4505, 4595, 6351, 6397, 2751, 5762], [3948, 4287, 3614, 3789, 2751, 3301, 4288, 4646, 1966, 7915, 1234, 7560, 4199], [254, 7904, 5211, 8259, 3789, 8691, 4396, 4797, 3907, 8446, 1389, 7878, 2849, 6032, 4705, 492, 5254, 5644, 6836, 7122, 2849, 194, 3028, 7904], [1349, 3343, 6871, 5644, 1050, 5644, 62, 8430], [3028, 4012, 6171, 6113, 2235, 221, 555, 6656, 5778, 5211, 4364, 3305, 5474, 4562, 4497, 5167, 6978, 4012, 8255], [6872, 3028, 208, 7626, 254, 1787, 3907, 173, 2127, 4705, 4950, 296, 4202, 2849, 3614, 254, 1083, 4646, 1966, 7961], [7560, 3343, 6919, 5644, 1449, 4476, 6872, 8412], [6872, 2344, 3789, 6397, 2412, 5174, 5381, 3789, 5419, 7700, 7989, 3907, 6872, 4364, 4965, 5778, 2303, 3116, 351, 5381], [6397, 5323, 3889, 983], [6430, 1883, 6397, 1351, 5644, 1434, 408, 3907, 2849, 6397, 6163, 7626, 7540], [2412, 4379, 7778, 4907, 2008, 6871, 5644, 862, 2412, 4397], [254, 2290, 2849, 1566, 5381, 5345, 6397, 6397, 3924, 1273, 6397, 6717, 4721], [8097, 2412, 8114, 7499, 1767, 3804], [4848, 6795, 1929, 2849, 3533, 5644, 7917, 5644, 62, 2412, 3031, 6103], [7560, 5211, 4705, 8399], [4516, 5856, 5644, 5174, 1432, 5644, 242, 3789, 1434], [6397, 3673, 1423, 5401, 7337], [3343, 5239, 5644, 5940, 6640, 6231, 1245, 6646, 6679, 7687, 3907, 8598, 4505, 3343, 5924, 4595, 208], [2244, 4595, 620, 3789, 8272, 213, 7706, 3521, 3789, 658], [6464, 173, 2982, 7732, 2412, 1273, 7036, 1358, 2412, 3389, 8596, 3031, 6298, 5474, 7314, 2303, 8102, 5110, 1953, 2303, 8102, 5110, 7503], [8147, 5644, 5474, 919, 1729, 2771, 3280, 2412, 1050, 5644, 5474, 6569, 4421], [5035, 5435, 1966, 8097, 4571, 1129], [555, 3343, 8245, 5474, 5512, 2244, 2849, 7080, 3907, 5644, 3343, 1273, 2545, 5345, 5762, 2430, 5808, 254, 4185, 8091, 3907, 6876], [7523, 7626, 5174, 717, 6743], [254, 6607, 1457, 6397, 3343, 1104, 6411, 6353, 3614, 6409, 3343, 8527, 7560, 2993, 3907, 2849, 675, 5174, 4828], [2412, 1756], [6872, 1655, 3907, 555, 688, 3343, 8272], [5174, 688, 3614, 3305, 939, 5729, 3305, 3614, 5174, 8272], [2849, 492, 408, 3343, 8271, 3789, 4756, 1729, 4907, 5039, 3789, 6397, 4861, 1917, 3789, 4009, 1051], [5778, 1017, 3614, 3641, 7907, 4294, 1283, 5644, 6522], [254, 6573, 1662, 5644, 7115], [6851, 3789, 5746, 254, 685, 3789, 5245, 3789, 1288, 3907, 5174, 717, 3028, 1732, 3280, 1298, 8555, 2254, 254, 7502, 2235, 3719, 2279, 7129, 1767, 4761], [5174, 4487, 7515, 8619, 4458, 3343, 3067, 2008, 1343, 5644, 3031, 5370, 3306, 3305, 5167, 4203], [837, 1389, 2535, 5474, 4186, 1427, 1586, 7220, 939, 6057, 7626, 720, 6834, 8631, 1129, 6978, 6297, 8179, 3789, 6183], [254, 5263, 7487, 5644, 6220, 4237, 1273, 6397, 6753, 5003, 154, 5500, 3804, 6397, 3433, 4622, 6397, 4861, 1258, 1195, 3789, 6220, 4237, 1639, 154, 5474, 5674, 2979], [2244, 6397, 3656, 3343, 507, 6397, 6972, 1295, 2303, 8419, 6397, 5778, 5733, 2303, 6584, 939, 688, 3085, 6717, 2465, 6743], [3758, 3789, 1679, 7504, 5644, 2031, 1207, 4352, 2244, 3415, 5644, 6836, 2307], [4294, 492, 1491, 881, 3614, 5729, 8074], [1182, 2849, 5003, 6057, 7495, 254, 2371, 6057, 5722], [254, 7726, 3614, 254, 5591, 6706, 1645, 254, 7610, 697, 2555], [555, 2849, 3284, 2428], [2849, 492, 7560, 5174, 4246, 492, 7538, 6397, 6171, 8016, 254, 5698, 3482, 5402, 5722], [1958, 7989, 7302, 3769, 4796, 6518, 6233, 5014, 1278, 1983, 1621, 2741, 7285, 3789, 6518, 3769, 5246, 3907, 1767, 3660], [6397, 7817, 5250, 6564, 3031, 1572], [4950, 6397, 3197, 6872, 8259, 3789, 735, 4009, 5644, 6015, 1389, 5962, 939, 6391, 254, 2119, 1219, 2244, 1624, 173, 7410], [4671, 408, 6535, 5644, 5174, 6103, 7626, 729, 5345, 2849, 3343, 1491, 4043, 173, 7538, 6448], [2979, 5199, 939, 6836, 7894, 1496, 3415, 5729, 6637, 1273, 6397, 555, 1220, 6397, 1273, 6397, 3031, 3578], [2791, 7886, 4705, 8456, 3789, 2395, 3907, 5345, 3789, 5474, 5722, 5644, 5022, 3789, 5474, 8456, 2143, 5644, 982, 4379, 1062, 3719, 3789, 6397, 3343, 8423, 1471], [3943, 3789, 4562, 2719, 3789, 5176, 7626, 4705, 998, 2972, 2412, 254, 1999], [7705, 6397, 4403], [1715, 3789, 5125], [3029, 2367, 6927, 3663, 6872, 5644, 3769, 620, 3789, 6397, 5596, 3789, 8451, 231, 2849, 5644, 5186, 7560, 5644, 1931], [5520, 5791, 3789, 2646], [4287, 6669, 6397, 5408, 6397, 863, 3614, 6573, 254, 5626], [6614, 7907, 5692, 4652, 2254], [2849, 6656, 6397, 8450, 6641, 5174, 1491, 5885, 4287, 5644, 1445, 492, 6171, 3088, 7392, 7240, 1423, 6872, 3945, 1389, 3433], [2244, 5856, 273, 939, 8619, 208], [175, 3614, 7560, 8147, 3789, 7560, 3343, 6637, 5474, 6268, 2412, 254, 190], [3614, 1273, 5186, 6397, 492, 8211, 6981, 3907, 5905, 725, 1821, 3179, 6332], [4705, 3224, 5632, 2412, 5125, 3343, 4935, 5644, 5174, 4495, 6397, 2849, 6465, 5644, 4108, 6397, 3343, 3845, 7560, 408, 2849, 5194, 5722], [1423, 3343, 5003, 8430, 7968, 8611, 3758, 5474, 4416, 6978, 3125], [1437, 1767, 7008, 1767, 6786, 492, 445, 6397, 4236, 254, 6397, 2430, 4853], [3691, 5003, 7459, 254, 6690, 5419, 1966, 6084, 3789, 8485], [3991, 2311, 5597, 384, 345], [3789, 5474, 5442, 3789, 5957, 5644, 5474, 5442, 3789, 682, 2751, 1603, 1389, 8094, 2979], [8226, 408, 7560, 3343, 3023, 5211, 7245, 3907, 7560, 1566, 7788, 4051, 2979, 2849, 1566, 4423, 492, 7807, 4637], [408, 8495, 8707, 4477, 3302, 3789, 5174, 3907, 893, 173, 8226, 7560, 2922, 6397, 492, 6171, 484, 1434, 5456, 6397, 7171, 3031, 1423, 3343, 242, 5644, 5174], [5174, 5172, 7626, 7454, 3614, 6978, 3077, 3789, 231], [6397, 4403, 1423, 492, 3343, 1668, 254, 400], [4503, 3617, 4487, 3134, 2839, 173, 8147, 1529], [5474, 921, 2412, 5474, 6397, 8480, 6171, 2334, 2849, 5333, 5644, 4403, 7626, 1674, 7148, 6288, 3789, 4067, 555, 2791, 4505], [5644, 629, 3389, 1624, 3789, 2977, 4287, 254, 3135, 492, 3343, 6027, 5474, 3699], [2244, 720, 6430, 862, 1207, 2418, 3907, 4540, 5345, 2751, 7538, 3789, 4060], [3999, 4483, 1434, 3389, 2171, 5401, 3789, 1195, 6872, 4364, 8259], [8619, 208, 5644, 56, 4398, 6492, 5644, 6836, 1458, 6397, 3343, 1988, 1915, 5644, 6836, 6397, 731, 2382, 7742, 3907, 5644, 6836, 6397, 5788, 6351, 548, 4398, 6492], [6397, 6850, 972, 5644, 62, 7626, 8055, 4907, 511, 2849, 492, 6397, 3614, 939, 6656, 6397, 3614, 280], [8097, 5727, 3789, 663, 175, 6397, 1050, 5644, 6181, 4705, 5035, 5644, 6978, 6573, 6397, 6057, 2023, 6397, 7712], [1349, 492, 6058, 5474, 1262, 921, 3789, 3, 3706], [5492, 4021, 979, 6849, 296, 4026, 3342], [1230, 4498, 5855, 979, 3789, 240, 2412, 1767, 5209, 7784], [6129, 939, 1779, 6397, 3614, 6978, 10, 5474, 2239, 1389, 4012, 8331, 7481, 3789, 2849, 2927, 5644, 4403], [4637, 7134, 7284, 6625, 3907, 2849, 6836, 3127, 182, 3201, 6836, 3127, 182, 3907, 4413, 3578, 4186, 3614, 1262], [5474, 2753, 6010, 242, 4043, 3192, 3907, 1949, 7884, 7626, 1195, 720, 3614, 6868, 3028, 6846, 1950], [2303, 6397, 5174, 4246, 667, 254, 5161, 3907, 2849, 6246, 3614, 4705, 2611], [6397, 2279, 6132, 6924, 2412, 5211, 1287, 5474, 5604, 2679, 3789, 7359, 773, 6112, 4287, 492, 5474, 6860, 3907, 492, 2922, 5644, 7530, 6978, 2204], [175, 4652], [8373, 3031, 1301, 2849, 5243, 6991, 4449, 2412, 296, 96, 492, 3201, 6397, 5243, 2419, 84, 7077], [5217, 8725, 5474, 493, 3614, 7080], [6872, 3013, 6821, 2751, 4490, 3789, 5474, 8097, 5543, 3343, 3490, 4705, 7401, 3907, 3343, 6871, 5644, 1050, 7520, 4705], [7560, 1607, 7239, 6872, 8412], [6397, 1729, 939, 5644, 5174, 4403, 507, 4287, 7748, 2751, 8660, 6397, 3343, 3765], [3343, 6851, 3789, 2662, 3789, 6397, 3389, 5255, 4416, 2138, 3907, 175], [5840], [7784, 492, 8555, 3377, 1767, 1686, 3789, 3804], [5474, 3967, 3789, 591, 2308, 3614, 5474, 4950, 5729, 2132, 3907, 5756, 6397, 8211, 7346, 426, 2849, 5474, 4046], [5419, 3343, 149, 6978, 1239, 2506, 3343, 4214, 8101, 5644, 5174, 6103, 3907, 2849, 492, 7560, 4067, 3284, 939, 5778, 8439, 1614, 7252, 3907, 4214, 6064, 829, 3127], [5174, 6089, 492, 6164, 8444, 3907, 254, 2011, 2849, 3614, 1249, 6057, 4677, 5474, 4495, 8428, 3789, 2289, 1273, 6397, 2412, 2150, 5, 2922, 2465, 3907, 2922, 609], [3343, 5239, 5644, 3415, 7539, 6821, 6397, 4019, 1801, 254, 2893, 3907, 658, 6397, 3614, 3415, 1434, 1273, 6397, 4861, 210, 3907, 6397, 2424, 3847, 1767, 4962, 2849, 7163], [1764, 1715, 4398, 4923, 6397, 3394, 2302, 7577, 8097, 1387, 3837, 6872, 4364, 2766, 5778, 2751, 4388, 2751, 4516], [5174, 5, 7951, 3789, 6546, 5045, 6356, 2922, 1423, 492, 465, 6978, 5955, 6837, 6784, 3789, 3505], [2849, 492, 8207, 254, 1491, 6057, 5474, 979, 3789, 159], [5211, 8173, 5644, 5035, 507, 3582, 5644, 6397, 254, 1931, 2862], [2244, 6397, 3215, 5622, 492, 6680, 3641, 2254], [4009, 3789, 6978, 1850, 4048], [2849, 6871, 5644, 1449, 6397, 186, 4287, 4595, 6351, 6397, 1273, 1220, 3614, 8198], [3343, 8319, 5474, 6124, 6540, 3999, 3924, 5729, 6397, 8032], [3332, 4106, 3343, 5584, 2382, 5206, 4204, 939, 5474, 658, 4195, 7337], [6978, 6924, 5644, 5474, 7915, 6112], [2731, 5778, 4032, 5644, 5474, 1960, 56], [3907, 408, 1262, 8284, 1434, 7208, 6351, 2244, 6397, 1295, 492, 5211, 8018, 6978, 195], [6305, 630, 507, 8083, 254, 3135, 6397, 6058, 3907, 507, 2235, 4287, 5474, 6919, 5644, 242], [5115, 2910, 7092, 5474, 2082], [5224, 1883, 6637, 3164, 3789, 2506, 6983, 8691, 5018, 3530, 5778, 2751, 2303, 2362, 5644, 5474, 4067], [729, 8473, 3789, 2395, 5447], [5778, 5668, 7740, 1912, 939, 8619, 867, 1311, 1354, 8450, 4557], [3274, 6872, 4313, 8259, 1301, 3789, 62, 3907, 2922], [2849, 2023, 6397, 483, 3641, 3259, 1110], [6978, 4204, 3907, 5778, 6872, 3925, 2412, 5474, 2311, 6397, 492, 6058], [6872, 2244, 3462, 6978, 7195, 5644, 5174, 8198, 1966, 7170, 408, 7163, 2563, 7626, 254, 6646, 511, 4182, 5111, 4541], [5778, 3892], [81, 1389, 6053, 6769, 2627, 2244, 5474, 2427, 2849, 3614, 5729, 6397, 2362, 4043, 254, 8032, 254, 487, 4361, 4907, 254, 2420], [3614, 3614, 4705, 7844, 404], [4398, 1301, 3789, 6397, 5778, 3924, 1624, 3789, 2977, 7163, 502, 1757], [2412, 163, 2382, 3962, 4705, 6676, 2458], [2849, 175, 2834, 748, 3945, 7021, 996, 2506, 7834, 5644, 8068, 3530, 6171, 6965, 6836, 7984, 1756, 4101], [6872, 3255, 3789, 1883, 4364, 6112], [6836, 8725, 3614, 4705, 6836, 2412, 5474, 6397, 3269, 3116, 6941, 408, 8120, 3789, 5174, 8194, 1273, 3578, 3907, 146], [7413, 4952, 492, 1207, 1491, 2244, 6397, 5474, 1641, 2244, 2807, 7626, 5174, 4762], [7413, 3343, 5318, 4379, 835, 3789, 2395, 3907, 3343, 6113, 4950, 3832], [7076, 2412, 1367, 3789, 6978, 2829, 173, 4957, 6978, 6062, 2032, 6397, 6721, 5474, 8456, 6397, 2840], [1432, 56, 6836, 5436, 3907, 4609, 5644, 5474, 5063, 6113, 5729, 7191, 7405, 5474, 3564, 6704], [6912, 6057, 555, 3343, 1273, 6656], [5778, 3343, 1643, 3789, 8644, 3320, 1674, 4880], [847, 6397, 483, 4523, 8138], [2260, 3363, 6836, 7750], [1875, 6397, 6298, 555, 1888, 939, 6504], [5474, 1283, 1389, 3790, 2412, 8056, 5628, 3614, 4705, 3179, 3153, 5474, 3892, 3907, 1295, 7498, 5474, 493, 1920], [5419, 4869, 1207, 7324, 1295, 3789, 5474, 4929, 2543], [6397, 8076, 2378, 5474, 5035, 3907, 62, 4043, 1423, 555, 4721, 5345, 408, 3889, 7610, 5474, 2977], [7599, 3789, 2219, 2627, 2244, 5474, 1262, 5187], [1349, 3343, 507, 5729, 4534], [5167, 6397, 3578, 6666], [5778, 6872, 2412, 5174, 6103, 5778, 6171, 7163, 6522, 5644], [6841, 173, 2628, 939, 5211, 5644, 146, 3789, 8068, 3907, 3343, 6113, 2235, 254, 6278, 8060, 3907, 3343, 2724, 863, 6836, 7750], [3907, 1349, 6509, 5644, 7317, 3907, 2849, 5211, 4461], [6397, 3224, 5729, 5920], [2355, 838, 7626, 1675, 2006, 2849, 1273, 6656], [2244, 4595, 3560, 3789, 8272, 3582, 7706, 7730, 3789, 658], [2279, 1300, 6397, 408, 7784, 3343, 2550, 2412, 5174, 2592, 3789, 5868, 1559, 3907, 7632, 1520, 6717, 492, 3304, 3907, 1427, 2849, 3343, 7501, 5644, 6845], [8126, 6656, 2506, 2922, 6978, 10, 3789, 6445], [6298, 2219, 4907, 2355, 624, 8050, 2198, 5644, 5174, 6103, 173, 7892, 6978, 4682, 5474, 2905, 3614, 2314], [4637, 1566, 6397, 5309, 5474, 979, 3789, 6991, 5211, 3907, 1491, 5795, 1966, 6641, 1434, 6924, 5740, 6924], [5853, 3238, 3789, 4029], [254, 688, 6573, 1721, 5644, 1767, 1344], [408, 1566, 1195, 2506, 3343, 6113, 2235, 3614, 3836, 3789, 3301, 3907, 3939, 254, 6057, 1389, 6308, 4907, 3789, 5474, 4761], [1423, 3315, 1434, 3343, 4095, 6397, 2849, 4547, 5224, 4950, 3907, 5419, 4714, 8049, 6743, 4523], [2382, 10, 6509, 5644, 6978, 1892, 3907, 2473, 7573, 3789, 7844, 4708, 1674, 6867, 3907, 3789, 7337, 6397, 5474, 175, 7358, 983], [5865, 6836, 703, 2791, 3343, 6637, 4487, 2856], [3955, 5174, 7502, 5211, 53, 5778, 4413, 7560, 5644, 2751, 4490, 8147, 4487], [408, 3781, 630, 8251, 4287], [4391, 173, 1008, 3031, 5005, 7560, 1273, 2506, 5243, 6978, 4074, 3907, 8237, 4413, 1436, 3031, 4038, 7626, 3624, 531, 1389, 2809], [7728, 2929, 6445], [6901, 6872, 7829, 3343, 2981, 6872, 6215, 7127], [887, 6397, 1729, 5474, 7915, 2807, 8494, 6141, 8494, 8494, 3789, 4398, 4412, 2112, 2979, 8492], [1532, 3343, 8664, 3789, 6978, 5, 3789, 6361, 7560, 5474, 4516], [1273, 8198, 3614, 6397, 7560, 4637, 173, 1853, 2244, 7195, 2849, 492, 8055, 689, 5474, 6770, 3028, 3414, 624, 3710, 3614, 3789, 2395], [2849, 131, 7844, 3614, 6353, 3151], [3620], [4274, 444, 4043, 1767, 4761, 2244, 7425, 3907, 1566, 1883, 6397, 6836, 1908, 3907, 5631], [6637, 254, 3905, 8711, 720, 6637, 154, 6397, 1166, 5474, 2065, 3907, 7212, 5474, 5926], [5674, 3614, 3790, 4477, 4383, 5644, 296, 1967, 6397, 173, 1512, 6522], [5174, 1614, 3614, 3512, 4394, 2412, 5174, 4454, 6135, 3789, 6103, 6871, 5644, 6103, 1349, 939, 2751, 2277, 3789, 5174, 3092, 3343, 6253, 6397, 2849, 842, 1273, 1732], [863, 8376, 1423, 6506, 3614, 1535, 3330, 3663, 4355, 207, 8619, 8396, 8340], [3614, 6875, 5474, 5455, 6397, 6637, 4853, 1062, 2244, 3888, 5644, 6135, 2751, 2303, 6978, 4698, 2014], [3530, 254, 3277, 3789, 6836, 4896, 3907, 1047, 254, 2258, 5644, 5474, 5399], [555, 7560], [5419, 1434, 3614, 5731], [6397, 4655, 4706, 2344, 341, 3907, 4745], [5174, 1772, 6053, 3614, 6397, 2849, 7163, 862, 2058, 863, 1718, 639, 5644, 2751, 1883, 5519, 1423, 2849, 1273, 242], [3343, 6113, 5160, 4403, 1423, 7425, 887, 408, 555, 3569, 692, 1129, 1449], [5211, 8056, 3641, 8237, 3789, 3673, 6397, 2849], [7288, 7742, 4214, 2446, 3758], [408, 3067, 1767, 4761, 2244, 1767, 5848, 4907, 2244, 6978, 2653, 4817, 2244, 4705, 3559, 1107, 1772, 3614, 2594, 3789, 254, 1245, 2849, 6578, 2849, 3388], [5260, 1432, 1966, 5174, 2849, 6656, 6397, 3924, 6113, 3085, 3907, 720, 408, 3343, 8486, 8382, 4106, 492, 6337, 3907, 5474, 3197, 3673], [8112, 1966, 3119, 5374, 540], [5474, 5736, 3789, 3031, 749, 8097, 4219, 5644, 4263, 6289, 2412, 837], [1051, 173, 8147, 1915], [5778, 2849, 492, 408, 3614, 6397, 6580, 4534, 4907, 3614, 6397, 4503, 5644, 4595, 5722, 2412, 5592, 4983, 4396, 7029], [5003, 5715, 5644, 5003, 5186, 3578, 3907, 5729, 1869, 939, 5644, 4203, 5345, 6397, 5247, 6323, 1966, 1434], [5413, 3343, 2382, 6972, 803, 2367, 7060, 2244, 2751, 7920, 6397, 175, 6659], [5741, 4352, 770, 8389, 765, 3413], [2412, 8227, 5474, 7915, 8036, 6397, 3614, 2244, 254, 7789, 2412, 5474, 6677, 6397, 2849, 783, 6836, 2934, 5729, 2849, 2412, 5474, 4495, 2860, 5474, 1085, 2979], [3343, 6253, 3482, 2927, 3907, 3343, 4080, 6978, 3385], [5019, 8643], [2849, 492, 7560, 6171, 2895, 1966, 6397, 2849, 3259, 8599, 4523, 7968, 5729, 3789, 1767, 182], [5474, 3781, 3614, 6397, 5778, 3343, 2303, 1050, 5644, 6263, 4287, 2738], [7560, 492, 2334, 254, 2215, 2258, 3028, 6301, 2412, 3775, 6171, 5837, 6316, 5190, 6171, 3444, 3444], [2815, 1639, 1207, 7646, 7886, 7376, 3758], [3758, 7549, 2254, 6598, 2821, 7626, 5474, 8064, 3614, 7521, 2006], [5554, 254, 7402, 3907, 5474, 6569, 3235, 3028, 6438, 1389, 3790, 1389, 259, 2014, 8375], [3343, 6872, 8153, 5474, 4529, 3326, 2412, 3804, 3907, 2051, 3789, 3116, 3996, 3031, 8708, 3614, 4026, 1262], [6871, 5644, 922, 5174, 4403, 3153, 6836, 6397, 1310, 5644, 3380, 8392], [4622, 555, 2849, 173, 5474, 7163, 8633], [7784, 8211, 26, 5474, 4257, 3789, 1363, 2244, 5729, 6397, 6171, 1149, 1273, 7121, 4637, 4777, 7626, 5474, 6479, 3789, 7560], [4705, 3789, 2751, 4950, 6397, 5729, 6132, 2412, 5174, 4761, 7163, 4398, 6492, 6397, 658, 3540, 5644, 56], [5419, 4413, 3789, 6499, 3056, 2880, 4761, 2894, 6872, 2738], [8610, 6397, 3343, 2733, 254, 921, 6397, 6479, 8562, 2849, 3343, 6436], [6397, 213, 8378, 8331, 4770], [2201, 5644, 4398, 7920, 7372], [7984, 7788, 3505], [833, 863, 3641, 5249, 8142, 3907, 6353], [2789, 6397, 254, 6308, 7590, 2596, 3028, 6586, 6397, 1645, 3789, 1625, 296, 408, 6397, 2303, 1917, 4705, 7844, 6978, 1625, 3311, 2412, 5474, 3191, 179], [1792, 6397, 6718, 1382, 3789, 6836, 2307, 7163, 1270, 3907, 8661, 5644, 7080, 3028, 1640, 3789, 3258, 1760, 6057, 5180, 7134, 8443, 1273, 6397, 2922, 720], [8153, 947, 3995, 432, 1966, 6397, 492, 173, 1131, 254, 5810, 7405], [5474, 5035, 3789, 2714, 3614, 7383, 5644, 5507, 5035, 7477, 2412, 6105, 5644, 2243, 3096, 3907, 5797, 3753], [8610, 5474, 7915, 5649, 6397, 2849, 492, 7570, 5246, 1966, 6051, 5474, 1424, 3789, 5474, 7915, 6397, 2303, 3614, 5345], [3028, 3622, 3343, 7256, 4364, 3027, 3907, 159, 3343, 5405, 254, 3799, 4907, 173, 3710, 5474, 5547, 3614, 5948, 2849, 2862, 5644, 5660], [5778, 3343, 7177, 5455, 3907, 1301, 3789, 6522, 4287, 3343, 6027, 3789, 2698, 5474, 5247, 3789, 254, 10, 7737, 3907, 3962, 3789, 1476, 6397, 1563], [1423, 173, 6529, 2412, 4705, 6103, 6397, 173, 6453, 2395, 939, 525, 5345, 173, 3023], [7755, 6585, 1176, 5003, 1607, 4043, 2412, 5474, 87], [2244, 3624, 4950, 3789, 5474, 4761, 7413, 511, 5419, 5039], [173, 2771, 1273, 6979, 6397, 3614], [5778, 2303, 2220, 555, 6397, 540, 2412, 254, 2078, 7313, 1987, 2119, 8681, 5644, 56, 6397, 2355], [6872, 4364, 8619, 2412, 5592, 1416, 3789, 5174, 4761, 6397, 6068, 6397, 3874, 6809, 383], [6397, 6850, 6397, 6965, 5474, 5039, 492, 3389, 5290, 5644, 5211, 6396, 3343, 3789, 5029, 2849, 847, 3415, 1295, 2412, 4028, 720, 4637, 2412, 4768], [4622, 99, 3758, 2849, 3343, 7163, 62, 33], [4637, 408, 4225, 5644, 5474, 6662, 3789, 5474, 4359, 6871, 5644, 3790, 4263, 4398, 234], [4282, 4304, 8483, 1809, 3181, 6853, 8195, 2220, 285, 6150, 492, 6919, 5644, 775, 2412, 396, 5293, 2150, 208, 3343, 6637, 6952], [8253, 7405, 8603, 2983, 582, 6027, 3789, 4742, 5247, 3789, 5474, 7524, 5815, 5644, 242, 3789, 6397, 2910, 1591, 2849, 956, 2412, 5644, 1892, 464], [7989, 254, 873, 2849, 7834, 5644, 6753, 122], [5976, 254, 565, 5729, 8145, 3907, 2613, 3789, 5174, 4761], [3614, 4487, 3673, 6397, 3924, 5698, 3907, 6983, 3611, 6499, 863, 492, 3343, 6362, 3151], [7447, 6814, 6580, 1207, 6066], [6978, 8427, 3135, 3907, 6978, 5494, 764, 3789, 8256, 1966, 56, 7626, 5039, 3907, 7111, 7560, 2334, 254, 3614], [2789, 2244, 720, 6679, 2610, 3396, 4907, 8126, 4759, 2041, 7163, 4705, 4544, 2979], [5211, 5644, 8682, 4728, 5644, 2454, 6084, 3907, 1622, 1622, 5481, 2849, 6231, 254, 6413, 2314, 3769, 6531, 7532, 1273, 1732, 5786, 3789, 5211, 7523], [4637, 2849, 3343, 6797, 351, 1920, 5778, 5211, 7626, 254, 5490], [5762, 5644, 56, 309, 2277, 7626, 6836, 6492, 3907, 3343, 4777, 1207, 4965, 4287, 6171, 1471, 5644, 4398, 6492, 1389, 5498, 1434, 2244, 6306, 2412, 3797, 4637, 1966, 4274], [16, 5644, 5211, 242, 3907, 3482, 400, 3614, 6978, 2093, 1966, 4398, 8644, 5692, 3789, 6026], [3555, 2656, 7767, 1915, 173, 7093, 7125], [847, 6397, 2910, 4079, 6397, 492, 4606, 5644, 6181, 1674, 1614], [3019, 2412, 3800, 2244, 5333, 6397, 160, 5644, 2378, 7626, 764, 8510, 1522], [3343, 1681, 6972, 262, 3482, 2927, 7920], [3031, 2656, 3907, 555, 2412, 2751, 5087, 173, 2303, 6978, 174, 3907, 2011, 1966, 4203, 1434, 1273, 3673, 3907, 1273, 5102, 492, 1875, 7550, 7726, 2446], [7560, 2506, 5174, 7072, 3188, 2207, 3907, 7457, 3789, 4396], [6580, 3789, 979, 1423, 2473, 6641, 8454, 2412, 4728, 1452, 658, 3343, 8461], [1051, 6656, 6397, 5243, 5474, 1967, 5729, 3158, 6397, 1566, 2412, 3389, 4204, 5243, 1915, 2244, 720, 6298, 5251, 8365, 1262], [704, 7916], [6844, 6844, 6844, 939, 3318, 3673, 3907, 2849, 492, 8211, 3499, 5644, 5729, 4287, 2849, 8055, 6836, 6321], [3343, 6871, 3789, 5727, 254, 5698, 3907, 2849, 6872, 2766, 2827, 7356, 2244, 131, 5474, 432, 6397, 2994], [1234, 3907, 6735, 6872, 3907, 2849, 175, 3280, 1966, 5722, 939, 2827, 5211, 4861, 1917, 5174, 8584, 6209, 3789, 5419, 6737, 3614, 3530, 3343, 6872, 3326], [1434, 5211, 3641, 2254, 6397, 2849, 492, 6057, 2244, 2430, 2211, 939, 5474, 96, 3789, 4248, 7457, 3789, 6978, 962, 2412, 7766], [5778, 6430, 4199, 3907, 5644, 7944, 6919, 6836, 5663, 4480], [6397, 3019, 6171, 175, 3028, 4651, 6397, 3343, 1298, 8712, 2244, 2211, 8373, 6978, 4043, 1627, 5474, 413, 6397, 173, 4852, 6057, 6397, 3945, 3789, 2649, 4296], [3819, 7376, 6158, 2183, 4458], [7989, 4043, 1349, 688, 5003, 789, 5644, 4705, 1124, 3789, 3433], [5474, 4391, 6397, 4688, 3343, 6113, 6397, 4444, 1195, 3641, 8076, 3907, 4294, 1273, 1512, 3789, 6538, 2244, 6397, 6637, 6978, 7539, 3789, 254, 3532, 7626, 6978, 1341], [159, 3343, 6871, 5644, 4336, 5644, 720], [5778, 1273, 492], [3789, 4203, 2303, 5729, 2862, 5186, 4755], [3318, 7610, 254, 2786, 3789, 1387, 939, 7626, 3389, 4652, 7560, 6397, 2849, 6113], [492, 1369, 5644, 1873, 1596, 3907, 745, 492, 2152], [6430, 296, 2184, 6397, 3343, 5171, 1966, 6448, 5644, 3031, 174, 1674, 4353, 3789, 7324, 5414, 3789, 8374, 6433], [5419, 3343, 2889, 5644, 3415, 254, 1302, 1966, 256, 3789, 5474, 2355, 3789, 2849, 8644, 7284, 3028, 873], [4827, 1273, 492, 3688, 3287], [6872, 1207, 5140, 7626, 3389, 6867], [5166, 4796, 7560, 6397, 254, 8112, 5778, 3614, 921, 3789, 5174, 3343, 4598], [3907, 254, 5263, 254, 1435, 4740, 2506, 4173, 7706, 4705, 4149, 8270, 2506, 7313, 7895, 5222, 5644, 56, 6836, 673, 8518, 2979], [2506, 3690, 3789, 4607], [2849, 2303, 3718, 3482, 1050, 5644, 6978, 1892, 3789, 2435, 4534, 5521], [6872, 7886, 2277, 3789, 1423, 2910, 8223, 2244, 6522, 3907, 5791, 6978, 6879, 3005], [7705, 3581, 3343, 5474, 92, 7880, 7237, 1273, 3789, 5474, 4383, 7509, 804], [3908, 2849, 552, 3789, 4326, 5520], [3614, 6537, 3415, 7560, 492, 6903, 3031, 658, 2412, 8716, 3789, 7730, 7560, 408, 3789, 1860, 484, 3031, 4761, 1674, 6979, 7610, 2412, 5474, 3425], [8619, 182, 5174, 765], [6872, 6978, 10, 6631, 3343, 4863, 3789, 4950, 6397, 3343, 2101, 2412, 5174, 7590, 6397, 525, 2849, 6834, 1680, 939, 3343, 7659, 5644, 5003, 1262, 1967], [3389, 2924, 1966, 6448, 2412, 254, 867, 8617, 4557, 254, 7779, 3343, 6355, 6397, 7626, 6978, 2254, 6941, 1681, 2771, 5644, 3031], [1519, 720, 1273, 2382, 5729, 7121, 525], [2849, 492, 5596, 8338, 4548, 7626, 2578, 5773, 7750, 1050, 3482, 3248, 7163, 8339, 6492, 3789, 6836, 1062, 3744], [492, 5474, 2724, 3789, 1655, 3907, 7682, 2412, 6191, 4487, 6397, 408, 173, 6637, 2412, 4383, 2849, 6171, 2724, 6836, 4504, 1966, 7066, 2751, 4950, 2506, 1729, 2724, 4182], [1966, 6397, 3343, 7943, 408, 3578, 6397, 173, 6573, 6057, 6734, 5778, 3894, 5865], [7925, 829, 5186, 2412, 1756, 173, 6672, 254, 609, 1262, 173, 8147], [540, 1273, 6397, 683, 5243, 3031, 2979], [1640, 3789, 4868, 5271, 2235, 3028, 2066, 2244, 1767, 1512, 6927, 648, 8032, 654, 8697, 7326, 365, 6433, 8640], [3758, 6397, 1915, 6342, 6298, 5474, 1262, 755, 2366, 6397, 4009, 7639], [3880, 3318, 3907, 3318, 5474, 825], [5638, 5810, 2627, 2244, 6836, 1137, 6397, 5054, 6836, 5237, 7560, 4264, 4907, 7843], [2849, 3343, 7163, 62], [6107, 3758, 6656, 2506, 492, 6164, 5729, 2778, 6326, 7487, 2849, 4272, 6082, 4907, 175, 2235, 5644, 1273, 6397, 2334, 6082, 3758], [7626, 1434, 6836, 7590, 6397, 8207, 2849, 3473, 6845, 3482, 7080], [3343, 8582, 6135, 2412, 1756, 939, 7549, 2314, 2927, 3031, 573], [5778, 2592, 254, 1382, 6397, 208, 7313, 2720, 2235], [6397, 4655, 159, 6379, 4056], [6397, 2355, 3415, 56, 6836, 7923, 3789, 2751, 383, 6397, 4472, 5419, 5644, 6836, 2307, 555, 2303], [2307, 2353, 3789, 7644, 6978, 624, 2412, 4079, 3641, 2412, 1756], [408, 6919, 5644, 7080, 2244, 6306, 3028, 5186, 6510, 7626, 84, 6847], [3819, 7376, 6158, 2183, 4458], [1273, 2827, 6319, 5644, 5174, 5874, 3907, 6528, 3789, 3415, 56, 6836, 4101, 492, 6919, 3028, 191, 3907, 254, 3854, 3789, 6978, 6301, 5287, 5039, 3907, 7111], [3758, 173, 3841, 6181, 4907, 56, 7163, 1806, 4287, 3614, 337, 802, 555, 1220, 2506, 5211, 829, 1729, 3907, 5984], [6872, 3789, 594, 7968, 8467, 1273, 2600, 5211, 2244, 4294, 1389, 2911, 3343, 7380, 5644, 4379, 3532, 5218, 2754], [3614, 4637, 1491, 2244, 2849, 2244, 2301, 3151], [4761, 6397, 8495, 3789, 5174, 5778, 2849, 175, 5722, 5729, 6397, 171], [2881, 5940, 8114, 2510, 2116, 6231, 939, 492, 5528, 8722, 2849, 3614, 1273, 6397, 7131, 939, 6872, 5791], [947, 5688, 2849, 8211, 5003, 6397, 2681, 3641, 7986, 3753], [1471, 2751, 2228, 7608, 4491, 2849, 3343, 4696, 2751, 3033], [7560, 2610, 5644, 5941], [7284, 4134, 7284, 4134, 1966, 6397, 492, 4709, 254, 7519, 1769, 3907, 555, 2738, 7560, 6017, 7626, 4705, 4278, 1389, 5429, 1195, 7834, 2254, 2412, 5174, 4761], [5778, 2791, 2766, 3789, 2138, 6655], [6397, 6743, 2029, 4624, 1273, 7742, 6397, 4516, 5644, 5174, 2829, 939, 5174, 1491, 2849, 3343, 1273, 8516], [1452, 8055, 1262, 3343, 6871, 5644, 62, 1966, 2849, 5054, 5644, 4403], [8619, 208, 5644, 4398, 6492], [6836, 4379, 7039, 939, 7313, 6208, 5474, 4007], [2661, 1273, 1844, 3907, 1650, 6397, 3614, 5474, 5733, 3789, 8681, 492, 5905, 5345, 3706, 6927, 5781, 6355, 7391], [1566, 735, 2374, 3789, 8423, 2258, 4976, 4822], [3343, 1451, 6397, 3343, 7662, 3485, 1423, 2849, 5507, 648, 2849, 175, 5644, 630, 6197, 6057, 173, 4287, 2849, 7163, 62], [8105, 829, 5729, 6637, 5729, 7364, 3907, 6836, 7122, 492, 2279, 6643, 3789, 5474, 8478, 2244, 6397, 5778, 2849, 2279, 683, 6397, 2279, 1131, 5644, 6836, 5237, 6657], [5003, 4101, 5474, 5848, 3789, 2849, 5588, 4978, 2244, 6978, 3280, 2849, 1888, 1601, 5644, 4403, 1389, 2244, 6397, 1273, 5003, 3773, 1566, 8105, 6241, 2244, 720], [4775, 7626, 5174, 3013, 5644, 5174, 6164, 4223, 5474, 4359, 3907, 893, 1298, 5072, 5644, 630, 4067, 2548], [6872, 4487, 8619, 939, 4487, 6743, 5644, 5474, 6351, 2244, 6397, 5778, 5206, 1718, 5174, 7766, 3614, 7560, 6397, 7416, 939, 99], [2430, 5211, 254, 2093], [2378, 2849, 3343, 507, 4965], [2244, 6397, 254, 173, 2824, 2244, 1195, 2849, 6068, 6397, 173, 175, 5729, 6397, 2132, 7626, 7304], [4413, 3789, 6978, 208, 8658, 3768, 5778, 2303, 1050, 5644, 7916], [555, 492, 6397, 296, 971, 6397, 3343, 3387, 2849, 3614, 1966, 5722, 8596, 492, 6795, 5474, 1405, 3907, 1286, 3031, 408, 6397, 3473, 8050], [2849, 5003, 8173, 2412, 131, 5474, 2977, 939, 4106, 555, 3343, 6871, 5644, 1161, 5174, 1624, 3789, 2977, 5644, 7788], [8038, 6397, 4637, 3614, 4705, 7655, 5345, 3343, 3663, 5644, 5174, 983], [2754, 3905, 3134, 8262, 6821, 4725, 1389, 3389, 7353], [1273, 84, 6397, 5211, 5474, 7655, 3789, 2778, 3907, 4010, 8644, 408, 555, 5474, 2438, 6978, 4204, 4413, 1389, 3724, 2244, 6397, 3688, 6978, 5162], [591, 1566, 1416, 3789, 5474, 5722, 6397, 5174, 6772, 2681, 4025, 2849, 7163, 4264, 3907, 6113, 6397, 1434, 6309, 6397, 492, 2382, 6188], [4364, 6850, 8562, 492, 3201, 5474, 2012], [8598, 5474, 2289, 3191, 3789, 1234, 3999, 5474, 5128], [6397, 4655, 6397, 7749, 2783], [6397, 6743, 6397, 961, 5345, 6141, 3901, 642, 4544, 5644, 6836, 3789, 8679, 1262], [8679, 492, 8211, 5144, 2244, 6598, 4950, 5519, 2244, 3760, 5345, 6397, 1662, 7626, 6397, 3760, 3578, 4907, 2895], [6397, 6998], [5939, 3614, 6397, 2849, 3343, 6436, 7489, 939, 3614, 6397, 3343, 8486, 4364, 5140], [525, 7212, 4206, 525, 1566, 7111], [6629, 5276, 3907, 2895, 5490, 4287, 2849, 2303, 5003, 3031, 2829, 6651], [1452, 4007, 5211, 6391, 2751, 4950, 6397, 4978], [5166, 3789, 2254, 3570, 3907, 5211, 4067, 3343, 507, 5729, 6991], [4186, 2922, 5474, 1287, 679, 3027, 7626, 6348, 6445], [3343, 2659, 3789, 1434, 6978, 1020, 6847, 2244, 408, 4814, 7626, 254, 1921], [2244, 1273, 4206, 2849, 2443, 1674, 5543, 3789, 4950, 939, 7560, 5474, 7915, 6964, 5419, 7560, 408, 8097, 1874, 6978, 208, 7487], [6836, 3566, 7121, 6445, 6836, 6793, 5126, 3907, 6836, 6412, 6294, 6836, 3702, 1354, 6896], [173, 4606, 5644, 1449, 1195, 3789, 5474, 1336, 4842, 939, 1104, 6397, 5211, 1691, 2244, 5474, 4493, 3907, 1349, 6872, 2058, 7626, 5474, 4493], [1188, 6397, 4714, 7626, 2751, 7139, 3789, 897, 3510, 2910, 1273, 1262, 6397, 3032, 3855], [1295, 3343, 8461, 5160, 231, 3620], [6522, 5474, 3471, 3789, 7784, 6397, 745, 4195, 5166], [5474, 2979, 6397, 4516, 2751, 7940, 3907, 688, 3343, 1295, 6057, 6978, 3267, 3789, 3130, 8156, 3789, 4705, 5788, 6103, 511], [6319, 3613, 2751, 5432, 186, 5495, 1522, 8025, 3907, 2284, 1522], [175, 2235, 3789, 4413, 3789, 8644, 4101, 179, 2259, 3907, 5206, 1, 2412, 4705, 3224, 6171, 7662, 6924, 7560, 3343, 4714, 7626, 254, 3867, 4908, 3074], [7560, 842, 5481, 5003, 7947, 3789, 3031, 4584, 1057, 511], [555, 370, 939, 7410, 6978, 10, 4523], [6868, 3065, 2681, 6979, 4907, 6743, 2849, 507, 1578, 2849, 507, 7817, 1578, 5639, 5722, 492, 7834, 5644, 3142, 2412, 2578, 2164], [2840, 2849, 7321, 2412, 1756, 5474, 4079, 492, 6998, 4690, 5720, 7901], [3614, 6397, 1566, 6925, 6397, 492, 7121, 2412, 1756, 5644, 3614, 3907, 7626, 3415, 6853, 8271, 492, 6718, 2644, 8346], [1813, 182, 5644, 2244, 254], [4043, 7626, 4705, 1341, 4294, 470, 7923, 2412, 7921, 2849, 6637, 7317, 3789, 6717, 2849, 6871, 8094], [5644, 1580, 1423, 3657, 4705, 1546, 2412, 4910, 3789, 1803, 419, 2412, 1767, 1367, 6714, 4907, 2789, 1258, 4907, 6599, 3560], [3907, 3318, 254], [2849, 3343, 4133, 6057, 5247], [3614, 4364, 5438, 254, 351, 208, 2791, 1925, 7373, 5835, 3022, 7319, 4327, 3343, 8486, 3641, 6127, 296, 3967, 6397, 408, 5474, 465, 1349], [7932, 2849, 3343, 3680, 6522, 5346, 8360], [887, 543, 1922, 1273, 1410, 7705, 939, 492, 3201, 4487, 13], [2849, 6215, 6397, 3614, 1273, 6397, 173, 6453, 231, 6087, 2138], [254, 982, 5820, 3789, 6816, 6117, 254, 1754, 3614, 1344, 3641, 4352, 4765], [2849, 492, 3789, 2430, 7837, 862, 1687, 4287, 7401, 5808, 2849, 4861, 4720, 7817, 7898, 2244, 7319, 566, 939, 6872, 2387, 8412, 555, 370], [5778, 492, 3343, 4714, 5474, 4403], [5179, 5596, 3907, 788], [6171, 5530, 5474, 7523, 6785, 8416, 1316, 7826, 3907, 6171, 2127, 408, 7877, 708, 631, 3031, 6737], [5983, 6782, 2392, 1566, 7742, 1613, 5309, 2244, 7337, 1566, 6397, 2563, 575, 4146], [5729, 1234, 6397, 688, 271, 6518, 8599, 3789, 1060], [299], [8619, 208, 1389, 6062, 5644, 5474, 1967, 6397, 5014, 896, 4795, 2412, 5474, 1512, 1966, 6397, 6836, 3120, 555, 6397, 2506, 6397, 5474, 4516], [6836, 6053, 1389, 6234, 492, 1605, 7626, 5035, 258, 2979, 7260], [8647, 2412, 1756], [173, 58], [3343, 594, 6397, 8097, 6058, 5474, 6770, 3907, 3343, 1491, 4287, 3343, 175, 6397, 1827, 4571, 939, 1129, 4644, 5893, 6103, 408, 2849, 5474, 6103, 3945, 6978, 6924], [6872, 4364, 1234, 7626, 3389, 1867], [555, 1273, 5111, 3907, 2232, 254, 321, 2979, 2412, 3031, 5921, 4287, 7930, 4403, 1273, 5211, 1843], [7560, 1423, 4853, 3259, 2244, 8517, 7915, 6397, 1172, 6348, 6362, 6397, 4043, 2835, 2412, 6978, 3301, 6397, 5413, 3343, 226], [7921, 5419, 408, 173, 3259, 4650, 5729, 3547, 3789, 131, 1729, 6113, 6397, 5474, 4761, 3614, 84], [5698, 4853, 4364, 2766], [2303, 3415, 7319, 4259, 5574, 4067], [3758, 7413, 5778, 2849, 2881, 7093, 1030, 3620], [6397, 3031, 7519, 208, 2849, 3924, 2412, 254, 7388, 5211, 4364, 6743], [1966, 1382, 6978, 5757, 6197, 5481, 6397, 8671, 1772, 3907, 254, 2866, 7457, 5955], [5345, 7626, 7191, 492, 3343, 571, 5856, 254, 5962, 7626, 5856, 5810, 6397, 3343, 2724, 5592, 4934, 3789, 413], [2465, 492, 6171, 3099, 254, 5005], [3713, 5762, 2254, 4907, 492, 3201, 4660], [2751, 1301, 6397, 3032, 3789, 2761, 4705, 7325, 4487, 8138, 1273, 6607, 6397, 7036, 7639, 5419, 3789, 5474, 6954], [3482, 5321, 8044, 6487, 8397, 1966, 5174, 3677, 893, 7626, 5474, 4584, 5632, 1389, 8112], [5644, 6978, 5772, 4637, 6171, 7984, 2008, 5017, 6397, 3924, 1635, 3238, 3907, 134, 6584, 6059], [2849, 6215, 408, 2849, 3343, 7923, 2244, 1297, 2244, 5442, 4907, 4287, 6872, 4364, 4409, 2849, 492, 555, 5778, 2849, 492], [5474, 6058, 3789, 4263, 1047, 2921, 839, 3614, 4705, 5739, 3255, 3789, 181, 3389, 208, 3585, 2295, 8292, 14], [3553, 8097, 3614, 5174, 208, 3789, 2144, 939, 6872, 4364, 4364, 4364, 4534], [2430, 2791, 4016, 3614, 1273, 6397, 173, 1220, 7560, 162, 749, 8562, 3389, 3614, 254, 1262, 4016, 3789, 6836, 4983, 582], [555, 5644, 1580, 7177, 5644, 1673, 4637, 1966, 5746, 5644, 5211, 2308, 6978, 2548, 2946], [3887, 939, 3031, 5247, 7457, 1452], [3343, 4633, 5174, 1763, 2666, 7853, 8175, 6445, 5740], [3031, 6089, 842, 2465, 173, 5706, 5644, 5474, 8067, 173, 2880, 8574, 3907, 40, 173, 845, 3482, 4212, 4821, 5474, 8237], [2412, 1756, 2835, 8639, 6397, 7912, 3679, 5003, 5174, 2819, 5778, 6397, 5474, 2947, 3614, 5729, 4475, 5167, 4146, 6397, 5474, 5790], [4907, 3907, 6397, 745, 6637, 5644, 630, 3754], [2849, 1262, 6397, 173, 4219, 662, 6978, 1367, 6397, 2849, 2971, 4403, 4637, 2971, 87, 3907, 5564, 464, 670, 254, 3280, 5197], [862, 8545, 3907, 6397, 173, 6630, 2751, 5357, 3789, 6978, 3948, 7784], [1709, 983, 6397, 1915, 2782, 3907, 2546, 1349, 3993, 2412, 1318, 4796, 3029, 4796, 4263, 3907, 8382, 2506, 2849, 7854, 4432], [408, 555, 2849, 173, 2862, 5644, 3415, 555, 3343, 6871, 5644, 5299, 3614, 1966, 5174, 5474, 8412, 2242], [1566, 6978, 2826, 5295, 3907, 1390, 2244, 6103, 4287, 492, 4079, 7560, 7834, 3907, 6058, 3907, 25, 1434, 3280], [3343, 6580, 2207, 683, 3907, 3343, 4394, 5644, 2751, 8273, 1522, 6305, 630, 507, 5474, 420, 3028, 2119, 6978, 2235], [555, 492, 6397, 6430, 6845, 7626, 6978, 3010, 5786, 704, 2412, 6397, 2849, 2303, 6868, 5729, 939, 2849, 2303, 1050, 3343, 6113, 7742, 2235], [863, 6397, 5762, 5992, 2412, 8390, 7626, 7784, 7168, 4705, 6397, 5778, 2982, 4907, 6397, 8671, 5920, 4287, 492, 6397, 2849, 5474, 6871, 5644, 3415], [5474, 7811, 8464, 2412, 7402, 2922, 7945, 4705, 2970, 3482, 697, 5474, 8404, 5778, 7834, 5644, 8517, 5174, 2119, 3816], [1645, 7742, 2849, 4358, 939], [3343, 4195, 4471, 3020, 1047, 254, 7538, 3789, 4398, 7122, 3907, 4043, 2849, 4146, 1434, 2849, 3343, 7834, 5644, 1449, 254, 5220, 3789, 1767, 4748], [7615, 5211, 7886, 6978, 3551, 3789, 8201, 3907, 3343, 6769, 6397, 7497, 5729, 5962, 1234, 2430], [6113, 6978, 1920, 2412, 254, 3223, 3907, 1763, 6836, 5684, 2412, 4431, 1434, 7033, 8611, 5784], [5940, 6598, 6743, 3907, 4263, 5729, 6743, 6397, 5474, 6598], [6044, 3789, 5003, 6978, 3592, 2627, 2244, 254, 6274, 3305, 630, 10, 5644, 10, 4606, 8350, 2244, 6836, 2588, 1389, 6301], [6397, 4655, 8101, 5644, 2430, 2849, 2881, 5778, 2868], [4102, 7626, 5235, 6397, 555, 2849, 3343, 1491, 2244, 720], [492, 3343, 4861, 7559, 1109, 6722, 3789, 22, 5206, 1258, 2412, 5474, 1202, 1813, 182], [5759, 5174, 653, 7834, 5729, 5047, 3907, 2412, 1434, 1273, 6397, 1295, 6171, 7834, 5260], [850, 1129, 496], [2467, 6397, 6743, 1434], [5419, 3343, 2889, 7560, 5174, 1512, 408, 7560, 5588, 4826, 6585, 2076, 2412, 1767, 7523, 7626, 254, 4655], [5474, 3224, 5211, 4487, 1349, 6766, 4043, 254, 191, 8149, 4477, 5345, 1966, 863], [7921, 5521, 3789, 8050, 2835, 3744, 308, 7530, 1195, 5729, 3789, 4520, 6397, 254, 3343, 1273, 1298, 2849, 492, 630], [8209, 939, 2910, 1991, 6397, 1867, 7098, 3624, 4950, 112, 6397, 2910, 4705, 6445], [6397, 2235, 3620], [5938, 1966, 254, 5498, 4937, 2412, 6978, 4321, 5955, 3907, 2849, 173, 7985, 1659, 2412, 6978, 7590, 6573, 8718, 5644, 4203, 7746], [4222, 507, 2124, 2681, 6323], [2849, 7163, 62, 2738, 7560, 3320, 6289, 4287, 8097, 6871, 5644, 7840, 887, 2161, 4287, 3688, 3641, 5455], [7755, 408, 4853, 6538, 5474, 5736, 3789, 3031, 4246, 173, 6321, 5729, 6397, 555, 3624, 413], [3688, 5474, 5729, 2766, 4287, 5778, 7163, 6181, 302, 5644, 4398, 6259], [2303, 5003, 5474, 921, 3027, 3789, 3031, 2541], [5167, 3343, 6113, 8562], [2244, 7989, 7029, 847, 6397, 5174, 6301, 492, 5014, 4907, 2223, 2244, 254, 7561, 548, 6836, 4301, 7029, 3789, 5174, 4761], [6872, 5644, 2008, 4085, 3789, 5777, 1802], [3705, 3789, 5474, 231, 1925, 5644, 5418, 7560, 6171, 4504, 5644, 6238, 2412, 1273, 6397, 2011, 3614, 5520, 6836, 4231, 2412, 3389, 3433], [492, 3343, 8661, 4950, 5644, 5474, 4529, 3482, 1578, 6397, 4413, 5016, 604, 5474, 7210, 3789, 7784, 4907, 6978, 5094], [2742, 7626, 684, 4202, 1580, 173, 1471, 4505, 2849, 4578, 6323, 6057, 3343, 4583, 6487], [1295, 1389, 1624, 1389, 174, 5778, 3614, 7560, 1091, 3907, 254, 3888, 6978, 208, 3789, 5592, 5778, 2849, 1779, 5644, 6617, 3907, 6692, 7324], [6925, 6637, 5729, 3789, 1273, 6397, 242, 8467, 863, 7834, 5644, 5003, 5345], [6397, 6743, 6032, 4398, 2410, 8501, 7626, 254, 1767, 5660, 3907, 1461, 4388, 4556, 1675], [6872, 4364, 4965, 7968, 3907, 3031, 2997], [6124, 6397, 1349, 1434, 1566, 6397, 7549, 5644, 5474, 8542, 2244, 720, 3753], [1423, 8262, 6171, 203, 4705, 921, 3789, 254, 492, 440, 939, 2244, 7208, 492, 6171, 5273, 7287, 56, 5592, 8025, 2802, 3907, 4637], [5455, 3907, 4946, 939, 2244, 5003, 4398, 820, 6091], [6851, 3789, 3214], [5520, 8032, 3789, 6124, 3565], [6397, 84, 213, 5474, 1727, 6580, 7626, 254, 1109, 5883, 939, 2849, 6656, 5347, 5644, 3415, 5644, 4656], [3022, 3389, 7560, 6397, 492, 4133, 4705, 3384, 4907, 5211, 8259], [5644, 1580, 1423, 6872, 5920, 5786, 4813, 3907, 3343, 3528, 1358], [4796, 3789, 5474, 7915], [2849, 5211, 2412, 1673, 7626, 254, 1302, 3789, 1729], [688, 331, 3031, 688, 7626, 2751, 4626, 6399, 3907, 3789, 6978, 453, 4565, 3343, 8561, 2412, 1756, 3343, 498, 408, 5122, 1273, 5729, 3454], [7560, 1423, 6171, 5578, 5644, 3031, 4246, 6397, 4801, 7968, 4907, 2849, 6951, 3789, 3116, 5490, 6343, 4776], [6044, 5940, 4769, 4043, 4273, 3789, 5474, 2355], [7829, 2412, 6201, 2915, 7495, 6397, 5474, 6632, 3789, 2849, 507, 8470, 3907, 507], [2791, 1736, 3343, 6871, 5644, 8709], [2840, 5778, 492, 6397, 3688, 5920, 939, 2827, 2506, 492, 6171, 7834, 5644, 3116], [492, 3201, 6397, 3614, 6993, 337, 2893, 2412, 1367, 3789, 6397, 173, 168, 254, 2108, 3789, 5474, 7208, 1967, 3907, 4294, 748, 3065, 1262], [729, 1301, 6785, 6522, 1987, 5596], [555, 4623, 2244, 1273, 2506, 6171, 4714, 3907, 254, 6057, 5474, 242, 3343, 2334], [7637, 5644, 4203, 370, 173, 330, 1896, 6348, 1233, 3789, 8584, 1423, 173, 8277, 6397, 6743, 3691], [173, 5045, 208, 7738], [5419, 3343, 3765, 254, 5988, 4883, 5729, 6573, 3789, 5174, 4761], [1423, 7100, 1273, 6397, 5250, 3614, 6397, 2791, 2412, 254, 254, 4398, 6492, 3907, 555, 7313, 6791, 3789, 6836, 5684, 408, 720, 2849, 3614, 4894, 2849, 492, 6397, 3614], [6397, 1996, 3789, 4067], [6836, 2290, 555, 2791, 4487, 2849, 3032, 6057, 6397, 3108, 540, 5644, 4060], [1786, 879, 5474, 6847, 5419, 7313, 7161, 5644, 56, 6836, 8465, 8619, 2835, 4762], [4705, 3036, 3789, 3482, 582, 2506, 2334, 3343, 2303, 8709, 3343, 6253, 2065, 5524, 2554, 2778, 7520, 3914, 2254, 2255, 154, 8715, 511], [5782, 2314, 3640, 1262, 435, 2955, 1444], [6397, 4403, 850, 4623, 3907, 2849, 3790, 1919], [1295, 3614, 1804], [2412, 1416, 3789, 8112, 7560, 3389, 3343, 2724, 1301, 3789, 3079], [8562, 1273, 6397, 3343, 4714, 2840, 2849, 6871, 5644, 3790, 62, 7828], [3343, 6576, 4534, 6397, 2382, 5248, 242, 492, 2265, 5644, 5474, 6380, 4907, 6198, 4907, 4458, 1238, 5751], [492, 6397, 3688, 8050, 3789, 7742, 939, 5474, 4897, 69, 2412, 5174, 3343, 3318, 4705, 1694, 8143, 3907, 3343, 2382, 7196, 603], [3874, 6112, 1262, 3343, 6871], [6725, 3907, 6253, 2506, 674, 4861, 8042, 1842, 6479, 6785, 4538, 4195, 5494, 4390, 6785, 5474, 676], [6253, 6397, 7784, 5778, 1076, 3907, 492, 2922, 6253, 6397, 7497, 2751, 1715, 4505, 2244, 254], [1051, 5905, 1338], [2849, 7163, 7950, 6296, 3789, 231, 7626, 6836, 3377, 6397, 2849, 492, 6171, 2724], [6469, 6397, 4655, 5206, 7177, 5644, 4262], [5578, 6397, 6068, 8275], [7047, 3758, 3614, 6978, 1763, 5524, 1012, 7092, 1253], [2005, 492, 1491, 3758, 6656, 3343, 3841, 572, 254, 4055, 3028, 6034, 3789, 5474, 259], [3031, 717, 2412, 6351, 3789, 4756, 5644, 4359, 8461, 87, 3814, 2101], [555, 2849, 4416, 2751, 4950, 1966, 5871, 4087, 555, 2751, 4416, 2244, 4077, 1974, 6669], [887, 555, 6836, 4516, 5644, 3907, 555, 7163, 862, 3065, 7146, 4907, 6631, 939, 3907, 7163, 3641, 5644, 3343, 2382, 4604, 1434, 254, 3280], [3614, 5729, 337, 3429, 5474, 5455, 6397, 6836, 6462], [7413, 5521, 3789, 3617, 3343, 8179, 1273, 3789, 5474, 5926, 3907, 5419, 1423, 3343, 5367, 4195, 1434, 4106], [1129, 3962, 2137, 4907, 6397, 5003, 5249, 2849, 5247, 7560, 7730], [1080, 6894, 8402, 6489, 6108, 1767, 2175, 5644, 6836, 3923, 582], [1287, 2977, 3789, 4204, 8272, 8412, 658], [4294, 8708, 3789, 5174, 7072, 3343, 3023, 3031, 1572], [5474, 6272, 3789, 857, 4705, 656, 492, 6397, 6821, 254, 191, 4853, 4364, 5733, 3789, 3259, 2786, 548, 1444], [2815, 4487, 6433, 7626, 5174, 1529, 3789, 3419, 5167, 8097], [4328, 7929, 863, 3925, 2412, 4400, 3342, 3758, 6044, 1674, 2396, 4010, 984], [555, 5474, 6871, 5644, 3415, 6821, 5419, 5778, 2244, 1624, 175, 8390], [6871, 5644, 62, 1076, 5692, 3907, 6528, 1124, 3789, 8644, 3789, 5474, 8097, 3907, 2849, 1718, 254, 208, 4043, 6397, 2915, 254, 5255, 5644, 2751, 4545, 4342, 2979], [7457, 6397, 2751, 2000, 3789, 6836, 3459, 3789, 1310, 2244, 2751, 7908, 2979], [3389, 2625, 3614, 2227, 3789, 2625, 3907, 3478, 4637, 8251, 5367, 5340, 1011], [6397, 3019, 7626, 296, 7587, 5974, 7093, 5644, 4202, 3997, 3789, 5474, 7524], [3758, 8658, 555, 3688, 7560, 5474, 8708, 6397, 6171, 2382, 3415, 254, 2119, 1448, 5644, 1767, 8664, 7864], [5474, 2355, 2382, 6397, 492, 3419, 7915, 6397, 2412, 1767, 1874, 7626, 1767, 6598, 7313, 4491, 5644, 1680, 6708, 1416, 3907, 1611, 1303, 2445], [1566, 6397, 1995, 1434, 4043, 1423, 4853, 1655], [521, 2731, 6397, 492, 8165, 862, 4487, 6211, 3789, 5474, 4529, 408, 2173, 6397, 7626, 7451, 6800, 3510, 1195, 2412, 4705, 2308], [5770, 863, 3789, 2751, 155, 4287, 863, 7923, 3482, 4907], [177, 3809, 2849, 2827, 939, 7138, 3889], [3614, 5174, 7811, 6351, 3343, 6113, 6939], [3758, 1966, 5722], [159, 1064, 4108, 1674, 1367], [408, 1566, 6397, 1050, 492, 7834, 5644, 2751, 4396, 7313, 5762, 134, 3744, 4403, 7930], [688, 7334, 7626, 5174, 5455], [4398, 182, 4111, 4364, 6353, 939, 7626, 1273, 3789, 5419, 6580, 5729, 6743, 5644, 1827, 4529, 3907, 2563, 1779, 7939], [3343, 6253, 3907, 5729, 4534, 3343, 6576], [2791, 4010, 3789, 2849, 2138, 109, 6342, 8682, 5644, 6978, 6141, 6397, 2849, 3032, 7122, 3907, 3343, 2889, 3958, 3789, 5174, 1732], [4413, 3789, 1434, 254, 4204, 3789, 2509, 5791, 2542, 3907, 3482, 3116, 5722, 3343, 6871, 5644, 242], [8373, 492, 1491], [5474, 4761, 5778, 3789, 2244, 408, 3614, 7092, 2849, 2244, 2751, 1883, 6397, 8055, 2254, 503, 2244, 2751, 6397, 492, 7246, 5644, 3415, 7560, 7497], [7317, 5644, 862, 753], [6210, 254, 208, 7626, 254, 3028, 2119, 4637, 720, 995, 3907, 720, 175, 939], [3343, 2382, 3962, 6978, 4232, 5167, 8325, 3028, 1778], [5474, 7915, 863, 4937, 6397, 6836, 6872, 2934, 2254, 555, 2849, 2438, 2254, 5644, 4403, 175, 979, 3789, 3065, 3907, 5778], [2849, 850, 2849, 3614, 1966, 5186, 2412, 1756, 6580, 4364, 4623, 2244, 4203, 7705], [175, 8691, 8055, 4723, 2506, 6871, 5644, 4263, 4505, 3706], [4595, 6351, 6397, 1220, 6576, 254, 5389, 3907, 3343, 6576, 5644, 857, 3709, 1731], [5174, 220, 96, 3343, 2334, 5136, 4595, 620, 6397, 4853, 1655, 4158, 7706, 7730, 3789, 658], [2412, 5474, 6919, 2862, 4471, 2751, 4950, 4487, 2979, 3027, 4262, 2764, 2080, 8096], [8699, 254, 1774, 3905, 1302, 4720, 5644, 3515, 1779, 7425], [4364, 2041, 5474, 5130], [2849, 3343, 1149, 1966, 6730, 2849, 3343, 683, 630, 4026, 2849, 7951, 3641, 8237, 3907, 1887, 7626, 3389, 4651], [694, 1515, 6129, 6064, 5729, 1804], [137, 6113, 6397, 3343, 2407, 931, 4151, 3789, 6158], [5003, 5329, 6397, 3343, 3422, 5644, 6978, 2939, 4413, 3789, 7404, 5474, 4761, 3907, 3343, 4726, 4287, 6872, 3726, 1911, 6397, 2849, 2910, 2244, 2927], [3789, 6836, 3855, 3789, 2160, 3907, 4026, 84, 1572, 2244, 5174, 2829, 6850, 939, 2625, 7784], [6113, 6397, 2412, 6598, 5, 6871, 5644, 6938], [863, 6397, 2059, 5644, 6103, 3789, 3224, 5174, 6301, 3343, 6058, 5644, 8681, 3907, 492, 7834, 7342, 5644, 5174, 8067, 5521, 6397, 8101, 555], [4740, 6397, 4705, 492, 942, 3789, 3116, 6941, 3907, 4064, 7560, 4705, 8237, 173, 5596, 3789, 2563, 2518, 3907, 1232, 2849, 829, 2412, 3031, 5247], [6220, 5644, 6785, 3907, 5507, 2412, 5474, 5209, 3789, 6836, 8331, 4111, 3614, 4501, 2412, 104, 893, 5521, 3789, 3888, 7433, 5455, 3907, 3719, 171], [2424, 5474, 7190, 2412, 6978, 1062, 3907, 5196, 2244, 7292, 3907, 3394, 2244, 1767, 6725, 3907, 3646, 2412, 254, 6873], [296, 7523, 1389, 1100, 3789, 2509, 492, 6525, 704], [555, 3907, 5174, 3164, 1966, 2481, 7626, 7904, 7626, 2925, 3907, 2751, 997, 6721, 8374], [5174, 8708, 6801, 1358, 2207, 3614, 5729, 2255, 5733, 4705, 5130], [8554, 3614, 630, 4637, 8036, 5474, 5022, 3789, 1273, 6397, 591, 3287, 3614, 8078, 6397, 8251, 6397, 5022, 6617], [648, 3679, 8682, 283, 5644, 5474, 3967, 3789, 3031, 2998, 7236, 3028, 2998, 3789, 648, 6397, 3640, 2754], [3907, 555, 5644, 6836, 4788, 7629, 6397, 3031], [3614, 5619, 1047, 1434, 4287, 5474, 7915, 3907, 3343, 4024, 5211, 1655, 4403, 492, 481, 2058, 408, 1987, 8287, 5030, 428], [4317, 2849, 7163, 3614, 3789, 2694, 720], [3614, 5474, 8198, 492, 1149, 3028, 7563, 5644, 3415, 5001, 6646, 1245, 2784, 3907, 555, 6666, 5474, 4550, 8412], [2382, 6978, 6308, 7842, 3343, 4195, 5035, 1273, 1915, 6397, 1273, 491, 152, 524], [8178, 6978, 208, 2969, 2861, 2849, 1493, 1273, 2506, 494, 5474, 1373, 1258, 3789, 2751, 6343, 1522, 2751, 2713, 4779, 3907, 254, 1160, 2412, 1758, 1207, 3425], [1273, 6312, 7784, 518, 3387, 5247, 3789, 1273, 6397, 5175], [6397, 4026, 3614, 1645], [4606, 7626, 1195, 3789, 7317, 2244, 4398, 2969, 939, 6717, 2849, 4119, 5955, 208], [5778, 492], [555, 3688, 8078, 6397, 6515, 5733, 3789, 6183, 6273, 2244, 6397, 2424, 3343, 8055, 5402, 6397, 2849, 5003, 8443, 2412, 5432], [175, 1207, 7076, 254, 14], [6397, 6353, 6770], [3028, 6397, 2849, 4861, 7495, 2849, 6171, 8435, 2244, 3142, 2849, 2903, 4890], [175, 3733, 6880, 5345, 2506, 1678, 2314, 603, 939, 3343, 463, 254, 208, 8473, 5644, 4290, 2979, 2412, 697, 4009, 7948], [8103, 2506, 507, 4364, 4534, 5644, 5474, 8560], [2849, 175, 4943, 3907, 2303, 3415, 5474, 8456, 3789, 135, 5484, 2244, 8390, 939, 175, 2235, 3789, 488, 3482, 2953], [2314, 7742, 5729, 1915, 408, 1516, 7895, 3789, 3116, 5389, 3907, 2926, 3116, 7818], [8032, 408, 3343, 3332, 5644, 7530, 2849, 3343, 1491], [6397, 4247, 3343, 8461, 3415, 720], [5644, 1580, 2849, 1360, 5003, 3641, 1756], [2305, 408, 2407, 3874, 7886, 254, 6034, 3789, 5479, 3268], [2341, 2244, 254, 7913, 4413, 173, 2371], [3905, 208, 3789, 4390, 4364, 3768, 7884, 5644, 3415, 408, 492, 2382, 4705, 2338], [254, 1492, 3789, 2355, 492, 2382, 3028, 7346, 6836, 6343, 7281, 6267, 511, 6603, 5524, 4682, 6373, 5729, 3127, 1767, 3789, 6836, 7231], [6397, 2346, 6397, 1131, 2412, 6836, 182, 5827, 7626, 1434, 1295, 1389, 1875, 594, 5474, 543, 3614, 1158], [3614, 788, 4274, 5644, 7784], [7560, 1423, 6171, 3578, 5644, 3031, 717, 6397, 5474, 4776, 939, 173, 5596, 2412, 7495], [3907, 6509, 3641, 4026, 3789, 2138, 5474, 3699, 3789, 2138, 6978, 1529, 4095, 7560, 3031], [2849, 3343, 7834, 5644, 40, 254, 3267, 7050, 6682], [6397, 5243, 5520, 1446, 3907, 2557, 7880], [939, 893, 3614, 1694, 7060, 4364, 4364, 1694, 1220, 2934, 5644, 7074, 1655], [4907, 5474, 7915, 2236, 704, 1766, 2412, 7208, 7915, 4907, 555, 3688, 1529, 4132, 3343, 1149, 2244, 5474, 2289], [2412, 56, 476], [3343, 2339, 7196, 2244, 5474, 2047, 3789, 5474, 1040, 2430, 4403, 8251, 3789, 5174, 3907, 555, 3688, 921, 3789, 56], [4556, 2922, 5474, 1455, 3789, 5174, 982, 3907, 1423, 7484, 492, 2861, 5644, 6522, 492, 3343, 842, 254, 5498], [3028, 6034, 1779, 5644, 4263, 6746, 4595, 5481, 3614, 1767, 6550, 254, 7317, 3789, 2906, 7626, 7784, 6397, 3614, 5657, 5644, 4203], [2382, 6978, 6308, 6730, 7313, 8703, 7886, 2244, 7811, 6351, 173, 4516, 6348, 146, 7939], [2086, 2244, 8715, 7104, 8160, 2395, 1585, 6259, 208], [7519, 5810, 1389, 208, 3343, 6811, 3789, 4697, 6978, 1859, 2412, 254, 5733, 492, 6718, 5829, 3028, 5186, 6978, 2074, 4419, 3907, 4195, 2244, 3550], [2849, 173, 4112, 2211, 2244, 254, 2893, 7363, 5167, 2506, 173, 2353, 2412, 7495, 6170], [288, 34, 7946, 1209, 3907, 3729, 3907, 745, 3962, 4055, 1434, 8270, 3907, 5861, 6656, 6397, 3389, 2922, 254, 6308, 6397, 5729, 5727, 658], [7159, 6397, 5166, 254, 8608, 5778, 2910, 242], [6397, 1301, 3789, 2138, 5160, 7587, 3907, 4387, 11, 7546, 3907, 735, 5302, 3907, 1817], [2244, 5003, 6981, 3789, 6978, 3478, 1680, 3907, 5617, 1389, 3683, 175, 6397, 1973, 5392, 3907, 1049, 720, 408, 3614, 2138, 1698, 3753], [3688, 704, 1234], [5733, 6397, 3343, 4863, 6397, 555, 175, 4705, 5247, 1389, 8222, 8341, 3907, 5474, 4396], [939, 5474, 4391, 3614, 6397, 2244, 4364, 4067, 6397, 3924, 5474, 3470, 7313, 6113, 5729, 5039, 6397, 6836, 2252, 4934, 3789, 413, 6397, 4637, 6919, 5644, 3415, 8470, 5644, 5474, 3028, 7884], [1349, 408, 3343, 2555, 5014, 5474, 3779, 6397, 6978, 208, 2997, 8085], [6852, 1338, 2244, 5474, 8010, 7626, 6811, 2291, 2754, 6821, 5624], [254, 7012, 3614, 5246, 3563, 2412, 56, 476, 3614, 2827, 2244, 720, 3343, 8350, 3946], [4379, 2791, 3757, 3342, 6319, 2138, 5455, 2244, 254, 5727, 3343, 7457], [6598, 6107, 3343, 6058, 4487, 1452], [1674, 6867, 3789, 6397, 4225, 251, 5211, 1338, 3907, 2244, 720, 2849, 6261, 6057, 2244, 8361, 5778, 2849, 492, 1273, 7287, 6057, 3031, 5735, 254, 1520, 3614, 2921], [8610, 5003, 3641, 1338], [5644, 7093, 1434, 254, 8596, 829, 254, 6873, 3789, 697, 3907, 5577, 2412, 5856, 8105, 6603, 881], [2303, 4108, 3789, 5003, 4386], [4043, 555, 6872, 6939], [8582, 3804, 5948, 325, 6397, 1295, 8211, 5003, 5345, 131, 5474, 3191, 2235], [3563, 3287, 7570, 6057, 4772, 1779, 1585, 3028, 5433, 555, 3343, 5785, 4185, 1767, 1580, 2244, 208, 2412, 254, 1145], [4441, 6057, 8483], [5174, 4321, 3789, 2464, 492, 5211, 7886, 3841, 4061, 8218], [2157, 2412, 2849, 1566, 2942], [3620, 4595, 630, 507, 6183, 6362], [8467, 5644, 3389, 3683, 2849, 6171, 683, 7902, 5474, 7430, 6836, 6600, 2936], [6290, 6240, 7626, 3031, 8445, 5644, 7811, 242, 7004, 1966, 52, 3350, 3907, 6245, 2583, 6397, 3028, 6034, 2849, 173, 1056, 5644, 2862, 921], [4225, 5419, 6978, 6113, 3039, 3789, 3164, 1273, 4291, 5644, 2945, 4705, 747, 2506, 4710, 3471, 5061, 7560, 4705, 2046, 3789, 2886], [4575, 5345, 6397, 6738, 4534, 3504, 2452], [847, 6397, 2910, 4705, 1560, 1273, 3789, 1805, 6397, 798, 939, 3614, 1679, 1273, 5729, 8562], [2412, 5174, 6103, 863, 492, 8440, 4950, 3907], [3705, 2244, 6978, 3306, 3789, 5174, 717, 3907, 3789, 4163, 5474, 4388, 704], [1273, 5446, 5965, 5644, 2831, 3907, 3343, 2479, 5474, 2065, 3641, 6353, 5174, 2829], [1966, 5174, 5302, 3614, 1717, 609, 6978, 3433, 6397, 863, 7837, 5962, 5644, 242, 3789, 5160, 493, 4396, 3789, 5588, 939, 5302], [6188, 6012, 5474, 1729, 4413, 3789, 3923, 182, 3789, 1273, 6426, 1273, 3773, 3773, 5211], [6872, 6066, 4287, 3343, 4442, 254, 7495, 3473, 1583, 8555, 7626, 4274], [7626, 7742, 4214], [1674, 6273, 2698, 4705, 1113, 173, 5211, 4403, 3789, 5097, 3907, 720, 3614, 4705, 1139, 1844], [1245, 6506, 7795, 3028, 191, 3482, 7317, 6806, 6397, 5243, 4009, 2244, 8188, 3907, 6397, 1131, 1273, 6397, 1131, 5936, 5644, 5003, 8619], [3031, 2849, 173, 3680, 5474, 661, 6397, 408, 6836, 5578], [2849, 3343, 4565, 156, 5247, 6397, 175, 4379, 3056, 7194, 5419, 1732, 3343, 2309, 3789, 296, 3889, 4761], [5722, 5729, 6743, 6397, 2849, 2138, 5644, 630, 8680, 6348, 6321], [3620, 1758, 498], [3343, 6113, 6598, 4403, 6397, 4403, 7746, 5644, 1423, 1298, 6397, 7070, 8694, 7081, 3907, 2849, 7081, 749, 2170], [2723, 3907, 555, 2849, 7313, 5148, 217, 4287, 5474, 6466, 7626, 1434, 254, 174], [3596, 175, 400, 939, 2849, 3343, 7163, 62], [3750, 1389, 4764, 492, 6764, 3789, 8678, 3789, 6858, 3907, 7811, 3482, 2431, 3789, 5041, 492, 1332, 5244], [3343, 5239, 5644, 6522, 3789, 2254, 3907, 4413, 1560, 4523, 3907, 1911, 3688, 5438, 6397, 7077, 3614, 7560, 408, 254, 6912, 3343, 6246, 2254, 3907, 6717, 3343, 2334, 2849, 1360], [2052, 1462, 5234, 3343, 507, 5474, 4761, 6743, 4595, 6351, 6397, 2303, 3415, 254, 7539, 3789, 3812, 5178, 7319, 3300], [8105, 3789, 6836, 6397, 5734, 1047, 5474, 1548, 3789, 1948, 6528, 3961, 5644, 4584, 2412, 921, 5474, 2849, 3010, 2412, 8046, 483], [1423, 1694, 540], [3907, 1295, 3789, 5474, 8610, 5644, 5206, 4705, 2977, 7545, 8032, 448, 7051, 511, 3471, 7210, 2430], [4585, 3688, 6298, 1448, 4391], [7560, 492, 8433, 5644, 3108, 5644, 5174, 6103, 5345, 7560, 5345], [7626, 2578, 7359, 296, 2065, 5474, 2374, 3789, 5175, 1011, 2849, 3614, 3031, 2692, 720, 3614, 1273, 6397, 5786, 3907, 2412, 8064, 4416, 5543], [6391, 1129, 3641, 4386, 6397, 3614, 3482, 5413], [4186, 254, 1624, 1389, 174, 4907, 254, 814], [173, 5762, 2412, 254, 4643, 3907, 3343, 2862, 5596], [5698, 6628, 6872, 2766, 2244, 4203, 1950], [6872, 2934, 4705, 8456, 3789, 2395, 7626, 2751, 3138, 3789, 5174, 4246, 3907, 492, 8501, 6186, 7626, 4705, 8456, 5729, 2007, 2506, 555], [6872, 829, 2303, 943, 4207, 3907, 4637, 492, 6264, 4705, 8638, 500, 1354], [1423, 5535, 1295, 492, 7834, 5644, 2927, 4287, 2849, 6171, 1471, 6397, 2231, 7899, 6355, 887], [4622, 2849, 7497, 1273, 1732, 7208, 6351, 3907, 3343, 6871, 5644, 7337], [7163, 6836, 6397, 5936, 5474, 1729, 1051], [8682, 3907, 5940, 3682, 5357, 2382, 6397, 5474, 4761, 3924, 5729, 8378], [688, 4565, 7495, 4705, 7766, 5778, 5762, 1273, 748, 3907, 5346], [3343, 2491, 5644, 1353, 7537, 1966, 254, 37, 2850, 408, 3343, 2751, 200, 4487, 175, 6160, 2412, 6103, 2979], [3614, 6397, 5211, 3614, 5474, 6445, 4287, 1423, 2791, 2412, 4398, 582, 7158, 2849, 3343, 1344, 688], [6836, 2328, 3789, 3367, 2849, 5186, 7560, 5644, 1931, 3570, 5174, 1624, 3789, 2977], [8226, 5474, 2806, 3789, 5962], [3993, 6397, 6754, 5644, 4741, 5211, 7523, 1966, 2771, 7834, 5003, 1273, 1732, 6397, 7626, 1572], [3614, 8562, 1423, 1434, 3318, 2412, 3031, 3153, 5519, 5644, 4706, 8495], [2382, 1896, 2254], [3907, 2827, 2046, 5035, 2303, 6397, 3073, 3342, 3789, 4391], [7284, 2826, 6055, 1389, 8345, 1767, 1859, 154, 1859, 2165, 3517, 3907, 7617, 2849, 77, 2778, 6017, 1844, 571, 6821, 5964, 4862, 3907, 4403, 492, 3191, 4444], [2052, 3541, 154, 6613, 3238], [7560, 1460, 3789, 5186, 2005, 5644, 4853, 5692, 3753], [7837, 6978, 2221, 7034, 7700], [408, 3614, 2244, 720, 6397, 175, 555, 1529, 2355], [1423, 6171, 5857, 5644, 4705, 2101, 6993, 287, 3907, 3027, 939, 8589, 5644, 4705, 403, 1109, 6779, 3907, 4487, 6991], [555, 6629, 3907, 4777, 3417, 370], [2303, 6538, 3028, 5479], [408, 173, 3858, 7560, 8708, 3614, 4287, 4853, 4106, 3789, 3814, 1559, 3907, 7302, 4106, 6397, 555], [5419, 4606, 3789, 7258, 3907, 5778, 4388, 1434, 2303, 6522, 7788, 582, 5733], [2849, 1586, 5722, 2254, 729, 2986, 3907, 8339, 5235, 6397, 3911, 3153, 1949, 3028, 8112], [7560, 3343, 7317, 4853, 5006], [6115, 6929, 827, 3907, 1349, 7376, 6017, 3789, 1891, 6998, 1767, 2501, 7321, 3348, 3753, 342], [6356, 3789, 4067, 4796, 3789, 2849, 3790, 3116, 4950, 6397, 5521, 5474, 1645, 3641, 1766], [6871, 5644, 4263, 4505], [1423, 6171, 302, 5644, 2751, 2992, 7115, 1442], [6397, 8076, 7834, 5644, 5003, 2378, 5474, 5035, 3789, 2751, 179, 1522, 2244, 4379, 3056], [2854, 1614, 7626, 2578, 1767, 1165, 1273, 3789, 2508, 2849, 3614, 3641, 1844, 3907, 5777, 2412, 6397, 843, 6974, 5211, 3191], [645, 6782, 3031], [1875, 4043, 492, 3343, 2922, 254, 400, 1389, 5810], [5167, 3614, 4705, 8428], [3907, 6391, 6397, 1966, 6397, 173, 4484, 5644, 4203], [3907, 555, 540, 4461, 7330, 6978, 10, 4352], [1482, 7163, 2751, 4152, 1522], [5474, 4761, 5211, 4523, 6323, 555, 3688, 8619], [3836, 5778, 492, 1512, 6978, 6308, 408, 481, 5401, 6397, 483, 173, 1776, 6323], [6872, 3641, 2766, 8097, 6871, 3028, 1892], [8487, 5644, 242, 3789, 5003, 7317, 408, 3614, 1020, 328, 1273, 6397, 7497, 3614, 6397, 1325, 7232, 6171, 3962, 5003, 6978, 10, 5659, 3907, 1189], [7020, 5003, 254, 5729, 4386, 3789, 5174, 1124], [555, 996, 8104, 5216, 5644, 5474, 658, 1933], [6397, 1302, 492, 3343, 2922, 3789, 2751, 2536, 5474, 5736, 3789, 5474, 7193], [7966, 3389, 3614, 8198, 2235], [6872, 8259, 3789, 862, 2412, 5174, 6103, 4471, 5722, 6430, 7916], [7037, 4186, 3614, 5474, 7844, 8708], [6057, 6397, 3809, 8691, 3164], [8619, 208, 6062, 5129], [3389, 8596, 1273, 4565, 2332, 1423, 2910, 5405, 3907, 3343, 103, 1389, 7784], [939, 6397, 4259, 6573, 6397, 4026], [2062, 1883, 1423, 173, 8101, 5474, 7263, 2849, 173, 469, 5644, 6522, 7560, 4705, 4939, 492, 173, 6795, 5474, 979, 3789, 6609], [1273, 1262, 3789, 2751, 7035, 3614, 6397, 3614, 4705, 6272, 5729, 1966, 2146, 7626, 254, 5494, 3753, 6691], [3889, 5856, 3907, 555, 2849, 3343, 4565, 156, 5247], [3756, 4026, 7356, 7037, 4106, 4026, 1207, 134, 984, 3142, 6850], [1320, 5474, 4917, 3789, 7775], [3343, 5702, 254, 1824, 3789, 6836, 4585, 7626, 4705, 1529, 1785], [8442, 2849, 7163, 62, 3907, 2412, 122, 229, 175, 6978, 5381], [3474, 6397, 7784, 3343, 5002, 2015, 2244, 6397, 1739, 2412, 2355, 6978, 10, 5729], [6397, 420, 1389, 159, 2849, 1966, 5729, 3789, 1005], [3343, 7551, 5474, 7915, 6397, 1591, 5474, 6760, 3789, 4595, 6732, 2412, 5474, 6481, 3789, 6188, 8147], [5419, 8178, 5474, 4382, 3789, 2130, 7626, 4379, 6492, 2412, 5474, 5209, 1389, 6844, 900], [3433, 7080, 3614, 6397, 2849, 173, 5018], [408, 1566, 1195, 6397, 3343, 6113, 4403, 3614, 1805, 6397, 6872, 5982, 254, 3280, 7626, 1195, 4907, 7784], [6171, 3067, 5160, 6760, 5644, 2751, 5100, 6397, 465, 4287, 6183, 8339, 3343, 6718, 3863, 5644, 3888, 2412, 1416, 3789, 511, 3343, 6718, 3234], [3415, 3624, 2911, 3789, 7957, 3614, 8198, 6397, 6972, 815, 296, 1800, 3967, 6397, 492, 1512, 2588, 2412, 3389, 5665], [745, 175, 6492, 6397, 3343, 2407, 7560, 3688, 8619, 208, 1389, 6062], [254, 688, 8246, 7560, 8211, 5003, 408, 8188, 3789, 4398, 6124, 6968, 594, 1258], [408, 6080, 2244, 3031, 2119, 3907, 2849, 173, 2548, 3098, 4907, 6672, 7560, 1491, 6397, 6836, 5798, 2506, 5524, 492, 2407, 492, 1244, 7626, 6836, 7359], [2766, 3343, 4714, 1273, 1732, 5474, 7208, 6351, 3905, 2405, 2412, 254, 6643, 3343, 3284], [2849, 5924, 5729, 1273, 1389, 6625, 2412, 254, 1804, 3789, 4949, 1423, 7313, 6132, 5474, 6380], [5419, 5174, 7442, 3789, 8492, 2230, 1039, 1916, 571], [2849, 5136, 6397, 6978, 6141, 181, 5211, 6351, 4728, 6171, 231, 5644, 1537, 5967, 6939, 1423, 1273, 5091, 5644, 242, 3789, 3452], [3614, 3135, 3907, 555, 2849, 7163, 62], [6026, 2982, 5474, 6112, 3789, 863], [6413, 8244, 2395, 1152, 2849, 3471, 2244, 849, 6208], [5782, 6872, 1207, 2766, 3907, 6939, 2244, 254, 4962, 3789, 5866, 2853, 3614, 6978, 4441], [5644, 4326, 5605], [717, 408, 5045, 4134, 939, 3343, 4214, 5729, 5474, 6564, 6397, 1050, 5644, 5474, 2357, 5474, 111, 7239, 1444], [492, 5521, 4710, 6397, 7171, 3905, 5188, 939, 2244, 1273, 10, 6397, 173, 731, 4026, 4364, 2783, 3999, 6663, 1262], [5644, 1580, 2849, 492, 7560, 4416, 1966, 6845, 4744, 5829, 7626, 4992, 926], [4219, 5644, 1050, 1655], [5520, 208, 1131, 5419], [1764, 6801, 8342, 4364, 1448], [5005, 1966, 56, 6836, 6397, 3343, 1310, 3907, 2412, 104, 5644, 6397, 5474, 5830, 1915, 173, 2362, 6978, 3306], [6801, 3789, 6873, 3907, 492, 7112, 3100, 3789, 6978, 6122, 5058, 947, 303, 3255], [2953, 3789, 1520, 2412, 5474, 6764, 1245, 6397, 6736, 3614, 5474, 7844, 3789, 5474, 4002, 2614, 3907, 2003, 461, 2849, 3197, 2244, 1020, 5], [8619, 208, 3343, 1298, 408, 1483, 8665, 7306, 2412, 1537, 3087], [8467, 1295, 3614, 1273, 6397, 492, 5211, 5152, 1966, 254, 4145], [5572, 2370], [835, 3789, 1389, 1821, 4529, 5524, 3840, 351, 7646, 1389, 4369, 653, 3907, 6018, 3614, 254, 5494, 6654, 6573, 1389, 6458], [4705, 3967, 1911, 1566, 6058, 254, 3154, 1278, 7982, 6433, 254, 7834], [38, 2849, 173, 5786, 4146, 5264, 8430], [6397, 511, 2308, 939, 5778, 1273, 7131, 3789, 1767, 921], [4856, 5094, 7080, 5644, 7584], [2849, 905, 5474, 6662, 3789, 5174, 6352, 3907, 152, 7626, 254, 2258, 3789, 3031, 1357], [2731, 6872, 4364, 2738, 2244, 254, 1387, 4390, 5716, 5644, 5474, 2977, 5778, 3343, 6871, 5644, 2029, 3888], [3688, 5309, 863, 939, 2244, 6836, 6854, 6397, 3784, 6672, 3482, 2055, 6656, 6397, 2255, 5644, 3280, 3789, 658, 7737, 5295], [5778, 5722, 4321], [3100, 186, 2910, 1195, 8562, 4907, 2132, 939, 2849, 4606, 5644, 7317, 3894, 6183, 7359, 7626, 961, 8580, 1767, 3177, 1245, 6183, 5684], [5211, 2977, 8422, 4373, 7626, 254, 6867, 3789, 5474, 6011, 3343, 1174, 5644, 4177], [1423, 6871, 555, 4637, 2849, 1423, 6871, 7626, 6836, 6623, 175, 5729, 1662, 1047, 1434, 6821, 6397, 6171, 2258, 4705, 5536, 5644, 5474, 159], [1051, 175, 4796, 5474, 6975, 4037, 1682, 2412, 254, 3092, 1002, 1195, 1387], [7686, 5644, 3031, 5498, 6397, 2849, 3924, 8237], [3614, 1448, 1423, 6298, 4705, 5130, 2110, 7626, 7784, 3907, 173, 7689, 6782, 254, 208], [2428, 254, 3092, 3028, 2747, 1273, 7066, 3907, 5778, 3343, 1850, 5022, 8564], [6872, 4364, 3958, 867, 1311, 3958, 4346], [1878, 7177, 2412, 6158], [3688, 4705, 1680, 3789, 400, 3907, 8112], [2506, 997, 394, 7055, 939, 5644, 4398, 2621, 3907, 5419, 7163, 4398, 6492, 6871, 5644, 6522, 630, 996, 2506, 2751, 5421, 1883, 2751, 4606, 5644, 4650, 2815], [3343, 507, 4796, 173, 2011, 1273, 8198, 939, 2251, 1694, 2849, 4328], [555, 2849, 492, 7560, 6113, 6836, 5663, 5235, 5474, 7915, 496, 4287, 2412, 5174, 5167, 863, 4861, 1917, 3482, 6397, 555, 3343, 3789, 5247, 503, 3343, 2309, 4287], [492, 6397, 2849, 3614, 4705, 6836, 939, 3343, 5474, 6871, 5644, 2761, 7560, 1821], [7911, 1295, 3343, 6113, 6978, 10, 6858, 4106, 2922], [6397, 492, 173, 4102], [555, 2849, 3343, 1491, 4637, 3343, 8523, 2438, 5786, 3907, 3343, 2309, 408, 3614, 1991], [5211, 5560, 1262], [5419, 2413, 7560, 3907, 5778, 3343, 8461, 6362, 7208, 6351], [6020, 1711, 3907, 6974, 2012, 6785, 6669, 3003, 4505, 4155, 492, 2279, 4988, 5474, 6103, 4637, 492, 8664, 5445, 824, 3581, 6055, 7784], [84, 5247, 2840, 5474, 544, 3907, 1273, 2506, 8055, 3614, 1915, 551, 2506, 8226, 5644, 6183, 290, 744, 2506, 8226, 6103], [3688, 5474, 1967, 5729, 8619, 3028, 2371, 6522], [5778, 3343, 4394, 3758, 3706, 2244, 1273, 5186, 6978, 10, 5186, 8430], [56, 7229, 6397, 8185, 4043, 6978, 8014, 3032, 8593, 6183, 5988, 3907, 2922, 8198, 7173], [2849, 3343, 6436, 5746, 8411, 2430, 6836, 7368, 3907, 5270, 7163, 3608, 939, 3343, 6851, 6785, 4650, 5481, 5778, 3343, 3732, 6343, 5450, 3907, 3343, 5211, 5418], [5644, 5174, 492, 3343, 4503, 254, 3280, 2244, 2578, 7142], [1349, 1131, 3789, 862, 4523, 5644, 8049], [2255, 56, 3789, 594, 1423, 1220, 6397, 5419, 2922, 254, 208, 1389, 6062, 5729, 1804, 6397, 3118], [1663, 1929, 5644, 2146, 3031, 2215, 3789, 6343, 582, 408, 8211, 6014, 7626, 3031, 968, 408, 5100, 2751, 8661, 1200], [4403, 5211, 2412, 2751, 8658, 5056, 3442, 254, 4009, 4998, 3614, 254, 6397, 5211, 2353, 5474, 5187, 5433, 6065], [3343, 2880, 254, 8430, 4695, 2014, 1966, 3698, 254, 4214, 6659, 1760], [3028, 5186, 5778, 492, 6397, 2849, 3343, 175, 6397, 7791], [1234, 1966, 6625], [6397, 8259, 6872, 3789, 2751, 904, 2529], [5778, 492, 1512, 3789, 3224], [6872, 1258, 3789, 5474, 5365], [6728, 4650, 4705, 84, 7655, 3789, 2395, 1349, 7163, 7098, 5729, 1270, 6397, 2751, 7139, 3789, 3845], [8091, 5474, 397, 3789, 757, 5474, 1230, 1432, 6397, 6925, 8124, 3640, 723, 3789, 5474, 7210, 3789, 7784, 630, 3924], [924, 5137, 6348, 5832, 3789, 2431, 4043, 8050, 6348, 5865, 3907, 6397, 2767, 3031, 7252], [408, 3109, 492, 6795, 3031, 6361, 5778, 56, 1273, 8689, 2997], [4337, 408, 1779, 5644, 1050, 7626, 131, 5474, 1040, 3389, 58], [6397, 1729], [5174, 3367, 3614, 6978, 2431], [3343, 8055, 1896, 2578, 6487, 6397, 492, 8055, 6836, 7714, 6397, 6053, 1793, 2412, 254, 8668], [6397, 5567, 5644, 5003, 1273, 7121], [1295, 3614, 4364, 8378, 7239, 1444], [2244, 254, 6607, 6682, 6397, 2889, 511, 1423, 3343, 865, 3789, 1767, 7210, 2922, 3908, 3332, 6978, 3305, 6397, 8333, 2412, 6978, 4277, 3789, 2389], [6343, 939, 1273, 1262, 2922, 5474, 2845, 1054, 3269, 6391, 5644, 2894, 5250, 3907, 6171, 2334, 2244, 2392, 254, 7286, 3789, 5211, 3515, 2922, 6473, 7740], [7610, 7610, 7610, 408, 492, 8211], [5474, 4761, 2849, 507, 1578, 1423, 6171, 5857, 5644, 4705, 2101, 6993, 287, 3907, 3027, 939, 8589, 5644, 4705, 403, 1109, 6779, 3907, 4487, 6991], [1182, 6397, 56, 3847, 5419, 2412, 6351, 3789, 3888, 6397, 7077, 408, 2849, 6049, 2289, 1966, 5474, 7691, 3343, 6705, 8467], [2827, 4413, 3789, 4705, 2977, 1195, 3363, 3907, 5920, 8097, 3159, 5174, 1624, 3789, 2977, 4487, 1628], [2922, 7121, 3343, 7499, 7626, 979, 3789, 4067, 3907, 1349, 6397, 4416], [6025, 4019, 6279, 725, 1767, 2786, 5729, 2751, 8105, 5644, 1776, 10, 4413, 6183, 6253, 492, 4565, 7795, 6978, 10, 5729, 3907, 1349, 408, 6397], [6875, 7560, 5474, 7915, 492, 4861, 1882, 2412, 5246, 1966, 5474, 7192, 6397, 7307, 2412, 254, 5921, 7590, 1137, 2672, 3753], [1349, 492, 3343, 5014, 5474, 1436, 6107], [2849, 492, 408, 3924, 2244, 5474, 7245, 1389, 8050, 4907, 2244, 7208, 4950, 939, 408, 3995, 6397, 7784, 173, 2265, 540, 6872, 5160, 961], [3133, 8097, 1779, 3028, 2396, 555, 1914], [525, 5345, 5474, 4516], [3343, 8461, 5729, 511, 5474, 7210, 3789, 6785, 2052, 4907], [408, 2544, 3907, 2849, 1273, 1220, 2244, 254, 1273, 1220, 2244, 5224, 6397, 7413, 1519, 254, 3789, 5474, 5900, 7963, 5644, 7019, 3907, 3343, 8461, 5160, 4403], [2412, 5788, 921, 1389, 174, 6851, 3789, 40, 4487, 5438], [2849, 7163, 5729, 7098, 4398, 7853, 403, 492, 8501, 1154], [1096, 2438, 2412, 4595, 688, 3789, 6836, 8465, 2681, 254, 2893, 2244, 2604, 1717, 8619, 2835, 4762], [5474, 1262, 6445, 3614, 5003, 5212, 5644, 630, 8432, 254, 7783, 2165], [7842, 7784, 2782, 3004, 3753], [6397, 1446, 939, 5853, 4287, 3343, 1697, 4106], [3663, 1262, 3343, 5223, 3907, 5778, 5345, 492, 4173, 5186, 4905], [1566, 6397, 8563, 5729], [173, 6871, 5644, 2211, 5644, 5146, 5729, 8148, 6397, 8152], [3925, 1529, 4229, 4129], [5174, 511, 5174, 8412, 5174, 8440], [3907, 1350, 2506, 3032, 5962, 6113, 2506, 2849, 3688, 555, 2506, 4655], [3651, 3343, 5628, 5474, 4391, 4637, 6397, 3688, 704, 2827, 5724, 3492, 2849, 175, 7817, 351, 357], [254, 3614, 6227, 6978, 7624, 6397, 6264, 2521, 1389, 851, 3789, 5474, 4133, 975, 284, 1529, 1293, 1206, 3907, 4364, 1771], [3458, 3458, 3458], [1349, 1779, 5644, 6463, 140, 175], [3611, 3044, 408, 3614, 2244, 3857, 3343, 4777, 7626, 5474, 3789, 7514, 8389, 5474, 4391, 131, 4705, 7844], [8461, 4950, 1529, 2814], [555, 1273, 5029, 4055, 540, 370, 2382, 6978, 316, 8562, 5778, 4388, 254, 4976, 3907, 5474, 5276], [939, 4473, 2244, 2104, 5856, 5280, 5644, 1166, 3642, 2244, 720, 3907, 5729, 335], [3907, 893, 3032, 6978, 1207, 159, 2230, 3415, 6743, 942, 939, 3032, 5520, 159], [5943, 5211, 4487, 6548, 6397, 555, 2849, 3688, 5733], [1349, 175, 4379, 234, 1933, 3028, 5186, 254, 7436, 3614, 3640], [254, 4019, 7834, 2412, 5474, 6564, 7560, 4721], [939, 2849, 6872, 4505, 3719], [7698, 8619, 3224, 2825, 3559, 6978, 3306], [1295, 3614, 3641, 8394, 5778, 2353, 3789, 7429], [3343, 6113, 231, 6397, 3977, 4661, 1273, 1389, 5698, 1966, 7080, 5644, 2751, 561, 2244, 6717, 2279, 1300, 6397, 2412, 6351, 3789, 5995, 7313, 6113, 231], [408, 2849, 6531, 1195, 5346, 3343, 2861, 5644, 62], [1608, 6397, 254, 6966, 3789, 5474, 6620, 8450, 3841, 6513, 5644, 5474, 7011, 3416, 2244, 5660, 3789, 3128], [6397, 1060, 5211, 3389, 6301], [5039, 7152, 3907, 2311, 4287, 2849, 4853, 2815, 173, 2826, 7742], [2906], [2849, 3343, 6436, 5894, 254, 2254, 939, 6728, 1434, 6171, 7501], [408, 5211, 4487, 6397, 7951, 4199, 939, 2849, 5211, 6437, 6181, 6598, 8020, 8020, 5644, 1434, 7084, 2412, 1038, 1966, 254, 4020, 3789, 6348, 8617], [4319, 3789, 2138, 1020, 6089, 6397, 5729, 4861, 3773, 4287, 2849, 3343, 2371, 5856, 2086], [4861, 3838, 1361, 2412, 254, 661, 3907, 5778, 6872, 4505, 1262], [5644, 1580, 3343, 6436, 5003, 5616], [3700, 8486, 2412, 5474, 96, 8085, 4516, 5644, 5174, 717], [5474, 3312, 2849, 492, 3720], [6563, 7915, 3614, 824, 2113, 6351, 5644, 5474, 4869, 3907, 6580, 6904, 5494, 2849, 2314, 8198, 6397, 893], [7460, 5474, 3019, 653, 3907, 4403, 3789, 6706, 6397, 4439, 7904, 1966, 629, 3907, 3028, 6034, 844, 2254, 5474, 6724, 3614, 8198], [6877, 3614, 254, 4207, 3789, 7098, 3907, 1176, 4146, 6397, 3019, 3907, 2506, 2430], [1405, 3907, 3031, 4341], [6057, 62, 7163], [4744, 4950, 2244, 2751, 3758, 2681, 3907, 3907, 492, 2453, 3789, 720, 6397, 8579], [254, 1262, 1624, 3789, 2977], [7560, 1423, 173, 7239, 6978, 1673, 4637, 1966, 5025, 5644, 4920, 4284, 3939], [3343, 2382, 1896, 5174, 749], [8050, 175, 6397, 8167, 1195, 3028, 6319], [936, 7626, 6978, 2093, 2244, 720, 173, 6431, 408, 4853, 5140], [5474, 2484, 3789, 8160, 492, 3487, 1358, 4907, 5474, 5211, 2673, 2235], [1960, 5474, 8678, 3789, 3517, 2412, 4651, 7127, 5211, 3562, 2849, 3641, 3562, 7560, 2751, 5910, 2244, 254, 3517, 2979], [4403, 3343, 7610, 2244, 1674, 1081, 3773], [3007, 5345, 1776, 6397, 1449, 3688, 5520], [3343, 6113, 8412], [5474, 3482, 3789, 8709, 2412, 3389, 174, 3907, 3789, 6868, 3482, 4705, 1262, 7191], [5778, 939, 3651, 3614, 1195, 7626, 1273, 6397, 7518, 7033, 2404, 6728, 555, 5003, 3789, 7337], [2849, 3343, 3109, 5256], [6978, 1187, 422, 6397, 3028, 3622, 1645, 5608, 5014, 593, 3907, 5014, 5608, 2751, 4379, 4950, 3028, 6034, 3614, 6978, 6538, 6371], [2849, 1273, 5762, 7560, 6445, 3614, 5729, 7560, 6569, 5300, 3999], [3529, 2849, 939, 408, 3343, 8350, 4487], [1300, 6397, 3343, 6872, 7916, 2412, 3389, 5], [8630, 2412, 3119, 4095, 173, 3343, 3710, 3789, 6978, 208, 1966, 254, 351, 555, 492, 6397, 483, 8259, 939, 7313, 4996, 4364, 2424], [357, 2506, 7784, 5243, 6978, 8611, 1774, 4637, 720], [720, 3343, 7070, 1258, 4398, 6679, 939, 2849, 2023, 6397, 2791, 3641, 2254, 887, 7926, 6397, 511], [2849, 847, 6397, 908, 2233, 3945, 3641, 3814, 8259], [4595, 6397, 5762, 5394, 3343, 2724, 1301, 3789, 5003, 461], [8619, 208, 5644, 56, 4398, 6492, 3907, 5644, 6836, 7033, 6397, 6253, 5205, 1415, 2553], [2849, 3343, 7425, 3907, 3343, 1491, 5729, 3789, 1273, 5778, 6872], [1051, 3705, 2244, 6397, 1001, 5644, 6836, 4937, 8188, 3789, 4379, 3056, 6872, 1529, 1234], [3889, 3031, 4564, 2849, 5729], [2849, 4065, 5474, 7523, 2412, 5166, 4287, 1674, 208, 6871, 5644, 862, 7626, 5474, 3379, 5170, 7886, 5644, 5174, 3676, 6488, 6717, 6113, 6717, 1668], [7626, 5474, 7052, 6397, 7868, 1883, 3343, 1051, 254, 6499, 3614, 3905], [2730, 3789, 6348, 6359, 2303, 3079, 4477], [3789, 1273, 6397, 5481, 492, 2029, 2244, 2849, 2138, 7921], [3907, 325, 6397, 7865, 4491, 5644, 6585, 254, 5904, 3614, 5729, 8378, 2926, 4861, 1581, 358], [6320, 2966, 4314, 343, 4907, 2395, 6113, 8663], [3614, 4705, 1967, 7092, 3907, 7626, 7742, 3790, 4294], [3688, 4364, 2977, 2412, 254, 5, 6397, 3343, 1491, 1220, 4950, 6397, 4413, 3343, 1718, 2590], [5778, 3688, 131, 4705, 8412, 3705, 3789, 1301, 3789, 8287, 2412, 6978, 3301, 630, 3789, 56, 540, 842, 254, 7371, 6652, 7170], [3907, 4938, 3907, 1379, 3907, 1100, 3907, 6978, 6812, 6397, 2922, 8155, 3614, 1349, 594, 8147, 5506, 2412, 254, 7197, 1996, 2412, 5474, 971, 8725], [2849, 6637, 4705, 8493, 3789, 1273, 6939, 2506, 6872, 3789, 3573], [5243, 7324, 6573, 581, 3907, 7480], [1566, 1416, 6397, 254, 8112, 8483, 3614, 3641, 3305], [6109, 692, 3343, 5643, 3031, 2688], [975, 1116, 975, 2361, 3907, 5174, 975, 3771, 1013, 555, 173, 129, 2738, 119, 3789, 796, 6314], [6397, 2849, 3343, 1966, 6057, 6717, 5778, 3343, 5247, 6397, 4847, 1756, 3614, 7560, 862, 2058, 939, 5729, 7417, 1583, 5722, 1349, 3343, 6871], [1733, 5644, 6181, 5474, 5035, 2412, 254, 164, 1262], [173, 4388, 5856, 6397, 6871, 5644, 5299], [555, 3032, 582, 3482, 1050, 3343, 4214, 6157, 1566, 2789, 2849, 7560, 2382, 582, 8630], [6645, 3415, 5644, 7533, 3614, 7560, 408, 3343, 4709, 4705, 3078, 1966, 4477, 1434, 254, 3280], [1349, 408, 492, 4079, 1731], [6871, 5644, 6157, 5644, 3415, 254, 1864, 3789, 7029, 2412, 6836, 8645, 1966, 6522, 3907, 5885, 1674, 5, 6397, 3343, 2382, 1805, 6939], [7839, 2412, 2509], [1273, 8198, 3614, 6397, 408, 6246, 3116, 1195, 1273, 7834, 5644, 3116, 3614, 6978, 5543, 1529, 788, 3907, 5419, 4777, 5400, 6728, 492, 2260, 2244, 8715], [7560, 2910, 5474, 3849, 8464, 3343, 8423, 2439, 3789, 5474, 3967, 2430, 1911, 7626, 5474, 961, 3789, 5474, 4403, 939], [5186, 2254, 6397, 4956, 2910, 254, 8198, 1915, 6397, 4565, 7590, 2244, 254, 2011, 877, 3753, 2920, 2052], [254, 2776, 2849, 5211, 3841, 2244, 2751, 478, 7985, 503, 5801, 6309, 6397, 7124, 5474, 5837, 4037, 2187, 333], [5003, 1145, 6397, 1423, 175, 2355, 2849, 7163, 4108, 3789, 4400, 3343, 5879, 5455], [893, 492, 3201, 993, 939, 2849, 1273, 3614, 2412, 8064, 3614, 4364, 7916, 3907, 4260, 4637, 507, 2235, 5644, 6397, 5474, 4807], [3688, 3641, 1088, 5644, 2751, 4971, 6397, 6057, 4487, 5762, 4705, 4907, 3343, 2751, 4706, 2751, 2923, 5644, 1805, 2244, 1434, 254, 6089], [3343, 80, 1996, 131, 5474, 2977, 2355], [2849, 5474, 6871, 5644, 2517, 5856, 5644, 3415, 408, 5174, 5082, 2849, 7837, 4106, 5644, 893], [4705, 1729, 5770, 555, 2849, 2265, 1767, 1349, 6294, 6826, 6397, 2260, 7784], [8483, 131, 3343, 3905], [4214, 7834, 5644, 5367, 7915, 1966, 1071, 6978, 4479, 3591, 1877, 1434, 2244, 3907], [676, 5521, 3789, 6845, 3789, 4534, 4441, 2352, 1999, 5474, 2065, 2840, 3907, 7570, 3789, 7080], [4705, 4326, 4988, 4705, 8207, 5524, 3697, 8230, 1176, 862, 1529, 8181, 2412, 1767, 1656], [175, 1301, 3789, 2122, 4705, 1572, 3907, 7066, 6397, 173, 2303], [5795, 7037, 6397, 7121, 4287, 6171, 2724, 4557, 3925, 6397, 1273, 4776, 3753, 1756], [254, 1262, 321, 6397, 688, 2982, 3620, 4190, 2912], [939], [4622, 7768, 6902, 1929, 4584, 4361, 5474, 7077, 426, 2430, 254, 492, 3261, 445, 254, 6786], [3343, 6872, 5791, 3905, 5727, 1925, 6978, 1853, 2785, 3789, 4226, 958, 3907, 4741], [6886, 6773, 5596, 5474, 5604], [2849, 8211, 5003, 3641, 6538, 6715], [2244, 4203, 3614, 6397, 5778, 7163, 3641, 3073, 3789, 2751, 1883], [7742, 2849, 845, 5373, 2412, 5474, 5821, 5452, 3789, 1546, 4270, 7926, 7742, 845, 8456, 3907, 1295, 7834, 464, 2849, 1273, 6326], [3697, 3614, 6873, 2412, 5474, 221, 1129, 173, 465, 6397, 3614], [408, 4133, 3614, 5174, 6053, 6397, 5856, 8355, 8055], [8607], [5778, 1273, 8382, 6836, 1294, 2849, 1566, 6569, 7560, 5474, 3517, 2244, 4705, 7121, 571], [8041, 5778, 492, 3343, 4714, 720, 3688, 8513, 3343, 1491, 1434, 939, 8244, 492, 3343, 7497, 2849, 3343, 2230, 7337, 5729, 6785, 7964, 7626, 3711], [3758, 6397, 5347, 1306, 2849, 3343, 4565, 1578, 3641, 4534, 3907, 8619, 2412, 5174, 4761, 697], [4595, 208, 5729, 3343, 5785, 5243, 5174, 4382, 3907, 5174, 408], [2849, 7163, 6617, 7560, 7874, 3757, 8211, 5003, 4478, 2412, 6978, 5445, 628], [69, 555, 492, 6397, 3614, 524, 8708, 939, 173, 4516], [1088, 254, 2175, 1389, 2541, 3614, 5520, 3907, 8105, 3789, 6836, 8444, 3789, 3878, 7163, 7202, 939, 3343, 5643, 296, 921], [842, 5419, 5174, 208, 3789, 3164, 3907, 3343, 7473, 122, 213, 884, 1444], [408, 5644, 5174, 3343, 1369, 4382, 6749, 1709, 3789, 6766, 3907, 1492, 2851, 4043, 5174, 3804, 720, 3789, 6836, 8473, 3907, 8473, 4637, 7297, 1966, 8682], [1273, 3789, 1948, 3343, 7457, 6978, 1723], [8467, 5644, 5474, 5660, 2849, 492, 5474, 8211, 6121], [7723, 2244, 5345, 7145, 3907, 1888, 1449, 6397, 2849, 7131, 6397, 1874, 5345, 3789, 5520, 254, 5843, 3789, 5672, 2412, 4391, 8501, 4734], [4595, 6351, 6397, 4978, 5762, 5474, 96, 3789, 4956, 4727, 6397, 507, 3789, 2688, 3907, 7457, 3905, 962], [555, 408, 6397, 3688, 4026, 3789, 2751, 7920, 6397, 175, 1566, 6397, 8207, 5644, 5174, 5524], [7626, 6836, 6492, 7520, 1195, 6437, 3343, 6113, 1915], [173, 1300, 6397, 1273, 4516, 7742, 3907, 5264, 7626, 3905, 7610, 2412, 5474, 3425, 8050, 3614, 3179, 939, 7368, 1273, 6871, 5644, 6094], [555, 492, 6397, 6183, 6721, 507, 6397, 862, 4364, 6939], [2412, 3302, 1729, 3789, 7210, 5644, 4706, 5496, 4287, 5054, 5644, 6978, 8103], [7335, 4287, 3688, 4705, 1967, 5423, 3039, 4016, 7613, 3907, 7626, 1301, 6785, 8275], [3907, 5644, 5174, 3343, 5147, 5003, 5481, 3789, 4274], [492, 7789, 3789, 296, 1874, 2412, 1673, 2412, 6397, 2751, 2335, 749, 1389, 1520, 3789, 5474, 4088, 6397, 8349, 2751, 3789, 1349], [4398, 7027, 8501, 4364, 5144], [3343, 8319, 4734, 254, 1796, 6397, 175, 2412, 5474, 6356], [6614, 6821, 2751, 179, 2412, 5753, 3907, 2881, 62, 1129, 2849, 3085, 7626, 5474, 5347, 658], [7626, 5474, 1452, 3530, 6397, 5304, 6449, 6397, 3343, 7923, 838, 413, 7893], [1821, 6351, 4058, 507, 7191, 3907, 1888, 7549, 939, 3688, 4364, 8237, 296, 3614, 5474, 4391], [5474, 4391, 5293, 5644, 2751, 1883, 7694, 2751, 6487, 8501, 5835, 3789, 2235, 5524, 4538, 2843, 2849, 2303, 720, 2412, 5174, 4761], [6397, 7077, 4477, 3907, 6397, 6836, 5344, 173, 7559, 5474, 5022, 1389, 4675], [6978, 6924, 3343, 4777, 254, 5962], [6171, 1471, 5644, 3731, 6397, 3343, 1847, 1423, 8101, 5644, 1767, 6103, 2382, 7560, 4379, 5692, 492, 2922, 3907, 745, 2849, 6171, 1022, 6836, 2433, 653, 6734, 4330], [1025, 6397, 3614, 2827, 3807, 1995, 2906, 8636, 6872, 4487, 3814, 4534, 3907, 2849, 492, 4287], [6872, 4364, 5733, 1493], [6728, 6717, 3840, 1767, 1202, 1966, 2138, 5847, 3789, 5474, 4883, 3789, 6445, 6397, 8211, 5708], [7239, 4705, 6668, 3789, 5474, 1960, 2244, 6397, 8589, 5644, 6673, 1967, 6183, 6359, 1767, 1572, 5474, 4359, 3789, 1767, 971, 6183, 2986, 6183, 926], [7523, 6492, 5644, 6836, 8283, 6978, 8473, 3789, 3658, 3153, 6978, 2688, 5058, 7389], [3343, 175, 6397, 3116, 4743, 5778, 6872, 3729, 254, 5125], [4274, 6958, 8497, 5644, 5211, 242, 7274, 6397, 862, 7520, 4274, 6958, 8497, 791, 4274, 371, 8497, 7507, 2412, 389, 8619, 208], [5211, 704, 6939, 2412, 4391], [2849, 1360, 1805, 2607, 939, 8467, 2849, 492, 3343, 6113], [3343, 483, 5859, 2244, 13, 5174, 609, 6872, 7033], [159, 4398, 3437, 7163, 4815], [1423, 1694, 4796, 3789, 1767, 7742, 540, 173, 4421], [3614, 5474, 7811, 6351, 6397, 3343, 6576, 3789, 4534, 5345, 8211], [1273, 701, 939, 2922, 2107, 3907, 8050, 6836, 5496], [5186, 2254, 8097, 3614, 7487], [408, 5474, 511, 3907, 254, 8032, 4501, 1245, 7124, 6746, 939, 3614, 496, 555, 2303, 6868, 7626, 1674, 8032, 8619, 3135, 867], [3343, 6113, 4364, 8708, 6323, 1732, 3343, 6113, 1338], [4043, 6836, 4000, 3789, 8691, 63, 4428, 3907, 1786, 2412, 4206, 2724, 1301, 3789, 3116, 3789, 4914, 493, 2412, 6978, 208, 3789, 1040], [6430, 6397, 1479, 2412, 7224, 1966, 3790, 6306, 6397, 6361], [3980, 2819, 4700, 3789, 2173, 4054, 6107, 6201, 1779, 594, 1515], [2244, 6397, 6836, 7327, 3789, 3343, 4745, 5174, 5247], [842, 6397, 1783, 4173, 4623, 2244, 254, 1914, 1389, 1540, 3789, 5474, 4359], [6406, 3343, 1273, 5589, 3789, 7723, 2412, 254, 5474], [3873, 5419, 4777, 1358], [5474, 2994, 3343, 2362, 6978, 4880, 3907, 3343, 5528, 173, 4516, 159, 2412, 5474, 4761, 3343, 4565, 5400, 5856, 609, 6872, 2766], [2578, 7174, 7163, 6978, 8534], [7064, 5345, 6397, 3512, 7560, 1195, 7529, 2849, 3789, 42], [8501, 5373, 6836, 1294, 5644, 5211, 1431, 242, 6872, 8619, 3907, 8430], [4254, 1129, 408, 939, 4287, 171, 3789, 6867, 6478], [5345, 7163, 2751, 5528], [6057, 6978, 208, 3343, 2269, 5474, 2445, 8665], [4364, 3614, 4705, 6032, 1432, 8217, 1745], [8178, 6978, 8076, 5698], [4287, 2789, 5211, 7915, 7163, 4705, 3985, 3567, 7092, 6397, 6110, 4291, 8120, 3335, 2979], [6845, 3789, 5174, 5255, 3343, 6113, 4403, 3907, 5160, 511, 3028, 1732, 3280], [2751, 5421, 1883, 1022, 3482, 8422], [8452, 3907, 1966, 2506, 1273, 8055, 408, 6865], [4932, 3999, 4314, 5644, 3415, 2424], [5164, 5474, 1779, 5644, 6972, 3789, 1273, 1262, 5778, 2339, 8619, 2656, 6703], [4777, 7071, 7656, 5644, 6978, 2119, 3789, 5474, 2184, 4449, 3729, 8078, 2613, 1218, 5644, 5267, 2412, 6183, 1851, 347, 3907, 5770], [3789, 6836, 8063, 6934, 6397, 8461, 5474, 3789, 2303, 1966, 254, 1810, 5644, 4637, 1252, 3769, 140, 5644, 6706, 5778, 173, 6113], [3031, 3907, 8483, 6717, 254, 1732, 208, 3907, 7313, 4861, 1382, 1273, 1732], [7842, 6718, 7495, 5644, 3790, 4031, 7560, 492, 6171, 1766, 2066, 3945, 3789, 5474, 3816, 7213, 2979], [7413, 2982, 5474, 4772, 4400, 2412, 6483, 6946, 254, 3419, 6573, 4487, 628, 6298, 6397, 7132, 5644, 5245, 1966, 254, 3896], [6397, 4655, 4853], [3614, 5474, 6445, 3789, 56, 6836, 7495, 6397, 6410, 2412, 7076], [3907, 1423, 5190, 5644, 351, 2506, 2849, 3343, 594, 939, 4705, 8031, 2922, 7626, 1767, 717, 3028, 4277, 3789, 2205], [5474, 3699, 5211, 2430, 5474, 2053, 4364, 4007, 6351, 2430, 5474, 5058, 1271, 7185], [3614, 788, 4274, 5644, 7784], [3343, 4338, 5474, 1262, 1343, 7084, 4604, 3907, 2336, 5167, 3031, 5821, 6449, 6397, 2308, 3641, 6353], [3907, 242, 3789, 1434, 254, 3614, 5474, 3800, 1967, 2244, 5474, 6397, 3343, 3746, 4705, 6351, 5729, 5644, 6122], [5494, 7784, 2412, 5474, 6103, 3789, 7248, 6666, 5194, 368, 1817, 4829, 492, 4978, 2412], [2791, 3945, 3789, 2431], [5419, 5644, 242, 3789, 6836, 1946, 3789, 7759, 3789, 8570, 254, 739, 2244, 1192, 2276, 1966, 3958, 2751, 6411, 8165], [2303, 6157, 5644, 5003, 6991, 3789, 1387], [6977, 3343, 1207, 1211, 7626, 296, 3967], [3343, 7457, 4364, 7121, 3415, 7560, 2751, 1883, 6044, 2412, 3031, 4761, 1423, 2279, 7903], [3688, 254, 6607, 3065, 6397, 492, 6171, 2382, 134, 7655, 6714, 7626, 2325, 2328], [555, 6656, 6397, 254, 6607, 2715, 3789, 3583, 1389, 4655, 7626, 1885, 3907, 3749, 6397, 3889, 5474, 1729, 3614, 1423, 2371, 1104, 5003, 1767, 2215], [555, 2849, 3039, 6057, 2857, 2244, 4403, 6057, 5722, 7356, 2303, 6397, 492, 6864, 5247, 4287, 3343, 1491, 3789, 5474, 5722, 2849, 6871, 5644, 1449, 7619], [1258, 3789, 4863], [2731, 350, 6343, 1709, 2412, 131, 5474, 2047, 6343, 2631, 1709, 3907, 2771, 6343, 5692, 2412, 254, 4448, 2731], [5474, 4077, 3789, 6845, 4637], [8178, 6978, 208, 3641, 3789, 4067, 3907, 5746, 1273, 3789, 4929, 1310, 3343, 6488, 131, 5474, 511], [8544, 413, 4403, 3343, 6113, 4523], [2849, 8211, 5003, 2506, 296, 2679, 2506, 5211, 1452, 492, 6040, 287, 4191, 6717, 2465, 1349, 408, 2506, 5596, 3789, 4378, 5644, 2751, 1062], [3614, 6397, 3343, 6253, 6397, 2994, 309, 3907, 492, 3343, 8486, 4705, 1572, 3789, 2522, 5644, 2522], [8084, 1423, 1793, 6978, 2829, 1529, 4695], [5474, 7523, 3789, 5474, 4101, 3789, 5460, 3614, 6978, 4108, 2244, 7742, 4062, 6397, 6983, 6343], [4106, 939, 7626, 5174, 2551, 2052, 1462, 3258, 5839, 8636], [5243, 4705, 4476, 8412, 6342], [7560, 2412, 6836, 4648, 555, 2311], [1129, 2049, 2014, 7313, 2834, 5644, 7080, 1262, 3488, 4950, 3395], [3696, 4606, 5644, 6181, 5474, 5035, 2412, 5474, 3775, 5358], [3343, 835, 5474, 5455], [5304, 984, 2254, 1456], [3343, 4272, 1273, 6300, 6637, 6836, 4153, 3907, 6836, 2408, 8448, 5644, 1767, 3804, 4536, 7080, 5644, 56, 2412, 3119], [4595, 6351, 6397, 5762, 4705, 8456, 3789, 3389, 5543, 492, 3343, 7212, 6978, 8532, 4364, 3305, 4287, 1515, 4761, 5729, 5920, 1165, 2412, 4391], [8259, 408, 394, 1097, 4907, 2849, 492, 3300], [5778, 481, 8241, 5474, 2184], [2849, 3614, 720, 7208, 3201, 2003, 2412, 2355, 4907, 653, 3907, 720, 3614, 6850, 3031, 4, 609, 3907, 651], [6872, 1207, 5644, 6771, 7626, 1434, 3789, 4872, 3907, 1529, 4534], [6314, 1198, 2284, 3789, 3235, 7159, 2412, 2222, 2849, 3614, 3641, 84, 939, 1767, 5620, 3614, 7726, 1966, 6836, 5400, 3789, 5474, 6598, 3789, 6836, 6467], [4663, 254, 3299, 6397, 2849, 8456, 7500, 2412, 254, 1302, 3153, 5060], [6397, 1785, 1968, 3789, 231, 1674, 4909, 2465, 3620], [2941, 3907, 7626, 5474, 8113, 2412, 254, 889, 5014, 5696, 2244, 5474, 215, 3789, 254, 3509], [7761, 7076, 3907, 3963, 4364, 2424], [4394, 4796, 4907, 5014, 1949], [3343, 3553, 5146, 6978, 3789, 1764, 1715], [2412, 1434, 5167, 2922, 2041, 5474, 5130, 1764, 1715], [7410, 4505, 594, 2244, 254, 2394, 3789, 4556, 5607, 2849, 7163], [1772, 254, 8610, 3907, 254, 3571, 6956, 2412, 3279, 3855], [370, 3614, 4364, 3755, 5014, 2412, 254, 2875, 2430, 6171, 2583, 6980, 3509, 2495], [2849, 2188, 3415, 6397, 4660, 5644, 6978, 2916, 4907, 6397, 1273, 7155, 1966, 7966, 939, 8467, 5474, 8444, 3614, 3641, 461], [3431, 4134, 1262], [2849, 343, 4595, 208, 2244, 1273, 6397, 1562, 503, 2244, 1273, 6397, 7940, 8619, 2855, 3789, 2977], [3907, 6952, 5644, 862, 5733, 3789, 5174, 6821, 254, 6308, 7590, 6397, 3585, 5644, 8020, 1434, 5456, 6397, 5778, 2849, 492, 4721, 7917], [2279, 4861, 7590, 6397, 5788, 6351, 4853, 5444, 3031, 7077, 3907, 3028, 6034, 1273, 6298, 2412, 3031, 1202, 1195, 5345, 7497, 7626, 5474, 658], [408, 3343, 2714, 2849, 3343, 1491, 6603], [6728, 7135, 4912, 5347, 6978, 10, 5729, 5474, 2355, 3907, 2751, 5692, 8146, 7208, 7219, 8630, 2412, 3119], [7705, 2827, 2849, 3614, 1491, 3614, 5059, 7628, 3614, 337, 1566, 5729, 7319, 6397, 3429], [2396, 862, 4523, 7626, 5174, 7072, 4287, 5762, 1195, 3907, 1273, 2303, 6965, 939, 5174, 2893, 2849, 3343, 8159], [6451, 6978, 174, 3482, 7853, 4526, 5795, 6397, 8428], [8231, 4290], [8682, 7546, 2412, 5174, 6103, 3907, 507, 1218, 3028, 377, 6397, 125, 5174, 8404, 3789, 7308], [408, 3159, 5644, 8068, 2849, 3343, 1491], [2849, 3073, 704, 7916, 4287, 173, 5931, 6057, 704, 6573, 4287, 173, 547], [4106, 6872, 4523, 7626, 5360], [5419, 6171, 330, 6978, 2496, 5644, 5174, 4170, 3907, 5474, 8407, 3343, 2334, 6105, 507, 3031, 1292, 939, 2244, 6717, 2506, 2308, 2132, 5806], [3343, 4863, 1389, 5, 3789, 7413, 5524, 2368, 6348, 8332, 2849, 6057, 7337], [1427, 6836, 49, 3789, 1674, 2257, 7163, 3789, 5474, 2484, 3789, 4964, 3789, 7016, 3028, 1818, 492, 353, 5644, 7208, 7766], [6397, 4655, 3614, 2029, 62, 7626, 3389, 8303], [6851, 3789, 8680, 4705, 1746, 3789, 8661, 3028, 5602, 3907, 1273, 1262, 3614, 6397, 6656, 6397, 254, 5602, 8251, 6397, 3614, 5602, 3907, 4184, 1423, 1273, 7144], [4388, 4734, 5644, 7837], [3907, 540, 6872, 2934, 5474, 7523, 3789, 6836, 6494, 5956], [8619, 208, 2694], [5174, 6062, 3907, 1767, 4551, 1423, 7121, 492, 7012, 4487, 1743, 3907, 408, 492, 126, 492, 1098, 4043, 5644, 1823, 7413, 2922, 5481, 3789, 720, 182], [748, 2014, 7497, 4705, 3450, 403, 6353, 1967, 3719, 2849, 2059, 5644, 1931], [5474, 231, 3789, 5188, 2849, 173, 5474, 1859, 2880], [173, 751, 1960, 194, 4287, 2849, 5762, 6397, 3343, 4489, 2244, 1469], [5474, 3786, 3789, 5174, 384, 3789, 8010, 3614, 4705, 6770, 8630, 3907, 6939, 3789, 6183, 1600, 3999, 3790, 3036, 5644, 5003, 7560, 893], [6346, 3789, 1715, 1966, 4477, 3698, 939, 5644, 6717, 2244, 56], [4574, 5379, 5588, 4574, 593, 2849, 6171, 2343, 4335, 492, 3201, 593, 6836, 3389, 8338], [175, 5856, 2235, 5644, 2597, 6397, 5293, 3718, 1349, 1966, 2849, 2597, 688], [7196, 5142, 5474, 1729], [6872, 3641, 4352, 6397, 6171, 7019, 5644, 5788, 2706, 3789, 8492], [173, 6436, 7560, 3318, 3118], [6464, 173, 2982, 7732, 2412, 1273, 7036, 1358, 2412, 3389, 8596, 3031, 6298, 5474, 7314, 2303, 8102, 5110, 3870, 2303, 8102, 5110, 7503], [2849, 173, 7903, 3614, 4705, 8428, 5211, 4233, 3758], [6941, 6397, 6171, 2716, 5644, 242, 3789, 5003, 6978, 1818, 6821, 1767, 146, 3789, 6975, 6057, 7560, 6010, 5777, 8105, 5644, 1993, 4705, 6351, 5729, 5211, 6351, 2412, 5474], [1349, 3343, 5160, 5644, 1653], [3905, 6924, 3343, 6113, 1423, 3343, 1273, 4706], [6397, 6057, 6643, 1060, 3614], [6295, 4317, 2255, 6030], [8462, 3789, 5797, 4643, 1966, 5945, 1673], [8619, 208, 1966, 4706, 492, 5820, 6978, 6062], [4398, 6492, 1273, 7163, 1434, 6728, 688, 3343, 6579, 8619, 208, 6836, 4516], [3285, 4547, 2751, 938, 555, 2303, 4650, 5474, 5729, 3287, 3789, 2424, 1645, 688], [3705, 154, 5402, 2506, 4714, 5419, 2412, 5474, 3515, 3705, 154, 5402, 2506, 4389, 8097, 2412, 1603, 2235], [3614, 5474, 5998, 5729, 3305, 3699, 2244, 4203], [1452, 3530, 4317, 3343, 6871, 5644, 5474, 4067, 863, 3343, 3694, 5644, 6598, 242], [1129, 720, 6397, 254, 2708, 6397, 6753, 4273, 2412, 1767, 8067], [2673, 1273, 1262, 1389, 174, 3614, 6978, 4441, 3907, 863, 8422, 6939, 3789, 6695], [6397, 8211, 3888, 2254, 2979], [928, 6978, 6289, 8076, 3028, 2193, 3907, 2849, 3576, 3789, 5223, 4043, 6397, 492, 3488, 5729, 3907, 5318, 5474, 971, 5345, 3789, 1861, 3688, 3343, 4147, 5644, 5174, 4495], [2791, 839, 2910, 3905, 5414, 7557, 6397, 6924], [408, 5416, 2635, 6978, 282, 7560, 1491, 8097, 492, 7890, 254, 8585, 7626, 131, 5130, 3907, 5729, 525, 7626, 5120, 1389, 5151], [2789, 6391, 254, 8186, 5014, 7626, 7425, 2244, 4106, 734, 3907, 5419, 4796], [6391, 4209, 254, 208, 5778, 1273, 3032, 2011, 3892, 2138, 5644, 1655, 2244, 234, 2001], [3758, 3688, 6978, 4573, 3789, 4067], [5643, 3482, 926, 5788, 5474, 7844, 3789, 5474, 3224, 2922, 5474, 3967, 6397, 1278, 3789], [2849, 982, 6836, 4856, 4861, 1917, 6782, 2850], [6872, 4364, 8181, 4637, 3999, 6397, 492, 7689, 2424], [2506, 4487, 7834, 3979, 2412, 3541, 6065], [8619, 4458, 3710, 4705, 3789, 2751, 680, 1883, 6397, 7055, 3907, 5770, 5206, 2849, 7313, 3670, 173, 175, 2412, 5174, 688], [8248, 2412, 254, 8428, 3789, 1767, 656, 1349, 5211, 2412, 254, 191, 4708, 283, 5644, 6846, 1805, 3907, 1245, 329, 7750, 5474, 2567, 206], [1273, 7912, 3789, 5003, 5729, 6169, 6850, 6397, 2259, 3614, 6397, 159, 4219, 5644, 4650, 5644, 7784, 5137, 6972, 2244, 4203, 146, 5644, 5174, 8715], [1764, 1715, 2430, 2230, 1827, 4705, 2585, 3789, 6978, 3493, 7330, 6397, 2849, 3343, 6246, 1713, 175, 7098, 2751, 7806], [7237, 432, 5644, 3031, 2829, 3907, 5309, 296, 2997, 3789, 658], [2849, 683, 5074, 8430, 4907, 6743, 3343, 2641, 159, 173, 8292, 6397, 173, 2033, 4907, 3343, 4112, 4637], [4288, 2235, 3789, 8514], [5778, 5978, 5729, 6397, 555, 3907, 720, 6397, 2849, 4133], [7989, 3620, 5840, 2412, 6960, 5167, 2849, 1399, 720, 3758], [4055, 902, 408], [408, 2751, 1246, 1649, 7560, 3789, 3773, 4160, 4202, 5076, 2835, 5729, 8501, 2412, 2431, 3789, 246], [2076, 1452, 7300, 492, 6058], [6397, 6112, 2849, 2244, 2861, 254, 1567, 1195, 3789, 7191, 3032, 3028, 1132, 6397, 4026, 4705, 8313, 6635], [2412, 6351, 3789, 862, 6952, 3907, 4124, 5856, 6397, 4403, 1750, 2244, 4203, 2880, 6397, 3073, 4705, 6421, 6749, 254, 4433, 3789, 56, 6836, 5246], [939, 525, 5345, 175], [2412, 8064, 5174, 4458, 3343, 1886, 6978, 3515, 7356, 3343, 6038, 3789, 1674, 5195, 1966, 4400, 735, 4950], [4287, 296, 979, 3789, 7784, 2849, 7497, 5722], [725, 1287, 5035, 1890], [6397, 5520, 34, 3343, 6328], [1966, 5722, 408, 5003, 5329, 1655, 1273, 6113], [351, 3688, 4705, 5604, 1207, 203, 8658, 1589, 939, 3343, 3023, 254, 3582, 3789, 5474, 6445], [8226, 6717, 4637, 4287, 6872, 2849, 3343, 1273, 6246, 1449, 1273, 8610], [6294, 5773, 5524, 7201, 6836, 6564, 4291, 6183, 3190, 177, 8430, 6743, 8090], [4587, 4705, 3967, 2334, 1566, 6058, 254, 3154, 1278, 7982, 6433, 254, 7834], [8492, 2751, 2865, 6397, 2849, 6637, 2751, 4190, 646, 3620], [3340, 1176, 2138, 7587], [3789, 4203, 2303, 5729, 2862, 5186, 4755], [6348, 3198, 3031, 4755, 3387, 651, 3532], [2395, 2244, 6978, 1081, 7283, 492, 7876, 4705, 6985, 6397, 1714, 6351, 1767, 7746, 3907, 6821, 7656, 147, 254, 5670, 3789, 1767, 4761, 8248, 2412, 2008, 182], [1767, 182, 1966, 254, 1369, 3789, 2235, 6397, 1301, 3714, 3789, 6306], [4853, 1925, 5165, 3907, 3789, 2424, 1276, 3031, 4584, 3907, 173, 6113, 7560, 7784, 3146, 5644, 4203, 1732, 6614, 6925, 582, 2412, 1295, 3907, 2849, 3343, 3221], [5474, 6361, 4079, 6724, 2412, 3804, 6397, 2849, 7163, 5729, 6397, 4131, 4684], [3702, 2065], [1301, 3789, 7066, 1273, 6397, 3343, 7497, 7626, 3342, 2849, 3343, 8101, 939, 887, 6397, 8237, 6397, 3688], [173, 2858, 1262, 7626, 5174, 717, 1262, 2198, 5644, 3415, 6183, 48, 5644, 5474, 6103, 1273, 194, 7626, 3906, 3907, 8412], [154, 6509, 5644, 8707, 254, 6308, 7590, 3907, 7433, 1767, 6929, 3640, 939, 7131, 5729, 5778, 7190, 7560, 7834, 5211], [3343, 6811, 3789, 7080, 263, 4046, 3907, 4009, 8274, 6397, 3415], [4738, 6397, 1423, 4853, 2058, 7626, 7784, 296, 1967, 3199, 254, 6832, 3789, 6348, 924], [8067, 3907, 5721], [5419, 408, 3343, 4133, 4214, 3097, 4493], [2849, 1176, 8644, 4950, 5729, 6993, 6397, 3415, 5644, 5474, 7915, 4477], [1767, 1572, 3614, 6835], [3343, 8319, 6978, 3267, 1389, 5753, 3343, 6871, 605, 5644, 3415, 7560, 5003, 7033, 5644, 4396, 950, 7626, 1295], [56, 8450, 1060, 1434, 254, 208, 2059, 6978, 5, 6397, 5778, 3343, 1645, 720], [6504, 3907, 408, 5819, 4133, 270, 6718, 8259, 5419], [3758, 3907, 408, 6057, 5474, 5035, 3789, 3031, 6103, 173, 7899, 3581], [7098, 2751, 629, 3789, 2470, 3907, 8622, 5644, 8402], [1709, 3789, 4077, 3907, 2893, 5644, 5474, 5302, 3789, 7915, 84, 2849, 5644, 5474, 5302, 3789, 4934, 3789, 413, 7569, 7560, 2854], [7560, 3614, 6397, 5644, 5474, 8450, 2059, 4705, 242, 4413, 3907, 1966, 254, 6771, 3694, 4617, 3482, 5035, 3907, 4604, 5644, 3280, 4088], [3032, 6821, 6397, 2791, 2412, 2843, 2412, 872, 3482, 4864, 2244, 6411, 8165, 6397, 4487, 492, 6514, 3278, 3031, 1491, 6044, 3620], [4155, 3758, 5345, 3614], [4287, 3343, 4696, 6836, 2202, 4287], [84, 2849, 6871, 5644, 2698, 2412, 254, 8596, 84], [939, 5644, 6836, 1389, 6822, 2244, 5334, 6183, 6248, 7551, 6836, 6708, 688, 2463, 7915, 3789, 6011], [2382, 1767, 1715, 3343, 6113, 4705, 5735, 2244, 3717, 5644, 2751, 4490, 939, 254, 8112, 6397, 175, 3614, 2769], [6397, 492, 6514, 5003, 3415, 3907, 8707, 863, 3907, 6397, 2849, 3259, 5884], [5520, 1273, 4487, 6397, 3343, 8350, 4026, 4364, 84, 7077, 3907, 1719], [1423, 221, 2064, 8598, 3789, 5746, 254, 1249, 3907, 492, 3343, 2674, 254, 4675, 2235], [175, 2235, 6785, 2563, 5644, 5174, 8154, 2244, 14, 2244, 2751, 4709, 6397, 5674, 3706], [5778, 5239, 4398, 5421, 8339, 1966, 5211, 6311, 3789, 1491, 844, 4487, 2743], [2849, 6656, 6397, 2862, 5688, 3789, 8564, 492, 7831, 6066, 2244, 1028, 5644, 4534, 4441, 2352, 1767, 7043, 7054, 3028, 2301, 8342], [4186, 3614, 5474, 7523, 7705, 5474, 1533], [5520, 208, 3907, 1273, 6397, 3962], [3789, 4203, 2303, 5729, 2862, 5186, 4755], [254, 4433, 1389, 2161, 3614, 2674, 6362], [3907, 4564, 7626, 254, 2235, 6397, 2849, 6397, 3614, 4950, 3789, 609, 3690], [3343, 5747, 5402, 6397, 175, 6397, 2211, 7943, 254, 6853, 3789, 7260, 3907, 6397, 254, 5964, 3614, 5474, 1523], [1423, 3343, 1644, 2244, 6397, 1821, 1967, 3614, 5174, 3146, 6294, 6171, 6358, 4287, 3343, 2382, 4477, 1423, 6872, 8396, 4067, 3907, 3614, 4391, 3706], [6872, 5644, 5722, 3789, 8094, 5644, 6522, 2412, 254, 1539, 3789, 5610, 3907, 3142], [6872, 4487, 6743], [7924, 4022, 5211, 4364, 2058, 56, 1493, 6397, 4022, 370, 6246, 6365, 5644, 5474, 4772], [7993, 6659, 408, 2922, 3640, 3972, 5644, 1674, 3154], [6509, 8396, 4067, 5644, 5474, 4554, 939, 6397, 2374, 3789, 454, 5520, 1302], [8271, 862, 4471, 4705, 7723, 3789, 5182, 2577, 939, 3343, 5474, 4714, 2244, 254, 508, 3907, 1262, 6872, 4708, 6283, 6785], [1423, 4705, 2308, 507, 6836, 7359, 1725, 3789, 8716, 2970, 4853, 4505, 3873, 3343, 7177, 4705, 990, 2412, 254, 4675], [7413, 2791, 7321, 7626, 5174, 3691, 1389, 2219, 3907, 3343, 1298, 6397, 3614, 3789, 5660, 56, 1165, 254, 1732, 6053], [1677, 2791, 2354, 254, 1499, 3907, 2982, 6397, 3028, 6034, 173, 3328, 4637, 4106, 6397, 3031, 1302, 922], [2849, 7572, 6978, 6089, 1106, 6396, 5481, 5438, 2778, 6260, 3907, 2412, 8056], [2506, 8226, 6785, 2506, 3031, 2112, 6410, 4796, 7560, 2093, 939, 3624, 8716, 6057, 3031, 3755, 5474, 2346, 7386, 6788, 4817], [5778, 8412, 939, 5778, 5722], [492, 3889, 862, 6743, 492, 3889, 2849, 863, 5003, 5474, 1967, 6433, 6397, 56, 2407, 492, 3889, 2849, 2029, 6845, 7626, 4403, 492, 3889, 5003, 1204], [4595, 7737, 3789, 3031, 6089, 3614, 5174, 6361], [2979, 6397, 1566, 7915, 6397, 2849, 3696, 2751, 4950], [7626, 5474, 3164, 6397, 175, 4364, 1427, 6871, 5644, 1415, 2412, 5174, 1732, 3753], [3343, 6113, 2235, 4650, 5644, 7784, 7626, 630, 3343, 5873, 7742, 3907, 6397, 4413, 492, 1515], [173, 7410, 3789, 2382, 3280, 3907, 5419, 8178, 5474, 4382, 3789, 3079, 2412, 254, 2875, 5446, 5660, 939, 3343, 8461, 1729], [939, 1493, 6397, 408, 3343, 6113, 511, 6397, 5419, 2849, 6871, 5644, 3415, 5644, 5174, 8243, 3530, 175, 7742, 4390], [5474, 3967, 3789, 591, 2308, 3614, 5474, 648, 5729, 2132, 3907, 5756, 6397, 8211, 7346, 426, 2849, 5474, 4046], [4319, 3789, 6397, 3614, 8562, 1423, 3343, 7497, 4287, 1182, 5174, 6499, 3614, 6978, 6924, 3343, 1491, 704, 2244, 6397, 3688, 5345], [8577, 4294, 3789, 3389, 2834, 3907, 555, 173, 1273, 2544, 4043, 5299], [3614, 6978, 2258, 2412, 131, 3118], [6305, 630, 492, 7834, 924, 254, 7011, 4204, 8619], [1273, 5729, 6979, 8325, 3425, 3907, 7626, 6836, 6359, 7148, 3599], [7755, 5211, 8412, 3907, 555, 6397, 2849, 175, 6057, 1966, 7844], [2862, 3789, 4398, 7920, 3343, 4079, 1423, 2279, 1475], [7893, 6171, 7004, 3028, 7792, 1966, 7080, 5644, 4685, 2506, 3614, 4613, 3907, 2506, 4861, 6155, 131, 1767, 7313, 6248, 7508, 2662], [5174, 631, 3789, 5896, 2412, 254, 1829, 5658, 111, 641, 5419, 6343, 5778, 5211, 3614, 5474, 5384, 3789, 6978, 3822, 3389, 2348, 3614, 3533], [3620, 8268, 4623, 7834, 5644, 862, 3641, 8619, 6397, 7834, 5644, 5914, 8325, 2412, 2128], [2411, 2849, 1493, 6348, 6293, 1233], [2632, 3907, 1767, 3567, 3789, 531, 2849, 6637, 3804, 3907, 6762, 4536, 3614, 6978, 2431, 1966, 6188, 2244, 8715], [983, 748, 1645, 8319, 983, 2764, 5644, 3070], [5979, 5644, 3907, 5644, 1289, 5474, 3019, 725, 5474, 221, 2254, 3907, 5936, 1389, 3683, 3028, 1162, 7626, 1984], [6112, 8614, 6825, 4012, 4153, 6836, 7154, 2232, 3907, 254, 7774, 3614, 6050], [688, 36, 3641, 8430], [1922, 720, 408, 3614, 6979, 7405], [2849, 6872, 4315, 2849, 4416, 4198, 4409, 2849, 3688, 7985, 8656, 6057, 2447, 6057, 7154, 1767, 7356, 8412], [5778, 3343, 4565, 2738, 5474, 111, 2137, 7047, 1444], [6509, 1524, 2244, 4705, 850, 6949, 6445, 1764, 1715], [173, 6430, 2412, 5174, 4761], [6656, 6397, 6871, 5644, 5667, 7975, 5644, 5474, 4067], [2303, 7795, 5474, 7766], [2279, 1300, 6397, 5174, 6361, 3614, 234, 5644, 4595, 851, 4907, 2915, 6397, 6871, 2751, 1149, 4595, 8546], [8427, 6032, 1674, 3123, 5778, 3343, 3032, 8181, 2754], [1050, 5644, 1767, 6103, 3907, 572, 4705, 1437, 2412, 254, 8003, 3343, 6113, 1942], [5778, 2303, 6397, 8443, 3907, 8097, 2849, 3343, 3085, 1827], [7616, 408, 1273, 1681, 3142, 3116, 1966, 8097, 173, 3999, 1338], [3614, 4705, 3177, 2566, 3789, 8187, 7560, 3683, 2849, 4288, 4431, 5644, 56, 7560, 6006, 1389, 8721, 853], [2849, 7163], [6872, 4364, 8456, 4274, 8501, 1133, 3907, 7900, 6397, 555, 6872, 3105, 3907, 2849, 3343, 1523, 2761, 7190, 5660], [8118, 3343, 8681, 287, 6323, 1349, 2849, 7923, 5729], [6397, 7784, 1202], [6397, 3581, 3614], [2840, 6872, 6638, 6343, 7778, 3757], [4225, 6397, 5644, 8105, 2276, 2279, 2283, 4705, 7655, 2412, 3656, 151, 3907, 2578, 5644, 5174, 2849, 5778, 175, 8161, 5474, 280, 1732], [6952, 4927], [6303, 8461, 6397, 6836, 5801, 1389, 6629, 1389, 2395, 3789, 2150, 5885, 3343, 5153, 4398, 6213, 7163, 735], [6717, 3343, 4855, 56, 6836, 182, 408, 2849, 2800, 6171, 1888, 5174, 6421, 3907, 4382], [540, 2660, 5644, 4398, 7920, 7626, 2829, 6397, 3343, 203, 3789, 6774, 3028, 3655, 2412, 254, 768, 3789, 1334], [4705, 1654, 1389, 5733, 928, 5474, 96, 3789, 1767, 1950, 3907, 8002, 2138, 4705, 1309, 2412, 6351, 3789, 5753], [5698, 6397, 8076, 1434, 2783, 4364, 2766], [6872, 6673, 5940, 3028, 5263, 408, 7029, 6343, 182, 6786, 254, 6389, 2465, 6397, 7834, 5644, 5003, 5102, 2979, 2899], [3614, 8493, 5948, 4907, 7100, 7921, 6872, 2086, 3907, 4637, 492, 3343, 922, 254, 5028, 5644, 5174], [4800, 5467, 5474, 5022, 1389, 3551, 8461, 1368], [6821, 7413, 6397, 4288, 1529, 3899, 3907, 4534, 7626, 2295, 3907, 2412, 6103, 3343, 8382, 140, 2827, 7932, 3028, 5933, 7570, 5293, 6978, 1076], [3343, 6872, 8699, 5644, 1410], [2535, 3614, 254, 1369, 6690, 5481, 1966, 5003, 6679, 6927, 3758, 1560, 6978, 1874, 1258, 1966, 3646, 1892, 7626, 1892], [5474, 459, 3789, 7214, 2412, 5494, 8005, 2412, 7207, 5148, 492, 5182, 2254, 4635], [2849, 492, 5474, 4391, 2469, 7560, 173, 175, 3789, 3065, 2691], [492, 5540, 5247, 863, 4416, 1273, 1732, 2412, 254, 5733, 1423, 3343, 4246, 7784, 1674, 6308, 2910, 2430, 5729, 7214, 3343, 2435, 5520], [7208, 6351, 492, 3343, 6058, 5211, 5929, 3641, 661, 6397, 4705, 6351, 4203, 4705, 8708, 3907, 3343, 4777, 1280], [3341, 2781, 507, 5474, 5547], [254, 8237, 4328, 735, 1580, 254, 1554, 4637, 4705, 3516, 5541], [3176, 492, 5438, 2849, 1360, 2412, 4396], [720, 408, 1273, 175, 1258, 7163, 3670, 1916, 6978, 3515, 2412, 5174, 2879], [3614, 4364, 5432, 5466, 3368, 5524, 7080, 5644, 630, 2849, 4937, 7560, 3031, 5, 2979], [5704, 2046, 3895, 173, 5762, 6978, 10, 2058, 4861, 6853, 1195], [3688, 5733, 939, 370, 492, 6981, 2367, 5644, 2751, 1883, 6397, 1273, 242], [2303, 5174, 1400, 3789, 8173, 2883], [692, 7560, 8350, 5454, 3620, 5722, 7121, 7560, 4853, 2529, 983, 2412, 1756, 6397, 5729, 2849, 2849, 4988], [5474, 5600, 1803, 492, 3318, 56, 6836, 182, 3789, 56, 6836, 582, 6821, 6397, 7297, 254, 8094], [3365, 408, 5243, 2955, 357, 5140, 3907, 7098, 3624, 2707, 2849, 2303, 2927, 939, 3343, 1075, 6327, 3624, 6691, 918, 4214, 4328], [4595, 6351, 6872, 5729, 170, 6397, 1566, 735, 1883, 6397, 6253, 537, 2302, 939, 6637, 6978, 688, 6573], [3343, 5094, 5474, 7915, 6397, 2840, 2979], [1423, 492, 4723, 5474, 7550, 2751, 1301, 3907, 2751, 1301, 3789, 5242, 254, 5583, 3614, 1432, 3907, 2613], [8032, 8486, 5474, 8225, 5050, 1966, 6397, 555, 3259, 62, 7626, 1160, 8225, 7182, 173, 4516, 939, 2244, 2104, 4603], [7728, 2929, 6445], [6188, 2244, 7070, 7560, 4853, 525, 7212, 7111, 2412, 5474, 5335], [4622, 4026, 661, 4026], [2849, 5474, 3614, 1966, 5722], [1273, 8198, 3614, 6397, 893, 6801, 7560, 408, 2412, 1128, 173, 2854, 5742, 3789, 1135, 3907, 4950, 5345, 2244, 5003, 3678, 3614, 3641, 7121], [5239, 3343, 5479, 3907, 1014, 5174, 3284], [3343, 8486, 1207, 1234, 862, 2412, 254, 351, 14, 2244, 6397, 8501, 56, 7321, 1389, 1230, 6728, 8100, 6073], [3389, 3154, 3614, 4364, 7121, 492, 3201, 6437], [175, 2207, 3789, 8564, 3907, 7163, 2751, 7317], [1038, 6978, 5187, 3741, 3789, 1013, 2412, 7630, 3907, 7817, 8563, 1273, 6765, 6873], [2412, 5474, 2823, 3789, 6836, 3990], [7884, 5174, 4761, 6171, 5405, 5039], [408, 3789, 2244, 408, 3343, 689, 5644, 8622, 1434, 254, 3280, 8430, 5729], [175, 3905, 400], [1765, 5644, 173, 5644, 5174, 8708, 8702, 4287, 6872, 3641, 5920, 939, 5211, 1207, 4652], [408, 3343, 1273, 1512, 4559, 4364, 6573], [5644, 5174, 137, 492, 3343, 6362, 6397, 7297, 2646, 3907, 6358, 5644, 2751, 1386, 983], [2849, 6656, 555, 720, 7037, 408, 6323, 4853, 3065], [7560, 8211, 3389, 4975, 7080, 5644, 123, 6252, 2849, 6171, 6535, 5644, 2751, 3826, 6785, 6836, 109], [3343, 6576, 4626, 3789, 6978, 5, 1966, 254, 351, 5778, 6057, 555, 3343, 889, 2849, 3343, 7460, 254, 5670], [2815, 6129, 1566, 6978, 3585, 6397, 7299, 3789, 7465, 5644, 3188, 2412, 7202, 3789, 1463, 7154, 749, 4396, 5318, 3789, 5821, 5644, 5211, 242, 5419, 7448, 3028, 4700], [173, 3889, 2244, 408, 2849, 173, 1227, 6397, 745, 3343, 6319, 296, 4608], [2092, 3907, 2849, 5003, 7331, 6978, 6114], [2334, 3031, 5309, 6397, 408, 4853, 4888, 1662, 7626, 254, 5267, 5442], [2244, 1434, 3343, 1491, 5679, 6059, 1401], [5419, 4838, 7446, 5474, 5022, 1389, 208, 5474, 7208, 1816, 2922, 231, 3907, 1491], [492, 3343, 6919, 5644, 3415, 6836, 5801, 5729, 6397, 5474, 6058, 408, 7410, 7626, 5174, 658, 4769], [630, 2849, 555, 8178, 2219, 2008, 182, 5467], [3343, 7834, 5644, 4756, 1195, 408, 7410, 3641, 4534], [1129, 3028, 6034, 7413, 6022, 5644, 6103, 3482, 7817, 6082, 5524, 8412], [2303, 6397, 3343, 75], [1585, 3028, 8345, 5474, 5035, 179, 1522], [3688, 1915], [1566, 2374, 3789, 1750, 3389, 208, 2412, 1756, 6656, 6397, 688, 6509, 3641, 8619], [2849, 2303, 8402], [408, 1779, 648, 2849, 1566, 4287, 2138, 7317], [1273, 6397, 8066, 4980, 3614, 254, 921, 3789, 6836, 4925], [5166, 8619, 5166, 8294, 5166, 5174, 6598, 5166, 7982], [2303, 6679, 6669, 1389, 7034], [7560, 6397, 2849, 5973, 7242, 2465, 4220, 5729, 5854, 6397, 492, 3343, 5211, 6330, 7626, 5211, 2308], [8097, 7487, 3907, 555, 1129, 408, 555, 4390, 1434, 254, 208], [2412, 1756, 5856, 3343, 4219, 5644, 3441, 6717], [6872, 6675, 3789, 400], [2849, 7163, 5729, 543, 2226, 6845], [6872, 3641, 5920, 6397, 175, 1301, 3789, 8214, 8708, 3789, 7784, 408, 5644, 1674, 3656, 2059, 3758], [1020, 208, 4165, 3999, 2849, 1694, 8430, 3907, 8379, 6397, 1566, 7915, 6397, 408, 8251, 241, 1434, 254, 2171, 6397, 3031, 2895, 173, 4516], [5211, 4364, 84, 296, 5929], [6872, 7886, 254, 7519, 3551, 3789, 765, 7626, 4705, 8708, 3907, 175], [6602, 6397, 4403, 835, 254, 1614, 3907, 254, 7524, 3789, 5474, 684, 3907, 6873, 4488], [5778, 4536, 6770], [5419, 2412, 1765, 1233, 63, 254, 5167, 1389, 889, 2430, 863, 55, 4950, 4896, 2979], [6872, 4134, 175, 6362, 3907, 3343, 6113, 4637, 7599, 8053], [5945, 3343, 491, 4496, 5668, 6836, 2263, 6940, 1779, 1273, 8198, 2979], [2849, 492, 408, 3552, 5211, 8430, 2412, 1756, 4907, 492, 5211, 4471, 254], [173, 3748, 1129, 1273, 5729, 7722, 6397, 6978, 8097, 3789, 3671], [5474, 897, 1422, 6978, 8237, 7699, 6319, 5644, 6836, 8611, 2506, 4637, 2407, 5499, 6183, 3959, 8510], [1165, 6397, 1050, 5644, 5054, 1674, 6581], [4413, 3789, 6397, 4861, 7549, 5644, 6978, 5339, 3789, 7915, 7560, 6371, 1389, 1879, 5474, 1322, 7834, 5644, 3888, 7626, 1674, 5125, 8237], [8101, 5644, 5474, 462, 3789, 6397, 5474, 3800, 2374, 3789, 6397, 492, 3343, 1131, 5474, 2716, 2355, 2412, 5474, 6397, 5166, 3614, 2647, 5644, 6868, 5644, 2242], [6717, 4855, 3028, 2301, 3789, 7740, 2412, 5211, 5692, 3789, 87, 6397, 8101, 5474, 4359], [1423, 3032, 2207, 7504, 5644, 6836, 3789, 6576, 7560, 4873, 1529, 4873, 6200, 4873, 887, 7371], [6872, 3729, 5794, 2412, 254, 4675, 3907, 3732, 2506, 2910, 2508, 5174, 5498, 75, 5211, 4505], [408, 6397, 893, 8555, 2412, 4019, 3907, 3031, 5644, 5753], [3482, 3104, 3769, 2105, 863, 842, 254, 207, 2412, 4700, 3789, 7029, 6397, 4043, 254, 208, 3789, 5419, 56, 7574, 4774, 7742, 5729], [175, 6978, 6581, 5520, 3789, 2816], [6978, 5263, 7321, 3789, 6658], [8175, 2412, 8105, 6222, 492, 4244, 863, 6397, 2751, 7853, 4288, 8050, 6278, 3907, 6637, 3127, 4309, 6391], [5419, 5003, 3088, 2244, 4203, 5003, 3088, 5474, 4403, 5474, 2430, 5003, 3088, 3031, 231, 2889, 6743], [2303, 6397, 1295, 4637, 3924, 4705, 5694], [2235, 3614, 5474, 7811, 6351, 6397, 2849, 1681, 1735, 254, 7436, 6158, 5474, 2289, 6351, 6397, 2849, 1681, 1735, 254, 4541, 2235], [4079, 4391, 6397, 408, 3343, 6637, 5920, 7626, 720, 2849, 492, 2724, 5247, 6397, 56, 7163, 7560, 6633, 492, 3197, 7626, 3624, 4950], [6859, 5644, 1580, 3922, 7560, 817, 4705, 84, 6445, 3153, 6836, 6397, 6718, 1917, 3639, 7968, 5936, 4907, 4571, 5474, 2858, 5644, 2086], [2244, 1803, 2412, 1257, 3907, 788, 2244, 8478], [688, 4565, 3675, 254, 4458, 5644, 6978, 338, 7626, 5856, 1794, 3907, 3789, 688], [491, 254, 3125, 4287, 4853, 3789, 4705, 3164, 1319], [1423, 2791, 2412, 254, 5733, 2412, 254, 4643, 3343, 5658, 7626, 4398, 7920, 5644, 2933, 2387, 4795, 5644, 1434, 254, 6397, 4389, 3907, 136, 7626, 4591, 3733], [807, 7626, 5474, 2101, 5211, 630, 492, 8036], [3343, 6113, 2254, 154, 2280, 5659, 7626, 5174, 1172, 3719, 173, 4516, 3690, 3789, 117, 2091], [4477, 5644, 242, 3789, 7098, 2751, 4950, 6397, 3509, 3614, 3789, 2083], [5521, 3789, 3415, 254, 6397, 6872, 7886, 1131, 2244, 4379, 5663, 8084, 3789, 4379, 782, 6397, 1944, 4043, 6397, 2982, 1674, 6397, 3343, 4214], [1844, 3907, 4580, 2022, 5271, 2412, 5592, 1416, 5474, 5559, 3789, 975, 7326, 3907, 3910, 8045, 3789, 7163], [8140, 3789, 7915, 4478], [1423, 2910, 6289, 5174, 749, 2849, 3343, 2881, 1616, 6978, 4322, 3907, 6580, 8430, 6171, 4326, 5474, 8067, 3907, 6171, 1597, 5474, 5547, 3028, 6301], [2849, 1097, 5729, 154, 6717, 6397, 2784, 3789, 4067, 6397, 3614], [3614, 4705, 5413, 2138, 3389, 5543, 3789, 3614, 4441, 3028, 2844], [492, 4891, 7626, 4043, 2752, 2052, 5644, 6836, 6397, 6980, 2751, 8357, 3044, 254, 208, 2866, 8389, 5474, 3892, 2979, 1140, 37], [555, 863, 5446, 5003, 8575, 939, 2849, 7163, 3415, 4705, 7523, 3789, 3142, 2412, 5474, 5721, 7545, 5345], [4950, 6397, 4416, 6397, 3028, 1818, 2849, 6171, 6749, 5644, 4403, 4264, 4400, 7346], [2039, 8394, 6397, 254, 1038, 2849, 3343, 7497], [5492, 1711, 6112], [507, 8105, 4907], [5326], [6745, 8708], [3907, 4199, 6397, 4055, 3709, 173, 4516, 5174, 609, 8257, 6939, 3789, 1449, 2506, 3688, 7500], [6872, 8259, 3789, 863, 4756, 3907, 2849, 1437, 5722, 5644, 3039], [1085, 5644, 1580, 5786, 6397, 5243, 3865, 939, 50, 6397, 1681, 3116, 2751, 1453, 6397, 3031, 221, 3482, 6800, 1273, 6397, 1351, 173, 7527], [1105, 555, 370, 6836, 4388], [254, 5810, 3789, 2751, 5003, 2849, 1566, 3927, 1262], [3620, 2049, 503, 3031, 717, 3343, 7834, 5644, 8239, 5474, 5547, 5644, 921, 50, 6397, 555, 6872, 3789, 4199], [4853, 2412, 254, 1879, 7356, 1566, 8660, 2008, 3907, 56, 173, 8297], [2849, 1566, 4359, 3482, 87], [6978, 5708, 492, 5014, 254, 8091], [5800, 2849, 683, 7163, 3116, 4705, 8050], [6573, 3031, 5921, 1262, 6057, 1273, 8485], [4516, 5174, 4390, 939, 5174, 8112, 3614, 351, 1520], [1129, 3614, 1262, 4705, 3530, 1410, 6397, 6978, 7539, 6397, 2244, 8112, 7974, 5215, 4211, 3116, 983], [6231, 6872, 4134, 3639, 4416], [2310, 6614, 131, 5474, 2977, 7886, 8596, 3789, 4884, 924, 6845, 3675, 3758], [2725, 298, 3789, 3387, 6821, 2533, 6978, 5028, 4490], [5856, 6397, 4799, 3789, 3790, 2588, 3907, 1349, 254, 2514, 6171, 507, 2395, 5644, 5474, 757, 3907, 386, 3789, 2301, 4652], [5778, 2255, 8259, 6785, 8691, 6137, 154, 7379], [1129, 6978, 1666, 7834, 5644, 1050, 254, 6625, 5644, 5474, 747], [1423, 6978, 6017, 2382, 6978, 5490, 4287, 7276, 6978, 1432, 2412, 6351, 3789, 5904, 6397, 225, 6397, 2709, 5474, 717, 3907, 1273, 6313, 7208, 6351], [8105, 3409, 6960, 254, 2987, 5778, 4714], [2849, 7163, 6617, 1273, 3789, 4556, 6872, 6631], [3907, 408, 56, 7313, 7355, 2751, 7300, 6397, 2849, 7313, 4696, 4907, 410, 6397, 2849, 4009, 1515, 2979, 3027, 3787, 771], [5938, 3907, 6978, 10, 3789, 5347], [5211, 8181], [8610, 5003, 3641, 7359], [6121, 7002, 3789, 2849, 2995, 2922, 863, 5474, 6770, 3907, 254, 7776, 3789, 5174, 4761], [7313, 2642, 5644, 4713, 5227, 7626, 2751, 2597, 3907, 4219], [7410, 575, 6397, 3688, 5474, 1967, 5729, 5362, 1389, 174], [1434, 1273, 2827, 507, 1195, 8702, 408, 3389, 4204, 5211, 4487, 2849, 2303, 5402, 254, 4204, 6397, 6058], [2303, 2138, 5778, 254, 872, 3789, 6825], [254, 1585, 3789, 1948, 3343, 8461, 131, 5474, 658, 173, 6871, 5644, 5940, 863], [6397, 5920, 4761, 175], [2382, 7742, 6397, 2849, 3343, 1491, 2234], [863, 7837, 5481, 8430, 1423, 5728, 5644, 5474, 3267], [5644, 6836, 5731, 3343, 6836, 7460, 5345, 7560, 7984, 254, 8020, 3789, 6228], [5644, 2066, 7098, 2751, 257, 3907, 7610, 5109, 3907, 3164], [5160, 3164], [408, 3614, 6778, 2849, 683, 6603], [1779, 5644, 5211, 3224, 5644, 5299], [688, 847, 6397, 5644, 6836, 7910, 2849, 2279, 6601, 6836, 7335, 2979], [6484, 2849, 2849, 3343, 2265], [8273, 3679, 5833, 3789, 6348, 3747, 7410, 6066, 2244, 1273, 3789, 5474, 8456, 3039, 3907, 3945], [5474, 2355, 7297], [7560, 1423, 864, 5778, 2849, 6765, 5722, 2827, 7705, 4043, 7837, 2412, 5481, 3789, 6183, 7923, 5410, 2396], [983, 947, 7961], [5758, 3789, 2906], [3624, 1883, 6397, 1542, 5474, 2355, 3907, 5644, 87, 2849, 1566, 4207, 6397, 330, 5474, 4038, 2849, 5474, 1566], [6397, 492, 2382, 1966, 6397, 492, 173, 8228, 7284, 1479, 2412, 5248, 2819], [939, 4106, 5729, 5962, 7163, 3116, 3127, 4783, 3620], [5778, 4565, 1094, 1273, 6353, 6397, 492, 1274, 8390, 2244, 2815], [2812, 6773, 1355, 6149], [745, 7410, 5295, 2412, 254, 346, 3789, 3031, 4007], [6656, 6397, 6120, 5474, 2567, 5474, 511, 3614, 5729, 1607], [3031, 3343, 3387, 8691, 658, 6821, 254, 7519, 208, 6397, 173, 7055], [2849, 2922, 5694, 1273, 6431, 2412, 1756, 6543], [5964, 182, 1966, 2650, 7214, 3907, 5206, 6978, 4204, 1966, 6448, 3789, 1387, 6397, 5211, 3699, 3641, 7405], [5474, 653, 3907, 254, 8032, 3789, 3415, 5644, 3031, 5588, 5521, 2412, 6348, 5684, 2731, 2849, 492, 1273, 2011, 5644, 4403], [5782, 2412, 254, 5, 3614, 8378, 939, 4413, 2849, 7163, 6057, 1050, 3028, 3097, 1358, 435, 2955, 1444], [6978, 8532, 6573, 3614, 1273, 6397, 6113], [6397, 1729, 2138, 5644, 2070, 7560, 4246, 5474, 2731], [863, 3343, 2283, 6978, 3009, 6397, 254, 431, 8165, 2457, 6397, 2279, 665, 3907, 6864, 5979, 555, 847, 6397, 2849, 5708, 752], [5216, 1624, 7560, 131, 5474, 4761, 254, 6092, 3789, 6326, 5778, 6058, 7626, 8056, 3789, 5248, 6645, 3907, 7626, 6640, 8600, 3753], [7842, 6397, 208, 254, 3789, 5419, 4364, 4796, 939, 1434, 4777, 1915, 1349, 2412, 3583, 5644, 400], [2812, 2789, 2244, 2604, 921, 3406, 7626, 7742, 4214], [7410, 7886, 3802, 4539, 7560, 194, 5644, 1175, 3907, 1414, 5644, 5494, 3907, 5825, 2977, 5519, 5644, 5474, 1559, 3789, 8199], [2430, 2849, 507, 5722, 6397, 3415, 7626, 1273, 3789, 7085, 492, 3067, 4486, 6397, 2849, 2767, 6980, 3614, 254, 426, 5306, 3028, 6873], [6397, 4134, 5211, 3389, 8704], [254, 2465, 2849, 5778, 3343, 8223, 4065, 6528, 5174, 8456], [8097, 3614, 7487, 3907, 175, 6397, 455, 4516, 5174, 4761], [254, 8097, 492, 6058, 254, 4652, 7626, 1996, 5778, 2910, 1991, 1674, 5487, 3343, 8486, 3789, 1764, 3907, 8658, 3065], [1566, 8473, 2506, 3870, 3108, 7626, 6978, 2849, 6269, 1966, 7915, 7825, 3028, 4106, 2506, 8055, 7626, 5474, 820, 2500, 1729, 7051], [3065, 7413, 5936, 2244, 3070, 5644, 5474, 8590, 2412, 5474, 8097, 3239, 2412, 254, 2879, 1215, 5644, 16, 2751, 5478, 7892, 8188, 1389, 2761], [2849, 2279, 7497, 6397, 2849, 2279, 2714, 5644, 7784, 2508, 2173, 6397, 5211, 8430, 939, 1104, 6397, 254, 4106, 4710, 6397, 3031, 483, 4523, 983, 1207, 6495], [8087, 2871, 5503, 3789, 5727, 3789, 4101, 658], [103, 1966, 6397, 6845, 3789, 6248, 7508, 408, 7626, 7080, 5733, 2849, 2346], [4388, 1805, 6183, 5313, 2412, 5174, 979, 1767, 231, 1434], [3343, 5008, 3415, 6348, 2358, 7951, 648, 7560, 254, 3789, 6836, 4812, 1674, 2922, 4364, 7121], [1566, 4705, 8223, 6397, 6391, 7098, 4398, 4009, 3907, 2849, 3343, 4195, 6397, 7077, 3343, 4910, 56, 6836, 182, 2412, 7921, 5644, 3415, 408, 1910, 4705, 1746], [4214, 1148, 6397, 6629, 2849, 1566, 1953, 5167, 2129, 5644, 720, 5778, 1360, 555, 6737, 408, 3343, 4416, 3158, 5778, 3031, 8251, 1541], [555, 2849, 492, 6397, 6171, 4861, 7590, 6397, 5474, 6531, 5542], [3028, 4646, 6397, 6871, 3343, 6872, 7994, 2412, 4705, 1694, 1967, 6112, 3907, 5309], [5990, 2438, 6171, 603, 5474, 3776, 5778, 1732, 1581, 7495, 4671, 6836], [254, 2394, 3614, 254, 3551, 6034, 3789, 4705, 256, 5729, 8626, 5524, 470, 2849, 492, 1473, 129, 5644, 7784, 6397, 2849, 3389, 6743, 3907, 5778], [1273, 3645, 3641, 3673, 6821, 5416, 6397, 7626, 6836, 582, 7313, 7290, 4471, 4237, 1966, 4108, 3789, 5003, 673, 2979, 2813], [5520, 1273, 2465, 3789, 8177, 2244, 6598, 4950], [5778, 175, 7742, 400, 131, 3907, 2849, 7951, 2590, 8097, 3614, 7487, 6397, 839, 3620, 3259, 2786, 548, 1444], [5419, 2412, 4391, 8598, 1529, 4796], [3758, 1529, 5090, 2412, 5474, 1706, 1966, 8725, 6183], [3789, 3773, 6397, 408, 939, 3614, 1195, 5206, 7545, 5474, 3800, 6402, 3614, 6397, 492, 3343, 4079, 254, 3092], [1537, 996, 6397, 334, 5211, 1655, 6323, 939, 2849, 2412, 8064, 5211, 8635, 6323, 3907, 5778], [2849, 3343, 6801, 4403, 5520, 3932, 983], [6949, 5358, 5474, 8451, 7626, 3019, 4907, 2849], [2849, 7163, 3789, 5474, 511, 6397, 4067, 1434], [3620, 7483], [5174, 7371, 492, 8138, 3907, 2849, 3343, 4220, 5722, 3907, 1423, 492, 4965, 3343, 591, 555, 3907, 3789, 8026, 2849, 3343, 4220, 6978, 4248], [7837, 3907, 4316, 5644, 4706, 4183, 5211, 2108, 8619, 4236, 1460], [7020, 6397, 3343, 4606, 5644, 4756, 8055, 6397, 492, 7662, 7626, 254, 6112], [3688, 5729, 7092, 5920, 6397, 4523], [7368, 2849, 7163, 1603, 7208, 7844, 6397, 2849, 3924, 6978, 3978, 4287, 2849, 6872, 2367], [5659, 7626, 254, 400], [1423, 2285, 5474, 1803, 6871, 5644, 3116], [5419, 5003, 5329, 6397, 5474, 7915, 3789, 5174, 2301, 3343, 6022, 5644, 7080, 2412, 254, 3684, 3907, 6391, 6397, 6924, 3907, 6397, 8610], [2751, 5577, 7163, 2751, 2506, 7568], [6872, 1925, 254, 1732, 6867, 154, 5474, 4495, 921, 3907, 4604, 3732, 3031, 14, 3706], [6397, 6743, 6397, 3343, 2335, 5345, 6397, 6743, 6397, 2849, 3343, 7572, 1873, 2235, 2355], [2840, 2791, 2412, 254, 2743, 3789, 5174, 6103, 1358, 3907, 254, 7754, 3789, 5174, 2445, 492, 7412, 4637], [2849, 7313, 3869, 8338, 56, 3700, 254, 5698, 5644, 2751, 8658, 5644, 5334, 6960, 7402, 4652], [540, 2412, 6103, 1966, 521, 3789, 2739, 3396, 983], [5644, 939, 6397, 8076, 6397, 8555, 254, 7502], [3343, 6113, 4734, 4214, 6397, 8695, 3031, 747, 1389, 5624, 939, 5778, 5243, 1262, 1967], [7560, 6397, 8492, 3614, 1966, 5474, 7915, 8619, 3266, 254, 1673, 3614, 1966, 7915, 6112, 5118, 8402, 3907, 2693, 7560, 555], [7327, 131, 5474, 2445, 3343, 1207, 6965, 2751, 155, 2910, 6978, 5911, 5520], [6872, 8412], [4208, 3924, 254, 5325, 2341], [1079, 2412, 1756, 2849, 4738, 3614, 7560, 5474, 7519, 4950, 3789, 5474, 2506, 173, 1809, 1423, 4273, 5644, 5474, 3798], [5778, 492, 6397, 6872, 3027, 2412, 7532, 939, 3614, 5474, 6361, 2849, 3688, 555, 3614, 5474, 6361], [6397, 6725, 7844, 4861, 1917, 1994], [3907, 4889, 4379, 4950, 3907, 492, 8272, 2244, 1860], [4400, 4705, 3098, 3789, 3598, 7626, 7824, 2412, 8114, 1758, 3172, 1258], [3343, 3023, 3415, 5644, 5174, 5602, 857, 3907, 6397, 893, 1515, 259, 5556, 2751, 4950, 3343, 3023, 3415, 1767, 1794, 3907, 7560, 6171, 3007, 6183, 6876], [3343, 6436, 3079, 983, 3614, 7560, 408, 4595, 8584, 921, 3789, 4203, 6171, 8334, 5729, 5039, 5644, 5174, 4761], [3343, 7333, 4523, 6900, 3620], [1129, 5722, 4993, 289, 1207, 5002, 2412, 254, 5267, 3907, 540, 1909, 590, 1349, 4416, 5938, 1966, 862, 4487], [5419, 5174, 7371, 3343, 1298, 6397, 5211, 8181, 4287, 525, 2849, 175, 2829], [6872, 3641, 1234, 7626, 254, 3724, 3789, 5432, 1198, 6989, 6397, 5778, 3343, 6113, 4705, 5236], [2382, 4379, 182, 2849, 3032, 6057, 8493, 3789, 6397, 2910, 4965, 3907, 5419, 6872, 1655, 4287, 4637, 1566, 7284, 8084, 3789, 4067], [5474, 8177, 1389, 4670, 8294], [3907, 7626, 3389, 1249, 3269, 2927, 5644, 4427, 4837, 6018, 7319, 5962, 6714, 8265], [3614, 6577, 4907, 7068, 3789, 598, 8562, 3814, 5937], [6397, 7784, 6113, 119], [5174, 2829, 928, 4705, 96, 6323, 8545, 5644, 4814, 3907, 2840, 5474, 5762, 5474, 6445, 842, 5520], [5788, 3907, 4094, 3907], [2204, 4637, 7163, 1449, 6859, 863, 8181, 3789, 3691, 2040], [2791, 1772, 254, 400, 3907, 5644, 7784, 6171, 5211, 1280, 5474, 5035, 1389, 1804, 8610, 5174, 947], [5644, 5174, 3343, 8382, 8619, 208, 3907, 2849, 4331, 4287, 6397, 3932, 5003, 6062, 2465], [3688, 3789, 5474, 5559, 3789, 2591, 1020, 3907, 3343, 6113, 1732, 7033, 7626, 3389, 8121], [1349, 408, 5318, 7829], [7636, 6785, 1723], [1124, 8112], [555, 3, 3789, 7227, 1349], [4287, 1976, 2583, 7626, 8185, 5644, 242, 3789, 2751, 2277, 408, 5722, 1176, 4907, 8484], [4398, 6679, 863, 6718, 4393, 6397, 1566, 1195, 829, 3771, 3907, 555, 5474, 4391, 3343, 6113, 6066], [3028, 3030, 2849, 5729, 5778, 3343, 3962, 556, 4705, 8442, 2412, 5474, 5674], [351, 1423, 2910, 4202, 6171, 6278, 254, 5005, 3153, 5474, 1546, 5644, 5174, 5572, 2508, 3343, 4565, 8430, 7626, 893, 4043, 254, 208, 6785, 5419, 2849, 8251, 2506, 6509, 555], [2857, 3789, 5005, 3907, 2849, 3343, 7570, 6448, 5644, 7921, 3789, 2862, 2374, 6872, 4505, 6581, 2412, 254, 5028], [4208, 3907, 7163, 2751, 834, 3789, 5474, 5936], [6397, 8055, 5596], [6836, 7764, 7163, 5543, 8226, 2849, 296, 749, 3614, 8562, 3614, 4364, 420, 5474, 5729, 7226, 688, 3343, 983, 7626, 893, 3907, 7626, 296, 492, 42], [3343, 2334, 8619, 208, 3907, 3343, 1273, 1207, 5228, 6492, 7163, 6836, 3789, 5050, 3907, 492, 2024], [2307, 2764, 6978, 8596, 3789, 2395, 939, 2395, 3789, 4391, 5834, 5524, 2395, 2235, 5389], [6614, 6978, 4204, 6624, 5474, 1067, 2849, 492, 173, 3201, 5722, 3809, 5474, 3425, 909, 3031, 5243, 5529, 4907, 6397, 2789, 6397, 408, 3907, 2244, 720, 5003, 2644], [3573, 7626, 5805, 3614, 254, 7436, 5729, 287, 1389, 3301, 254, 1923, 6171, 7834, 4781, 5345, 6827, 3318, 4364, 4487], [7481, 2506, 5479, 3789, 4067], [7313, 5762, 4364, 2424, 6872, 4364, 6939, 3789, 4203, 939, 2244, 1434], [1674, 3571, 3856, 8555, 5644, 4654], [1931, 582, 5778, 2849, 1273, 7163, 6617], [5778, 3343, 491, 5405], [7352, 3907, 7560, 2849, 7171, 408, 3343, 2382, 1805, 4364, 5733, 3789, 5211, 8478, 6397, 5251, 8055, 7917, 2254], [555, 863, 6872, 3471, 3343, 8566, 5035, 7546], [2849, 492, 4477], [3990, 7413, 5190, 6978, 2834, 7626, 6183, 6745, 3907, 7020, 6397, 2751, 187, 7676, 2412, 6183, 6745, 749, 207, 1389, 2834, 10, 2244, 254, 7784], [6397, 4134, 6057, 492, 1966, 6397, 175, 1213], [7937, 3031, 408, 2506, 5062, 6924], [434, 5474, 3789, 6476], [173, 6113, 2412, 8444, 8389, 3343, 4394, 4505, 3907, 1489, 1489, 6397, 5419, 5023], [6397, 7844, 2849, 7163, 62], [5474, 6210, 3789, 1883, 2506, 548, 921, 3789, 5174, 4761, 3907, 492, 6636, 2506, 4965, 6872, 3789, 2751, 2506, 175, 2380, 7984, 5722, 5729], [5474, 1572, 3907, 254, 6786, 2849, 6753, 591, 1423, 5186, 1273, 6457, 5474, 1572, 1176, 862, 5644, 3031, 6910, 6365, 4637, 1423, 5474, 7331], [3591, 3614, 1452, 837, 939, 5474, 4516, 3719], [2279, 2011, 3164, 7626, 1295, 2277], [3999, 6397, 7626, 1295, 2971, 8042, 7989, 593, 6930, 1906], [3804, 5948, 254, 7282, 3789, 849, 2434, 6638, 2412, 2751, 2332], [3907, 3031, 5644, 5174], [2849, 1566, 1729, 3789, 708], [3758, 8274], [728, 6677, 3343, 780, 3753], [3784, 2412, 3436, 2849, 1566, 5722, 5729, 1448, 6397, 5174, 7371, 7626, 2607], [650, 6343, 4471, 6978, 8657, 1047, 254, 5182, 3344, 2412, 6836, 7573, 3907, 1181, 5174, 5733, 1349, 1273, 6215, 1434, 2979], [863, 6872, 4523, 3614, 5174, 8268, 5174, 4339], [5419, 6509, 5644, 2751, 2235, 3789, 4337, 3907, 3343, 3284, 5474, 6437, 939, 5474, 4391, 408, 2791, 2766, 6747], [408, 1566, 1966, 56, 1423, 3343, 8272, 408, 408, 6872, 1632, 6901, 939, 2827, 3688, 6586], [4973, 5836, 469, 3164, 408, 1301, 3343, 6319, 8339, 8385, 4498], [6397, 4403, 2412, 1756, 1423, 8055, 2751, 4950, 2244, 8624, 3907, 2849, 4287, 2279, 7587], [3343, 6113, 4950, 6397, 492, 4059, 5345, 1674, 208, 6871, 8325, 1434, 254, 208, 4623], [6397, 4077, 4650, 2899, 2621, 939, 7095, 7131, 7742, 5729], [635, 635, 2307, 5778, 5411, 6836, 6029, 1966, 3389, 1624, 3789, 2977, 3116, 254, 1585, 6728, 2849, 3343, 5552, 254, 5279, 3138, 2826, 3749], [8145, 1012, 3032, 1301, 3789, 488, 7337, 4033], [408, 2849, 3343, 6325, 5167, 2506, 8089, 2506, 5014], [5778, 6872, 2587, 1966, 3415, 254, 5167, 1864, 939, 6871, 5644, 873, 8339, 7048, 2244, 5174, 5498, 4287, 745, 175], [1566, 1580, 2506, 3343, 2724, 1301, 3789, 3182, 6978, 1149, 3789, 1273, 4251, 2506, 3688], [587, 492, 8545, 1349, 492, 7834, 5644, 1827, 5644, 2751, 7284, 3789, 5474, 8097], [1966, 7671, 6728, 2849, 3924, 1844], [6580, 1358, 2412, 254, 1879], [6397, 8598, 5211, 1731, 4287, 2849, 6871, 5644, 3790, 62], [297, 7784, 6397, 3343, 3696, 1916, 8467, 2849, 1165, 1259, 725, 5456], [8097, 3614, 7487, 3907, 2244, 5788, 1648, 7191, 6872, 6743], [2849, 1566, 5722, 1262, 6397, 492, 1479, 3789, 1767, 4772, 5524, 1050, 4043, 3031, 6103, 4637, 1966, 8417, 3031, 1491], [4214, 1891, 735, 939, 2244, 5899, 5659], [6397, 2355], [983, 3789, 5722], [16, 5644, 6328, 3789, 1350, 3614, 1273, 5729, 3673, 3789, 3389, 174, 1933, 2979], [5587, 3789, 703], [1448, 5618, 595, 2506, 2849, 492, 3343, 7834], [3343, 4638], [6717, 2412, 1756, 8610, 5644, 5474, 1812], [3614, 6397, 1295, 3614, 7742, 5778, 5607, 7282, 2244, 720, 6576, 1295, 5543, 3789, 4950], [1360, 6157, 5644, 2138, 5983, 5174, 4761, 2910, 5729, 3027], [5241, 720, 7457, 902], [1959, 1960, 2827, 254, 2290], [1758, 3688, 3865, 939, 1423, 175, 69, 3343, 2864, 3719], [175, 4705, 5039, 566], [2150, 8456, 1148, 6397, 3343, 5487], [939, 2244, 5190, 2676, 3789, 8673, 1389, 3433, 3020, 6002, 1966, 254, 3615, 1389, 3433, 2979, 1680], [173, 4516, 1002, 983], [8097, 175, 6397, 2995, 3706, 5264, 5140, 8506, 3614, 5413, 3620, 3789, 6406, 3706], [5419, 3343, 7012, 3343, 1252, 2244, 8112, 4026, 6978, 3940, 3581, 3758], [6901, 7117, 3343, 4147, 3789, 1047, 2374, 3706, 3614, 6397, 3614, 3641, 2783, 3641, 6433, 3641, 5955, 3641, 6717, 1389, 8307, 3641, 1950, 1293, 3641, 7308], [1358, 7064, 3614, 3641, 2731, 7560, 254, 1624, 1389, 174, 7590], [3420, 5003, 8198, 3420, 5003, 1262, 3420, 3028, 1624, 863, 3420], [7432, 1966, 5174], [6113, 6397, 2214, 5174, 1653, 5644, 2150, 3301, 4907, 1195, 2508, 3343, 1925, 7560, 3482, 1883], [5419, 1131, 3843, 3482, 6816, 7560, 242, 3907, 5248, 3907, 2412, 1756, 6397, 3343, 6113, 5729, 6840, 2849, 161, 5740], [5778, 492, 3343, 4714, 5474, 1729], [2849, 1566, 4950, 6397, 3343, 6433, 5729, 254, 208, 6397, 1050, 4482, 3907, 3415, 6978, 5356, 2412, 5474, 7430, 351, 4019, 3097, 7626, 254, 6967], [8610, 254, 208, 1389, 6062, 4287, 7599, 2244, 5474, 7915, 6397, 2849, 507, 5174, 3164, 3907, 507, 7915, 3028, 2119, 2046, 4907, 6397, 2849, 507, 5644, 4403, 3907, 492, 1273, 5622], [3343, 3223, 2041, 939, 2849, 5856, 7560, 1360, 408, 1273, 4056, 1966, 7766, 863, 3907, 1423, 2849, 3911, 1273, 1732, 1389, 3769, 4749], [6157, 5644, 296, 1874, 2430, 5174, 3800, 653, 2910, 5778, 862, 2412, 5174, 8067, 1966, 3415, 6836, 316], [8271, 3789, 862, 3326, 2849, 7886, 4398, 2328, 3789, 2382, 4379, 582, 4043, 4838, 3789, 5474, 231, 7, 7, 7519], [6430, 3079, 2412, 7470], [7084, 1729, 254, 2761, 5211, 8282, 6397, 3614, 6388], [3907, 745, 7410, 5295, 2412, 254, 346, 3789, 3031, 4007, 173, 1273, 1471, 6397, 408, 2849, 1273, 163, 2849, 1366, 3907, 408, 2150, 208, 6206], [1273, 8198, 6397, 56, 6836, 6397, 2915, 3249, 1674, 1249, 2915, 7559, 7037, 3789, 1268], [6171, 5211, 6894, 5160, 1729, 5388, 4287, 5638, 6397, 2849, 1273, 3696, 4950, 6397, 6836, 2826, 2849, 8055, 745, 7571, 4274, 4379, 7163, 230], [2382, 8339, 582, 6730, 6744, 6397, 254, 484, 2910, 4705, 8056, 3789, 6445, 3907, 3789, 2367], [6397, 3814, 6924, 2578, 5630, 6397, 8661, 5644, 4400, 3028, 2480, 2786, 4287, 2849, 75, 2412, 1767, 413, 6103, 492, 1369, 5729, 7327, 8531, 4907, 6397], [3688, 4487, 3814, 2406, 7449, 2849], [4151, 1966, 4273, 4571, 3502, 7828, 3907, 492, 3755, 8147, 254, 7502, 131, 5474, 3224], [6978, 8715, 3343, 1917, 5644, 2146, 7626, 6348, 8365, 4705, 8120, 5948, 3614, 1966, 4705, 1771, 6453, 492, 5014, 5174, 5588], [1966, 4287, 5419, 3343, 2362, 4705, 96, 6397, 1911, 6397, 2910, 4705, 5898], [8339, 2160, 4092, 5722, 5729, 2412, 296, 6919, 3789, 3280, 5729, 6763, 3789, 4476, 729, 1767, 5722, 5729, 3753], [36, 1434, 254, 208, 5542, 3907, 3343, 8319, 7742, 1434, 3889, 6872, 1234, 3907, 3032, 6397, 3116, 1195], [1295, 1273, 5003, 1258, 131, 5174, 4761, 3028, 1624, 7784, 3696], [2412, 8660, 7029, 732, 7916, 7626, 29, 2888, 3789, 2138, 5455, 3907, 862, 4534, 2412, 6598, 5, 3682, 1434, 1273, 6113], [3683, 163, 2849, 3343, 96, 6186, 2244, 8715], [2244, 8715, 924, 4263, 7626, 5211, 8428, 6397, 2246, 4761], [8199, 2849, 7163, 3688, 4364, 1338], [6963, 173, 5474, 607, 4043, 2244, 2751, 1851, 347, 3690, 3789, 6573, 4977, 3789, 413], [2554, 7359, 2342, 2244, 2751, 7070, 7849, 2244, 254, 5729, 287, 5770, 2849, 6171, 6496, 2412, 1273, 2224, 4637, 492, 6484, 2244, 3699, 6051], [4996, 717, 2424, 1273, 2880], [789], [3614, 3673, 720, 3789, 2849, 115, 2211, 2244, 1273, 8483, 3505], [6872, 6782, 8412, 7626, 1273, 6397, 3343, 6027, 3789, 1449, 3389, 6289], [5624, 175, 1694, 3164, 2412, 254, 8596, 863], [5264, 1207, 6743, 3343, 1523], [4657, 4150, 4219, 5644, 3415, 8348, 2235], [6656, 6397, 254, 8198, 2093, 6397, 3343, 6718, 3773, 3614, 5330, 2849, 4287, 7459, 3924, 6978, 2093, 3614, 6397, 1273, 4776, 3641, 2254, 3907, 3789, 4714, 7626, 5856, 8610], [6978, 208, 3789, 5592, 3343, 3705, 3789, 5474, 3019], [2244, 6397, 6345, 3343, 5100, 3641, 4534, 2849, 492, 1149, 3343, 6871, 5644, 245, 408], [3905, 6978, 1257, 4033, 2412, 254, 5028], [6509, 5644, 6051, 695, 2849, 1566, 5722, 6351, 296, 6919, 6397, 3528, 254, 4487, 824, 2254, 5174, 8478, 492, 2984, 3490, 3907, 2849, 731, 5474, 1336, 397, 6065], [2985, 1976, 2849, 7163, 5909, 296, 7523, 525], [2345, 3797], [1581, 7784, 3474], [3142, 4637, 175, 4705, 6561, 788, 3907, 3343, 5496, 370, 5644, 5174], [4317, 3814, 166, 7657, 173, 1273, 1300, 6397, 2849, 6872, 6991], [2506, 4655, 5644, 2578, 370, 1566, 2506, 6206, 154, 3639], [6171, 7183, 6978, 3365, 3028, 6397, 7487, 5644, 5174, 2048, 7626, 7871, 1295, 2849, 1273, 5442, 4403, 5729, 6397, 6929, 5770, 3343, 8271, 1410, 6978, 10], [6397, 2431, 1579, 263], [7070, 1966, 6870, 5474, 2355, 7560, 7723, 1921], [3907, 667, 7626, 2536, 688, 3907, 3087, 8105, 3087], [5474, 3816, 3789, 5538, 3614, 4364, 241, 4963, 4487, 3907, 2849, 7027, 3614, 3181, 3907, 1537, 1966, 7425, 4043, 1423, 7626, 720, 83], [3688, 3031, 8428, 2367, 6052], [6728, 688, 492, 6864, 5247], [1776, 6397, 862, 4796, 939, 175, 4705, 8160, 5644, 7013], [6836, 2211, 5058, 7093, 5644, 5474, 1967, 1389, 2906, 2431, 6397, 6323, 5474, 2355, 4219, 5474, 4682, 6373, 3482, 2164], [8231, 5778, 1273, 2023, 4637, 2849, 2881, 7145], [5481, 7457, 1760, 6902, 3148, 2244, 6978, 5346], [6397, 1357, 5474, 5948, 1423, 6872, 8513, 4907, 4623], [7784, 4923, 3343, 1298, 2382, 3280, 254, 7214, 7577, 1389, 5003, 1204, 5474, 1420, 1674, 208, 5474, 2265, 7560, 4705, 7785, 3907, 7626, 5874], [5019, 4747, 8501, 6836, 2242, 5174, 4246, 2363, 6836, 2564, 2412, 5474, 2357], [4705, 4894, 8464, 3789, 6436, 7574, 3907, 7915, 5644, 630, 7080, 3482, 5220], [254, 8097, 1758, 2578, 5644, 125, 3907, 5174, 7620, 5211, 2766, 2506, 555, 5853, 408, 2508, 3343, 6871, 4907, 2508, 6171, 330, 1434, 1273, 2506, 3343, 8033, 2430, 5211, 254, 609, 3789, 944], [5419, 3343, 6871, 5167, 5474, 6564, 5644, 1161, 3482, 6274], [4637, 4705, 1336, 492, 481, 5829, 254, 8032, 7626, 254, 1769, 6573, 3789, 8078, 6703, 481, 209, 5174, 609], [3343, 4606, 5644, 5516, 3789, 8112, 3907, 4398, 2463, 939, 2751, 2303, 7626, 2751, 4025, 3907, 492, 3343, 7497], [3154, 8217, 3343, 1793, 7076, 2412, 254, 6021, 2412, 254, 6477, 2412, 1434, 7037, 1423, 7313, 4155, 5644, 4348], [8242, 492, 7457, 7742, 6397, 1432], [6215, 5474, 653, 6981, 939, 3870, 5003, 5729, 4131, 4287, 5160, 7915, 492, 3244, 6351, 5592, 1113], [6792, 939, 2412, 5474, 8067, 1452, 1173], [6397, 2431, 1423, 173, 2110, 5474, 4803, 254, 2011], [1950, 6397, 173, 5003, 1258, 3789, 6845, 7626, 7915, 3789, 7538, 7036, 6057, 5474, 242, 492, 2279, 6113, 1636], [6259, 1655, 1129, 3343, 50, 5644, 5174, 1498, 3804, 6397, 2849, 2971, 2636, 2849, 6068, 6397, 2849, 2971, 4038], [1776, 6397, 325, 6397, 3343, 5211, 5373, 939, 3614, 6397, 6872, 8259, 3789, 325], [6397, 5140, 3343, 1512, 6181, 5419, 5474, 749, 296, 2412, 5474, 2357, 7037], [5274, 1813, 182, 868], [3343, 6436, 1423, 3343, 2714, 1966, 3415, 6397, 492, 5855, 2412, 5174, 2656], [2751, 8339, 1389, 3301, 5787, 8501, 5846, 525, 5644, 2578, 182, 6785, 7051, 397, 3482, 8147], [5174, 8668, 5211, 8259], [492, 3343, 8376, 254, 8687, 3894, 8412], [555, 4637, 5003, 7284, 5644, 5644, 7539, 1389, 5950, 5644, 60, 5644, 4705, 8708, 5644, 4705, 6131, 3789, 6920, 3907, 5644, 3415, 5644, 7371, 5664, 4287, 947], [7330, 492, 2382, 254, 7033, 939, 555, 492, 6397, 6978, 1168, 3343, 194], [3343, 2911, 4705, 1572, 1423, 3789, 4398, 7359, 4637, 3721, 8716, 173, 2303], [1273, 2889], [3343, 2382, 7337, 939, 1273, 2303, 4106], [254, 7043, 3789, 5447, 1273, 5250, 7560, 1767, 3945, 5419, 7111, 7059, 4403, 1729, 8427], [6445, 3153, 3031, 2672, 2244, 7354, 131, 5474, 4562, 3116, 6397, 6558, 6978, 7539, 3789, 6978, 3875, 5617, 1245, 5211, 5394], [7163, 3343, 1155, 5644, 2431, 7784, 8251, 4287, 6836, 4161, 3789, 5474, 1012, 8501, 1202, 3907, 8105, 5888], [3343, 5727, 5481, 2412, 5474, 5815, 3907, 1349, 3343, 5160, 3028, 8492], [757, 7191, 507, 5174, 4246, 2849, 56, 8501, 5188], [5474, 1262, 7214, 3614, 5474, 6397, 2920, 254, 8049, 2412, 7726], [3150, 2407, 7764, 5644, 5474, 5907, 735, 3789, 7740, 7048, 254, 5520, 7389, 6397, 98, 7951, 2491, 3789], [5183, 7163, 6836, 5421, 6836, 4516, 2244, 863], [7626, 4214], [6978, 3181, 2244, 3624, 1883, 6397, 5644, 242, 3789, 862, 463, 863, 5058, 5474, 2374, 3789, 8329, 4705, 1572], [4705, 6351, 2899, 7626, 6978, 5543, 1529, 1635, 1020, 3371, 3640, 3907, 6437, 3907, 1129, 4656, 5174, 8668, 2784, 2158, 5644, 1767, 6062, 6594], [3614, 2368, 6397, 8717, 6183, 8473, 2412, 6351, 3789, 2190, 5644, 5474, 5482, 1966, 5499, 5474, 4684, 2979], [6397, 2314, 3789, 5174, 3482, 2578, 2008, 3620, 863, 3343, 2865, 3789, 4108, 2412, 7495, 5644, 5474, 7915, 6397, 1109, 3343, 5008], [3343, 400, 6430, 4504, 2412, 5125, 3907, 2849, 1273, 4416, 4287, 2849, 2303, 4287, 6872, 4796, 3789, 2751, 8716, 3907, 5729, 525, 1389, 8032, 3789, 4529], [492, 6851, 5474, 4079], [6303, 3343, 6675, 3789, 6978, 4197, 2244, 6183, 7359, 939, 1273, 2982, 4705, 1358, 6722, 6872, 4505, 6164, 6397, 3482, 4203, 5474, 4761, 492, 3343, 6069, 1542, 4348], [8619, 208, 1389, 3494, 4622, 2849, 2849, 175, 2412, 5474, 5559, 5689], [7416, 2244, 8715], [8097, 3482, 2863, 658], [24, 4907, 2849, 4224, 2412, 4705, 352, 8237, 6397, 1423, 5474, 6722, 173, 6499, 939, 3028, 5052, 5474, 837, 173, 7608], [555, 5474, 2703, 7626, 820, 3907, 893, 1273, 4389, 3907, 2849, 996, 5722, 1966, 3790, 2563, 6746, 2412, 5174, 6103, 3612, 3789, 5174, 4382], [2813, 5806, 3688, 3789, 1273, 3789, 3477, 5474, 2731, 2849, 492, 6397, 6113, 6730, 408], [5419, 3343, 2998, 4009, 3789, 4655, 2412, 6978, 2541, 2412, 254, 2465, 2894, 4317, 3907, 2731, 2849, 7163, 862, 5729, 8600, 7626, 6787], [2849, 5318, 3614, 862, 310, 254, 4908, 5524, 7080], [6801, 3789, 87, 3007, 84, 492, 2382, 5474, 1556, 3907, 2849, 6171, 7837, 6112, 6397, 4026, 3907, 1525, 7989, 895, 6978, 4698], [7651, 1389, 3252, 4106, 5983, 6113, 6397, 5419, 2255, 3482, 3164, 5512], [6519, 4853, 4487, 2706, 3471], [3620, 1349, 408, 3343, 3102, 4604], [5592, 514, 8501, 5644, 5211, 242, 2412, 1436, 8428, 4819, 6528, 697, 4262, 1202, 2269, 907], [5474, 4077, 3789, 1449, 492, 1273, 1471], [3343, 6327, 6836, 3135, 939, 408, 5778, 3614, 2290, 5778, 492, 939, 745, 3343, 594], [1051, 175, 5455], [6397, 4655, 2751, 6411, 7163, 2303, 3753, 5345, 492, 6718, 858, 3614, 1767, 4124], [408, 2487, 5186, 3907, 6919, 5729, 3028, 4161, 2849, 3343, 1491, 6603], [2244, 6397, 829, 4379, 2517, 5237, 254, 5729, 4542, 1772, 8356, 6323, 1772, 7317, 6171, 2214, 5644, 1273, 6397, 4503], [2849, 7163, 62, 7208, 6351, 3907, 8097, 175, 2357], [3789, 1295, 6397, 4853, 5644, 2751, 3404, 2412, 5474, 6564, 7560, 131, 1967, 496, 173, 1645, 5474, 5035, 3907, 7760, 2244, 1434, 8162], [6397, 1479, 254, 4908, 2244, 2430, 6983, 6397, 3888, 1567], [6782, 2849, 7356, 5474, 8230, 7713, 8467, 5729, 3789, 6918, 663, 5304], [2334, 3342], [6397, 1915, 555, 1273, 5625], [2068, 3614, 6397, 254, 4364, 3581, 4637, 4937, 2412, 6836, 7076, 4141, 863, 7497, 1195, 7886, 8271, 3717, 4571], [4622, 3907, 492, 3343, 8569, 1434, 1295, 2412, 5474, 5247, 3789, 5174, 7072, 3907, 1423, 5446, 631, 6171, 2688, 5762, 2506, 254, 2688, 3789, 5174, 7072, 2849, 507, 979], [6477, 1273, 6113, 939, 720, 3614, 7121], [8342, 1423, 548, 6836, 8194, 340, 4706, 3723, 3789, 4986, 6836, 6246, 1389, 1387, 4594, 2979], [6978, 2431, 1004, 3789, 403, 5644, 3342, 8619, 208, 7745, 173, 1849], [8587, 5474, 1262, 2244, 1679, 173, 7527, 6978, 5339, 688, 3343, 1993, 2840, 1195, 8076, 4907, 8674, 254, 14], [3907, 1674, 1989, 3641, 5467, 3389, 3789, 5474, 6577, 6397, 3371, 3226], [7410, 8412, 7560, 1779, 5644, 3350, 1972, 6912, 7993, 2849, 1493, 1273, 6397, 8055], [6872, 5733, 3789, 7344, 4504, 5474, 4529, 3153, 5474, 1546], [4364, 1432], [5318, 8121, 2412, 5174, 386, 3614, 2506, 3343, 5658, 4534, 4296, 7871, 5729, 2506, 3342, 3769, 4637, 88, 3343, 2101], [5778, 5762, 6397, 4853, 1207, 6027, 3789, 6362, 4287, 173, 7975, 5474, 6434, 7705], [1152, 5644, 1423, 5174, 7072, 6171, 2258, 5644, 5174, 4246, 254, 5753, 7412], [7060, 1544, 7433, 4705, 8428, 3907, 540, 6872], [6397, 1423, 4853, 6631, 5923, 2849, 492, 173, 1766, 1195, 3641, 1081, 7560, 1449, 6397, 5998, 6872, 3925], [254, 6625, 6349, 7560, 5049, 3907, 2751, 2597, 3789, 8392, 3343, 3723, 1207, 4487, 1207, 3039, 7457, 6397, 175, 6397, 8325, 5345, 1966, 6397, 3343, 4810, 4487], [5174, 1262, 8708, 492, 5167, 4398, 3494, 7626, 6183, 1575, 3907, 6183, 2601, 3343, 1523, 3789, 2119, 3907, 2827, 555, 2815, 7626, 5174, 8178, 6397, 6171, 4416, 6978, 3508, 3907, 492, 7834], [7502, 7201, 7560, 2346, 3473, 7742, 5729, 6397, 6836, 6397, 492, 6253, 8683, 8347, 6577], [112, 6397, 4108, 3789, 6707, 1507, 7239, 254, 208, 3343, 3942, 850, 5158, 5256, 3907, 5729, 2613, 939, 4496, 3614, 704, 4134, 862, 2421], [492, 1675, 254, 2474, 3907, 5778, 2849, 492, 6397, 3116, 2958, 3345, 1262, 2298, 8545], [488, 7626, 6836, 1416, 997, 6397, 3343, 1512, 6972, 3907, 8707, 4477, 5770, 3924, 3482, 5174, 3343, 2382, 4487, 7208, 2849, 7212, 5644, 2563, 1966, 5962], [1423, 465, 5644, 4826, 5474, 8147, 492, 1799, 3789, 5174, 3028, 6034, 1563, 6397, 8274, 3246, 5174, 5370, 3614, 1273, 4541], [2840, 2196, 6397, 5474, 1287, 6351, 6397, 5780, 5644, 5550, 2922, 2412, 2941, 3789, 782], [3343, 6113, 6066], [2849, 5644, 242, 3789, 6397, 173, 5417], [5174, 3691, 5211, 6939, 3789, 4203, 3907, 3789, 555, 370, 5474, 4388, 4043, 1423, 3343, 8170], [5003, 7495, 7764, 6522, 7626, 6361, 3907, 7051, 725, 4705, 8584, 3907, 6792, 4059, 3789, 4374], [5345, 1423, 6171, 6253, 5644, 5474, 4882, 6397, 4173, 254, 2360, 3789, 6201, 3907, 3789, 2921, 5698, 2041, 2041, 2041, 1262, 6065], [3905, 306, 7626, 611, 6829, 983], [5481, 3789, 6836, 5729, 6957, 3789, 5588, 7560, 492, 857, 254, 2301, 3028, 2506, 745, 6171, 7353, 6345], [8619, 208, 3789, 5474, 4894, 5174, 1262], [3620, 2052, 3116, 5644, 2935, 3500, 5243, 5174, 8708, 2849, 3343, 1491, 1966, 863], [6397, 6867, 5211, 4364, 2827, 3907, 5206, 2849, 492, 7750, 829, 7425, 6836, 7764, 2244, 7317, 5644, 5003, 6159], [6397, 4134, 5174, 208, 1389, 6062], [2979, 6397, 4925, 492, 1268, 7626, 254, 2011, 3789, 6847, 4183, 7560, 408, 540, 4518, 2634, 2325], [408, 3343, 4214, 5474, 6188], [3389, 7213, 8192, 3343, 507, 7626, 4705, 4095, 3641, 8191, 3343, 6113, 7324], [1349, 408, 5644, 62, 8097, 4571, 6058, 5174, 8708], [1731, 7626, 4576], [8467, 2244, 5481, 200, 56], [5345, 842, 5686, 3004], [254, 5038, 3789, 2751, 2438, 3789, 4705, 5464, 8211, 8050, 6978, 6014, 2412, 7208, 921, 1389, 174, 6026], [7837, 5481, 1389, 2875, 7560, 1434, 8181], [2341, 5778, 7570, 3789, 3463, 6708, 2791], [1445, 6055, 5474, 1287, 3191, 3789, 296, 7766, 2849, 3343, 4214], [2244, 6397, 3343, 7730], [1756, 1423, 3670, 6171, 6871, 5644, 1449, 1295, 6171, 45, 1295, 1566, 4744, 4950, 2244, 6845, 8064, 3907, 6397, 5729, 4487, 4622, 5778], [3733, 939, 6836, 5421, 8619, 208], [6676, 2849, 4980, 3039, 3789, 6653, 5644, 7672, 3907, 492, 5014, 5174, 6690, 7626, 6434, 5644, 8715], [8619, 6499, 5302], [5778, 2849, 492, 851, 6978, 7487, 3789, 6978, 208, 496, 6397, 7080, 5174, 413, 7864], [2250, 7170, 2277, 5521, 7239, 3907, 4413, 1389, 5938, 3907, 408, 1566, 7539, 1262, 3753], [3614, 1207, 7121, 3415, 2754, 3789, 6929, 3789, 5474, 3798, 6397, 408, 1349, 7313, 5762, 1033, 5474, 971, 1966, 2849, 7756], [6872, 3789, 3164, 3389, 2802, 492, 4173, 6836, 6302, 6940, 1047, 4170, 3154, 5419, 6267, 5644, 5174, 7936, 6978, 8440, 3907, 6978, 3498, 8619], [8708, 2314, 1662, 1915, 6397, 6506, 1050, 5644, 1674, 1367, 254, 1100, 7307, 6397, 408, 492, 5558, 3031, 2011], [1423, 2910, 5405, 2881, 5003, 8682, 6886, 3907, 1349, 6871, 5644, 857, 7274, 2430, 2011, 4398, 7577, 2311], [4655, 4288, 8050, 820, 4522], [5474, 5035, 3789, 5174, 5005, 3614, 1207, 2706, 3907, 5778, 3343, 507, 1207, 1916, 2412, 6598, 5, 1273, 6871, 5644, 3754, 4043, 5474, 765], [175, 2235, 3789, 6397, 3789, 6397, 173, 8571, 3789, 5174, 3031, 173, 6796, 3789, 4264, 2849, 1129, 3614, 1273, 1732], [3907, 3031, 2541, 2334, 720, 6183, 6359, 2110, 1645, 8188, 1966, 6528, 5975, 7626, 6978, 1028, 2849, 3343, 6672, 1389, 5962, 6062], [3094, 3614, 5346, 5162, 3789, 6183, 5813], [4398, 4648, 2840, 1349, 3343, 973, 2244, 1195, 6397, 4714, 2382, 7560, 4379, 182, 5778, 492, 3789, 2430, 4534, 3641, 6748], [5419, 3688, 8619, 7626, 10, 7626, 5174, 511, 3343, 5733], [6949, 492, 3343, 6851, 254, 6029, 6573], [2849, 2193, 5003, 6582, 939, 408, 492, 5014, 5174, 6488, 7951, 1389, 174, 408, 3343, 6871, 5644, 2444, 3907, 5644, 1805, 4364, 8049, 6785, 5174, 4495], [745, 175, 6492, 6397, 3343, 2407, 7560, 3688, 8619, 208, 1389, 6062], [555, 3343, 2771, 1389, 4171, 254, 4321, 3614, 2594, 3789, 6717], [1764, 2929, 1195, 5920, 2854], [2849, 492, 408, 4219, 5644, 6845, 3789, 5827, 8398, 3028, 5186, 3789, 6397, 7834, 254, 1718, 3907, 2849, 1273, 4504, 7560, 2093, 1966, 8576, 4934, 5257], [5174, 1262, 3343, 1512, 6522, 7626, 2751, 4950, 3641, 997, 6397, 3343, 997, 6397, 4026, 3688], [2849, 7163, 62, 3343, 6872, 7520, 5474, 3789, 4199, 3907, 2827, 7570, 3789, 4703, 7626, 3031, 14, 3789, 6538], [4529, 5524, 3840, 5211, 5295, 5474, 5335, 2412, 4194, 4287, 1767, 775, 5257, 5211, 2412, 2431], [3343, 3023, 6397, 2412, 6836, 2707, 361, 5463, 3789, 4379, 7029, 2412, 1756, 6836, 107, 2412, 6105, 3343, 1022, 3753], [2412, 5174, 4390, 1566, 4705, 3745, 2430, 7313, 1165, 6397, 4756, 938, 829, 6929, 7256, 5576], [179, 408, 3614, 4391, 3343, 8382, 6397, 4853, 8259, 3259, 2786, 1444], [1129, 5778, 8659, 7626, 6978, 5810, 3482, 2212, 114, 1966, 5474, 6326], [4622, 1129, 4413, 3789, 1295, 1529, 2873, 2849, 2979], [6673, 87, 5644, 1580, 3614, 8464, 1966, 3415, 2751, 938], [254, 8178, 2412, 1767, 4239, 8036, 6397, 2068, 7163, 1806, 5644, 254, 893, 3753, 6645], [555, 4710, 6397, 4723, 4178, 2910, 3789, 4346, 5856, 2244, 1767, 1614, 7560, 2244, 6183, 4404, 939, 2849, 254, 6691, 7297, 2235], [5160, 5364, 2933, 2412, 3770, 7374, 3907, 5957, 6821, 7413], [4595, 6351, 6397, 175, 6397, 5175, 3907, 2230, 862, 5256, 254, 1804, 3343, 1491, 6323, 4495], [1966, 6397, 8568, 3362, 5729, 3789, 5481, 8179, 5644, 1148, 6978, 6758], [6836, 7577, 2849, 492, 6753, 7917, 4637, 7560, 7577, 1566, 6397, 4039, 8064, 8619], [6877, 5211, 7034, 4287, 7834, 1109, 4487, 5474, 4950], [254, 6397, 492, 2922, 3789, 5474, 2484, 5014, 1767, 8271], [555, 370], [5455, 4946, 939, 2244, 5003, 4398, 820, 6091], [2849, 7163, 5905, 5644, 6397, 3924, 8097, 3907, 3415, 254, 1529, 8664, 6397, 6949, 2412, 5174, 3413], [5474, 6209, 6397, 7313, 7570, 254, 7539, 3789, 3994, 3614, 6397, 5644, 351, 1520, 3614, 351, 3134, 3789, 5474, 7161, 1041, 6397, 3614, 7068, 6743], [3614, 6397, 2849, 7297, 7317, 1423, 492, 6064, 254, 688], [6886, 492, 3343, 8179, 1273, 3622, 2367, 2244, 3641, 10], [7851, 5474, 4391, 175, 729, 7853, 1389, 2395, 3090, 662, 1056, 3054, 7834, 679, 2348, 5140, 3659], [6397, 3019, 3614, 5474, 6770, 1937, 6084, 4689, 3789, 1454], [3907, 4711, 492, 4162, 7784], [2290, 7560, 2849, 3343, 3332, 5644, 8139, 254, 8659, 3789, 5474, 5039, 7626, 5474, 3723, 3448], [7663, 492, 4861, 5553, 3641, 6096], [7520, 2259, 4287, 2244, 6978, 3280, 4364, 2861, 2849, 6871, 5644, 3790, 511], [3343, 4755, 1434, 254, 609, 6397, 3343, 507, 1298, 5644, 242, 3789, 6397, 4595, 7284, 182, 5474, 7538, 1358], [3870, 4400, 2578, 1062, 3028, 2979, 1192], [4476, 3031, 3343, 1154, 3028, 2119, 7036], [254, 1491, 3343, 8211, 8599, 7062], [4668, 3007, 5474, 6590, 1389, 8410, 7421, 3907, 7596, 4661, 254, 341, 3789, 6658, 3999, 6397, 4637, 3924, 6978, 5456, 4396, 4287, 2314, 1452, 837, 7722], [3343, 6851, 3789, 4400, 5174, 5167, 3690, 3789, 8055, 2649, 2459, 7626, 4705, 5600, 3789, 1076, 2683, 8625], [3473, 6397, 2849, 3343, 4861, 8042, 5474, 3118, 720, 3343, 507, 4623, 3343, 1298], [3343, 607, 1195, 2412, 254, 4155, 3032, 6978, 6053, 1844, 4055], [4622, 2849, 492, 6058, 7968], [2849, 5250, 2862, 1967, 5644, 5474, 6397, 6171, 8334, 3641, 4106, 4756, 4705, 445, 3789, 2679, 7560, 5644, 893, 939, 6603, 5778, 2508, 5778], [8338, 6656, 6397, 2003, 2244, 4214, 3482, 1501], [4637, 6319, 7080, 1266, 4580], [5474, 747, 5474, 5855, 3031, 4622, 2849, 2367, 3343, 5834, 3789, 2540], [408, 1273, 3922, 4487, 5003, 7033, 5644, 4379, 950, 254, 3789, 6836, 1385, 3907, 254, 3789, 5474, 7915, 6397, 2849, 507, 1385], [3907, 254, 4541, 2506, 7829, 3614, 254, 939, 1966, 5884], [4043, 1349, 3343, 2400], [5596, 254, 4600, 3685, 1389, 8132, 2412, 254, 2407, 1389, 8440, 3907, 1273, 1873, 5644, 3151, 2235], [955, 5140, 5547, 3789, 4108, 5474, 2282, 3943, 2412, 1109, 3789, 6978, 5381, 4705, 4950, 3445], [8211, 6397, 6171, 2795, 5644], [7273, 2849, 3343, 683, 2841, 5899, 3907, 1767, 63, 2431], [2849, 5722, 5778, 8150, 2456, 2412, 1195, 3907, 2854, 5778, 5014, 5532], [7163, 7560, 2446, 1970, 4687, 4705, 6581, 3789, 87, 2008, 1966, 1896, 5644, 7784, 5411, 3389, 4483, 1220, 5211, 8251], [4254, 1273, 492, 720, 3614, 1273, 4901, 3758], [6397, 8076, 5402, 6397, 1566, 7915, 6397, 3343, 6246, 2244, 7560, 3688, 3907, 5644, 242, 3789, 1434, 1711, 5962, 7626, 5474, 4894], [4449, 3688, 4364, 1234], [5520, 8032, 3789, 155], [3343, 4272, 3617, 4523, 5644, 62], [8610, 5003, 3641, 3073, 6507], [8147, 3907, 8610, 7742, 2751, 834, 6785, 3789, 7219], [1129, 5722, 254, 1104, 5644, 5474, 6564, 5729, 3789, 5481, 4389, 7549, 1262, 3482, 2927, 5644, 4403], [2279, 1300, 6397, 6836, 5750, 4740, 569, 1389, 4655, 3907, 3224, 1310, 7911, 5644, 2789, 986], [8063, 3614, 5729, 1766, 8050, 4705, 6833, 5433, 6397, 1050, 5644, 4267, 5905, 5778, 6397, 4274, 2849, 6848, 5474, 3119, 503, 153, 2412, 254, 3790], [5644, 5174, 5660, 6171, 1888, 1434, 6821, 4398, 6990, 4043, 4398, 2272, 403, 4557, 8268, 7244, 658, 5660], [175, 6836, 4504, 7560, 6836, 2892, 6766, 1725, 3789, 609, 1135], [2849, 2303, 2927, 5644, 4403, 939, 1434, 1295, 1389, 6868, 3907, 254, 5236, 5211, 1966, 6397, 3555, 837, 5474, 2522, 4287, 3555, 6436, 5003, 7749], [939, 2849, 492, 8211, 4108, 3789, 6122, 3789, 5474, 3224, 5644, 5474, 8097, 4907, 408], [2796, 5762, 2412, 4203, 5474, 6272, 3789, 4477, 3789, 1387], [5474, 658, 2849, 2441, 2412, 1434, 2138, 503, 2412, 5402, 7093, 1273, 2827, 6397, 173, 6113, 403, 4557, 8268, 7244, 658], [6105, 3280, 7029, 4428, 2784, 1767, 550, 4698, 3769, 6308, 2849, 5186, 7560, 1931, 6743, 8064, 6188, 3348, 5146], [1926, 7560, 863, 939, 3031, 7524, 3614, 3789, 653, 4907, 8112], [3905, 5188, 1273, 481, 2119, 1674, 6625, 4637], [7828, 4413, 3789, 5474, 3224, 5729, 4482, 84, 254, 208, 5729, 3287], [939, 173, 3023, 3415, 983, 6065], [3907, 3343, 594, 6397, 5644, 1580, 3343, 4741, 4403, 2508, 2849, 3343, 3970, 1750, 3056, 7861, 2244, 254, 8004, 3907, 6528, 2849, 5250, 2508, 7313, 2997, 5729, 821], [2353, 3789, 1148, 254, 1614, 3789, 7762, 3907, 1767, 96, 6397, 2849, 3614, 5722, 7121, 1349, 3259, 2786, 548, 1444], [4317, 507, 7359, 3789, 4934, 7359], [4482, 4999], [408, 251, 3999, 3907, 2849, 4012, 8430, 887, 1883, 7560, 555, 2506, 6659, 1389, 7539], [1423, 6919, 5644, 4378, 6397, 254, 1491, 492, 3134, 4106, 96, 3789, 594, 4907, 2849, 6397, 5596, 3789, 5003, 6644, 2850, 2849, 7941, 4744, 4609], [3758, 1464, 6397, 408], [2849, 6171, 6447, 1662, 5644, 1674, 2754, 6397, 2849, 507, 3433, 2430, 5884, 2244, 3478, 370, 8147, 3963, 3907, 2244, 8105, 582], [540, 254, 5729, 1107], [8234, 7834, 492, 3318, 939, 2849, 5111, 3789, 7459], [2849, 1566, 2254, 6397, 6762, 2387, 582, 6057, 6089, 6397, 1273, 273, 939, 5644, 8105, 2244, 1767, 653], [2849, 1566, 7817, 1950, 2412, 7568, 1756, 7626, 254, 6786, 6881], [4075, 2751, 7300, 2412, 6188, 7163, 6978, 7012, 3789, 2254, 4214], [519, 5644, 1674, 4714, 2849, 5480, 5722], [6397, 2374, 3789, 1713, 3789, 231, 2412, 1674, 5030, 411], [3343, 84, 3789, 2424, 5474, 6361, 3907, 254, 1662], [2244, 3031, 5547, 3343, 5003, 5013, 1389, 5602, 3907, 511], [6397, 511, 1773], [5936, 5729, 7831, 6397, 492, 2327, 5474, 1768, 6397, 1273, 6397, 524, 5474, 7523, 829, 4274, 8132], [1566, 8691, 7915, 2412, 254, 2875, 6397, 847, 6397, 2791, 3097, 254, 8178, 3620, 3753], [1273, 6607, 2506, 8055, 3614, 2838, 1649, 1779, 5644, 4400, 7706, 5644, 3389, 4714, 6978, 4655], [4705, 3789, 2395], [1566, 8063, 3343, 7834, 5644, 5299], [5778, 6057, 492, 2244, 2430, 2211], [403, 408, 8257, 4705, 5888, 5948, 4364, 8034, 3907, 661], [4705, 4888, 6397, 492, 1056, 5644, 7788, 2244, 5452, 4038, 6835, 254, 5642, 2791, 7337, 4403, 2806, 93, 6230], [2068, 1529, 408, 1950, 254, 8097, 1566, 2641, 7626, 4148, 555, 5729, 3830, 5243, 5474, 5729, 3027, 3758], [6764, 3907, 408, 3318, 2412, 8504, 4268, 370, 3907, 988, 3922, 2412, 254, 5200, 3907, 2412, 254, 6645, 2849, 7531], [175, 2751, 313, 5729, 170, 7626, 254], [492, 2715, 5474, 4359, 7784, 7834, 5644, 4108, 3789, 857, 6397, 5039], [8226, 3706, 6397, 2235, 3999, 6397, 2849, 3924, 5722, 1844], [1888, 5003, 5474, 3800, 1967, 6397, 2412, 4199, 492, 1709, 3789, 4390, 4287, 1273, 1757, 2815, 5778, 2255, 2412, 254, 1047, 4796, 3907, 8619], [939, 1764, 1715], [175, 7742, 2235], [8072, 2849, 7163, 6617, 5474, 213, 3789, 4556, 1675, 2012, 3789, 6739, 816, 3710, 4705, 4359, 6397, 4475, 3389, 174, 3641, 7036], [7560, 492, 8211, 62, 408, 6510, 6722, 5644, 6978, 6141, 2934, 1645, 3031, 7561, 8483, 2106], [2118, 2849, 6171, 6391, 7626, 1767, 6786, 6411, 6881, 3482, 1203], [3907, 2922, 2412, 1674, 5, 2430, 3343, 4133, 5247, 6397, 8423, 1273, 6607, 6397, 3343, 1645, 4477, 208, 5644, 208], [6728, 5174, 2606, 3154, 1673, 3907, 3343, 5535, 5778, 2730, 254, 7190, 6957, 2849, 7163, 2563, 4134, 2412, 6103, 3343, 6573, 408, 2849, 4390], [3789, 1432, 5474, 4233, 5211, 3343, 7538, 1207, 8181], [2031, 492, 7249, 6397, 2791, 8430, 6323], [175, 6978, 2254, 6499, 4294, 3907, 2849, 492, 2244, 6397], [3343, 2413, 254, 4056, 5778], [6065, 7560, 2751, 6548, 4053, 7163, 609, 3907, 6352, 1245, 6397, 2751, 3789, 5028, 7163, 8610, 3907, 4357], [3040, 5644, 5211, 242, 981, 2412, 5474, 2328, 2396, 2994, 28, 2244, 6453, 1389, 6826, 5094, 3789, 751, 6397, 7538, 4705, 2308, 2377], [190, 3789, 3274, 1298, 6397, 913, 4503, 2751, 2865, 7364, 2431, 7457, 6397, 2849, 492, 2785, 3789, 6836, 4315, 3789, 3624, 2865], [175, 6978, 400, 3755, 3907, 6022, 4195, 1258, 3515], [2849, 3688, 5529, 2849, 3688, 1694, 3907, 2849, 3688, 8237], [7284, 182, 3429, 7465, 1338, 6699], [555, 4637, 2303, 6397, 3924, 4976, 1966, 6397, 492, 527, 254, 7538, 3789, 4398, 5684, 7626, 254, 5670, 3789, 5174, 6089], [7930, 2849, 6836, 6895, 2254, 6057, 3688, 1694, 939, 5733, 6397, 1273, 2823, 4705, 6351, 1966, 850, 3789, 1273, 8198, 939, 2412, 1756, 2849, 3614, 5174, 4829], [6321, 4705, 1572, 104, 3789, 4705, 1967, 4364, 104], [6397, 3190, 1566, 3789, 2360, 5856, 3413], [5230, 254, 2478, 3789, 5444, 5644, 3552, 6171, 8461, 1767, 6709, 5644, 4705, 2831, 6397, 6171, 2735, 2244, 720, 6264, 3065, 3907, 6538], [6397, 4487, 492, 1273, 3197, 2412, 5416, 254, 3433, 7154, 555, 2303, 2979], [863, 8424, 5474, 5039], [7560, 8610, 3717, 5345, 4523], [370, 492, 4102, 6397, 3343, 2823, 844, 5474, 6092, 939, 1674, 5778, 3614, 351, 2594], [5474, 3699, 492, 4905], [4488, 8271, 1389, 191, 7448, 2244, 5174, 2780, 4705, 7523, 3789, 7413, 6397, 4637, 8211, 5003, 6032, 2412, 6169, 5419, 3482, 6212], [2849, 6297, 6971, 2731, 6057, 4705, 6351, 173, 2915, 5872, 720], [2849, 1566, 5, 5729, 5140, 7560, 1423, 4219, 5644, 3415, 408, 2003, 5644, 5474, 8450, 4907, 2849], [5419, 6786, 6029, 6573, 3907, 4700, 6029], [8461, 6397, 3343, 1098, 3907, 2412, 5174, 400, 2982, 1916, 5474, 979, 3789, 2554, 1977], [3343, 6113, 4403, 5885], [6397, 8055, 1423, 173, 2714, 939, 4413, 2849, 173, 4804], [5362, 254, 7837, 2541, 3907, 5402, 6397, 3614, 254, 5167, 3343, 507, 4364, 4623, 2849, 2303, 2612], [555, 1273, 4416, 2244, 4214, 692], [8467, 3688, 4364, 7825, 3907, 6598, 824, 3343, 2382, 6941], [6968, 5474, 4239, 2007, 6361, 939, 1434, 507, 865, 5186, 254, 1449, 131, 6343], [5729, 3547, 3789, 7560, 3318, 492, 7313, 7834, 4705, 8708, 716], [1767, 7371, 492, 8147, 1966, 3547, 3907, 254, 8147, 6978, 3280], [2412, 7098, 173, 6722, 1915], [3688, 6362, 6455], [6872, 7886, 3, 2244, 3077, 6351, 3907, 2244, 3077, 6351, 1471, 6397, 2791, 6948, 3789, 6567, 3812], [6397, 8428, 254, 135, 6397, 4079, 7364], [6872, 2766, 4002, 4287, 254, 8097, 6871, 5644, 3415, 5644, 4398, 6492, 6836, 8715, 3789, 5474, 6748, 3907, 3312, 4705, 6301], [658, 4402, 3614, 862, 1529, 5920, 3907, 4650, 4705, 7655, 3789, 7407, 4987], [4705, 1572, 8211, 7752, 7788, 6048], [4853, 8181, 2244, 254], [408, 5474, 5039, 3614, 720], [2392, 7568, 1655, 720, 3614, 4391], [6171, 1471, 5644, 5174, 7371, 6397, 6171, 3840, 6836, 146, 5644, 6183, 7653, 7626, 5474, 971, 3343, 1298, 1434], [2382, 1767, 182, 2303, 3415, 5644, 5174, 4551, 3907, 2849, 4211, 4705, 4357, 4705, 979, 3789, 159, 4628, 939, 1767, 2259, 5729, 3907, 6171, 7033, 4043, 3028, 944, 983], [1566, 8691, 4755, 2412, 5174, 1423, 492, 6764, 3789, 4203], [1129, 5211, 4364, 2789, 1273, 6397, 4861, 1258, 3907, 1449, 2751, 4950, 7560, 7163, 2849, 3614, 7489, 5644, 5474, 4391, 6057, 2927, 5644, 4403], [3620, 6862, 4637, 6397, 5345, 3614, 1262, 4287, 2849, 492, 7204], [8619, 4396, 3789, 5588], [6397, 3641, 8237, 3688, 408, 2849, 2303, 6972, 5644, 7569], [555, 8412, 2412, 7182, 2244, 7853, 3789, 8106, 5474, 7655, 4622, 2849, 6397, 2465, 6397, 5474, 3581, 370], [3907, 131, 5474, 7449, 8045, 5014, 5419, 7028], [2849, 5136, 408, 6978, 6141, 181, 5211, 6351, 7774, 720, 6171, 231, 5644, 1537, 5967, 6939, 1423, 1273, 5091, 5644, 242, 3789, 3452], [6872, 1234], [6872, 3925, 2412, 2578, 7730, 7348, 6397, 2101, 1966, 3888, 3789, 5474, 350, 1645, 254, 4089, 2235], [2354, 939, 2849, 2521, 2849, 492, 3840, 254, 4908, 1047, 75, 8404, 561, 1367, 3028, 6912, 3900, 4002, 6633, 2226, 2279, 194, 3907, 6013], [8097, 3614, 7487, 3907, 2303, 6972, 1434, 254, 208, 7886, 5992, 5284], [6397, 4416, 3326, 720, 7705, 6397, 4655], [3733, 2751, 477, 5474, 3154, 5474, 5039, 1041, 5474, 3899, 4202, 4416], [7062, 1423, 1515, 7626, 3147, 5644, 5819, 3343, 6614, 254, 4428, 3907, 5644, 6771, 6836, 2649, 6717, 6397, 2311], [4637, 3789, 6326, 8492, 3614, 4705, 2355, 7615, 5474, 6397, 3343, 7552, 4787], [6873, 3614, 1273, 6397, 2660, 3031, 2412, 7740, 2312], [4565, 4705, 3967, 6397, 1911, 1566, 6058, 254, 3154, 1278, 7982, 6433, 254, 7834], [3019, 1423, 3343, 865], [3614, 6637, 939, 3614, 2850, 2412, 6598, 3433], [6397, 7784], [555, 4637, 3555, 224, 4705, 2977, 939, 3555, 2885, 5474, 6397, 3555, 7212], [1432, 3482, 2787, 5474, 6770, 829, 6836, 4983, 6871, 1389, 174, 1389, 6314, 6397, 7416, 1917, 6453, 3789, 4107], [3614, 6681, 3888, 2244, 3228, 2244, 1695, 3614, 704, 788], [2395, 254, 7519, 208, 5190, 3028, 8178, 3907, 492, 6415, 5644, 8020, 4586, 1966, 1577, 254, 7436, 208, 3081, 1047, 1767, 2308, 3907, 3719, 626, 2412, 504], [5770, 6872, 2377, 3907, 2303, 62, 7788, 582, 6871, 5644, 6094, 5856, 5474, 1273, 3789, 26, 4571, 1966, 5110], [6397, 115, 3614, 8492, 7560, 8211, 1449, 720, 3789, 5174, 1614, 3343, 6113, 4623], [4701, 6397, 6433, 2412, 2277, 2849, 492, 8352, 3415, 7742, 939, 3614, 2412, 2751, 3258, 3907, 6656, 2506, 2424, 8543, 983], [2849, 5287, 6057, 4493, 6057, 3571, 492, 6397, 5474, 4761, 863, 1434, 6164, 3907, 3614, 6978, 2594, 2650, 6722], [6872, 3641, 5920], [8390, 3999, 2285, 5474, 1729], [2849, 2791, 7033], [1353, 408, 720, 3614, 1273, 1432, 6397, 3614, 5936, 1966, 7025, 3907, 4576, 5345], [4287, 842, 6397, 2849, 6171, 6656, 4705, 4067, 5644, 4403, 3688, 3641, 4132, 6397, 6057, 2412, 5174, 2319, 5777, 4705, 4067, 5003, 5345], [6397, 1915, 3624, 1883, 6397, 2849, 7983, 6057, 7989, 7029, 7321, 3907, 5778, 173, 6801, 7626, 3953, 69, 273, 5474, 7915, 1486, 7033], [2412, 3800, 492, 6264, 4487, 2849, 7313, 5148, 5516, 5871, 2979], [7376, 6397, 8370, 6659, 6836, 4516], [3343, 6113, 3641, 3758, 3789, 1434, 4740, 6397, 2150, 208, 1295, 3343, 1776, 6397, 6972], [3389, 3614, 6978, 4880, 6030, 3907, 4637, 2751, 1883, 7626, 998, 5257, 1273, 4288, 5746], [492, 5091, 6122, 6874, 7914, 1484, 3154, 3343, 3715, 3146, 4534, 3155], [1273, 8702, 3614, 6397, 2751, 1883, 2849, 2407, 3888, 6323], [5644, 3415, 4186, 3789, 4398, 6492, 492, 5474, 3318, 7626, 6978, 4032, 3719, 7705], [8610, 3350, 254, 5005, 6692, 3614, 7560, 6397, 3343, 4554, 7742], [735, 939, 2244, 3031, 653, 3907, 3343, 6872, 7897], [4705, 8412, 4265, 5733, 5419, 492, 3191, 3389, 688, 6433, 3907, 1234], [8339, 3733, 7560, 6015, 254, 3433, 2979], [7368, 3343, 1187, 6785, 5905, 6871, 5644, 62, 4523, 6735, 8412], [4229, 6644, 5644, 2751, 1230, 3789, 5474, 3224, 1767, 3789, 2082, 1430, 2979], [2849, 3614, 4391, 1273, 2506, 3343, 5211, 5373, 2506, 5003, 352, 1966, 4705, 242, 3789, 1124, 4637, 555, 3343, 5190], [4705, 3583, 2412, 5474, 7817, 7626, 351, 3789, 4382, 6969], [2501, 2303, 3116, 254, 8316, 3789, 6836, 4229, 182, 3789, 6236, 4655, 6959], [408, 4026, 6978, 981], [3688, 254, 4781, 5979, 3789, 4705, 2464, 4523, 3907, 1530, 3894], [1697, 3789, 6573, 689, 6397, 2849, 3343, 4475, 2251, 3907, 3343, 6113, 7560, 6978, 8237, 6397, 2521, 3343, 6576, 5644, 6522], [648, 296, 5035, 3343, 6113, 4604, 2412, 1273, 8585], [3031, 5243, 5174, 658, 3259, 2786, 548, 1444], [5474, 7915, 3789, 1686, 3831, 5211, 1559, 8619], [6855, 791, 6397, 4749, 2849, 492, 3201, 2412, 5474, 96, 939, 2849, 7029, 109, 3907, 7029, 6183, 184, 7824], [5474, 14, 5729, 3305, 3907, 3287, 5243, 3031], [6859, 6397, 2244, 6397, 5243, 254, 1262, 2832, 4287, 3482, 4203, 1434, 3614, 5729, 4134, 3789, 1273, 496, 3387, 296, 7075, 3789, 8412, 5644, 6598, 4772], [3789, 2751, 4386, 3721, 6836, 5421, 6695, 6065], [2849, 6049, 5909, 408, 2910, 2412, 7171, 2430, 741, 6397, 6181, 5486, 1966, 7950, 684, 7024, 3789, 6836, 324, 2979], [5644, 2160, 4176, 3320, 5644, 5474, 8410, 5419, 3343, 6113, 7324], [5650, 1194, 2254], [4239, 5211, 4134], [863, 6397, 6872, 4523, 2849, 7163, 62, 2412, 3119], [6397, 5243, 5840], [5419, 3343, 3765, 254, 5988, 4883, 5729, 6573, 3789, 5174, 4761], [2865, 1966, 5174, 5211, 6351, 3789, 3101, 4907, 6171, 3974, 1195, 5644, 2865, 6397, 2849, 8251, 408, 7834, 5644, 3790, 2945], [4796, 3789, 286], [1720, 7755, 1188, 3614, 4705, 3789, 2751, 5421, 2492, 3789, 950, 7626, 296, 678, 1432], [3907, 4274, 6397, 492, 1523, 2641, 2843, 6978, 3301, 3789, 6788, 5014, 1767, 1698], [6380, 5050, 3789, 5174, 6103, 7626, 6978, 4909, 2235], [173, 8031, 1018], [175, 5160, 5455, 3789, 688, 3790, 3116, 5722, 7626, 5174, 4761, 3907, 1011, 5174, 4896, 5644, 5003, 1529, 8554, 3343, 7457, 3789, 2215, 3789, 5474, 4067], [175, 6978, 688, 3755, 8074, 1810, 8401, 1257, 3907, 8105, 3019, 5729, 939, 6397, 8251, 6122, 7560, 3733, 5223], [4907, 3924, 6397, 1566, 4705, 1648, 6397, 7098, 2751, 1715, 6171, 6113, 5474, 4310, 5644, 5174, 8178, 3907, 6397, 492, 4861, 7033, 4287, 6171, 2915, 1258, 6397, 2849, 492, 5474, 3789], [3804, 5948, 3317, 3907, 5474, 1040, 7626, 1931, 582, 7626, 1273, 6397, 3343, 4186, 3214, 5644, 5174, 7626, 6399], [2827, 56, 7163, 8339, 2058, 7310, 5778, 6215, 254, 3571, 7045], [6717, 5211, 6323, 3343, 6113, 289], [1572, 6429, 3907, 6978, 5494, 1769, 5644, 5474, 5537, 1767, 1926], [3343, 4394, 3454, 3789, 4705, 8428, 2506, 6850], [8610, 296, 4498, 3614, 4106, 3789, 8259], [939, 2244, 5856, 2367, 2244, 3641, 10, 6904], [6342, 173, 3387, 5247, 6397, 2849, 3614, 630, 173, 3487, 254, 5028, 503, 630, 173, 2319], [3318, 6821, 5778], [6397, 4403, 7626, 3389, 3452], [5419, 173, 3387, 5247, 630, 408, 492, 4528, 3789, 3342, 3907, 630, 2849, 6397, 6353, 3789, 208], [2751, 1914, 3789, 6500, 863, 7163, 336, 3907, 863, 3343, 1181, 974, 6402, 3343, 6327, 5865], [7436, 3758, 1793, 6397, 7530, 6978, 1387, 6978, 1966, 3298, 2366, 6342], [8252, 1875, 5211, 1966, 5792, 5211, 445, 1262, 5474, 4225, 3907, 3705], [887, 408, 4889, 3028, 5746, 254, 4880, 5729, 4381, 1389, 174, 2150, 1107, 2465, 492, 5563, 3620], [6397, 5644, 1537, 6171, 7497, 2849, 7320, 5474, 4208, 1512, 1966, 7593], [3389, 492, 5474, 6113, 3789, 4437, 3907, 3614, 5520, 5188, 3907, 893, 6171, 6801], [3343, 8055, 7742, 4487, 2578, 7923, 3758], [2237, 5161, 3800, 2979], [2849, 3614, 2244, 5003, 5309, 939, 1195, 2412, 5174, 3343, 2334, 6397, 1295, 5778, 5142, 1960], [1295, 370, 842, 3789, 5660], [6397, 3125, 3641, 2861, 3907, 3641, 8076], [3389, 6308, 3343, 864, 1050, 1358, 5644, 5474, 6428, 3789, 4964, 2120, 5644, 8517, 1473], [7413, 3343, 6509, 5644, 62, 1626, 7626, 1728, 3343, 8707, 3907, 3032, 6978, 2807, 3789, 893, 7560, 408, 7619, 2303, 8169, 1300, 2506, 5474, 4516], [5778, 5211, 909, 704], [3620, 7842, 6397, 5494, 4880, 3907, 6397, 5494, 6476, 5644, 5494, 921, 3789, 6836, 4925, 6397, 5474, 7850, 7313, 8523], [555, 2849, 3688, 7560, 893, 720, 370, 3343, 2382, 5212, 3614, 8562, 5474, 7245, 3907, 5474, 1176, 862, 5373, 2254, 5293, 2849, 1891, 3907, 6773, 2506, 8562], [939, 3343, 273, 3907, 3343, 6313, 6157, 5644, 62, 3907, 3343, 8707, 7560, 5644, 2751, 7883, 3907, 1349, 6872, 8259, 3907, 4010], [3907, 2849, 6656, 6397, 3924, 254, 6607, 3889, 6397, 6140, 2244, 4203, 5592, 555, 2353, 5618, 3924], [6397, 5174, 2829, 492, 3750, 3789, 6397, 8610, 349], [6122, 5474, 7660, 4043, 254, 1624, 1389, 174], [939, 1559, 4169, 3028, 8011, 6872, 7626, 6925, 3774, 3343, 3799, 5474, 6564, 3171, 4534, 2791, 1933], [6978, 3306, 3789, 231, 296, 1866, 370, 5474, 3789, 7799, 7626, 4882, 3907, 1423, 1433, 5784, 5644, 6139], [5520, 8596, 254, 8003], [862, 421, 5644, 5211, 242, 1176, 5003, 6978, 7709], [5174, 717, 2849, 2849, 2849, 6872, 4523, 555, 2849, 492, 408, 173, 6656, 6397, 2849, 6872, 4523, 3620], [2244, 8715, 5644, 6581, 1566, 2431, 2244, 2506, 6183, 4934, 5778, 8501, 3945, 1389, 3433], [3563, 5644, 1502, 4705, 5035, 4633, 4930, 3907, 3032, 6397, 32, 5644, 5174, 2201, 5644, 2751, 1931, 3789, 5474, 8097, 1966, 6397, 3343, 6234, 7560, 2572], [3401, 2244, 1449, 1273, 6397, 5786, 2244, 5003, 7825, 5644, 3028, 8032, 1204, 2244, 2909, 2244, 4398, 2766, 2244, 7265, 3028, 2254, 3683, 3907, 4523], [3164, 6397, 5778, 3688, 7371, 1898, 4622], [1432, 3471, 5474, 3789, 4556, 1364, 2012, 3789, 6739, 816, 6463], [4294, 1349, 507, 7655, 2412, 4700], [7425, 5644, 242, 3789, 5003, 3358, 2197, 5167, 173, 5871, 2244, 3031, 999, 5962, 5474, 4643, 173, 2554], [1915, 1349, 3343, 2371, 296, 2910, 4705, 445, 6397, 2910, 1966, 5025, 3031, 584, 1262], [6057, 2412, 2751, 1318, 775, 7626, 6978, 5172, 175, 3164], [555, 2849, 939, 5778, 2849, 5729, 1673, 7313, 2753], [4565, 1094, 1434, 720, 1389, 628, 3907, 7131, 3907, 6349, 4487, 3209, 3482, 6158, 4043, 6397, 3343, 2293, 3789, 1253, 3907, 3186, 7784], [5003, 8619, 2849, 3614, 2138, 4705, 4761, 6835, 5003, 8619, 3614, 6184, 6397, 5474, 4761, 3889, 5474, 1729, 5644, 242, 3789, 2751, 5142], [3614, 6397, 6872, 4534, 3907, 1423, 1273, 6872, 3343, 6113, 2244, 4400, 4400, 4400, 3907, 5729, 4400], [1876, 3789, 5474, 6729, 1681, 5644, 2374, 254, 208, 3789, 5419, 3650, 4396, 3789, 5588, 3164, 5644, 56, 6836, 5703], [5466, 4749, 6307], [3343, 4656, 6573, 408, 6978, 7916, 2849, 7750, 5174, 688], [6397, 5455, 3641, 2706], [1273, 2762, 4188, 1767, 1287, 4488, 2922, 2412, 2941, 3789, 782], [3343, 7538, 3641, 1524, 3789, 4403, 3907, 4493], [173, 4861, 3640, 254, 208, 3789, 5419, 1926], [8076, 1674, 1553], [5644, 62, 3769, 403, 3769, 8428], [6836, 7508, 6397, 5729, 8610, 2412, 5211, 4761, 3482, 254, 4493, 5526, 511, 3907, 1491], [630, 173, 194, 3789, 4391, 3993, 6348, 7508, 3907, 1767, 6431, 3614, 8614, 8619, 6455], [525, 2849, 8251, 6171, 8147, 4487], [5778, 3343, 7460, 5474, 2997, 3789, 658, 3789, 5350, 3028, 3079, 5243, 4705, 1967, 6875, 688, 5531], [6397, 661, 5474, 7915, 6397, 1500, 5003, 1810, 3907, 862, 5729, 3547, 3789, 1434, 3907, 2849, 492, 2724, 5247, 6397, 7163, 2751, 1883, 5729, 7129, 1389, 4706], [6294, 2910, 4705, 3774, 2849, 6871, 5644, 6448, 2412, 3639, 939, 6397, 1694, 4487], [8501, 296, 938, 2412, 2604, 1753, 2072, 3789, 5125, 5174, 155], [3343, 8508, 3389, 5607], [2430, 1987, 5174, 5264, 6343, 1580, 8003, 1200, 7774, 3343, 7660], [5211, 7867, 492, 3343, 5211, 4471, 6749], [1051, 1566, 6978, 8253, 146, 2430, 5778, 7457, 4390, 3789, 5856, 6397, 2835, 3907, 7570, 3789, 5003, 3640], [2244, 8715, 6397, 4950, 8562], [6140, 2977, 3028, 691, 3164, 2235], [1566, 7915, 6397, 2673, 6397, 6171, 3680, 4705, 7708, 2412, 6978, 7415, 7, 1434, 3907, 5345, 4288, 972, 5644, 3596], [887, 3873, 6397, 8562, 3343, 4863, 1423, 3343, 4714, 1273, 1732, 2382, 7560, 4379, 582, 7612], [5174, 7072, 3614, 6978, 6692, 2412, 7921, 5264, 5982, 7587, 6656], [2849, 6171, 1681, 1449, 5644, 6836, 6995, 6397, 7834, 5644, 8644, 3375, 3907, 4756, 5474, 7844, 6397, 3614, 3923, 2412, 6291, 2196], [5140, 555, 173, 4293, 254, 6643, 912, 6487], [254, 3419, 6573, 5474, 1918, 8553, 492, 194, 492, 2334, 492, 1648, 492, 2984, 5474, 6058, 492, 7829], [3559, 3717, 4571, 939, 8501, 5373, 3, 2412, 1951, 4525], [3343, 7837, 1207, 2783, 3116, 7337, 5644, 2818, 4413, 1966, 6726, 254, 1491, 173, 5474, 1888], [173, 3710, 3028, 3413], [423, 2849, 555, 2303, 6397, 254, 300, 4279, 2412, 5474, 4554, 1349, 408, 492, 2029, 3907, 254, 300, 3318, 2254, 4789, 6397, 3116, 4705, 8664], [5211, 2977, 408, 3343, 5524, 8259, 939, 1434, 2171, 3523, 6183, 8613], [4288, 6785, 5174, 7304, 44, 695, 2348, 1640, 6785, 6952, 6264, 6154, 2311, 4403, 3028, 3415, 2506, 492, 1273, 8501, 6692, 3028, 2849, 5052, 5120], [3028, 3371, 6576, 5035, 408, 5474, 3099, 3907, 7410, 8545], [3482, 2761, 6978, 6021, 7495, 3343, 8319, 5474, 4529, 2849, 492, 2506, 3942], [3343, 4714, 3789, 2827, 2412, 1756], [7560, 1423, 5644, 2150, 4296, 6171, 7457, 1529, 6993, 4705, 749, 3907, 5481, 6171, 4072, 5474, 8668, 5822, 1434, 254, 6273, 6397, 125], [5850, 4429, 4705, 6103, 3521, 3907, 3343, 3389, 3429, 3656, 8204], [2235, 123, 7626, 5307, 5481, 3907, 4379, 425, 3342], [175, 254, 5962, 8562, 1423, 505, 3343, 6871, 5644, 1616, 4043, 1273, 7545, 1966, 1353, 5955], [329, 5206, 7989, 582, 3789, 5280, 852, 675, 6412], [5474, 6919, 1389, 7563, 2412, 3389, 3433, 4637, 8211, 5003, 7660, 2244, 6836, 1337, 3789, 7480, 3753], [3614, 254, 6385, 3804, 5948, 6397, 7033, 6397, 6872, 3482, 4378, 4723, 5722, 3789, 1273, 6397, 4853, 7886], [3343, 1207, 1291, 1295], [6836, 234, 1047, 3800, 2412, 7921, 7163, 3641, 170, 7560, 5746, 5474, 7191, 2979], [939, 3028, 6951, 7436, 6902, 646, 2244, 5474, 4210, 3028, 3301, 5474, 5039, 1389, 6868], [3032, 7742, 6397, 2849, 3343, 5658, 3641, 4534, 3028, 6845, 2244, 3092], [2412, 2789, 2832, 3789, 6361, 2244, 2105, 1460, 254, 5135, 2340, 5508, 5644, 5474, 2999], [5778, 6836, 7360, 1349, 943, 1645, 1966, 6836, 5759, 3164, 184], [4214, 56, 3694], [4596, 2506, 2827, 1295, 6785, 8214, 5474, 6066, 3907, 2138, 1273, 2506, 2303], [5778, 4604, 7626, 6183, 95, 3789, 2093, 7412, 5235], [3343, 6113, 4364, 2160, 2244, 6717], [3343, 6436, 4287, 7163, 5174, 2289, 4534, 2412, 1434, 5, 6397, 555, 3343, 1491, 3758], [1423, 492, 3362, 5644, 8318, 2412, 254, 4019, 2849, 6666, 5474, 5035, 5644, 2632, 7549, 1273, 5729, 6135, 6113, 863, 7886, 1645, 56, 476], [7560, 6746, 6397, 5474, 4776, 3719, 6872, 7886, 3], [4106, 881, 6397, 8562, 6585, 7626, 1674, 7077, 3789, 3142, 2412, 1674, 3142, 756, 7190, 8491, 3789, 4067, 173, 7837], [3343, 8689, 5474, 1960, 6397, 2849, 802, 5474, 105, 2412, 6105, 1220, 131, 1529, 6979, 2138, 6397, 5905, 5644, 6397, 802, 1989, 5587], [2849, 1566, 6873, 2412, 221, 2334, 2412, 4364, 3789, 594, 7968], [7037, 1309, 408, 5393, 7560, 5579, 2412, 5174, 5921, 3789, 7726], [6397, 6573, 1662, 5644, 2725, 56, 6836, 1416, 3891, 1389, 1489, 3789, 5211, 2977], [4662, 5474, 3746, 492, 8105, 6978, 4120, 6825, 3789, 4626, 1195, 6397, 2849, 492, 1176, 5211, 2254, 3907, 6171, 6113, 231, 3028, 8178], [254, 3990, 6397, 1584, 5211, 4471, 3789, 1273, 6397, 1766, 2412, 5416, 4755, 1268, 5644, 2578, 3002, 3789, 7791, 2979], [2849, 1739, 745, 2303, 5940, 8101, 939, 6827, 3343, 8370, 5644, 6522], [2849, 1566, 4950, 5729, 3027, 6397, 1050, 7626, 5644, 572, 2881, 5644, 56, 6836, 8011], [3614, 6397, 3343, 5474, 5720], [6872, 3641, 1234, 2244, 5474, 3813, 3191, 3789, 5432, 1198, 6989, 6397, 5778, 3343, 6113, 4705, 5236], [2849, 3614, 7121], [5352, 2277, 3789, 56, 476, 6371], [2982, 2778, 3907, 4010, 8644, 939, 2849, 2982, 2751, 820, 3789, 6397, 3343, 8423, 1434, 3389, 3280, 3706, 5474, 701], [2840, 5419, 2982, 5474, 7655, 3789, 2778, 3907, 4010, 8063, 2244, 7811, 6351, 5211, 4881, 6927], [4516, 3031, 1572], [7123, 881, 720, 8085], [2849, 3343, 1491, 408, 3343, 8055, 3793], [1674, 2922, 254, 7519, 7784, 6397, 3343, 5691, 7327, 8165], [772, 4064, 2412, 1756, 1434, 1273, 6397, 6506, 6105, 5729, 1679, 1262, 4907, 5174, 8147, 3956, 1047, 3031, 3598, 3031, 5660, 3907, 1047, 4203], [408, 5644, 5174, 370, 3343, 1905, 720, 688, 2866, 3719, 408, 3755, 5855, 4534, 3614, 8198], [6836, 8683, 7959, 3482, 3789, 2395, 6656, 6397, 5778, 5211, 7626, 6978, 5753, 2412, 3659], [7570, 3789, 6522, 1051], [3614, 1766, 1966, 6836, 3770, 3396, 5474, 979, 2412, 4705, 5247, 2638, 1966, 2927, 939, 3614, 6606, 5474, 5526, 2279, 5080, 4266], [3343, 1228, 2934, 5474, 6284, 3907, 2027, 2910, 3789, 2395, 5644, 5174, 2014, 3343, 7497, 1295, 7402], [3907, 3761, 2910, 4705, 181, 445, 6397, 3482, 926, 6171, 8582, 7605, 3907, 2974, 3789, 5788, 2374, 5729, 254, 2849, 2791, 2412], [8598, 4487, 254, 5698, 1349, 2303, 3188], [5644, 5174, 3343, 6963, 746, 939, 2849, 7163, 4108, 3789, 7196], [1262, 179, 6397, 3343, 8589], [4448, 5174, 1772, 6053, 3614, 6397, 2849, 7163, 862, 2058, 863, 1718, 639, 5644, 2751, 1883, 5519, 1423, 2849, 1273, 78], [3907, 1732, 7163, 6836, 6397, 8501, 6250, 5644, 1767, 1974, 7915, 720, 408, 3614, 1432, 1273, 6397, 8501, 4471], [3305, 653, 1966, 4798, 3789, 8638, 2996, 7560, 5586, 3907, 1272, 4706, 8501, 1494, 5644, 5474, 3177, 3907, 8481], [8716, 5524, 3019, 3028, 3415, 6397, 5778, 2849, 683, 6397, 4705, 2308, 7626, 2826, 5419, 2849, 6983, 2430, 62], [3614, 5729, 1491, 6397, 1967], [3028, 5940, 254, 764, 1389, 7871, 896, 254, 1772, 8461, 6978, 2502, 1767, 757, 2922, 6978, 5381, 4287, 5519, 2971, 5474, 4529, 1966], [1740, 4364, 748, 254, 6867, 5474, 2355, 4705, 3690, 5129, 10, 3385, 4901, 5474, 4062, 254, 4392, 8122], [1349, 175, 2235, 6785, 2506, 492, 6974, 3907, 3343, 6558, 2506, 6836, 6872, 4661], [3656, 5778, 1911, 555, 2910, 254, 4663, 426, 3758], [6154, 1050, 3028, 844, 724, 939, 2849, 1566, 5797, 131, 4488, 5433, 3789, 3971, 3907, 4653, 4145], [254, 8575, 254, 8112, 5474, 4635, 5474, 5365, 5211, 7520, 254, 1438, 5261, 2412, 5174, 3433], [5960, 3907, 555, 3482, 3790, 3717, 3706], [3614, 4364, 1766, 4477, 3907, 5712, 1423, 3614, 351, 254, 6397, 5211, 1000, 4067], [2596, 6397, 881, 7487, 5644, 5474, 3550, 6397, 5211, 2412, 2536, 3789, 5478, 2506, 6057, 5180, 1853, 7398, 3789, 3302, 2395], [175, 6397, 857, 6397, 863, 2382, 3280, 2849, 3032, 6397, 7549, 5474, 4761, 2910, 5729, 6993], [5324, 4202, 5474, 979], [7064, 720, 6229, 7742, 3758], [6397, 3342, 4380, 4012, 6433, 3907, 7074, 2353, 2412, 6348, 7359, 254, 5498, 3907, 3031, 1202, 2412, 5174, 1202, 7533, 6554], [6397, 6743, 939, 6836, 7003, 7163, 4364, 1813, 5419, 175, 2412, 5174, 4761, 1883, 6397, 3343, 8055, 5729, 8619, 3907, 2849, 3343, 7730, 3789, 5722], [1423, 173, 5762, 4477, 1434, 5174, 5003, 8376, 7626, 3342, 3907, 408, 173, 5762, 6938, 3343, 234, 5474, 6361], [3343, 1491, 1529, 2840], [7123, 6397, 2910, 5646, 7190, 2412, 6978, 8473, 3789, 5692, 408, 3922, 1273, 1732, 4907, 6397], [6397, 1169, 3614, 5474, 7915, 6397, 3343, 8127, 6397, 2827, 3614, 1805, 254, 609, 6397, 8076, 3614, 5402, 6397, 688, 6872, 1358], [1431, 5003, 8455, 4705, 921, 3789, 7879, 3907, 3614, 1207, 1607, 6871, 5644, 8709, 3789, 5474, 6361, 1877], [6872, 3641, 5920, 6397, 3343, 5239, 5644, 7263, 6836, 3778, 3789, 7324, 3907, 1512, 1405], [3907, 408, 5778, 2849, 3343, 6246], [5474, 2944, 3907, 2412, 975, 6106, 5778, 1566, 5910, 3167], [4445, 4199, 924, 5644, 6872, 4471, 1273, 5209], [5596, 254, 475, 2397, 2979], [1739, 2412, 5247, 6397, 1647, 5612, 254, 1732, 6308, 6397, 5174, 7072], [5129, 4400, 3945, 3789, 242], [5003, 1460, 2382, 8339, 182, 6397, 7297, 3154, 3907, 2849, 1273, 5003, 7495, 688, 3907, 4398, 6492, 3343, 6253, 6397, 6011, 5474, 6894], [3402, 2138, 2302, 7577, 7626, 835, 2849, 4112, 6397, 7124, 2412, 5474, 8428, 3789, 2849, 1050, 3028, 4206], [173, 2334, 1262, 5003, 4888, 3907, 1273, 4541, 6397, 2382, 3614, 2138, 4551, 139, 231, 3343, 3387, 5778, 5405, 4029, 7626, 6348, 6487, 3789, 1950, 1262, 3164], [56, 5592, 182, 5003, 697, 8545, 704, 2254, 2849, 492, 408, 3614, 254, 3433, 4907, 5174, 5455, 7655], [3614, 4705, 3019, 2849, 2791, 3641, 1655, 7626, 7559, 3530, 492, 2922, 7626, 254, 3028, 4713, 2812, 3614, 6978, 2812], [7664, 4398, 8127, 3907, 5378, 4398, 7759, 2578, 6397, 3765, 2244, 816, 2244, 376], [8619, 8472, 3789, 4894, 2412, 8492, 3907, 6397, 7951, 8105, 5729], [6872, 4134, 3343, 6871, 3116, 4705, 5852], [4688, 6234, 8361, 7266, 6507, 6319], [5174, 6053, 3614, 2506, 3343, 2, 7742, 2244, 2751, 1883, 5729, 3429, 3907, 4706, 242, 5174, 6770, 2849, 2279, 3369, 6057, 1931, 3789, 5392, 6397, 4403], [5825, 3343, 3023, 254, 1218, 5644, 3126, 3789, 2378, 2244, 5474, 8097, 2979, 1972], [2244, 1434, 3343, 6637, 8451, 3343, 8251, 5644, 4680, 982, 7740], [5820, 3614, 5474, 7811, 6351, 6397, 7837, 3907, 2849, 5211, 4965, 720, 3530, 2849, 7834, 2150, 3811, 3789, 893, 2465, 383, 5733], [4622, 5778, 6397, 6872, 2766], [863, 175, 5666, 1966, 7093, 2751, 6547, 2244, 7502], [6872, 6939, 3789, 6473, 4630, 4259, 1767, 1767, 1413, 5644, 5474, 1717, 5644, 7425, 3907, 5644, 5474, 4391], [1545, 2849, 173, 175], [3907, 3614, 6342, 1423, 173, 3387, 5247, 3789, 2751, 4950, 4637, 3197, 4705, 6351, 3907, 2244, 5729, 6397, 173, 278, 5778, 2849, 1681, 6157, 5644, 2029, 596], [4413, 3789, 5029, 6343, 7924, 5474, 6732, 1389, 3683, 3907, 1931, 2097, 6871, 5644, 62, 6397, 6836, 4237, 6666, 4950, 1934, 2979], [4134, 3907, 7086, 6188], [5644, 3614, 6397, 3789, 4391, 1273, 6607, 6397, 3284, 2922, 7695, 3907, 3415, 5721, 3620], [939, 6821, 1423, 2412, 3800, 2751, 4212, 1389, 2243, 973, 3153, 8570, 1337, 2979, 4330], [2849, 7163, 6197, 5644, 5174, 717, 2508, 5352, 6836, 1774, 3907, 3343, 3970, 3907, 555, 6397, 1218, 6397, 2260, 7626, 6836, 2607], [254, 8032, 6769, 173, 5211, 2102, 2877, 5474, 5039, 3907, 6301, 3031, 4843, 3789, 6122, 6319, 5649], [3343, 5208, 62, 7626, 4705, 4403, 5474, 7349], [1645, 3280, 6397, 2849, 1274, 254, 862, 1655, 1262, 6397, 316], [887, 5778, 3343, 6871], [2303, 5402, 630], [6397, 6032, 3641, 6743, 8248, 4556, 1675, 3905, 2012, 7094], [242, 3789, 1767, 8032, 492, 5367, 3343, 7732, 3907, 3979, 7036, 6025, 5474, 4403, 2412, 6183, 7359, 939, 1273, 6397, 5729, 2876, 2849, 2922, 5402], [6397, 4403, 6397, 175, 3907, 3343, 175, 6397, 1050, 5644, 6301], [3343, 5003, 8430, 5729, 7626, 254, 4847, 5644, 2632, 4067], [6397, 1729, 6113, 2244, 296, 7915, 6397, 3614, 3641, 8513, 6397, 5644, 5474, 7943, 2849, 5474, 7570, 2138, 6057, 1938, 5722, 6397, 4067, 6868, 7626, 296, 7260], [3907, 688, 3343, 3644, 2627, 8691, 231, 7560, 5419, 1262, 1262], [3343, 4863, 3789, 4705, 96, 3343, 5239, 5644, 3702, 2982, 1434, 254, 1114, 3907, 6692, 2311], [7064, 3907, 6229, 3789, 6397, 1953, 96], [2412, 5474, 7523, 492, 5714, 3028, 5914, 4637, 2412, 5474, 1537, 6927, 5714, 3028, 8575, 7326, 7232], [4837, 492, 1491], [6637, 4595, 4038, 5644, 1580, 5592, 7871, 2506, 3343, 8055, 6144, 3789, 231], [8097, 3614, 5174, 4764, 3789, 256, 3907, 2849, 7163, 62, 2244, 5474, 5455], [3907, 6397, 507, 5474, 1572, 5729, 1926, 3789, 7098], [7574, 6397, 5474, 4761, 3614, 2269, 939, 5474, 4357, 2849, 3614, 5474, 6402, 8013], [8610, 6397, 492, 2010], [3405, 5243, 1452, 98, 2506, 231, 7626, 3154], [6728, 3907, 6717, 3840, 1767, 1202, 1966, 2138, 5847, 3789, 5474, 4883, 3789, 6445, 6397, 8211, 5708], [6397, 8032, 3789, 4529], [3905, 939, 2215, 540, 6872, 8173, 6648, 6397, 7457, 6397, 3343, 5003, 5659, 7626, 7784], [2849, 492, 4487, 6397, 4714, 7626, 5474, 6380, 2412, 5474, 774, 939, 555, 5166, 2412, 4383, 3907, 6872, 4796, 3789, 2849, 3790, 62, 2244, 254, 3434, 6397, 8055], [1273, 4625, 5644, 8402, 3870, 1434, 5596], [3907, 555, 6978, 882, 4312, 2666], [2849, 3889, 7284, 4907, 1931, 1513, 4219, 5644, 2138, 5231], [2849, 683, 2412, 757, 87, 5211, 3031, 4761, 6717, 863, 4372, 1883, 1966, 4162], [3907, 2244, 1860, 3028, 5003, 4705, 2720, 6759, 3907, 3860, 6953, 6978, 5521, 3907, 6978, 4413, 4705, 4364, 4257, 3789, 8147, 1389, 2301, 2506, 2922, 5645], [1899, 4043, 3343, 7891, 5729, 2526, 2751, 4379, 680, 254, 7545, 3614, 1432], [4637, 3999, 6397, 5474, 1967, 6397, 173, 6436, 2849, 173, 7668, 5419, 8619, 208, 1389, 6062], [555, 4637, 2303, 62], [154, 2900, 492, 1274, 7483, 4637, 7626, 8707, 1776, 254, 6786, 492, 6132, 6978, 6791, 3907, 1905, 5474, 971, 476, 2367], [1423, 3343, 1491, 4749, 4907, 1149, 2751, 4950], [3688, 5520, 4880, 2244, 5474, 5790, 2244, 6397, 1482, 5345], [1586, 7793, 5644, 6857, 1966, 2506, 3343, 6234, 2506, 3116], [5014, 5123, 1975, 2412, 5712, 492, 77, 7560, 6978, 88], [1423, 3343, 1491, 7626, 254, 4889, 3343, 1491, 7626, 1434, 254, 174], [6573, 4992], [3614, 5520, 1273, 3789, 4556, 1675, 2849, 1273, 7163, 6617, 745, 939, 2244, 7436, 4398, 6294, 2412, 6836, 582, 2430, 3585, 5644, 6122, 5474, 6598], [7177, 735, 4950, 2244, 3342, 6397, 5419, 2412, 208, 2849, 3343, 7730], [1875, 3031, 6397, 6298, 296, 2308, 1607, 56, 6836, 182, 1966, 3260, 3789, 7098, 2751, 5191], [8656, 3614, 254, 6607, 5, 6397, 2438, 3389, 3134, 5778, 6397, 6799, 7626, 4705, 971, 1081, 3789, 5474, 6653, 8486, 5140, 5644, 6836, 8303], [254, 1214, 7313, 6113, 6978, 8214, 3789, 7560, 2314, 5474, 5335, 408, 6836, 6505, 1987, 4720, 5474, 2289, 6833, 2397], [7683, 6816, 1389, 4060, 492, 7313, 3284, 2412, 254, 3301], [8562, 2244, 720, 6978, 146, 6505, 3614, 5474, 6107, 6397, 492, 8251, 6107, 7560, 5474, 3789, 6872, 7626, 7784], [6397, 658, 3790, 1449, 7626, 2893, 6397, 4398, 7920, 7163, 2751, 7161, 6397, 3343, 8461, 5474, 4761, 5856, 1938, 3789, 6979, 582, 7560, 3789, 5206, 3769, 4907, 6343, 5778], [3620, 4564, 3789, 4203, 4357, 5174, 1327, 540], [3343, 4394, 3907, 2791, 5474, 7430, 8058], [1452, 4014, 175], [3917, 5014, 6612], [7529, 4861, 7076, 5474, 5130], [6397, 4655], [4984, 4705, 487, 1389, 3509, 6397, 5644, 242, 3789, 6836, 6035, 1389, 300, 7542, 1767, 609, 5644, 2854], [2849, 6389, 7921, 2285, 5474, 1729, 8707], [2849, 3343, 7163, 62, 2849, 175, 8493, 7560, 3343, 6871, 5644, 1827, 8097], [5778, 3343, 6953, 1050], [8355, 2435, 7865, 7523, 2244, 3031, 2791], [1234, 3907, 6735, 6872, 3907, 2849, 175, 3280, 1966, 5722, 939, 2827, 296, 4861, 1917, 5174, 8584, 6209, 3789, 5419, 6737, 3614, 3530, 3343, 6872, 3326], [6295, 408, 2849, 3343, 6896, 4705, 6351, 3343, 3010, 3789, 1653, 3907, 173, 7106, 5520, 6086, 2465, 3957, 1207, 5600, 2506, 1694, 683, 254, 2068, 3164, 7626, 720], [555, 5160, 5224, 1883, 5644, 8492, 4637, 1966, 4963, 6642, 3343, 4714, 3789, 6828], [6397, 6886, 2506, 3614, 5474, 4347, 1452, 4901, 1263], [6397, 4655, 3789, 4565], [1405, 6656, 6397, 829, 2412, 2355, 6371], [5189, 4637, 4714, 5644, 3892, 6397, 6872, 5729, 5346, 3789, 1273, 6397, 159, 2303, 4393, 2412, 862, 5419, 1624, 1389, 7548], [2849, 6718, 545, 5722, 3789, 5894, 6057, 2427, 3907, 3343, 6113, 4364, 8412], [3907, 1966, 7080, 6113, 5474, 979, 3907, 1614, 8237], [7234, 1915], [7313, 6178, 2244, 4478, 3031, 3641, 2765, 7560, 863], [3620, 6728, 3164], [6872, 3641, 6939, 3789, 4355], [2849, 3343, 7163, 16, 3641, 5840, 4287, 6171, 6573, 254, 208, 3028, 947], [254, 6251, 3614, 5795, 3907, 3031, 2701, 4683, 3156], [2579, 3614, 6397, 887], [7626, 2751, 838, 6061, 6397, 6614, 3907, 254, 8112, 6017, 5003, 4720, 6978, 3517, 4983, 4983, 5370, 3907, 1434, 720, 6004], [281, 6397, 1960], [3688, 4705, 487, 4392, 3789, 2375, 852], [7599, 5347, 2412, 5174, 7442], [5174, 1971, 3789, 7920, 3343, 507, 7076], [1697, 3789, 6573, 689, 6397, 2849, 3343, 4475, 2251, 6397, 2521, 3343, 6576, 5644, 6522], [1104, 2595, 5474, 7245, 7134, 5231, 3789, 7008, 3789, 4170, 3907, 6591, 6113, 5247, 3789, 3693], [1055, 6298, 6397, 6181, 254, 321, 2979, 4907, 5694, 4287, 408, 2849, 5474, 7915, 492, 2230, 2927, 3907, 5543, 3789, 2374, 1182], [492, 5528, 5474, 7989, 5442, 7626, 6978, 1020, 6029, 3907, 8456, 6785, 2395, 296, 3614, 5174, 8708], [1234, 5174, 3775], [8656, 5644, 6799, 6171, 7457, 6978, 1723, 1273, 3789, 1948, 2244, 6978, 1449, 3789, 4067, 7368, 1397], [1295, 408, 6397, 5211, 4487, 1743], [2849, 3343, 4503, 3789, 3415, 5174, 3367, 3614, 6978, 2431], [6397, 4487, 3343, 2382, 6845, 7626, 7915, 6397, 863, 8450, 3907, 5211, 6323, 5644, 242, 3789, 1434], [3614, 1295, 5007, 1387, 902, 2412, 6201, 1767, 8025, 6849, 5474, 2964, 3789, 3039, 3907, 254, 6639, 1011, 3343, 1675, 2506, 2244, 5174, 5547, 6743], [6397, 2849, 5660, 254, 6158], [194, 3415, 4398, 2277, 2849, 3343, 1491, 408, 3343, 7998, 609], [630, 3013, 5243, 3907, 2244, 6397, 3343, 4853, 8688, 408, 2849, 3343, 5003, 2122, 5644, 4203, 2412, 5474, 4761, 8194, 351, 7033, 2412, 1624, 7518], [3688, 5474, 1967, 5729, 84, 3907, 5442, 5644, 5474, 6351, 939, 1423, 3343, 4503, 5778, 2849, 6872, 5729], [2849, 3343, 502, 7626, 6348, 2247, 6397, 2751, 6298, 4321, 3907, 408, 1273, 2895, 2244, 6445, 555, 173, 7315, 4398, 1423, 6726], [61, 6397, 231, 555, 2508, 2849, 173, 1049, 4622, 4391, 2849, 3032, 3092, 525], [4581, 1512, 254, 6774, 1389, 453, 3789, 1533, 2244, 2258, 2412, 5375, 6960, 5729, 1578, 1109, 5644, 5474, 5660], [7425, 6836, 8465, 1165, 6978, 7487, 1966, 1434, 4939, 1182, 2412, 6978, 6308, 1165, 4788, 7465, 7251, 5668, 1273, 5729], [2303, 1917, 5474, 555, 1389, 5698, 3907, 1586, 8396, 6978, 4094, 3789, 8716], [3031, 6057, 810, 6298, 5295, 5450, 4637, 4273, 5644, 3092, 2412, 5474, 2649, 5644, 1614, 3789, 3031, 7142], [2849, 492, 3840, 254, 4908, 1047, 4280, 1491, 3900, 3666, 2849, 1681, 7950, 5474, 6836, 939, 408, 1822, 7033], [6885, 7807, 1966, 8451, 4705, 5039, 8188, 3789, 8691, 3550, 492, 6397, 492, 4483], [3318, 5166, 3907, 4937, 2254], [555, 8178, 4364, 5161, 2546], [3343, 6113, 231, 7507, 2254, 5644, 5474, 7915], [2849, 1566, 5167, 688, 2059, 5644, 4263, 4705, 8456, 3789, 2395, 2235], [6229, 5474, 4529, 7560, 5474, 1389, 6824, 2235], [289, 6872], [5419, 5474, 1694, 3614, 5474, 6380, 2244, 3950, 254, 2243, 3907, 254, 697, 3789, 7402, 6836, 6293, 6397, 6718, 1380, 5474, 7374, 7163, 4662], [2849, 7163, 254, 254, 7495, 5770, 3924, 7626, 4705, 2997, 173, 3978], [1317, 2412, 1756, 492, 6919, 5644, 6181, 5644, 3805, 2277, 7626, 56, 6183, 6492, 3614, 5729, 3640, 3415, 6978, 8007, 3789, 7560, 7604, 254, 7706], [2849, 2303, 5003, 8408, 939, 5174, 8222, 507, 4705, 1964, 3789, 186, 3907, 5474, 6871, 5644, 5455], [2741, 5167], [4199, 8211, 3807, 1273, 6397, 4721, 5189, 555, 2849, 7163, 3807, 3789, 1273, 6397, 1298, 4287, 254, 947, 2791, 3641, 4985, 6397, 2849, 6171, 3902, 5722], [2506, 511, 6927, 7286], [6872, 5982, 7560, 1767, 1104, 3789, 6200, 2244, 862, 7321, 7968], [5474, 869, 3614, 4637, 1966, 5482, 7625], [3343, 1873, 254, 7519, 7624, 254, 6107, 6785, 2509, 3789, 3980, 4026, 4079, 5596, 2910, 2412, 8256, 2244, 2506, 1273, 1051], [5174, 1572, 6068, 7523, 4055], [5345, 3614, 1844, 8361], [939, 2849, 5211, 492, 5014], [8467, 1295, 5778, 2059, 5644, 1767, 1624, 408, 5211, 4708, 8467, 5778, 6057, 3343, 594, 3789, 4203], [939, 2244, 254, 5591, 6397, 6851, 3789, 4557, 4287, 2849, 2303, 2927, 5644, 4403, 3907, 8517, 2751, 537, 3789, 60, 5012, 3343, 4861, 2241, 7742], [3614, 4364, 6537, 1286, 3907, 1286, 2412, 3031, 2638, 3907, 6397, 2849, 8183, 2488, 5788, 3789, 4391, 3343, 8486, 6743, 720], [2412, 1931, 182, 3343, 6253, 2412, 6397, 3788, 3907, 2412, 6397, 656, 3343, 6580, 6872, 4534, 2742, 3999, 6397, 3343, 2971, 2456, 2412, 1535, 8486, 6422], [373, 4796, 3789, 5474, 4495, 4067, 3789, 863], [5778, 3343, 4565, 1390, 2661, 6151], [6181, 5474, 5035, 3907, 3415, 2751, 3821, 5692, 1966, 62, 6397, 173, 3203, 3614, 5729, 6397, 6978, 3640, 3028, 688], [1439, 2915, 6920, 3343, 6436, 7742, 2754], [3343, 6811, 3789, 2320, 6978, 6722, 3789, 5889, 5174, 3164, 5211, 8140, 5474, 111, 2137, 1444], [2849, 3902], [720, 507, 6978, 502, 2849, 2303, 2927, 5644, 2751, 6340, 87, 7626, 3389, 2298], [3389, 6308, 3721, 4744, 8473, 3789, 2395, 2303, 1050, 5644, 1733, 7626, 7784, 1493], [6397, 8076, 3614, 5885, 4648, 555], [6872, 8412, 7560, 6919, 5644, 7093, 5474, 3800, 3176, 6397, 4565, 2412, 1102, 2244, 6978, 4086, 3789, 109], [6978, 1950, 5729, 5962, 1349, 2849], [5579, 492, 5737, 6171, 8486, 7620, 5644, 5474, 5039, 3482, 4378, 3482, 4378, 6397, 1273, 507, 1434], [492, 8211, 5003, 3917, 1423, 492, 507, 2235, 1674, 3614, 254, 6607, 5, 2412, 6397, 1273, 1681, 5003], [7844, 2412, 5474, 2184, 7653, 3489, 3540, 3789, 2496, 6951, 3907, 820, 508, 2887, 1719, 2412, 2751, 2070, 989], [3343, 5338, 5211, 4067, 3789, 862, 5644, 8712, 8610, 6725, 3789, 5474, 7915], [403, 408, 79, 173, 8461, 2311, 1423, 5474, 4338, 7362, 2605], [2279, 1300, 2506, 7410, 8412, 4287, 2412, 6625, 2849, 2214, 254, 3595, 4537], [5211, 5035, 5211, 4216, 1966, 8188, 3789, 7284, 4139, 3907, 4490, 4095, 6872, 4505], [1423, 5762, 4705, 96, 3789, 893, 1749, 3343, 2382, 4477, 7560, 5836], [1273, 6113, 3789, 688, 5160, 961, 6171, 1427, 6821, 4386], [3343, 8610, 3688, 4364, 1234], [5243, 4705, 1967, 1915, 2244, 720, 7098, 6348, 561, 173, 2154, 5243, 254, 1262, 1512, 173, 4516, 6343], [4672, 3758, 2458], [5474, 2997, 3789, 7302, 3789, 2571, 6487], [7560, 4379, 5239, 5371, 2244, 6978, 3238, 5076, 2412, 254, 7568, 756, 1389, 5594, 7169, 6351, 254, 1197, 8040], [2930, 3789, 5074, 1234, 3924, 6397, 492, 2751, 1668, 7626, 5474, 7208, 1202, 4907, 408, 2382, 7742, 2966, 2412, 5474, 6103], [6397, 661, 5474, 5824, 7626, 5174, 7371, 7364], [175, 729, 1301, 6057, 2751, 5729, 922, 3789, 1616, 4705, 7502, 3789, 3996, 3907, 3698, 8283, 5644, 1273, 5618, 1434, 254, 208, 7626, 4655, 2676, 5644, 1434, 7084], [755, 1966, 4263, 4505], [5289, 254, 6465, 3343, 4503, 3907, 175, 300, 6771, 1803, 3287, 3758], [847, 6397, 492, 3343, 4789, 7590, 254, 5810, 939, 2849], [3343, 4438, 5770, 2849, 2881, 939, 173, 2881, 2979], [613, 7560, 555], [492, 1491, 3343, 7538, 5390, 5644, 5474, 4067, 1358, 3907, 492, 4061], [6397, 5729, 3343, 6113, 2849, 2138, 1124, 408, 3343, 3694, 5644, 2751, 8063, 5189], [1725, 2506, 6978, 7887, 2506, 3343, 1676, 2910, 8562, 5345, 2506, 3343, 5441, 6785, 5788, 2374], [1607, 3907, 2268, 7560, 863, 173, 3203, 1915, 720, 151, 6836, 5835, 5644, 376], [555, 5186, 939, 3614, 3640], [2849, 3343, 1867, 5345], [1966, 5174, 56, 2849, 2849, 6656, 6397, 87, 4604, 196, 5474, 5691, 5644, 2430, 8501, 56, 6836, 3639], [6171, 2791, 2244, 5146, 6978, 6118, 3907, 3343, 4863, 6397, 2791, 4523], [1515, 2244, 6717, 6397, 5419, 4640, 2751, 7865, 3789, 5174, 2301, 887, 6397, 1729, 3343, 6113, 6397, 2849, 3259, 1050, 2979], [8459, 6884, 8026], [6374, 5778, 492, 3012, 2244, 720, 7521, 2789, 6821, 6342], [1129, 2303, 325, 6397, 2849, 8555, 7733, 6188, 7560, 1729], [5174, 717, 3343, 5528, 5644, 7695, 7626, 5474, 5197, 3789, 697, 3614, 496, 6397, 6171, 6983, 6158, 5644, 1674, 3055, 3789, 6412], [1129, 2412, 1767, 3269, 2244, 7271, 3343, 1298, 3154, 3907, 3367, 3907, 3343, 6431, 6397, 4186, 842, 254, 1520, 3789, 3389, 5003, 3028, 1132, 720, 7560, 2093], [1767, 4637, 5644, 4379], [720, 2231, 2860, 939, 2849, 173, 1170, 5733, 6301, 3789, 5474, 6564, 7034, 8555, 4133, 1195, 3789, 5174, 2851], [3408, 8097, 173, 2634, 3482, 3962, 2367, 2244, 254, 8366], [6872, 704, 7359, 5419], [5474, 2355, 173, 78, 5722], [7319, 5165, 7452, 8483, 6642, 898, 3022, 4103, 8382, 5887, 6057, 175, 2829, 939, 540, 6872, 4505, 2244, 254], [2849, 3343, 4621, 4403, 3343, 4621, 3031, 1572], [6836, 3566, 7121, 6445, 6836, 6793, 5126, 3907, 6836, 6412, 6294, 6836, 3702], [842, 4705, 3224, 3789, 3624, 2430, 5474, 3435, 2849, 3343, 7895, 62], [173, 8610], [5592, 4598, 2177, 2849, 3343, 2803, 1966, 5722], [4026, 2615, 3343, 6113, 5375], [7560, 93, 254, 3668, 3789, 2856, 3028, 2662, 7560, 3466, 1449, 6397, 2619, 3614, 6978, 7609, 2244, 5474, 3119, 3555, 683, 2927], [1915, 2355, 3907, 4522, 6397, 5729, 1729, 6397, 5729], [3343, 6113, 7560, 2412, 2057, 1423, 7131, 6836, 8156, 1207, 1338], [1432, 1273, 1389, 3107, 2604, 254, 8435, 2979], [5474, 4200, 3614, 1195, 6397, 492, 8147, 5982, 7996, 10, 5644, 7560], [3473, 6397, 2849, 1566, 6059, 6730, 1423, 4058, 5644, 4477, 4595, 6351, 6397, 7943, 7626, 296, 1967], [6397, 3266, 3343, 6722, 2041], [6851, 3789, 3116, 6978, 1558, 3789, 2355, 3907, 3343, 8179, 1590, 3907, 254, 1772, 3835, 3789, 2355, 1844, 3614, 365, 4216], [6397, 3699, 6397, 8097, 2849, 175, 8402], [3343, 6851, 3789, 5746, 5474, 1746, 3789, 849, 2434, 3907, 6872, 1925, 6716, 2412, 5174, 7077], [2849, 6397, 5596, 6171, 5528, 3427, 5644, 4398, 4950, 3343, 6113, 3208, 983], [1423, 173, 5636, 3789, 5216, 3907, 173, 1051, 254, 208, 5039], [5419, 5003, 8373, 5474, 2774, 3789, 3251, 6645, 5778, 5419, 3343, 7163, 4756, 2244, 5791], [5819, 591, 3614, 4364, 5936, 1966, 6397, 1184, 5969, 2311], [254, 2301, 8681, 3907, 7834, 5644, 1958, 5474, 397, 687, 2244, 56, 6309, 6397, 5474, 6569, 6836, 2720, 7626, 5160, 5455, 3755, 8042], [6055, 2922, 1273, 5729, 3907, 5729, 1423, 5014, 254, 6766, 1038], [2614, 408, 3343, 2724, 7208, 2977, 3789, 4199, 2849, 3343, 1491], [3907, 3789, 6328, 7163, 2751, 8063, 3789, 5474, 5936], [939, 6397, 1273, 8486, 5140, 234, 7915], [5892, 56, 6836, 8659, 6637, 261, 4663, 7600], [2849, 3889, 5474, 1729, 7202, 5644, 1195, 4637, 4287, 173, 2382, 4477, 3789, 6351, 2412, 1423], [175, 4705, 5455, 3530, 4398, 2826, 3911, 5474, 6209, 3907, 5644, 5474, 6351, 842, 5174, 7811, 6209, 7560, 413], [3343, 3023, 5174, 8132, 3482, 750, 939, 3343, 6113, 2235, 6397, 492, 3343, 5336, 3907, 492, 3343, 2168], [2244, 6397, 6836, 6734, 3343, 4858], [1574, 173, 2303, 8517, 3688, 3031, 487, 939, 5644, 4203, 3343, 4214, 254, 8094, 1434, 3614, 3031, 5547, 1574], [7705, 6821, 1674, 3135], [2452, 1349, 2791, 3326, 1047, 1674], [5211, 1234, 1966, 5644, 5133, 3789, 2305, 2022], [8049, 1624], [8619, 208, 5863], [3343, 8486, 3789, 2254, 6499, 3116, 5648], [3415, 2751, 6741, 6397, 5003, 6069, 5644, 1673, 3614, 6397, 408, 1273, 5729, 8145], [7506, 3789, 3697, 3789, 79, 2408, 3153, 3986, 1066, 7626, 221, 5545, 2964, 839, 2979, 2764], [3343, 6088, 5474, 7915, 6397, 4195, 5644, 2751, 6643, 6397, 2849, 492, 5474, 3318, 6397, 2849, 1082, 7822], [492, 8211, 4601, 5644, 5474, 4761, 492, 8211, 4601, 5644, 5474, 7210, 939, 5729, 3153, 555, 4108, 3789, 1004], [4622, 5778, 7425, 6611, 1767, 5347, 3907, 1349, 2407, 3888, 3482, 7425, 7368, 4795], [5729, 4796, 7545], [6978, 4204, 1843, 5514, 6993, 173, 4388], [6397, 4796, 6872], [630, 2751, 2550, 5644, 5224, 8147], [8430, 2849, 8267, 408], [7313, 2255, 4296, 2874, 7626, 5174, 8708], [3343, 6811, 3789, 2104, 8339, 5825, 3028, 294, 4913, 2412, 6160, 3789, 1995, 7457, 6397, 2971, 7915, 1626, 7626, 254, 3089, 833], [5520, 2049, 2314, 8708], [5419, 544, 6397, 1566, 4705, 3064, 3789, 6961, 2058, 2097, 3753], [3789, 5306, 4907, 3789, 2205, 4907, 3789, 8028, 6397, 1821, 7662, 3789, 6836, 834, 2412, 1434, 254, 1114], [6573, 4907, 2302], [2059, 5474, 242, 3789, 6547, 3318, 254, 5162], [1129, 5419, 3343, 5003, 5553, 5644, 6181, 8339, 1663, 4287, 3343, 6436, 8050, 3907, 5419, 2303, 6397, 3343, 1372, 5474, 6770], [492, 1491], [5698, 6872, 4364, 2738, 3999, 3907, 6506, 3108, 5644, 6188], [303, 4287, 7070, 210, 5474, 7387, 5644, 4725, 3789, 6873], [5211, 1079, 3789, 5474, 3029, 3343, 1276, 2412, 56, 6836, 598, 3789, 2731], [3343, 2724, 231, 6836, 2328, 3789, 6343, 7000, 4413, 939, 370, 3343, 1369, 6743], [6991, 2412, 1756], [2849, 2881, 2506, 3791, 5174, 528, 3907, 7070, 1273, 2506, 3841, 1273, 2506, 2849, 1512, 1072, 1072, 1072, 3614, 6978, 6157, 3028, 7590, 3907, 3614, 6743, 2480, 208], [555, 370, 1529, 5729, 1282, 6397, 3031], [6430, 2506, 7784, 2506, 3343, 1983, 5438, 3907, 2849, 3343, 5535, 5729], [1423, 6656, 8644, 7186, 5474, 5847, 2862, 5644, 5299], [3715, 6397, 2849, 3614, 1766, 5474, 4950, 3620], [3907, 6397, 254, 6779, 8555, 7560, 8456, 2849, 6215, 1434, 1295], [3343, 6871, 7626, 1295, 7742, 4018, 3789, 8105, 2412, 6653, 6753, 5003, 5729, 943, 2412, 6183, 5533, 5474, 6610, 2412, 5474, 4495, 3614, 5687], [3907, 3789, 2424, 6058, 254, 6706, 1389, 2747, 7626, 4705, 168, 2244, 1713, 1767, 3223, 5644, 346, 3907, 7337, 3343, 4394], [6430, 6397, 254, 822, 6989, 1767, 5005, 5778], [3889, 2849, 3614, 5474, 1336, 6397, 1262, 492, 7968, 939, 2854, 3614, 4705, 1967, 2055], [2849, 5924, 5729, 5474, 979, 3789, 5474, 6945, 1423, 5014, 254, 5005, 3907, 4413, 2922, 5644, 5147, 3907, 1273, 6211], [4301, 5014, 254, 5284, 3496, 4907, 1801, 7626, 8382, 3907, 6171, 8461, 3905, 15, 5644, 7876, 4836], [3620, 555, 173, 4516, 5644, 3342, 173, 6871, 5644, 4756, 4404, 5729, 6784], [3585, 6397, 5174, 658, 6229, 5729, 3789, 5174, 3907, 6397, 5474, 5660, 3614, 5474, 3800, 6397, 863, 5211, 5167, 4203], [4516, 254, 233, 1108, 3789, 8390, 7560, 8331, 7626, 5474, 5455], [3789, 3826, 7261, 3826, 7261], [5419, 2922, 6978, 208, 4364, 178, 6872, 4364, 4796, 6430, 5168], [2412, 1767, 1424, 254, 3655, 8470, 3907, 254, 3655, 3789, 2395, 7163, 3538, 7775, 7770, 7318, 3907, 492, 7427, 3789, 5474, 6963, 3507], [7037, 1898, 2412, 254, 609, 2412, 6978, 5921], [8145, 254, 6974, 1389, 4600, 2382, 7560, 6397, 7834, 5644, 1713, 5729, 1966, 8050, 5474, 7136, 3907, 5345, 7605, 5474, 1463, 7342], [5644, 6171, 6753, 3789, 862, 1108, 6978, 8711, 2244, 4108, 2412, 6978, 3721, 5644, 1767, 7072, 321, 3753, 5167, 6836, 3708], [688, 847, 5003, 3641, 104, 1966, 7784], [2244, 4759, 2506, 3614, 1756], [175, 254, 2219, 1258, 3907, 2751, 2536, 3251], [8610, 37, 3641, 1766], [3614, 4705, 8358, 939, 1423, 1195, 3343, 7837, 4487, 3789, 5474, 5722, 2412, 1367, 3789, 5281, 3343, 6576, 1234], [4826, 3614, 2506, 2412, 1674, 2506, 173, 2123, 7837, 7570, 4043, 7626, 4125, 3789, 4117, 6952, 3758, 5520, 3789, 564, 4009, 3334], [6171, 1471, 5644, 5174, 7371, 6397, 3343, 1624, 4937, 3907, 3343, 1298, 6397, 408, 2059, 7626, 2724, 505], [2523, 5419, 2922, 5174, 208, 3789, 3164, 6397, 1020, 2688, 3109], [3130, 8115, 2412, 3153, 5474, 7263, 408, 1273, 6607, 6397, 2708, 3614, 5644, 1767, 6305, 6098, 254, 6289, 126, 5644, 630, 2849, 2188, 7317, 6522], [5186, 609, 3907, 5729, 934], [173, 226, 8339, 8660, 26, 408, 3343, 3387, 6978, 2015], [137, 3343, 7338, 5644, 3415, 5992, 3482, 2862, 7191, 1966, 3790, 6522, 7829, 3907, 2849, 3343, 6208, 254, 2244, 6397], [1507, 3614, 4364, 5920, 3907, 3614, 7560, 254, 7519, 3551, 3789, 5722], [2244, 5474, 5790, 5778, 7202, 2751, 1715, 2676], [863, 4106, 5778, 6872, 5158, 8456, 2058], [6061, 5729, 5474, 4403, 2506, 254, 5441], [3651, 491, 8173, 4487, 2577, 208], [5174, 6088, 7878, 6978, 4698, 7626, 720, 3620], [1764, 1715, 1716, 5481, 507, 4705, 820, 2798, 6113, 5729, 7784, 4534, 7560, 3614, 254, 5167, 2465], [3343, 6637, 3482, 7502, 3907, 3482, 7416, 2244, 5547, 6785, 729, 5076, 6579, 3907, 5762, 895, 2244, 2260, 5892, 2244, 5474, 1461, 2979], [3343, 8319, 254, 921], [6886, 2849, 3343, 2033, 5644, 1674, 5543, 3789, 6812, 525], [4622, 3781, 7459, 3789, 3415, 5644, 4533, 7740, 6587, 4796, 3789, 7945], [8619, 208, 6492, 6633, 6397, 7313, 6178, 2244, 3389, 4714, 6397, 492, 2984, 4761], [3389, 5921, 5211, 6631, 2244, 8105, 4581], [2849, 7163, 7626, 5211, 5455], [3031, 5373, 1729, 3907, 555, 813, 3789, 5474, 231], [3343, 4191, 6978, 8723, 3907, 6656, 6397, 3688, 5474, 1967, 5186, 7869, 1966, 4145, 1047, 2676, 3789, 7943], [2244, 408, 2751, 3104, 1262, 5644, 862, 6192], [555, 175, 2235, 3789, 6397, 3343, 6582, 3907, 6397, 1515, 5299], [118, 6528, 6238, 6978, 7548, 5137, 254, 4364, 8456, 3907, 1434, 2412, 3119], [5644, 630, 2246, 1810, 6872, 7033], [2201, 5474, 8571, 6397, 3032, 2412, 1118], [8084, 1423, 4853, 1338, 1966, 6397, 1479, 254, 6867, 5257, 3907, 492, 173, 2382, 5885, 2827, 5345], [941, 6872, 1207, 1524], [2430, 540, 2412, 459, 6171, 6871, 5644, 1449, 3028, 7207, 7740, 2979], [688, 8211, 7489, 4705, 604, 3789, 5474, 3164, 2412, 698, 5474, 111, 2137, 1444], [5806, 2849, 4597, 1273, 5762, 1844, 5644, 126, 2244, 4478, 2849, 492, 3284, 5644, 2731], [5304, 131, 5474, 5936, 3907, 5778, 2849, 175, 400, 1273, 8198, 3789, 1434, 3614, 6397, 8097, 175, 1124, 3789, 8644], [6397, 6353, 2298, 254, 695], [173, 8610, 7037, 8619, 208, 254, 2465, 3614, 2412, 1756], [3343, 4214, 254, 7740, 3789, 7075, 254, 1389, 528, 498], [7193, 4317, 4853, 4487, 2784], [1051, 6872, 1529, 1234, 3343, 3306, 4287, 8101, 254, 208], [4060, 6851, 3789, 3415, 5644, 6978, 1301, 2681, 4287, 1351, 111, 206, 3907, 3343, 5003, 1390, 939], [5160, 4357, 3894], [5221, 6397, 3688, 4705, 2335, 829, 6978, 2194, 3789, 4067, 3907, 4705, 3139, 5520], [4977, 3789, 3031, 1707, 3282, 420, 1262, 5870, 5420, 2927, 5644, 1767, 717, 2849, 5474, 731, 3614, 7356, 4705, 757, 3789, 8610, 5345, 254], [6821, 6397, 5474, 2308, 3385, 5644, 982, 3482, 180, 7817, 8303, 254, 6141, 3385, 5644, 3116, 1407, 3907, 48, 3482, 2862, 7191], [7163, 7626, 1273, 4186, 3343, 4861, 3773, 8451, 5247, 1389, 10, 1259, 2506, 6872, 5733, 1047, 4398, 4950, 3907, 3343, 4861, 1825, 5644, 3805, 5474, 5455], [1883, 1416, 2433, 4950, 6397, 173, 1316, 254, 5498, 8619], [5536, 5520], [7784, 8251, 6397, 7497, 7626, 254, 2618, 1389, 4277, 3775, 3789, 5474, 7567, 6632, 5042, 2506, 6510, 2098, 3028, 131, 3907, 5211, 7076], [1300, 6397, 1423, 7106, 1674, 3327, 2849, 3343, 7036, 8644, 2738, 5856, 939, 1273, 3032, 6397, 3116, 3999, 6397, 1273, 5535], [2849, 1273, 1493, 939, 296, 4202, 3343, 5211, 5418, 704, 525, 7911, 6397, 159, 4389, 1195], [3614, 2691, 8382, 6397, 173, 6983, 4705, 7844], [175, 4397, 2412, 5474, 3425, 6397, 6361], [4595, 208, 173, 6722, 5729, 1607, 3907, 6397, 1607, 1572, 6298, 2754, 6821, 540, 6135, 6821, 3917, 257], [5419, 2849, 2922, 6978, 208, 6353], [2959, 2228, 6872, 8412, 7626, 5474, 7915, 3789, 296, 2855, 4595, 208, 2279, 2188, 5186], [2235, 3789, 2211, 5644, 4398, 5863, 2650, 2357, 6183], [5778, 4287, 4352, 254, 4472], [5778, 4133, 5474, 7844], [2849, 4288, 7093, 6236, 4655, 6959, 3789, 8390, 1372, 5644, 4398, 2313], [2751, 478, 3605, 6397, 492, 7121, 1423, 5481, 5211, 4134], [6017, 3789, 6853, 582, 3065, 3907, 7482, 939, 720, 2849, 385, 6397, 1767, 4748, 1645, 8078, 6654, 492], [3713, 902, 1273, 7968], [2791, 5444, 2277, 3907, 8682, 729, 3789, 6978, 3548, 7626, 7811, 1423, 2840, 7313, 4171, 2910, 1207, 6573, 849, 4043, 8682, 2277, 7626, 3552], [4066, 5003, 6675, 173, 1273, 2634, 7560, 862, 3907, 2138, 4705, 8382, 3907, 7396, 5729, 2607, 6397, 6836, 3789, 2671, 5221, 2525], [492, 6397, 173, 4236, 6952, 939, 4821, 555, 6872, 540], [5419, 6397, 6872, 1234, 5644, 5474, 7915, 6171, 6113, 7626, 4060], [1358, 2014, 3343, 4416, 5474, 4529], [2276, 5160, 3164], [8619, 208, 1389, 6062, 2279, 3061, 3389, 7737, 1966, 6397, 6171, 7520, 729, 537, 5644, 296, 1967, 104, 6397, 2673, 5003, 105, 7560, 1821, 154], [2382, 7742, 6397, 2849, 3343, 1274, 5345, 2849, 1434, 3614, 2827, 2849, 1434, 3614, 8702, 6743, 6875, 4007], [3614, 6397, 2263, 3563, 4637, 6298, 1231, 3907, 7344, 6391, 2412, 1756, 6728, 173, 1987, 1285, 5644, 4203, 3907, 2849, 5644, 5850], [3907, 555, 1273, 1563, 4043, 254, 6107], [6171, 4384, 3907, 492, 1491, 3907, 408, 2849, 6171, 4533, 492, 1451, 4106], [4622, 2111, 1389, 2022, 8259, 3789, 1273, 1732, 2785, 4637, 2412, 5211, 4761], [5729, 8562, 2849, 8211, 7917, 254, 1871, 3789, 3389, 7003], [4388, 5644, 5174, 756], [2881, 7324, 6573], [3907, 2827, 3869, 3789, 6580, 2244, 5419, 6397, 4043, 7413, 2791, 4364, 2058, 7626, 5474, 3710, 3789, 875, 3907, 254, 6113, 4223, 3789, 2924, 2244, 254, 6104], [3343, 4565, 8285, 7626, 84, 7077, 3907, 1637, 5474, 1207, 3306, 7560, 863], [4622, 5403, 2849, 6215, 5722], [5239, 3028, 3620, 6397, 4655, 3343, 8168, 3022], [2607, 4950, 4861, 3773, 254, 2161, 7626, 7425, 2255, 7058, 2866, 1614, 5081, 5039, 5318], [3028, 6034, 3789, 5474, 87, 863, 492, 3201, 5474, 4359], [5419, 2922, 6978, 5955, 208, 6397, 4077], [5252, 4563, 408, 175, 2829, 3907, 2849, 3343, 1218, 4294], [1195, 6397, 159, 6949, 2412, 5865, 5422, 2412, 5474, 4038, 6743], [842, 2506, 3343, 6576, 5644, 857, 1349, 7560, 1452, 6539], [6397, 6743, 6032, 4705, 5494, 3471], [7037, 555, 2849, 2827, 408, 2827, 2849, 2827, 2849, 492, 3758], [5727, 3789, 5806, 5644, 5550, 287, 4637, 1966, 652, 5474, 1058, 3301, 6371, 5644, 5174, 8708, 4637, 6978, 6062, 8211, 3116, 720], [555, 2412, 5592, 6222, 5604, 5644, 5788, 1866, 3789, 6978, 208, 3789, 1040], [6545, 2412, 1273, 5729, 287, 2694, 8619, 208, 1966, 3342, 173, 4516, 3907, 4388, 5856], [5778, 3343, 6871, 5644, 4217, 254, 5698, 2849, 7163, 3116, 5722, 7626, 254, 7626, 1273, 2861, 6397, 5211], [6811, 2570, 8483, 459, 3159, 5474, 1874, 7626, 7003], [1047, 4894, 3789, 8416, 1966, 4477, 725, 1273, 8702], [6430, 4705, 7655, 3789, 2395, 6801, 433], [5419, 3614, 351, 3789, 3624, 182, 2430, 2849, 7163, 62, 3907, 8097, 175, 6397, 455, 6397, 3699], [3057, 692, 3614, 6978, 4214, 8129, 3343, 2356, 3031, 6690, 2328, 4479, 2244, 8715, 2575], [2849, 3822, 926, 6397, 254, 1262, 4346, 2281, 3614, 3415, 5644, 6978, 6017, 4471, 1407, 3907, 4505], [7194, 939, 2506, 3496, 1432, 5211, 4471, 296, 6391, 6397, 7294, 3789, 720], [6871, 5644, 3415, 4705, 7655, 5345, 6771, 1497, 2244, 6397, 2849, 3614, 6771, 4513], [3907, 5215, 173, 8077, 2244, 3031, 5194, 6250, 3907, 3031, 4533, 4214, 6534, 3753], [175, 6397, 862, 7899, 4043, 2751, 6918, 3907, 5778, 175, 4655, 400], [6504, 507, 8173, 1434, 254, 208, 2014, 7899, 5644, 4400, 3907, 7626, 6836, 7359, 6761], [3614, 7742, 8198, 6785, 1273, 2506, 2334, 254, 115, 6785, 8501, 6658, 1566, 6362, 7524, 511, 5381, 2522, 7210], [4724, 3907, 555, 6806, 1195, 3941, 7560, 8147, 5644, 3888, 720], [1263, 1129, 555, 2412, 1767, 6103, 6927], [8610, 622, 5211, 1434, 254, 174, 2058, 3907, 8055, 4907, 3924, 6397, 413, 5547, 175, 555], [1566, 4706, 725, 254, 2431, 492, 8538], [6034, 8378, 2062, 2979], [5474, 708, 5729, 3305, 3614, 254], [408, 7784, 6246, 2104, 729, 7881, 2849, 3343, 1491], [4538, 3789, 1387], [2244, 6978, 5, 847, 6397, 3644, 7284, 5644, 7317, 8682, 7784], [5778, 2791, 2207, 3907, 2849, 492, 2244, 6397, 3343, 4394], [3343, 3705, 2244, 3415, 5474, 7523, 3789, 2344, 3907, 2375], [2244, 181, 6032, 5239, 5644, 6791, 6978, 6569, 7560, 1966, 6845, 7626, 8066, 462, 3614, 5474, 4495, 6397, 8673, 4067, 6739, 816], [8248, 408, 3268, 492, 1353, 2244, 5078, 8211, 4264, 5211, 2412, 1764, 2536, 2979], [84, 5174, 8445, 3907, 2334, 4668, 2412, 5174, 4647, 2412, 5964, 7029, 5729, 196, 7622, 335, 5419, 5644, 2751, 4396, 229], [5520, 5403, 7626, 6836, 3828], [4429, 7330, 2412, 8587, 4326, 3907, 7937, 4089, 254, 5414, 2849, 2269, 6057, 1931, 7730, 1594, 4448], [6397, 4007, 492, 6514, 5211, 3368, 4761, 5778, 2849, 4196, 1273, 6397, 2910, 862, 2412, 5174, 6103, 5644, 2751, 8018, 658], [3343, 6872, 7520, 254, 8692, 4364, 2412, 1756], [3907, 555, 1273, 6607, 6397, 2881, 3614, 6397, 7351, 2244, 5174, 2244, 7425], [1273, 8198, 3614, 6397, 2791, 4708, 1207, 2766, 3907, 492, 3343, 1207, 3039, 5474, 4584, 3789, 511, 3620], [6864, 829, 1295, 3907, 6836, 234, 8133, 3789, 254, 7648, 492, 8081, 3305, 1966, 4853, 7035, 3753], [2849, 2910, 1273, 6397, 7131, 939, 6872, 8261, 3719], [5855, 3758], [555, 2849, 175, 3164, 2412, 1295, 3435, 3259, 2786, 1444], [6397, 7497, 6397, 408, 2849, 5243, 7784, 1957, 2849, 173, 7121, 2412, 1756, 4907, 6397], [5778, 6901, 3907, 7538, 254, 5490], [6397, 4655, 325, 2412, 1434, 3907, 6397, 492, 3343, 4755, 2751, 8716, 6872, 3641, 6743], [2849, 3343, 1491, 3614, 4705, 757, 3343, 2033, 5644, 6962, 6978, 10, 7409, 6659, 6397, 6353, 1695], [2688, 4487, 4058, 4487, 8103, 7356, 3318, 835, 507, 1627, 3789, 4487, 6827, 3343, 3419, 6528, 3789, 1295], [4450, 6993, 6800, 4311, 5644, 5174, 370, 492, 3343, 7497], [2244, 5788, 7191, 8610, 6397, 3343, 3977, 477, 6397, 2849, 731, 2412, 7921, 3614, 7560, 4663, 2849, 492, 884, 1089], [6397, 511, 1805, 6397, 5481, 2849, 3614, 4056, 1966, 5722, 6057, 1966, 4403, 6594, 241, 6397, 5778, 6057, 555, 3343, 3512], [8198, 2506, 688], [408, 3614, 4364, 3027, 3343, 571, 1680, 4487], [8014, 3153, 6836, 1498, 5014, 6762, 6263, 3369, 3569, 8315, 6573, 4024, 4796, 3678, 4024, 196, 2254, 4637, 3482, 1515, 3789, 3249], [727, 3614, 6397, 5778, 3343, 4565, 4134, 296], [2910, 2412, 1756, 1273, 5243], [3758, 8501, 1183, 7037], [6013, 1681, 5701, 6397, 5211, 2387, 7034], [1566, 4950, 6397, 2849, 2303, 6157, 5644, 1750, 3907, 3343, 7750, 2617], [6872, 1234, 2254, 2244, 1050, 5644, 1951, 3907, 3962, 6978, 6308, 745], [6397, 4895, 2849, 3790, 62, 3907, 2138, 6397, 862, 2412, 5753, 2412, 729, 5692], [2849, 1566, 8198, 609, 6397, 254, 6397, 2849, 492, 6113, 2244, 2235, 5644, 6397, 173, 5665], [5073, 3343, 7457, 6397, 5174, 2829, 5211, 6538, 7626, 3342, 5506, 5644, 7530, 408, 4352, 3907, 5474, 7208, 370], [2849, 1566, 3323, 1966, 254, 4416], [5520, 330, 8501, 3956], [2729, 254, 4214, 2244, 6836, 1118, 3907, 254, 8610, 2244, 254, 5125, 3789, 6836, 2826], [6397, 3614, 242, 3789, 3254, 4705, 4551, 3907, 3789, 4866], [262, 3789, 573, 3907, 679, 3078, 2244, 478, 7770, 1432, 939, 525, 5345, 6782, 1677], [7460, 2849, 5429, 6872, 3977, 2766, 8174, 3789, 259, 1966, 6397, 717, 4794, 173, 5596], [6728, 2849, 6983, 6978, 4576, 3745, 829, 4398, 6492, 3789, 2395], [6397, 3641, 6112, 1681, 862, 1966, 2029, 2373, 2412, 4705, 5172, 630, 173, 1512, 5856, 6941], [3032, 1207, 7076, 1673, 1182], [5769, 1452, 679], [1124, 7426, 6397, 1220, 5174, 8668, 8291, 7373, 5644, 1520, 5256, 3907, 719, 5390, 5644, 4595, 7436], [7705, 7560, 1423, 173, 2034], [2412, 6598, 5, 2438, 2244, 5474, 7430, 3907, 7837, 4705, 8230, 3841, 1389, 6967, 6397, 1566, 2235], [2244, 8715], [6397, 3924, 1273, 6397, 6717, 4721, 6397, 3924], [4477, 863, 4861, 1917, 5729, 1766, 6397, 397, 2244, 6397, 4853, 6743], [6734, 413, 6991, 4330], [4604, 720, 2303, 7950, 5474, 511], [6399, 7029, 1280, 1195, 8562, 3706, 175, 2235, 3789, 3717, 1349], [2827, 5644, 5592, 6171, 2915, 8455, 1449, 4595, 4950, 3889], [7784, 492, 1491, 6323], [525, 3343, 6113, 8412], [8097, 7397, 56, 492, 6919, 5644, 2029, 6388, 6135, 3789, 5474, 2184, 3026, 4571], [254, 6397, 7538, 1540, 5644, 1767, 8407, 3907, 3032, 2488, 2412, 1434, 3302], [3688, 6978, 4823, 3031, 2412, 5174, 5269, 6445, 3907, 555, 2412, 4203, 1149, 6978, 400, 179, 6342, 6397, 3190], [1349, 1563, 5474, 6272, 3789, 5940, 5644, 3720, 7487, 4663], [4747, 5474, 1282, 8689, 6171, 6415, 4705, 971, 3789, 5492, 2244, 4294, 3789, 1767, 6791, 3907, 5080, 5474, 6969, 7626, 5810, 173, 5250, 6397], [408, 939, 3614, 3789, 2395, 2849, 492, 408, 173, 4696, 1674, 5543, 3789, 8473, 983], [5720, 6236, 4655, 6959, 2412, 8390, 5474, 5105, 3804, 6397, 3343, 4852, 2307, 6872, 1896, 2244, 6397, 5474, 4761, 3343, 2382, 3889], [4317, 6659, 296, 96, 1176, 5003, 1109, 2132], [5367, 5211, 1343, 6821, 254, 208, 6397, 492, 2861, 254, 2789, 3614, 6397, 492, 7313, 6058, 5474, 4478, 7499], [7834, 1262, 6445, 3153, 630, 2479, 3031, 688, 3614, 8576, 6397, 5243, 2334, 8050, 3789, 5003, 8619, 3482, 381], [1273, 2827, 3614, 6397, 3343, 5762, 3789, 6345, 3907, 4403, 8251, 2160, 1073], [5927, 5964, 254, 2761, 1779, 5419, 1729], [1445, 5474, 7226, 492, 1491, 4287, 3343, 1489, 3907, 2279, 3061, 5474, 1968, 7037, 408, 492, 2223, 3028, 5028, 3614, 8478, 3789, 4403], [2751, 974, 2718, 5474, 2355, 6397, 2435, 254, 5596], [2725, 6027, 3789, 40, 5552, 2412, 5474, 2855, 3789, 5474, 2620, 2533], [6397, 2979, 6397, 254, 6029, 3924, 6573, 3907, 173, 1121, 5474, 4761], [3789, 4391, 6397, 2849, 6215, 254, 8272, 7626, 7115, 408, 1966, 6836, 7472, 7163, 6399, 6346, 939, 5644, 6978, 5853, 4287, 7208, 4950, 2849, 2910], [1891, 3907, 254, 5490, 3789, 4161, 2008, 8594, 3789, 1273, 1732], [630, 6773, 2412, 3031, 3433, 3775, 5644, 7951, 3031, 3284, 720, 5658, 2412, 6978, 2765, 6397, 2254, 492, 3961], [3343, 6509, 5644, 5474, 4778, 7012, 6836, 5742, 1966, 2849, 8553, 5644, 4403], [7538, 3924, 254, 6397, 8450, 5521, 3789, 5174], [492, 5022, 2412, 6341, 2849, 1626], [408, 2895, 5635, 5644, 6978, 6717, 5474, 7915, 7895, 3789, 6617, 2412, 254, 254, 2789, 492, 3854, 3789, 7939, 3907, 2704, 6836, 7302], [7297, 1195, 8198, 6397, 7916, 6978, 7487], [5644, 242, 3789, 1434, 5243, 254, 1262, 7072], [3343, 6113, 6066, 2849, 5668, 5345], [5419, 492, 8501, 5373, 7742, 7968, 5423, 6397, 3031, 6445, 492, 2995, 5644, 1892, 464, 2412, 3031, 4978], [5778, 6057, 3530, 5211, 7886, 5474, 7245, 7570, 3789, 2194, 4523], [408, 3343, 6537, 2849, 3343, 1491], [1556, 254, 2725, 5538, 1434, 5174, 8720, 492, 922], [492, 7834, 1410, 408, 3201, 1434, 1295], [3318, 4766, 6598], [3343, 4272, 5474, 1996, 2412, 2751, 1715, 3343, 6113, 2235, 3894], [7560, 6397, 4681, 1389, 8045, 6171, 5211, 6120, 5474, 4696, 5644, 2269], [4637, 5397, 6821, 8188, 7560, 5474, 1040, 3185, 1389, 4974, 3789, 2751, 938], [1051, 1075, 5140], [5737, 3660, 3007, 56, 2244, 421, 4328], [3416, 3028, 603, 1520, 3789, 5600, 1803, 6725, 7844, 3415, 5644, 6736, 3349, 7626, 4309, 8531, 5644, 4274, 5778, 492, 6872, 7963, 3789, 8094], [1051, 5806, 863, 862, 7871, 5345, 842, 1195, 6122, 7121], [6743, 2244, 5547, 4314, 6743], [6978, 5698, 4364, 5212, 5644, 6836, 6397, 6872, 8137, 5644, 6972, 2922, 254, 3789, 5419], [4060, 6397, 6924, 2724, 6836, 494, 6397, 6166, 1426, 3789, 1273, 5786, 6397, 3614, 3800, 3907, 863, 6811, 2412, 254, 2093, 4907, 254, 3668], [175, 2795, 1301, 3789, 3888, 5644, 5175, 1349, 5167, 320, 6978, 10, 5474, 7059, 3907, 254, 1491, 3907, 325, 4487, 2506, 6871, 5644, 3116], [5778, 8629, 173, 1914], [6872, 4471, 6978, 6856, 3789, 6836, 5961, 5625, 3907, 6872, 3028, 805, 1389, 955, 5140, 4287, 3343, 5211, 5474, 6978, 4750], [3343, 8707, 4214, 5474, 8493, 3789, 6397, 7070, 2456, 1672, 5997, 3907, 492, 2751, 100, 8412], [3024, 6347, 6158, 1966, 477, 2268, 7560, 5563, 5644, 2751, 477, 6397, 525, 2173, 6397, 3614, 496, 254, 1113, 3907, 6978, 3918, 5644, 6978, 5005], [6872, 7033, 8088, 175, 7191], [3960, 4202, 6873, 3789, 6598, 1309, 4559, 4907, 788], [2412, 254, 697, 4866, 5644, 6836, 1287, 5644, 6836, 8554, 582, 408, 4907, 408, 939, 1165, 6978, 550, 6397, 2656, 4886, 6065, 6461], [1015, 3482, 7003, 2244, 254, 5, 1434, 7834, 4487], [847, 6397, 3028, 5746, 3343, 7183, 400, 939, 5722], [7104, 7104, 2751, 1931, 1883, 5729, 7991, 2412, 5174, 4761], [5778, 6872, 1234, 2244, 3415, 254, 6034, 3789, 6928], [1100, 1629, 4663, 3620, 5474, 1262, 7626, 3342], [5474, 658, 5211, 8690], [4413, 3789, 1434, 525, 3343, 5855, 4534, 173, 4388], [2110, 3389, 5, 7313, 5211, 3326, 3907, 492, 2382, 254, 5615, 3907, 335, 3277, 6171, 507, 6158, 5644, 5474, 2748], [426, 1929, 1966, 2554, 909, 6397, 1608, 3614, 5481, 3907, 7121, 254, 351], [8178, 4705, 8428, 2412, 5474, 6397, 6487, 492, 4606, 1389, 6645, 4600, 3028, 2011, 7458, 2244, 5186, 3789, 1273, 6397, 2407, 1713, 2244, 4267, 911, 7184], [5419, 4628, 6659, 3732, 555, 2881, 62, 5419], [3343, 3435, 3614, 704, 8562, 2849, 3512, 6171, 3512, 6057, 3343, 3512], [6397, 658, 850, 213, 122, 1444], [3907, 2244, 5474, 1040, 3789, 6348, 7359, 6215, 254, 341, 2235], [3614, 2244, 8715, 688, 3343, 7750, 5722, 5729, 6397, 2930, 4705, 5039, 2849, 5567, 2254, 5770, 3945, 8584], [2244, 6397, 2849, 3329, 8402, 2412, 5174, 2357, 2849, 3284, 5474, 4466], [939, 3614, 6397, 5644, 5174, 3343, 6436, 1358, 939, 408, 5778, 1980, 2192, 1914], [1287, 5354, 6836, 5217, 5644, 3790, 2412, 254, 5086, 3789, 3800, 2412, 2751, 1436, 5237, 254, 1420, 2979, 7198], [3758, 3614, 4705, 1058, 7213, 5840, 939, 3721, 3854, 4364, 4753, 5474, 4391, 633], [7163, 1818, 6437, 3907, 1273, 3688, 939, 7930, 3688, 4705, 1760, 7626, 5160, 5455, 2355, 3907, 7577, 2412, 5474, 6858, 6785], [6598, 1966, 4398, 6294, 5644, 242, 1389, 88, 3986, 7313, 2382, 7129, 3907, 10, 4713], [3728, 3031, 2222, 3614, 2662, 5778, 6175, 5644, 857], [296, 445, 1929, 3614, 5474, 2289, 5729, 661, 6397, 175, 2412, 3389, 3160], [175, 4705, 6712, 3789, 2652, 7626, 3198, 4705, 4894, 7626, 4398, 528, 417, 3343, 7457, 5520, 5474, 8493, 6739, 6397, 5722, 3088, 829, 7425], [5318, 3905, 3081, 1389, 6857, 6636, 2352, 5644, 6978, 19], [6397, 3640, 8097, 1779, 5644, 6696], [6598, 3804, 4907, 8222, 8251, 6397, 1273, 1262, 1966, 6397, 6978, 4977, 2823, 1273, 6397, 8495, 3614, 506, 2212, 1273, 686, 2979], [5174, 5736, 5419, 7413, 492, 1049, 1389, 7231, 3907, 2849, 1493, 5474, 3699, 3907, 254, 2893, 6397, 3343, 6113, 3789, 254], [2849, 3343, 6871, 2771, 296, 7523, 568], [1423, 3343, 6253, 173, 6871, 5644, 1449, 1195, 939, 2849, 2303, 6397, 173, 1170, 5778, 6872, 8430, 2412, 6978, 5046], [3482, 926, 2244, 4382, 1349, 3343, 6531, 1679, 3789, 2138, 6836, 3131, 4142, 3907, 5474, 3435, 780], [1423, 3342, 3907, 56, 6836, 2506, 173, 3596, 1580, 7626, 4705, 4478, 7626, 3583, 2840, 7337, 6871, 5644, 6402, 6397, 2531, 5474, 2065, 2724, 1729], [6397, 84, 7077, 5309, 4477, 5644, 7784, 1423, 173, 8243, 5543, 6397, 173, 3287, 5474, 5039], [939, 3028, 1078, 1349, 1220, 8147, 8147, 5406], [2115, 555, 5166, 5444, 6183, 8339, 2412, 6870, 1966, 6522, 3614, 6397, 893, 3614, 7208, 4950, 1767, 4584, 3614, 6835, 3907, 6183, 974, 1434], [2849, 6215, 4287, 175, 6397, 455, 6978, 7487, 2849, 432], [3389, 5921, 4861, 7033, 5644, 6836, 3673], [5778, 3343, 8461, 7260, 254, 1387, 2068, 2412, 1125], [5265, 1950, 3473, 6397, 173, 7527, 5243, 5174, 5896, 5602, 4516, 1273, 661, 6397, 5243, 3907, 6397, 863, 173, 2598, 2244, 6836, 5237], [7626, 6397, 3343, 5367, 8097, 1452, 3224], [939, 2244, 396, 2412, 5174, 4761, 3907, 6589, 863, 3789, 5039, 3907, 609, 6836, 4516, 7169, 2471], [299, 5778, 2231, 3614, 8097, 4637, 3962, 6978, 208, 2849, 5186, 7560, 8660, 3191, 1729], [3614, 6681, 862, 5596, 3907, 5003, 8619, 6397, 5003, 496, 3907, 3065], [5644, 1580, 6113, 5474, 3190, 3789, 8714, 7911, 6397, 5211, 3641, 2254, 4287, 5644, 242, 3789, 1434, 3343, 8319, 525, 1273, 6397, 6171, 1131, 3907, 5596, 3789, 6972], [1423, 2109, 4201, 1389, 6077, 492, 7212, 2412, 4203, 7560, 6978, 4670, 2412, 254, 5698, 173, 1273, 8495, 3429, 939, 2849, 492, 8211], [6158, 1273, 2982, 5474, 2977, 8143, 1493, 5729, 3789, 5174, 4761, 2506, 555, 4495], [2849, 3614, 2056, 7626, 370, 2677, 2412, 416, 1585, 3907, 5419, 5014, 7626, 254, 300, 1262, 3211, 939, 2827, 5215, 2407, 6978, 4396], [3482, 2927, 939, 4867, 1434, 1273, 6397, 3668, 2412, 254, 174], [1302, 7037, 5520, 5474, 1262, 2793], [7234, 7834, 5644, 862, 3905, 7190, 6397, 7077, 5419, 492, 8251, 5644, 6397, 242, 3614], [8063, 6029, 7036, 5644, 5474, 2319, 7457, 3154, 939, 3614, 6029, 1262, 3343, 226, 5247, 3789, 6397, 113, 1931, 4379, 1580, 6896], [7037, 947, 1760, 6397, 492, 8311, 3789, 6112], [3733, 5474, 6129, 5474, 5039, 3907, 2751, 477], [175, 2235, 3789, 3116, 7227], [1586, 2041], [8097, 3318, 5474, 6496], [1273, 6607, 6397, 3343, 5211, 6638, 4487, 3389, 6308, 3614, 2687], [3907, 555, 6397, 4637, 4606, 5644, 62, 6978, 2747, 3343, 5261, 5644, 2751, 8063, 3907, 2840, 3343, 8707], [5778, 3343, 4565, 6167, 847, 6397, 4637, 2910, 5174, 3092], [4853, 5644, 3769, 620, 3789, 3036, 5644, 2408, 2827, 5644, 5186, 5644, 1931, 887, 5399], [5474, 4391, 6397, 5520, 3224, 5474, 1131, 1915, 7626, 4398, 2289, 5474, 542, 3907, 5474, 8067], [2303, 1050, 5644, 1273, 1389, 3154, 939, 3343, 7663, 254, 8112], [2766, 5174, 6301, 2791, 8173, 3907, 492, 1149, 6978, 3371, 1529, 5438, 3907, 3789, 492, 8681, 1390, 3907, 8179, 7342], [2849, 7163, 6617, 6397, 3343, 2971, 1994, 5644, 5146, 6978, 7195, 1966, 5906, 911, 2244, 6717], [254, 6607, 2431, 3789, 2138, 4705, 640, 6397, 768, 5596, 6351, 3789, 893], [1058, 3343, 4804, 5474, 1565, 3789, 2038, 7560, 408, 481, 1000, 1195, 1844, 4749, 5671], [492, 6397, 5347, 5174, 2688, 5345, 6391, 1295, 5174, 609, 8619, 3476, 841], [7626, 2849, 7080, 6057, 2013, 5778, 7313, 973, 4189, 939, 2244, 3550, 1566, 7915, 2506, 2849, 3614, 8050, 6057, 3789, 720], [540, 7886, 5474, 6833, 3789, 2328, 6836, 335], [6216, 7573, 555, 173, 2093, 3907, 3031, 3343, 7857, 5345, 6113, 4214], [4907, 5174, 2863, 1097, 3935, 4907, 492, 1007, 2412, 254, 2863, 5729, 4134, 3789, 5474, 1746], [1805, 7560, 6978, 5520, 8532, 2412, 254, 5017, 1273, 8198], [6872, 1338, 3789, 6397, 7501, 1966, 3415, 7560, 1645, 7626, 254, 6523], [3758, 1129, 3614, 6397, 3343, 1491, 1273, 6397, 3343, 1725, 4637, 3343, 7943, 2244, 254], [2849, 6957, 4487, 7160, 503, 3809, 6978, 5617, 6836, 6397, 7163, 5345, 8467, 1566, 6397, 8060], [6871, 5644, 6825, 3789, 2849, 5003, 3641, 8402, 4449, 7742, 2849, 3343, 524], [8619, 208], [5778, 492, 1491, 254, 4864, 3620], [2255, 2412, 1585, 2412, 3789, 5003, 7321, 1047, 254, 2258, 5687, 3789, 6978, 6080, 7413, 2412, 4600], [6978, 4214, 862, 7626, 3907], [2244, 6397, 2849, 7449, 8402, 2412, 5174, 2357, 2849, 3284, 5474, 4466], [6397, 788, 6725, 3789, 7784, 6397, 2849, 6229, 3789, 4203], [3833, 6949, 1810, 4588, 1128, 2258, 6003, 6244, 7521, 2339], [4705, 3191, 492, 2791, 3991, 1389, 5487, 6397, 4195, 4471, 4652, 2412, 6626, 939, 4675, 492, 1491, 3530, 2849, 6171, 4741, 4705, 6307, 7626, 1297, 6065], [3343, 3039, 254, 208, 6397, 511, 3753], [2244, 5729, 6596, 6397, 3389, 7626, 1423, 5762, 5474, 6332, 3789, 6397, 254, 3343, 997, 492, 3343, 7497, 254, 1491], [5442, 8559, 1931, 582, 3789, 4370, 3907, 492, 1609, 7626, 2930], [3174, 3311, 2412, 154, 1745, 1966, 6620, 5832, 2144, 2734, 7348, 2093, 5644, 5474, 573], [6978, 208, 3154, 2751, 952, 6397, 3343, 1295, 3907, 5474, 3789, 5174, 1715, 3343, 2751, 835, 2412, 254, 1449, 3284, 6397, 3343, 5474, 1624, 5174, 749, 3907, 6171, 8152, 4487], [4622, 984, 3758], [8682, 6758, 3789, 1320, 5419, 6397, 6989, 5174, 6164, 3907, 3343, 2791, 3171, 3789, 1434], [2598, 3789, 4311, 7626, 6821, 3302], [1295, 492, 8211, 3889, 6811, 2412, 3835, 3789, 3472], [1821, 6351, 254, 3389, 1529, 6494, 939, 555, 6872, 1529, 5733, 3789, 5174, 847, 6397, 688, 3942, 1195, 5345], [2382, 4705, 242, 5211, 154, 3108, 5644, 3254], [3343, 2998, 6397, 7947, 6836, 7590, 3028, 1818, 6171, 7834, 4487, 3907, 6397, 242, 5644, 6978, 3368, 1967, 3343, 8486, 4965, 720, 6171, 2011, 1273, 1262, 863], [2214, 5729, 5644, 1273, 6397, 2849, 1681, 3415, 6397, 5644, 1273, 6397, 6722, 3907, 173, 2382, 5729, 6941], [5644, 1580, 6113, 6397, 5474, 7660, 3614, 5729, 6353], [8467, 5592, 5401, 2081, 6960, 3433], [2244, 131, 4705, 4761, 283, 5644, 5474, 5660, 6397, 5481, 1757, 6836, 6397, 8501, 863, 6836, 3789, 4391, 8619, 208], [5778, 5211, 6323, 254, 7871, 4705, 653, 5186], [4564, 1273, 2556, 735, 939], [254, 8094, 3383, 2314, 4364, 4134, 3482, 254, 5696, 3907, 3482, 8579], [8328, 3789, 4207, 3907, 3789, 3164, 6397, 175], [7527, 6372, 408, 735, 939], [3851, 3851, 591, 3851], [56, 6836, 182, 173, 721, 6836, 7122], [6728, 2303, 1917, 1195, 5729, 1844, 5345, 1821, 6351, 492, 2971, 8181, 2244, 5174], [5778, 5592, 4675, 3343, 6637, 5158, 5474, 4391], [3343, 7143, 5722, 5644, 1580, 555, 1629, 4398, 8045, 4398, 1093, 5174, 2254, 6499, 1966, 8050, 4705, 6119, 1373], [5474, 7541, 6785, 5174, 2829, 2672, 2508, 507, 6978, 2405, 3907, 4937, 2506, 492, 6171, 8179, 6978, 3334, 6785, 5474, 7447, 3343, 5474, 7560, 5644, 1270], [5174, 1172, 5211, 4693, 7626, 2541, 7861, 4872, 3570, 6397, 3031, 2343, 2849, 6113, 5729, 3907, 6246, 6663, 6872, 1234, 2279, 1300, 3620], [383, 2849, 1493, 1273, 6105, 2506, 6872, 1234, 1966, 6625, 3614, 1195, 2506, 2849, 7163, 397], [630, 507, 6978, 6062, 507, 4379, 2082, 8619, 208], [5618, 8428, 3789, 4067], [939, 5853, 408, 254, 492, 1491, 4907, 555], [5419, 6978, 6181, 2412, 2430, 2849, 1560, 3789, 1132, 6397, 3343, 4606, 5644, 6197, 131, 4287, 2849, 3032, 5729, 8032], [5474, 757, 3614, 3027, 1608, 2789, 939, 688, 1852, 8284, 4705, 2635, 5644, 2604, 6129, 254, 6694, 5129], [6872, 4364, 1655, 7626, 254, 174, 3907, 7626, 5474, 2374, 2412, 6397, 6964, 5474, 782, 3832], [720, 3789, 3482, 2927, 1771, 2412, 1673], [3389, 6308, 2255, 1183, 939, 3473, 2506, 7998, 6205, 6323, 7405, 1434, 5644, 242, 3789, 1434, 1273, 2506, 7497, 2303, 2506, 5274, 2506, 3755, 2303, 3907, 6132, 1008], [6361, 1520, 5248, 242, 7626, 7386, 1966, 5778], [3691, 803, 4169, 5644, 62, 5644, 3031, 5736, 6397, 2849, 492, 6246, 62], [1764, 5474, 6140, 8226, 6397, 6836, 933, 5668, 1389, 6014, 4185, 3789, 7626, 7915, 6397, 173, 2720, 6397, 2849, 1949, 3789, 2927], [5762, 4398, 308, 2412, 5474, 5689, 3907, 2244, 7811, 6351, 3343, 6113, 5733, 6875], [3907, 555, 3789, 5474, 501, 3789, 1404], [3343, 6027, 3789, 1449, 5174, 4246, 6397, 408, 3343, 3201, 4505, 4705, 6351, 5729, 7834, 5644, 4504, 5174, 3497, 7951, 1966, 6397, 4838, 7626, 7191], [1220, 555, 2849, 2849, 492, 8211, 7220, 594, 5543, 3416, 2849, 5644, 2751, 3473], [196, 6113, 2751, 3770, 939, 6397, 2849, 491, 697, 6631, 4660, 2412, 5474, 4067, 2412, 6351, 3789, 32, 5644, 7784, 8237], [7876, 6573, 555, 4595, 6351, 6397, 5762, 7923, 3789, 1674, 1302, 6113, 6978, 8532, 2412, 254, 211, 3845], [3905, 400, 6003], [4516, 6397, 2971, 3773, 4705, 7316, 1966, 6181, 464, 5174, 2563, 1273, 4516, 3789, 4391, 3753], [2290, 3171, 3321, 6351, 2506, 2849, 3755, 6113, 1079, 2290, 3171, 3321, 8097, 6871, 5644, 6845, 3127, 7626, 3342], [5174, 3367, 3614, 6978, 2431, 2412, 8616, 3789, 5722], [351, 5351, 6397, 492, 6059, 6743], [8097, 2923, 5474, 4005, 4287, 2303, 4408, 6978, 2906, 2849, 5186, 8339, 1931], [6397, 6924, 5474, 7915, 6397, 5211, 5644, 8339, 3789, 6739, 816, 1966, 7093, 6978, 8473, 3789, 156, 3343, 7457, 2132], [7299, 6872, 4364, 7323, 2244, 5474, 5255, 2412, 5174, 6909, 3907, 3343, 6919, 5373, 3789, 6978, 2119, 5644, 351, 7059, 3614, 5474, 1336], [2328, 3065, 4637, 2910, 4705, 6769, 3907, 417, 5596, 5474, 4357], [6872, 3641, 1234, 6397, 4398, 729, 3855, 3720], [3811, 125, 5174, 5247, 3789, 8390, 3907, 4637, 3201, 4950, 3789, 6941], [8610, 2303, 939, 254, 3614, 4705, 5161, 6975], [939, 1764, 1715, 5600], [3343, 6113, 400, 3907, 2923, 5644, 5189, 974], [5174, 5280, 5644, 5211, 242, 3614, 3415, 4562, 3789, 56, 6836, 5239, 4596], [3698, 5644, 5174, 3343, 491, 7033, 3789, 2849, 5003, 5345, 2303, 2665, 3789, 3031, 979], [254, 3888, 3789, 6836, 2008, 2697, 7410, 8456], [2661, 254, 32, 492, 2585, 2244, 254, 4977, 3789, 1767, 3550, 254, 262, 492, 5784, 3685], [8450, 7433, 6397, 6181, 5474, 5035, 2412, 1767, 5005, 1966, 8214, 2662, 6397, 7313, 1165, 6397, 217, 5895, 7069, 7505], [1262, 481, 6953, 2412, 947, 788, 2430, 56, 7163, 7536, 5644, 6836, 2671, 7626, 7838, 3789, 5441, 5778, 2849, 2303, 7086], [2849, 6171, 6258, 6183, 2191, 2849, 2306, 4552], [2392, 412], [6363, 555, 6872, 947], [2849, 1566, 5722, 5729, 788, 6397, 4705, 2308, 5733, 8057], [2751, 477, 3197, 254, 3301, 8172, 6836, 582, 2837, 3907, 3028, 1818, 4597, 2849, 492, 8147, 3789, 3389, 3301, 1268, 2244, 6836, 3751], [720, 1966, 3342, 2849, 3614, 6978, 2093], [408, 7784, 3343, 6801, 2849, 3343, 1491], [3614, 122, 4146, 5644, 4705, 6811, 7626, 2635, 8355, 7560, 4491, 3789, 2993, 8091], [1155, 3907, 3614, 6397, 3789, 1423, 2815, 3995, 3789, 2829, 1966, 5003, 8619, 1249, 4853, 1844, 7591], [3614, 4705, 6112, 1129, 6397, 254, 7792, 6171, 1927, 5644, 893, 2849, 173, 2476, 3907, 6397, 2849, 6171, 683], [254, 8050, 492, 5202, 7626, 961, 2412, 3231, 2244, 2430, 4390, 5474, 7915, 8179, 5644, 5474, 6564], [2849, 8251, 1273, 6397, 492, 2029, 3641, 3027, 6397, 8555, 5474, 894], [3758, 2849, 2249], [2849, 4079, 720, 408, 6113, 4403, 1785], [3999, 2506, 4413, 6785, 6836, 4731, 6960, 2548, 5644, 1310, 1966, 3950, 6708, 6248, 2849, 492, 6812, 2412], [2849, 2101, 2849, 4853, 289, 5474, 7915, 289, 6113, 2235, 492, 6164, 1559, 1273, 7774, 4637, 3614, 5490, 3789, 6274], [6978, 1769, 3614, 6978, 6353, 7628, 3789, 6397, 4379, 4998, 7163, 5421, 6397, 4705], [3794, 8499, 966, 408, 4821, 3794, 6391, 6397, 173, 5855, 6374, 1423, 4853, 4796, 966, 5483], [3576, 2854, 254, 4019, 3789, 5474, 3019, 6397, 492, 7497, 3789, 7071], [5474, 2355, 3614, 4705, 3690, 3641, 5687, 7560, 496, 408, 2849, 5578, 3775, 8162, 3031, 4761, 492, 8211, 1050, 2244, 254, 1015], [7834, 5644, 862, 1452, 5474, 7523, 296, 5778, 2412, 254, 7519, 4625, 492, 8382, 3789, 1434], [6452, 1925, 6739, 816, 3907, 2716, 5419, 3614, 6978, 208, 6826, 1966, 5474, 6598, 2412, 4206, 7365, 939, 2244, 5174, 5494, 3519], [548, 6773, 6112, 5474, 3036, 3343, 7457], [254, 2215, 7834, 1207, 5644, 1273, 8687], [254, 5167, 3789, 2401, 2057, 3614, 3641, 8562, 3706], [408, 173, 2059, 254, 5921, 3849, 5321, 5174, 609, 5722, 6397, 3415], [492, 6058, 254, 1262, 4458, 1389, 174, 2941, 84, 2778, 8619], [6868, 3614, 1273, 5729, 788, 6397, 507, 5474, 4761], [2334, 5474, 4587, 1389, 6261, 6397, 7094, 8147, 6681, 3028, 822, 6397, 1566, 3789, 2392, 2412, 720, 3907, 408, 3614, 5345, 6342, 5671, 5644, 2244, 8028], [492, 2922, 8430, 6323], [627, 254, 6786, 6596, 3343, 1926, 1423, 3343, 3765, 254, 6029], [1060, 6397, 7784, 6397, 3343, 6965, 5644, 8452, 5474, 4761, 4287, 5474, 2731, 3688, 4487, 6991], [492, 1491, 2244, 6397, 6171, 8614, 254, 1614], [6709, 253, 5501, 6743], [4516, 254, 3154, 7533], [7560, 6397, 2849, 492, 6851, 254, 174, 555, 5778, 6171, 1471, 5644, 5174, 5602, 6397, 1273, 4516, 1349, 492, 6027, 2244, 6397, 492, 6027], [6397, 3343, 3774, 8717, 939, 555, 1273, 6871, 5644, 5746], [5474, 3816, 3789, 5538, 3614, 4364, 241, 4963, 4487, 3907, 2849, 7027, 3614, 3181, 3907, 1537, 4043, 1423, 7626, 720, 83], [6397, 3840, 5474, 96, 6397, 4721, 7626, 630, 4721, 5778, 2849, 3343, 683], [5778, 7504, 2430, 6171, 6560, 6836, 5235, 5644, 2710], [5211, 5035, 5211, 4216, 1966, 8188, 3789, 7284, 4139, 3907, 6918, 4095, 6872, 4505], [2198, 3031, 8708, 6872, 7886, 3505], [6326, 6299], [720, 3614, 1273, 6607, 6397, 8251, 3116, 3389, 2161, 5367, 3907, 5367], [5474, 87, 2506, 3239, 7208, 6397, 254, 8722], [5474, 4761, 5778, 3789, 2244, 408, 3614, 4364, 7092, 2849, 2244, 2751, 1883, 6397, 8055, 2254, 503, 2244, 2751, 6397, 492, 7246, 5644, 3415, 1273, 6397, 7497], [3288, 3789, 5144, 254, 7317], [902, 5778, 695, 3389, 4777, 3907, 5554, 492, 4570, 7626, 7032, 6785, 1302, 196, 6785, 1273, 1732], [4705, 3804, 507, 6397, 862, 6939, 3789, 1767, 4977, 5729, 7626, 3907, 6397, 6718, 3773, 5856], [3614, 254, 7012, 5729, 7121, 6397, 3343, 6718, 2646], [788, 1195, 8251, 1208, 6714, 6397, 254, 4977, 3614, 3106], [555, 3343, 6872, 1880, 2849, 3688, 3065], [7190, 7260, 3343, 507, 3007, 2506, 555, 3688, 5474, 6397, 507, 2506, 1238, 939, 2827, 2849, 492], [5474, 4761, 3614, 3641, 5270, 6397, 3889, 5474, 1729, 4477], [3343, 6113, 231, 1423, 4403, 3343, 8036, 6397, 3343, 4195, 3825, 7659, 8584, 3343, 2362, 4479], [555, 2849, 2508, 3343, 1725, 6112, 3907, 3473, 2506, 2849, 1273, 3688], [2849, 1566, 5003, 1204, 2244, 8237, 6397, 3924, 6397, 2849, 3259, 2685, 2412, 5351, 2244, 609, 1926], [6397, 3065, 7443, 6717], [4984, 5403, 2849, 3343, 3085, 62, 5419, 3482, 5402], [1129, 408, 4026, 413, 5778, 909, 939, 2849, 173, 1170, 2244, 6397, 173, 1351, 1273, 6397, 4026], [1050, 3028, 6029, 3789, 8174, 3907, 8716, 2412, 6348, 6411, 3614, 3789, 4487, 2254, 4214], [6872, 8619, 3907, 8430], [1349, 4595, 6351, 6397, 2265, 7319, 2646, 6860, 296, 3967, 1172, 7742, 1966, 5174, 2412, 6978, 5, 1349, 2827, 7626, 1273, 6397, 4714], [2223, 254, 1553, 3907, 3343, 2812, 254, 1717, 6397, 688, 4376, 3530, 2849, 1566, 3024, 2521, 6821, 2506, 3343, 694], [173, 6656, 5644, 1580, 3197, 3624, 4950, 2235], [8619, 208, 5644, 56], [3755, 4714, 5788, 7827, 154, 5474, 2184, 6785, 5474, 2445, 6972, 5644, 7784, 154, 254, 1539, 2438, 3907, 2849, 1566, 4403, 1810, 4728, 1723], [683, 5715, 6057, 8147], [5692, 5521, 3789, 6978, 6034, 5174, 8668, 2849, 507, 1262, 8493, 6397, 2138, 6978, 955, 5140, 2244, 4950, 6397, 5722, 6397, 3415], [7685, 2412, 5474, 5936, 939, 6062], [2657, 7104, 7104, 6836, 4516, 3, 2244, 8214, 4477, 863], [4396, 173, 2714, 5805], [2849, 5729, 4922, 5644, 2751, 3482, 3789, 5474, 8097, 1174], [5174, 3804, 3343, 4861, 8285, 1655, 4287, 6303, 492, 3343, 484, 3972, 5474, 6412, 254, 351, 208, 492, 484, 3789, 5174, 3907, 555, 2849, 5474, 4394, 5644, 2751, 3482], [2849, 173, 2362, 4644, 4287, 5778, 492, 3343, 5014, 5474, 213, 2496], [1993, 5644, 4705, 3036, 3614, 3789, 8237, 5174, 1754, 3789, 8063, 582], [5644, 5174, 3343, 3029, 7626, 4950, 1519, 863, 1214, 8246, 2412, 2578, 6222], [3343, 4024, 3907, 2849, 6872, 5733, 3789, 1860], [1766, 3907, 1491], [4675, 6397, 492, 6058, 5474, 6445], [3907, 7742, 2948, 10], [254, 2348, 5140, 3789, 5481, 688, 842, 6869], [6397, 3699, 7560, 5481, 7834, 2238, 5474, 1124, 3789, 1883, 7626, 2751, 2506, 492, 4570], [975, 5474, 5384, 3789, 2757, 2193, 3299, 3789, 3010, 6458, 842, 3257, 1129, 6057, 7297, 2431, 2193], [5698, 6872, 5733, 3789, 4203], [3907, 5729, 4294, 3343, 1761, 3092, 5778, 492, 3343, 4714, 254, 7784, 3907, 3343, 8461, 131, 5474, 4403], [8097, 3343, 6488, 5474, 926], [3768, 254, 6625, 173, 4065, 8541, 2412, 1833, 1662, 2766], [3019, 5524, 2430, 3028, 3415, 7560, 7313, 8573, 7313, 8101, 3028, 8091, 3907, 6833, 254, 7789, 3789, 6960, 3300], [2146, 1195, 4640, 2412, 8492, 3343, 2382, 1805, 5547, 4195, 3007, 496], [4595, 4379, 182, 3343, 6531, 8363, 2412, 5174, 5167, 8723, 1870, 3907, 6637, 5474, 3142, 3907, 254, 2093, 7560, 6607, 2222, 7342], [6648, 5389, 5474, 507, 1043, 5644, 5816, 6871, 5644, 3807, 2334, 3530, 3343, 6637, 8390, 1349, 6836, 4084, 6171, 4364, 386, 2235], [3343, 7457, 6875, 6836, 5479, 6397, 3343, 6113, 5174, 4942], [5474, 2355, 3614, 4705, 3690, 3641, 5936, 7560, 6598, 3559, 2564, 4379, 7000, 2293, 3907, 5231, 6018, 1067], [5174, 8708, 3789, 5474, 4173, 6397, 863, 3343, 4488, 1423, 6872, 6743, 2412, 7207, 173, 2303, 6978, 1020, 4516, 5474, 6309, 3907, 5474, 5039, 6397, 863, 5987], [3907, 2751, 6138, 3789, 5474, 8407, 548, 1529, 6795, 8716, 893, 4287, 3614, 3789, 7538, 822, 3907, 1273, 1512, 5644, 3854], [887, 2849, 1262, 6397, 5474, 7112, 5216, 3614, 3142, 254, 6017, 6717, 7834, 6522, 3907, 555, 370], [2244, 6397, 173, 751, 8691, 3804], [6397, 4714, 764], [5, 5502, 6397, 2881, 4902, 2412, 6490, 7626, 893, 445, 254, 6786, 3028, 3415, 6183, 7154, 2934, 3028, 191, 1603, 7626, 5474], [6656, 6397, 408, 3945, 5729, 5386, 4907, 3027, 1776, 5729, 6492, 939, 2849, 5005], [3679, 8390, 1873, 1049], [1779, 7626, 131, 300, 2754, 6821, 8514, 1593, 492, 5014, 4705, 1977, 5729, 2849, 5474, 6833], [863, 932, 5644, 242, 3789, 8691, 1303], [3907, 6397, 3614, 1273, 6397, 3031, 6062, 5729, 173, 2334, 3127, 173, 2303, 173, 4388, 1779, 5644, 4400, 5644, 5174, 6397, 2080, 5243, 6132, 173, 8610], [1349, 5174, 7317, 3614, 4540, 6978, 6870, 2849, 5777, 2412, 2038, 3907, 6183, 3747], [5129, 6397, 3343, 8280, 2244, 242], [5174, 4246, 492, 6027, 3789, 1827, 3907, 4861, 1825, 5644, 6845, 939, 2849, 4861, 1258, 5722, 2412, 8342, 3907, 2791, 2207], [4178, 7626, 254, 873, 938, 7037], [1350, 3789, 5746, 2941, 7560, 8619, 208, 5644, 6836, 3260, 1072, 1072, 1966, 3955, 5644, 4403, 6171, 2562], [3343, 3306, 3789, 231, 7886, 7923, 3789], [4622, 1129, 408], [254, 5038, 3789, 2438, 3789, 4705, 5464, 8211, 8050, 6978, 6014, 2412, 7208, 921, 1389, 174], [5211, 4487, 3640, 3415, 7011, 1245, 4853, 7626, 6492, 5770, 3924, 2412, 5553], [3343, 6851, 3789, 1798, 6397, 492, 8248, 254, 6682, 3789, 6739, 816, 2849, 1273, 7163, 6617, 6397, 511, 3151], [6397, 1301, 3789, 3116, 5490, 6794], [5778, 2849, 2303, 6157, 5644, 1050, 5644, 5174, 2786, 4413, 3789, 1273, 6397, 3343, 4714, 5419], [1423, 4705, 5619, 3715, 3789, 7208, 5619, 688, 1325], [939, 2200, 154, 5003, 3641, 6614, 2979, 6161, 7071], [2849, 3343, 3680, 1295, 5778, 3343, 2881, 62, 3907, 1349, 1563, 6397, 3415, 5474, 190], [5759, 6656, 6397, 1341, 3907, 7115, 492, 1273, 1987, 7548, 3028, 6839, 3907, 5644, 5474, 676, 4106, 1966, 8050, 5211, 7245], [591, 6397, 5520, 5211, 7915], [139, 6595, 3389, 5543, 8573, 3614, 8658, 1696, 3907, 1405, 6397, 3614, 1448, 3907, 1566, 6397, 7145, 2849, 1273, 3614], [2244, 6397, 6486, 6872, 7886, 4705, 7655, 3789, 2395, 4637], [5474, 749, 3789, 7845, 3614, 1915], [6397, 8610, 3907, 6361, 862, 3641, 1679, 3789, 2145, 2412, 3389, 5, 729, 1301, 3789, 5522, 5438, 5174, 4908], [175, 6978, 4977, 3907, 5120, 6397, 2849, 7313, 2353, 6448, 5644, 56, 476, 7626, 1674, 8088, 3238], [555, 4326, 4114, 6939, 3789, 5003, 921, 1389, 1262, 487, 3300, 3789, 14, 6252], [280, 4907, 7963, 2910, 1652, 1075], [2849, 1566, 5788, 4534, 3789, 1673, 1966, 2734, 6836, 2791, 3789, 5604, 6112], [639, 5474, 2731, 555, 3343, 5762, 4106, 3789, 6850, 4505, 3924, 5474, 7245, 6397, 3924, 5345, 6397, 2244, 720, 863, 6431, 3809, 2367], [555, 6397, 2849, 3688, 1767, 3804, 4637, 1767, 1461, 6872, 3641, 6939, 3789, 2138, 8339, 2621, 3641, 6921], [4364, 1432, 254, 6839, 4383, 3789, 2604, 352, 6319, 5644, 5474, 4761, 5419, 7163, 6836, 1326, 8097, 6836, 1798, 2254, 4364, 1694, 4491], [2370, 3405], [863, 3343, 4861, 1630, 4294, 3614, 3027, 6397, 5729, 6981], [254, 6397, 5211, 1390, 6397, 6514], [6397, 231, 3343, 4861, 156, 3654], [939, 3907, 296, 1040, 2849, 173, 2155, 173, 8211, 4756, 1195], [6991, 2244, 6397, 6171, 6488, 5345], [208, 3641, 1207, 4134, 3151], [5481, 8211, 2138, 1767, 386, 1047, 254, 6867, 939, 5367, 3789, 7210, 5644, 7784, 5778, 3343, 7457, 704], [6327, 6836, 4120, 2104, 1389, 3996, 492, 2173, 2506, 2849, 492, 8211, 3807, 6469], [6872, 5920, 2303, 3116, 1195], [667, 2849, 3343, 6965, 5644, 5367, 4055], [5722, 5729, 2964, 6397, 5746, 313, 2756, 7626, 6492, 3620, 6397, 4655], [7443, 3614, 1273, 6397, 5729, 3343, 1353, 3907, 1349, 6397, 2979], [3343, 6871, 4287, 2303, 3116, 2607, 4950, 3907, 2849, 6868, 6991, 7626, 6978, 4390, 6397, 6057, 5180, 3343, 6436], [3907, 6397, 2314, 5003, 982, 7784, 1860], [1515, 2849, 4565, 1581, 5474, 6272, 3789, 5940, 4763, 6107, 3789, 4382, 5064, 5644, 242, 3789, 5003, 1389, 7040, 6397, 6353, 3614], [408, 5521, 2849, 3343, 4741, 400, 1349, 5186, 6397, 7396], [2915, 2955, 5782, 492, 3343, 1962, 6836, 5684, 3789, 2138, 254, 3092, 829, 5894, 1434, 254, 208, 1262, 939, 3889, 5474, 1729, 4055], [7390, 6094, 6845, 7626, 5174, 1967, 403, 3907, 2849, 7808, 939, 5644, 6397, 5211, 5529, 5014, 1767, 934, 4055], [2849, 3159, 5729, 254, 1302], [3614, 7121, 7560, 863, 2147, 7626, 5474, 6397, 2514, 6397, 159, 173, 4186, 4287, 5211, 4487, 1546], [5936, 3595, 5778, 5014, 5474, 5608], [3473, 6397, 2849, 1566, 6059, 6730, 1423, 4058, 5644, 4477, 4595, 6351, 6397, 7943, 7626, 296, 1967], [7560, 6397, 5778, 2849, 3343, 5211, 5418, 862, 3789, 540, 1966, 3547], [5474, 7191, 2244, 5474, 6397, 6872, 863, 1655, 3614, 4287, 2849, 1817, 5174, 5226, 3789, 485], [507, 4379, 3638, 3789, 3154, 3154, 3419, 7078, 3907, 3154, 3287, 6340, 7078, 1051], [8097, 6871, 5644, 1273, 3789, 5474, 822, 3907, 2303, 3415, 5992, 3789, 2395, 939, 2849, 3343, 7834, 5644, 6181, 2508, 2849, 6171, 4696], [56, 6836, 182, 3343, 3694, 5733, 3789, 6836, 6164, 6397, 3858], [4705, 3967, 6743, 2412, 6978, 3497, 6433, 6978, 2463, 4822, 6978, 3996, 2412, 6978, 81, 2454], [8467, 408, 1273, 731, 6057, 492, 4861, 6455, 2412, 5929, 6171, 6113, 6978, 10, 4106, 6397, 492, 7335, 2412, 254], [893, 1298, 6397, 3343, 537, 5644, 6978, 5733, 2244, 8025, 3907, 2244, 6978, 2119, 3343, 6433], [3343, 8272, 3907, 7313, 2021, 7722], [6397, 5250, 6509, 2412, 2849, 1616, 2751, 6547, 1966, 1050, 5644, 3415, 5644, 3315], [6505, 6872, 3808, 7626, 2751, 1715, 7930, 2244, 6836, 4354, 4237, 7742, 281, 3907, 5722, 3789, 8098, 6743], [2849, 3343, 1904, 3620, 939, 2849, 5367, 6057, 3715, 5345, 6397, 7742, 2849, 7834, 5644, 631], [5129, 6397, 5474, 7915, 6397, 5211, 289, 8101, 5644, 221, 5644, 5481, 4106, 4907, 8198], [4740, 6397, 1349, 1732, 8211, 1818, 6397, 3688, 6978, 3065, 3907, 4637, 492, 6249, 939, 6656, 6397, 5003, 5553, 5644, 7083, 254, 5381, 3789, 5419], [8619, 4458, 8020, 1566, 6397, 7462, 5644, 5002], [7321, 4391, 8097, 3614, 7487, 3343, 3010], [630, 3343, 4220, 5644, 5003, 3641, 4529, 7982], [4364, 1844, 1966, 5174, 4214, 3343, 5208, 3027], [8483, 1529, 4796], [8699, 4487, 2082, 2979], [5395, 3343, 4112, 1358, 6793, 4364, 841, 1887], [5474, 1040, 3789, 4954, 2223, 1047, 4274], [2382, 7742, 6397, 2849, 7504, 2983, 4952, 3789, 6822], [2849, 6656, 2412, 254, 8049, 408, 2751, 4950, 2849, 6020, 7560, 1273, 3801, 4195, 5962, 408, 173, 8352, 1273, 2649, 5961, 7075], [1353, 408, 5474, 2355, 3614, 5520, 3907, 1423, 5474, 5175, 6598, 4950, 2244, 698, 6397, 3924, 7834, 8131, 5644, 3031, 174], [6343, 2751, 531, 2751, 87, 7077, 4992, 3907, 6836, 677], [2548, 3343, 4219, 5644, 3116, 6522, 5534], [4169, 6397, 2255, 6135, 173, 1300, 6397, 2849, 3343, 1491], [2849, 3614, 8049, 2506, 492, 8211, 5905, 6785, 5474, 7394, 4769, 2506, 8621, 3614, 196, 7626, 6466, 3907, 6070, 1262], [893, 3032, 5520, 979, 3789, 420, 3907, 3032, 3905, 3844], [1482, 7626, 254, 982, 6739, 816, 3907, 5644, 242, 3789, 6397, 5778, 2849, 2910, 4803, 3789, 1767, 1387, 3900, 863, 6836, 4852, 7560, 3567, 8630, 6918], [6836, 6714, 8115, 5644, 5474, 1960, 3028, 5696, 2412, 6978, 1302, 1515, 6397, 242, 3753, 1349, 4186, 842, 5474, 6107, 1760, 3789, 5474, 3217], [8483, 3758, 3789, 7034], [2402, 555, 1220, 6397, 408, 1262, 6397, 8495], [1423, 4853, 2058, 7626, 7784, 296, 1967, 3199, 254, 6832, 3789, 6348, 924], [6836, 7923, 3789, 762, 3343, 2101, 5474, 3224, 1273, 4516], [408, 6488, 5474, 6212, 254, 3650, 2849, 7163, 3350, 254, 4019, 254, 8097, 4287, 507, 3587, 413, 6272], [7457, 6397, 7834, 5644, 5003, 4705, 84, 3191, 3789, 3655, 3789, 6413, 6351, 7734, 6058, 4105, 2849, 2303, 7945, 4186, 3343, 7834, 5644, 4756, 5729, 7706], [8610, 3617, 5644, 62, 1358], [947, 4253, 1100], [6886, 5378, 6397, 720, 3343, 8461, 231, 3343, 1273, 4566], [555, 408, 1911, 4287, 492, 7070, 5295, 6836, 4370], [254, 6397, 5211, 6902, 6397, 254, 2089, 8147, 1645, 1821, 4907, 1821, 28, 5778, 5014, 6608], [5504, 1580, 2319, 2412, 8357, 1966, 8576, 6397, 6872, 2738], [5474, 6569, 154, 2023, 8013], [2230, 1050, 3058, 5174, 5660, 2382, 5248, 242, 5211, 5474, 432], [1674, 5, 3789, 6361, 1423, 2849, 6531, 6978, 5172], [3343, 5003, 7559, 5722, 1844, 2849, 7834, 5644, 1449, 6397, 7190, 492, 6171, 4861, 4033, 4294, 939, 492, 5211, 8414], [6397, 473, 1500, 445, 7626, 4624, 7037, 6343], [6471, 1474, 1434, 5211, 4364, 7709, 1295, 7834, 5729, 3547, 3789, 5800, 5847], [173, 6725, 3031, 697, 939, 5243, 3641, 1391, 6397, 3343, 2062, 2412, 4705, 7523, 2001], [3907, 5778, 5003, 3773, 5474, 6836, 1389, 208, 1813, 182], [6821, 3116, 3688, 487, 487, 487, 1861, 3789, 973, 1297, 6434, 6872, 4487, 8412, 4287, 2849, 8501, 6183, 1024, 4648, 2412, 7224, 7163, 6836, 1813], [2849, 6872, 6849, 6872, 989], [3907, 543, 408, 2849, 1966, 2849, 5729, 6397, 5211, 2849, 1966, 3789, 5722, 3907, 2244, 5722, 662, 5375], [2303, 6029, 939, 254, 6029, 3789, 6348, 7359, 1389, 2789, 4287, 1674, 7036, 3343, 6113, 8032, 3789, 4529], [3999, 6397, 5474, 676, 2849, 2489, 3907, 3924, 3238, 3614, 1273, 4185, 6397, 492, 6171, 4191, 5644, 4705, 2108, 245, 4907, 6397, 1176, 8303], [2849, 1566, 537, 1966, 5627, 1273, 4056, 6397, 3614, 5174, 7371, 5474, 1452, 1967, 6397, 3614, 2849, 7163, 6981, 5722, 5729], [2849, 2910, 1966, 6397, 2360, 939, 423, 5733, 2341], [5345, 6397, 8467, 254, 174, 1389, 6314, 5211, 3789, 5046, 6463, 4556, 1675], [7560, 194, 5644, 7811, 3343, 1645, 997, 3962, 3907, 5419, 6397, 6349, 1207, 2254, 3343, 1475, 3905, 6062, 5770, 1109, 1975, 939, 1273, 4516, 4106], [3620, 3389, 3452], [3907, 1434, 2922, 3142], [392, 4026, 1207, 5840, 6603, 4388, 254, 2535], [6978, 3181, 1966, 5474, 7915, 7290], [3031, 3019, 3343, 6208, 2341], [1452, 7051, 175, 3620], [63, 6041, 939], [482, 175, 6397, 7795, 4487, 5474, 96, 939, 254, 1687, 5036, 408, 7457, 5474, 178, 3789, 7388], [6397, 173, 2439, 5474, 7086, 3789, 5856, 1544, 720, 2849, 492, 5057, 7626, 5722], [939, 5770, 2412, 3389, 2851, 408, 6872, 4364, 6618, 3907, 296, 1572, 159, 8105], [3028, 3413, 173, 4516, 7550, 3688, 5758, 3789, 1004, 3907, 5402, 6397, 4853, 1966, 5174, 863, 8422, 5644, 3031, 2119, 5174, 5619], [3343, 2413, 4705, 1336, 2244, 862, 4523, 983], [3343, 7457, 6122, 6979, 6397, 3343, 6582, 7784, 4287, 2849, 3343, 6436, 6397, 3343, 6582, 7784], [3343, 7460, 5644, 6836, 6150, 2295, 5644, 5474, 2726, 2244, 6183, 8520, 3789, 7037], [555, 4516, 254, 3301], [5474, 4391, 3614, 6397, 3343, 2303, 2598, 6397, 3343, 7662], [254, 2301, 6171, 7497, 2244, 1586, 5644, 5474, 4802, 3907, 3482, 5922, 3389, 4429, 3789, 684, 492, 1309, 7210, 3907, 5729, 7210, 8467], [3343, 603, 7742, 2412, 5474, 4246, 1389, 4542, 939, 3614, 6397, 3614, 4106, 3789, 5003, 6397, 254], [5197, 6397, 1967, 6353, 3614, 2854], [5174, 1772, 6053, 3614, 6397, 2849, 7163, 862, 2058, 863, 1718, 639, 5644, 2751, 1883, 5519, 1423, 2849, 1273, 242], [1197, 6397, 2093, 1966, 3587], [2049, 3614, 5520, 8610, 2138, 2359, 2607], [2283, 2849, 6298, 6057, 413, 8493, 3789, 1273, 6397, 3578, 254, 2093, 2244, 4060, 3907, 4287, 492, 3555, 6027, 254, 5519], [2244, 6397, 8691, 4748, 5644, 5474, 242, 3789, 5402, 630, 3614, 254, 5758, 408, 2412, 8064, 5243, 3031], [3907, 7523, 3789, 6421, 3907, 7010, 370, 4907, 1295, 3614, 4761, 7874], [2806, 8055, 3962, 2951, 1231, 1966, 1776, 254, 6786, 939, 3641, 4637, 5805, 1966, 4477], [6171, 5045, 5644, 5474, 5559, 1961, 2469, 3136], [3907, 2932, 5644, 5474, 6859, 1389, 191, 2430, 7297, 6978, 3277, 4992, 1455, 687], [7163, 2751, 6622, 1522, 3907, 6057, 5644, 5211, 242, 5770, 2849, 2971, 7331, 5722, 7163, 4108, 3789, 862, 7886, 4009, 3907, 3326, 2164], [4749, 3789, 658, 555, 370, 173, 2303], [1469, 5239, 5474, 5035, 5475, 5685, 1518, 8273, 5644, 2751, 8644, 5689, 3473, 4183], [5644, 2751, 8644, 3343, 175, 6397, 1827, 3907, 2849, 7163, 62], [6397, 6068, 8552, 6397, 6171, 6436, 8325, 3789, 3224, 3422], [4176, 7626, 6456, 7598, 7560, 4705, 7506, 6449, 2244, 7171, 3753], [5644, 5174, 3343, 6253, 6397, 2815, 84, 7768, 7284, 6295, 3907, 6397, 4403], [5778, 4606, 5644, 5003, 3031, 487, 5778, 492, 3343, 4714, 254, 5490], [6594, 4565, 5659, 254, 6592, 2791, 3773, 6290, 3907, 4427, 6100, 1389, 3223, 492, 7070, 166, 3789, 594, 7436], [2789, 6397, 2849, 3614, 4106, 6397, 1423, 2849, 1181, 4907, 3505, 2277, 3789, 724, 2506, 4294, 7553, 6397, 28, 4706, 7163, 2979], [5806, 7728, 7560, 1960, 2849, 6298, 6492, 408, 5243, 1915], [6253, 6397, 2751, 5861, 4230, 7577, 3196, 3907, 5655, 939, 6717, 2244, 3389, 5727, 8619], [5250, 7080, 5644, 3607, 1550, 2849, 3688, 1966, 5729, 939, 1389, 2119, 7036, 492, 7837], [1273, 2465, 3614, 3415, 5992, 3789, 2395, 4637], [175, 2008, 182, 3482, 6707, 4196, 3343, 6113, 6939, 983], [4666, 4705, 6351, 7784, 3343, 1298, 6397, 2412, 4398, 1416, 3789, 1491, 6571, 4043, 7989, 4907, 5729], [7266, 3343, 5714, 4487, 296, 2308, 6397, 3801], [2506, 492, 8678, 1129, 2578, 7858, 3482, 7799, 2979], [2128, 5778, 6872, 4796, 3789, 6522, 5778, 2303, 2506, 492, 2915, 5211, 8428, 6397, 3550, 254, 208, 2506, 6585, 1298, 2244, 1349], [7171, 4186, 3614, 254, 1614, 1389, 4721, 630, 4861, 6953, 5474, 2094, 1389, 2395, 385, 5077, 7626, 254, 2222, 2849, 3614, 6978, 8356], [5778, 7158, 7626, 720, 895, 6978, 1387, 2093], [173, 1264, 7742, 5770, 3343, 161, 4043, 254, 146, 1389, 8112, 7626, 254, 7473], [5543, 2849, 492, 408, 3614, 8198, 6397, 492, 203, 4364, 2254, 3907, 3924, 6979, 4907, 6397, 492, 203, 4364, 4487, 3907, 3342, 5785, 2371], [254, 2119, 7036, 3789, 5474, 7263], [2849, 3343, 7163, 6617, 6397, 4629, 1515, 5644, 6585, 254, 4033, 4060, 3641, 2424, 6978, 5810], [8097, 3614, 7487, 2789, 56, 1423, 2849, 5003, 789, 5644, 8402, 1434, 4487, 1977], [8483, 1234, 1431], [408, 3907, 254, 6941, 6397, 4288, 8050, 7626, 5474, 5694, 4907, 254, 1449, 1273, 1471, 3482, 2029, 370, 6603], [5474, 3306, 4622], [6872, 1207, 5733, 3789, 2138, 6836, 6492, 6397, 175, 3907, 3789, 6397, 56, 4274, 7951, 4398, 6492, 4541], [6412, 419, 2086, 3808, 5050, 6491, 6653, 6245, 3592, 7626, 1767, 6873, 3907, 4756, 4714, 5644, 5474, 1306, 1389, 7904], [5778, 6509, 5419, 5778, 6397, 3907, 2849, 8456, 5952, 7784, 5729, 408, 3719], [5243, 4705, 6875, 1967], [6397, 4655, 3389, 4215, 6159], [5419, 2279, 4606, 5644, 789, 4705, 1746, 4487, 5840, 3789, 1195, 6397, 4714, 2412, 5474, 4121, 939, 5778, 175, 400, 1262, 8097, 6343], [1432, 2958, 3614, 5784], [555, 6618, 5644, 5174, 7317, 4536, 7626, 4398, 3104, 3907, 1349, 6872, 5644, 146, 3789, 8529, 7626, 4398, 7577], [6872, 4505, 5547, 3789, 5474, 595, 2303, 3907, 5644, 5474, 6351, 2849, 1050, 3028, 8083], [3343, 79, 7626, 3100, 1258, 2849, 492, 2724, 4705, 8493, 3789, 1273, 6397, 6424, 2303, 6522], [5003, 7495, 4379, 2483, 3789, 7764, 3028, 1616, 6978, 6887, 3789, 1162, 254, 2738, 3907, 254, 2039, 6764, 3789, 5003, 254, 4541], [2849, 5931, 2751, 1509, 3789, 6348, 684, 8211, 8050, 6204, 7626, 2434, 5250, 7487, 2152], [5174, 5729, 5520, 6308, 548, 6836, 6918], [6397, 6924, 1674, 377, 3343, 1512, 720, 5474, 4529], [3318, 6323, 184, 4622], [6875, 5474, 6210, 3789, 4709, 6397, 3756, 7626, 5211, 8407], [1622, 5644, 5474, 5688, 3789, 6978, 3362, 3789, 69, 1844], [2244, 6397], [173, 4777, 839, 4801, 4304], [2849, 492, 5167, 6397, 8555, 3789, 7033, 408, 370, 6773, 4487, 965], [5206, 173, 1220, 1195, 5340], [2474, 2334, 6397, 1423, 3343, 1491, 3688, 254, 3491, 3773, 2308, 3620, 2849, 1718, 3789, 1804, 3389, 6289], [2160, 6492, 7055, 3907, 2160, 6397, 8423, 939, 7410, 7626, 6836, 6397, 5729, 2881, 8619, 208, 5644, 4274, 5174, 2060, 5644, 8478], [555, 5999, 2244, 3699, 5778, 4714], [2446, 1970, 6171, 6431, 1257, 3907, 7626, 7742, 8091, 5644, 2809, 7212, 7321, 2412, 254, 3134], [3907, 254, 2159, 4777, 3945, 3789, 2431], [3318, 4055, 6836, 835, 4525, 5865, 4055], [2865, 6122, 7626, 630, 2279, 3789, 1629, 3907, 2751, 42, 7082, 3837, 8091, 1921, 3907, 1162, 2849, 1537], [3789, 2751, 4950, 6397, 973, 862, 5175, 939, 492, 3719, 7917, 7626, 254, 1662, 6573], [5474, 5228, 3789, 5474, 6092, 5644, 2751, 4764, 1176, 3789, 862, 1258, 1695, 3029], [1389, 2258, 2849, 939, 1389, 6328, 3386, 408, 5211, 7159], [735, 939, 8584, 6397, 3534, 254, 8303, 3614, 1249, 5174, 2157, 6900], [3614, 5449, 939, 370, 7497, 2244, 4985], [254, 2235, 4637, 7004, 1966, 2575, 1434, 849, 8270], [939, 6397, 1821, 7875, 5644, 2751, 6209, 7533, 8148], [2367, 2367], [4516, 4287, 555, 3688, 1207, 3865, 939, 2412, 254, 3038, 3343, 5855, 6598, 3907, 2050, 7626, 630, 3924], [6492, 6397, 8501, 525, 2849, 96, 4557, 1566, 7915, 6397, 5644, 242, 3789, 1434, 2849, 173, 1523, 3789, 2029], [1762, 8339, 8438, 3247, 7034, 5644, 6397, 4705, 1202, 2412, 5474, 87, 3162, 8339, 6501, 4487, 3985, 1515, 1645, 5050], [2849, 6215, 2244, 6397, 1960, 5733, 8691, 4843, 3789, 4679, 3907, 3007, 3641, 5345, 1423, 1454, 2412, 5174, 5255, 2923, 5644, 40], [3614, 6978, 6319, 3028, 1106, 3789, 6717, 2412, 5416, 2979, 6978], [5644, 242, 3789, 5251, 8295, 3907, 2719, 3789, 4529, 1566, 7784, 6397, 5211, 7337, 1966, 8614, 4604, 3028, 6034, 1389, 208], [1767, 8489, 3614, 6878, 2244, 5474, 87], [7410, 3246, 8412], [1051, 2789, 6397, 408, 6978, 3039, 3614, 1915], [2727, 5174, 7508, 5836], [2754, 1817, 7018, 8617, 3907, 555, 5442, 3028, 4496, 2011, 3789, 5146, 6978, 6838, 3907, 2849, 2059], [2991, 6872, 1207, 4623], [757, 69, 3907, 5039, 7693, 1767, 5542, 7317, 5644, 254, 939, 2827, 1572, 4236, 939, 4202], [6397, 3614, 1273, 6397, 4910, 254, 6141, 2472, 5729, 6717, 5211, 8456, 3789, 5211, 352, 5474, 4216, 1389, 5379, 1695, 5211, 6135], [6397, 5596, 4861, 1917, 5174, 7182], [2849, 3614, 3789, 3571, 3804, 939, 2303, 4241, 6397, 3343, 3024, 2412, 254, 1851], [4026, 4705, 1967, 4364, 6353, 3907, 4364, 661, 4516, 2202, 7626, 3342, 3907, 6348, 6492, 173, 2303, 1665], [6836, 4309, 2412, 7350, 6012, 3343, 6107, 3614, 1915, 3415, 7560, 492, 1252, 5521, 1966, 6397, 1434, 2342, 6645], [4965, 3789, 5722, 8584, 6045, 8105, 7331, 1966, 3342, 3907, 3031, 1292], [6397, 1804, 1434, 1295], [555, 175, 525, 1921, 5474, 3191, 3849, 5644, 3415, 408, 3343, 6576], [4917, 5644, 4005, 3907, 7274, 1966, 5474, 5030], [6397, 5474, 2355, 2849, 3924, 7356, 6978, 6867, 3789, 2586, 1423, 2260, 6978, 3208, 3670, 3907, 3643, 3028, 5670, 3614, 1991], [4287, 5417, 2412, 2494, 5644, 7530], [6836, 7332, 5272, 5644, 4543, 3907, 7425, 7342, 7626, 8717], [6215, 3031, 697, 3789, 1491, 3343, 4996, 7626, 5474, 1202, 2412, 254, 1160], [2815, 492, 6413, 1499, 4371, 3789, 3343, 2544, 4907, 2849, 2412, 3624, 1079, 8158, 4237, 3789, 6353, 2506, 6027, 3789, 8197, 720, 492, 8717], [5770, 7951, 7661, 3789, 1434, 1273, 2506, 5003, 3773, 4861, 6457, 5474, 1729, 3907, 720, 5247, 2280, 2598, 7968], [182, 2706, 2430, 7371, 3201, 6836, 8584, 717, 2382, 6978, 2471, 5644, 2751, 423, 5174, 7072, 3201, 5, 3789, 3936, 3907, 555, 4416, 7597, 5644, 2751, 6343, 1522], [1423, 1220, 4388, 5474, 2357, 3343, 7380, 5644, 4388, 5644, 4398, 6492, 3907, 5474, 5347, 5174, 5602, 2849, 5474, 2357], [6728, 7784, 6983, 254, 3057, 3789, 8639, 5770, 2849, 3688, 4364, 789, 3028, 6319, 836, 6978, 3860], [3614, 3300, 5003, 3789, 5734, 3614, 5003, 6538, 1029, 3907, 6050, 2849, 7297, 2577, 84, 1967], [5474, 413, 3804, 6397, 7784, 3343, 1049, 7037], [6397, 372, 3614, 8265, 5644, 4950, 3641, 8669], [813, 3789, 400, 939, 540, 3874, 3907, 8097, 3343, 3694, 5644, 2751, 1931, 1522, 4364, 4487, 2922], [6861, 173, 4533, 2244, 5474, 5936, 6397, 6677, 6872, 3326, 1195, 3620, 3907, 2849, 7163, 3796, 5174, 1491, 3789, 5474, 7249, 4487], [1266, 3789, 703, 6743, 3031, 4761, 667, 1409], [3343, 6436, 3415, 1423, 173, 4416, 4477, 5770, 3924, 8339, 7730], [2849, 469, 2412, 8596, 3031, 1974, 658], [4738, 6397, 3031, 3435, 1423, 997, 8026, 6348, 6208, 5729, 8336], [6397, 1107, 3789, 5630, 507, 6397, 8709, 56, 2578, 4934, 3789, 413], [2412, 1756, 3614, 4487, 207, 7549], [1273, 1262, 3614, 4286, 2412, 6397, 4219, 5644, 6972, 254, 5381, 7626, 1273, 10, 6397, 492, 173, 3076, 2412, 1124], [3343, 6871, 5644, 6522, 6397, 525, 4413, 1389, 611, 2849, 3343, 5003, 3353], [791, 5211, 7287, 3907, 5652], [3560, 1966, 5494, 5810, 3789, 8416], [2849, 3614, 4131, 3641, 1844, 2849, 492, 6171, 241, 6397, 492, 6171, 7466, 5474, 1373, 6057, 5644, 3031, 8198, 2444], [2303, 8094, 4140, 3789, 1387], [254, 122, 7487, 6397, 6171, 2915, 3841, 1936], [1855, 4969, 3494, 6397, 1273, 3509, 1915], [2143, 5474, 8048, 5644, 8390, 4934, 3789, 413, 3343, 5720, 6236, 4655, 6959, 6728, 492, 5095, 6836, 4934, 3789, 413], [4006, 2849, 4195, 3007, 4705, 8428], [254, 4248, 5524, 1767, 3804, 7100, 540, 2412, 2533, 2412, 5474, 8349], [6171, 7106, 6118, 3907, 2849, 3343, 3978, 1301, 3789, 1050, 4043, 254, 4086, 2849, 175, 8217, 3301], [5174, 7371, 3343, 2334, 3342, 4853, 4534, 2244, 1195, 5644, 5174, 2849, 3343, 5661, 3907, 555, 3903, 2279, 4384, 6397, 6171, 745, 287, 6450, 6063], [2751, 4950, 2751, 6298, 6397, 3116, 4287, 8495, 3907, 8333, 2849, 1966, 5905, 5722, 5644, 3039, 658, 3312, 8473], [7038, 5778, 5211], [6413, 492, 7587], [6851, 3789, 1050, 2778, 3028, 1529, 3907, 7844, 3343, 5691, 3028, 2884, 7626, 4705, 200, 7097, 6016, 3789, 5174, 7060, 460], [3614, 1432, 5856, 8610, 4048, 3789, 5474, 5197, 1216, 2244, 720, 2849, 7521], [5237, 6836, 7359, 173, 175, 4705, 7844], [4595, 6351, 6397, 6872, 5920, 3343, 2715, 254, 3142, 939, 3641, 5442, 6871, 5644, 5003, 4294, 8610, 7560, 3343, 7212], [2854, 408, 6397, 2849, 3889, 5474, 1729], [1487, 3614, 10], [8610, 5003, 3641, 7825, 3343, 3031, 4364, 2778, 3343, 1491, 4364, 2778, 3907, 3343, 6576, 2254, 254, 7282, 3789, 2778], [3343, 2303, 2598, 6397, 5722, 3789, 720, 4389], [1622, 3343, 1993, 3907, 2849, 8178, 5644, 5174, 5735, 1966, 8376, 3907, 4935, 6057, 5644, 4398, 4379, 5421, 7920, 1966, 8695], [2382, 3482, 582, 6821, 5474, 1287, 6351, 3907, 2766, 6158, 1172], [4821, 173, 3889, 4106, 6872, 4523, 7722], [2412, 1673, 5668, 3632, 2412, 2618, 7674, 2244, 254, 4200, 4637, 5285, 4304], [3343, 6113, 4364, 6939, 3789, 1273, 6397, 5003, 210], [939, 5644, 5174, 630, 4067, 3343, 4220, 5644, 5237, 5211, 656, 3789, 4067, 109, 829, 7052, 4516, 5174, 656, 3907, 2244, 720, 3343, 1491, 5307], [3907, 555, 6171, 175, 6158, 5644, 3350, 6082, 881, 2506, 3688, 1207, 5147], [555, 6656, 6397, 6994, 2922, 4364, 8619, 1423, 6171, 8382, 6397, 3032, 6397, 6387, 254, 3151, 3028, 6034], [6397, 658, 1423, 8501, 7337, 7882, 3907, 6178, 5644, 242, 3789, 1434], [3769, 254, 3773, 3789, 6397, 254, 550, 5543, 492, 3083, 3100, 3789, 6836, 3002, 837, 725, 5211, 6827, 5035, 3789, 6836, 1813, 3907, 2837], [5206, 3482, 3708, 492, 1222, 3789, 5474, 4202, 3907, 492, 6025, 1047, 6183, 7122, 3789, 6978, 3081, 2438, 7626, 254, 6786, 6881, 5644, 5474, 4202, 6397, 5474], [3848, 6877, 6877, 6877, 6877], [3189, 555, 492, 2506, 2849, 3614, 7121, 939, 3343, 1697, 3755, 4516], [5206, 5474, 423, 3907, 555, 7626, 3389, 2219], [3907, 745, 3343, 1523, 4880, 2412, 2412, 386, 3789, 4584], [492, 2922, 511], [6728, 3789, 7417, 3789, 4681, 7784, 1069, 1273, 5186, 2849, 1563, 8365, 939, 3343, 5067, 3614, 4364, 4134, 1434, 1295], [6872, 725, 4705, 5520, 2790, 3343, 3705, 3789, 400, 939, 7439, 4861, 6069, 6978, 7539, 3907, 2303, 5307, 1389, 884, 3999, 5644, 8097, 4907, 2849], [7121, 2314, 6397, 1273, 7416, 5007, 4604, 1349, 175, 2383], [3907, 4413, 5644, 1273, 3789, 5174, 4487, 6397, 3614, 254, 2656], [6821, 2506, 3343, 865, 2506, 74, 5474, 6872, 4364, 3809], [8289, 6833, 2014, 2341, 6397, 7077, 3342, 4134, 3547], [3343, 6253, 6397, 2849, 3343, 1326, 939, 3688, 3641, 4815, 6397, 3343, 6872, 1629, 4287, 1129, 5345, 3688], [2681, 3789, 6836, 3416, 3614, 4106, 3789, 2784, 6397, 6286], [57, 492, 822], [6348, 1330, 7163, 4487, 403, 939, 4487, 7868, 6872, 4505], [6872, 1207, 289, 2382, 8025, 3907, 5644, 4403, 6171, 683, 6057, 5180, 1273, 6324, 939, 555, 408, 3343, 175, 6397, 6926, 2244, 7560, 492, 8598, 6836, 5237], [6107, 1389, 2108, 3907, 5474, 3019, 3789, 5474, 7915, 2849, 2279, 7834, 5644, 3184, 7742, 3280, 1966, 1382, 131, 5474, 233, 3907, 254, 3071, 6397, 4], [5174, 4096, 4655], [5729, 6397, 3889, 6978, 8135], [3415, 3905, 4977, 3789, 7788, 3770, 6924], [6978, 1282, 6397, 4606, 2529, 5644, 2119, 2465, 8207, 7560, 7989, 2412, 5146, 6978, 5208, 5644, 4705, 3595, 6397, 2465, 7768, 2791, 334, 2791, 5920, 5140], [3343, 6953, 6978, 3100, 3789, 3509], [5186, 2254, 6397, 3343, 6580, 2412, 5174, 6103, 2508, 2412, 6598, 5, 3343, 4777, 7673, 3789, 8691, 2355], [6171, 4282, 720, 5644, 4920, 939, 2849, 3688, 3641, 1694, 4287, 492, 6397, 3789, 4391, 6171, 5326, 2751, 4971], [3182, 3031, 580, 3614, 1607, 173, 7212, 4364, 5161, 3343, 6436, 3031, 1491, 3907, 3031, 1614, 5733, 3027, 3907, 6993, 7154], [408, 2751, 6722, 173, 4219, 5644, 2537, 5520, 6924], [408, 2244, 3699], [1399, 2915], [4379, 1599, 5729], [4079, 4591, 4403, 296, 5604, 4181], [4604, 173, 5003, 7495, 2244, 5474, 7442, 3907, 173, 4606, 5644, 7080], [4403, 3907, 2751, 7621, 4472, 380, 5644, 1502, 2412, 1767, 4529, 7560, 4705, 5235, 3907, 1099, 737, 3789], [3641, 839, 6978, 4880, 6397, 3343, 2257, 3343, 6433, 5474, 3224, 6397, 3343, 2641, 5686], [5552, 6397, 6978, 7895, 2791, 1197, 4398, 4614, 492, 5648, 6836, 2398, 5524, 1512, 3377, 4342, 7626, 6183, 6745, 2412, 5174, 2065], [6872, 2344, 3789, 6397, 3389, 5591, 3614, 5242, 3907, 5003, 7033, 5644, 2849, 5186, 3789, 8660, 4907, 1076, 950, 6824, 1273, 6113, 3789, 2339], [688, 3343, 5644, 1630, 5003, 3065], [3614, 8562, 2506, 7077, 3342, 5856, 3280], [6397, 5840, 7245, 6171, 2319, 3907, 6120, 7788, 5495, 7538, 3789, 7549, 3907, 3624, 5495, 2244, 3781, 3789, 2383, 2520], [2303, 6978, 5356, 196, 175, 6343, 939, 7163, 3789, 5174, 4246, 3907, 5174, 7371, 2303, 5481, 6397, 3924, 2465, 3789, 5174], [5474, 8055, 1207, 8626], [2849, 1645, 3962, 5245, 3641, 2412, 1756, 3028, 4755, 6799], [8109, 7626, 5474, 1967, 6397, 173, 3789, 6138, 3907, 2849, 5666, 5797, 3907, 2849, 7317, 69, 3907, 2849, 5729, 3104], [6397, 8562, 62, 7626, 8440, 3706], [129, 8510, 3789, 905, 5983, 5692, 1333, 7499, 5066, 7499, 7680, 439, 5528, 153, 2235], [408, 7784, 3343, 6246, 6845, 2849, 3343, 1491, 3758], [3925, 4356, 254, 6438, 2849, 3343, 4214], [3542, 887, 947, 5688, 7784, 6397, 6171, 1471, 7895, 1966, 6397, 492, 4540, 6183, 8716, 7560, 173, 3023, 8614], [3431, 3918, 7824, 3907, 2789, 125, 2505, 6003, 3907, 5729, 3918, 7626, 4961, 1966, 6305, 6836, 5219, 3789, 3389, 6089], [492, 6058, 5474, 2289, 459, 8619], [7560, 3614, 720, 6397, 3343, 5720, 6236, 4655, 6959, 3789, 8390, 4749], [2849, 2303, 7915, 6991, 6397, 3389, 6135, 3789, 5174], [4868, 7598, 1674, 4925, 3614, 3316, 7239, 6978, 1864, 1107, 1772], [2388, 1129, 5644, 5905, 5729, 5871, 3789, 8566, 3907, 5039, 2244, 1258, 4191], [6196, 4288, 6972, 4547, 582, 939, 555, 7163, 2563, 6112, 2244, 1195], [1674, 5520, 5, 1423, 5778, 2244, 1624, 173, 8451, 2412, 3031, 8067, 3230, 2724, 1301, 3789, 3996], [8226, 6391, 5778, 56, 8501, 2670, 6397, 3640, 1245, 56, 4346, 1767, 5175, 555, 3874, 1029, 5644, 7098, 6397, 5526, 6397, 5526], [7864, 6397, 2849, 4133, 492, 7834, 5644, 2927, 5644, 7784, 2849, 6171, 7834, 5644, 6210, 254, 222, 3530, 5100], [2303, 862, 4487, 3537, 2765], [5778, 5853, 5729, 6057, 6397, 325, 7626, 1434, 1295], [6397, 4950, 8562, 862, 3425, 3907, 2849, 5725, 254, 4214, 5644, 5474, 432], [3343, 5679, 3789, 5314, 3482, 6397, 555, 2506, 3907, 3659, 5014, 6399], [3293, 3343, 6953, 1966, 1132, 6397, 3343, 507, 4705, 7844, 6397, 7029, 6343, 8025, 8518, 3907, 3343, 5474, 4221, 2412, 5174, 2656, 720, 2849, 492, 2785], [7916, 6397, 7163, 1931, 2244, 56, 3614, 1432, 5206, 131, 5474, 5559, 6264, 3789, 296, 2374], [7560, 6872, 6748, 3389, 2219], [2244, 6836, 6397, 863, 3928, 6836, 6397, 5778, 2849, 8501, 3907, 2244, 6836, 6397, 8501, 2244, 3108, 8619, 208], [5474, 3518, 3789, 2506, 6871, 5644, 2138, 2150, 5543, 3789, 3975, 2412, 6188], [6851, 3789, 3415, 1838, 3907, 6872, 4505, 5741, 6397, 7655, 1389, 4487], [3448, 944, 939, 5778, 2849, 173, 3512], [939, 1515, 2244, 6717, 2849, 1566, 7817, 1302, 6397, 3343, 1899, 2412, 1767, 4805, 3614, 4705, 1729, 254, 2301, 8342, 492, 1273, 2029, 2979], [4287, 1976, 2583, 7626, 4981, 3907, 5644, 242, 3789, 2277, 4287, 4392, 408, 5722, 8484, 4907, 1176], [7626, 2893, 3688, 2152, 2171, 3789, 5039, 1423, 2279, 6929, 254, 3229], [555, 2303, 6397, 3924, 5174, 6062, 2412, 1756, 1273, 2303], [3614, 6397, 3614, 4705, 6836, 1966, 5474, 3550, 3915, 537], [3343, 2039, 5644, 2761, 4705, 7401, 3907, 2862, 4934, 5644, 5174, 6103, 5345, 2849, 492, 8211, 2412, 2008, 5692, 3343, 5367], [6728, 1273, 8259, 2506, 6872, 1434, 254, 208, 7626, 6836, 6189, 3907, 6836, 2303, 3415, 5644, 4821, 3224, 6933, 6872, 7626, 6978, 4924], [6477, 555, 2849, 4565, 200, 1295, 3907, 1349, 492, 4861, 7033, 370, 2244, 1295, 3614, 4364, 2502, 1262], [2849, 175, 4943, 3907, 2849, 3343, 8089, 2862, 7766, 1966, 3415, 6342, 3343, 7750, 5346, 4571, 3907, 720, 6397, 8097, 3614, 7487, 8610, 1434], [5018, 731, 7915, 6397, 2244, 2849, 2138, 5018, 7776, 3907, 69, 5014, 5856, 2506, 5419, 2230, 629, 1566, 2506, 5003, 4477, 5644, 630, 8036, 2412, 4203], [4294, 6397, 6171, 5856, 2252, 4950, 3343, 7425, 6343, 537, 3907, 5729, 4572, 6397, 5853, 6397, 1719, 8708], [3223, 8483, 8181], [6397, 208, 1389, 6062, 5729, 4134, 1131], [1245, 254, 8237, 3981, 254, 3917, 7834, 8540, 3907, 5924, 7675], [8467, 5474, 4092, 603, 3789, 5474, 1424, 3789, 6836, 3806, 3789, 5474, 4802, 6836, 8270, 7125, 2268, 3028, 2809], [7560, 3343, 2659, 6397, 6171, 7662, 3028, 6967, 4523], [3461, 173, 1227, 3789, 1295, 3614, 1423, 2840, 3563, 1434, 254, 6308, 7590, 6397, 4655], [4705, 7111, 5778, 492, 4079, 484, 3614, 254, 3280, 1966, 5474, 579, 3907, 5039, 3789, 2604, 2999, 5769], [5560, 2373, 5644, 1382, 6397, 483, 5729, 5140, 6397, 1423, 7389, 5474, 2455, 617], [6430, 3888, 2412, 5474, 87, 5762, 5729, 2789, 6397, 7626, 4379, 4090, 3907, 3614, 4705, 4797, 1434, 1273, 6397, 492, 3343, 1993], [1273, 5729, 7121, 3614, 2506, 3614, 4391, 2382, 1767, 582, 2849, 3343, 103, 5856, 3789, 4652], [6371, 6171, 4133, 4557, 5644, 5644, 6978, 14, 3249, 3789, 8160, 3907, 3028, 7436, 3343, 8179, 6397, 7660, 3192, 3789, 5474, 8067], [1662, 5174, 3804, 4861, 6108, 7886, 8347, 6871, 5644, 4108, 3789, 8714, 4043, 6397, 5474, 79, 2849, 5644, 1273, 4183, 2979], [555, 2849, 3688, 3789, 5367, 3343, 6436, 6845, 7626, 7583], [296, 630, 4155, 863, 1793, 2506, 8252, 5644, 7784, 2840, 6584, 6538, 4317], [6397, 5520, 5206, 492, 3343, 3590, 6836, 4614, 3907, 3343, 6113, 6978, 4548, 6397, 2308, 2244, 6717], [863, 6397, 1273, 5762, 5474, 979, 3789, 1592, 6397, 6171, 6576, 3907, 2751, 1301, 3789, 6421, 2789, 1258, 7163, 1634], [4134], [2289, 6351, 6397, 400, 7626, 5474, 4495, 1967, 1295, 492, 5211, 2837], [6430, 6397, 7784, 3343, 6395, 6978, 7048], [408, 5521, 3343, 1274, 3809, 1349, 6872, 8198, 2380, 1767, 8582, 3907, 492, 7834, 5865], [3663, 3641, 151], [939, 351, 208], [8125, 2751, 477, 7163, 154, 408, 4176, 2849, 154, 6978, 6141, 408, 3028, 3790, 3789, 5848, 492, 5324, 3789, 6397, 6298, 2703, 8125, 7023, 5318, 8272, 3907, 2849, 6213], [408, 3688, 6978, 7454, 3907, 6978, 3065, 3758, 3343, 6113, 4700], [6397, 688, 4403, 5535, 2751, 313, 7626, 8497, 3100, 1273, 1452, 8687, 6397, 3688, 2341], [8716, 8492, 2382, 8063, 582, 6349, 7626, 1257], [3343, 6298, 7033, 5494, 2337, 939, 3999, 3907, 5474, 1854, 4197], [3679, 3789, 3116, 4705, 190, 6397, 6762, 8063, 5692, 4907, 2412, 1273, 6397, 2527, 1129, 5778, 3343, 6113, 7317, 2412, 5474, 3224, 3907, 2849, 7163, 62], [6851, 3789, 3415, 2412, 254, 3655, 5474, 8198, 7655, 3789, 2395, 939, 5474, 5729, 3027, 3907, 7626, 5474, 1262, 6296], [7064, 5474, 6919, 5644, 52], [3907, 2244, 2235, 5644, 2771, 1718, 5982, 863], [5644, 1580, 1273, 6397, 4705, 1967, 8165, 2849, 3614, 4705, 3435, 3287, 6397, 6171, 7662, 503, 6978, 688, 6181, 6397, 6171, 2265], [6105, 5521, 2412, 5613, 982, 7893, 8237, 3907, 3478, 4601, 5644, 6481], [3176, 3394, 5474, 3511, 3789, 60, 254, 6910, 3789, 7502, 2412, 5174, 6103, 3614, 5520, 6397, 56, 6836, 182, 6983, 5666, 7626, 5474, 8582], [5211, 2855, 5778, 3614, 5920, 2093, 3907, 7092, 2751, 1883, 3789, 5185, 6588, 6753, 3789, 5003, 2932], [4824, 2849, 8251, 6057, 6554, 254, 4675, 939, 2382, 1674, 3269, 3789, 5506, 5140, 3907, 507, 5644, 7759, 3789, 6750, 5506, 254, 2043, 8032], [7166, 1129, 254, 6397, 5778, 5474, 6132, 5644, 5235, 2922, 7663], [939, 7410, 3007, 254, 1541, 3789, 6836, 7871], [2849, 492, 2244, 6397, 3343, 7705, 408, 2910, 3789, 8587, 5474, 6431, 4541, 3907, 563, 7626, 3164, 1273, 2465], [2849, 4834, 6397, 3511], [7154, 555, 6927, 277], [2849, 7163, 62], [8271, 5808, 7626, 2352, 6682, 3907, 6918, 3789, 3586, 3907, 6728, 2849, 4120, 5644, 1253, 4155, 1844, 5952, 3907, 833], [6872, 4505, 939, 2849, 175, 979, 1966, 476, 2367, 543, 1273, 6113], [7319, 5781, 5178, 7319, 8549, 303, 863, 3343, 5855, 6522], [863, 3614, 2827, 5746, 6836, 3642, 1389, 6963], [5964, 182, 1966, 2650, 7214, 3907, 5206, 6978, 4204, 1966, 6448, 3789, 1387, 6397, 5211, 3699, 3641, 7349], [4598, 5474, 2348, 7281, 8428], [3343, 175, 6397, 1827, 5644, 2751, 2305], [2244, 6397, 1229, 175, 6397, 5003, 3641, 6939, 1423, 492, 6764, 3789, 254], [1258, 6872, 7705], [2556, 254, 2478, 3789, 5444, 5644, 3552, 4750, 6397, 6171, 3892, 6978, 5412, 3907, 6397, 2474, 6782, 3065, 3907, 6538], [7784, 8555, 6538], [6872, 3641, 2766, 7626, 1434, 1273, 6397, 6983, 6397, 3415, 7626, 1951, 3907, 6966, 6397, 4043, 1301, 3789, 4069, 3907, 8419, 3343, 5540], [2279, 1300, 6397, 2849, 7131, 6397, 5474, 5347, 3789, 5474, 2641, 3945, 3415, 3028, 4977, 3789, 7784, 3575, 408, 507, 6978, 6308], [3614, 6397, 5174, 1520, 3789, 3038, 3614, 2993, 3028, 3789, 6836, 5237, 4705, 6991], [555, 2791, 2412, 6978, 5, 4364, 6433, 3907, 3907, 6528, 3415, 4950, 1047, 254, 6087, 3789, 7407, 3343, 4861, 6631, 8547], [6872, 3641, 4134, 2412, 4853, 4199, 6397, 3688, 8050, 3789, 3617, 5644, 5474, 4067, 2244, 7337, 6978, 8473, 3789, 182, 6872, 7886, 774, 829, 3602], [4151, 8179, 254, 2093, 2216], [4287, 5474, 4359, 3789, 5174, 6164, 443, 7824, 7560, 2412, 2751, 5992, 3789, 2395, 1423, 492, 6058, 1195, 8702], [6397, 6743, 24, 939, 173, 4516, 7502], [408, 2849, 6298, 2235, 3614, 6397, 5243, 6978, 8237], [2029, 1603, 4705, 7844, 3907, 6397, 1479, 2254], [5778, 4587, 5474, 4359, 1349, 408, 8026, 3277, 6397, 6871, 5644, 2025, 3907, 492, 3343, 8211, 6305, 254, 6362], [692, 5455, 7497, 6535, 4571], [8109, 7626, 5474, 3139, 555, 3688, 5729, 3789, 4032, 6573], [3094, 2244, 6677, 2849, 939, 2494, 3164, 5167, 4413], [5514, 5686, 6397, 2916], [3688, 4364, 4026, 3789, 2138, 5644, 5174, 5660, 2842], [7560, 6171, 7341, 6836, 6568, 3789, 1124, 3028, 1441, 1423, 3201, 5910, 3789, 7915, 2244, 6978, 5325, 887, 6397, 1723, 8663], [2339, 3031, 254, 5445, 5211, 3224, 175], [7234, 1529, 6743], [8619, 4458, 5174, 287, 1635, 3745, 8554], [939, 4287, 2849, 427, 630, 1273, 2258], [2643, 6397, 3343, 6436], [555, 3688, 4487, 6991, 3907, 3343, 7460, 5556, 5644, 4797, 1434, 254, 208, 3907, 254, 4637, 492, 1031, 3789, 5174, 3907, 3343, 7183, 4497, 3907, 555, 1273, 6389, 2052], [3436, 6788, 6438, 6788, 47, 5729, 5521, 3789, 7080], [8619, 208, 5644, 56, 6836, 6397, 1493, 6397, 7163, 4398, 6492, 2840, 3389, 5921, 408, 6171, 226, 403, 5243, 5481, 3789, 4274, 6785], [6872, 8430], [1155, 5644, 1960, 1487, 5644, 2849, 5778, 492, 1491, 8657], [1505, 8619, 208, 4906, 4423], [254, 2301, 5211, 8259, 3789, 493], [3505, 5644, 5474, 2917], [6397, 2827, 2849, 6718, 1917, 1495, 2815, 2255, 4487, 2525, 56, 2849, 3343, 2303, 7945, 2412, 7470, 4907, 8051], [6397, 4416, 7899, 5644, 5211, 242, 5474, 5736, 3789, 5474, 7193, 6872, 8412], [1423, 2849, 8501, 5644, 5174, 1520, 3789, 651, 4907, 84, 7077, 5689, 7726, 3343, 6496, 6978, 4698], [3907, 1273, 6397, 3343, 6436, 5729, 3614, 296, 4755, 6397, 2849, 173, 7570, 6845], [6397, 4487], [3614, 3614, 2849, 7276, 2927, 5644, 6183, 6633, 6836, 8032, 3789, 8564, 3907, 5778, 7574, 4274, 7163, 6183, 7756], [408, 5243, 7829, 3907, 6311, 4907, 4235, 3907, 7626, 7713, 471, 6229, 3789, 5474, 438, 5936, 1389, 5076], [6397, 6743, 1273, 3789, 4556], [2265, 4705, 3967, 1207, 8401, 3907, 1423, 6871, 5644, 3415, 5474, 8593, 3614, 1207, 7613, 2254, 7922], [3753, 4637, 720], [1872, 8619, 208, 4301, 2751, 4516], [7033, 6397, 7951, 3641, 6472, 3907, 5835, 3789, 1526, 7560, 6397, 408, 2849, 3147, 4106, 6397, 56, 7425], [4595, 4705, 3789, 1898, 507, 6978, 5820, 1966, 8050, 5644, 1767, 7943], [2303, 3116, 4398, 5350, 7613, 3907, 4705, 5916, 6046, 2412, 6978, 580, 2638, 3164], [3907, 555, 847, 2506, 4705, 14, 2210, 2910, 4705, 14, 4364, 5161, 2506, 3032, 2235, 3789, 2316, 3907, 4580, 1273, 5729, 1679, 6113, 6978, 10, 7560, 3031, 7560, 555], [6728, 6397, 5474, 4403, 6397, 175, 492, 6580, 2412, 4403, 3907, 2849, 492, 8118, 2412, 511], [3312, 2977, 1423, 5179, 6171, 4789, 2182, 1767, 653, 1349, 4487, 2910, 2412, 6673, 8056, 4364, 3640, 8572, 4705], [3945, 3789, 4079, 6397, 3343, 6113, 4026, 2244, 2138, 5644, 2751, 1883, 6397, 175], [4388, 2646, 2910, 3640], [6872, 7886, 6978, 104, 3789, 6739, 816, 3907, 2849, 3032, 5474, 5186, 8493, 3789, 254, 5220, 3789, 720, 6397, 1432], [4622, 5778, 3343, 4565, 1390, 3305, 408, 3614, 5174, 3244, 403, 3789, 5474, 1405, 4222, 939, 7905, 3614, 5174, 749, 4168], [7154, 5318, 6785, 4009, 3907, 7036, 7560, 254, 4790, 3789, 5619, 5644, 7706, 3036, 2849, 3073, 3865, 492, 6397, 4352], [5272, 8055, 5596, 5211, 749, 3789, 4067, 6412, 1273, 6397, 492, 6171, 3023, 254, 159, 3907, 8251, 2506, 2849, 3343, 6436], [2849, 2303, 1050, 8097, 5644, 5474, 2357], [6397, 5520, 8032, 5474, 3471, 3789, 6978, 4977, 3907, 8198, 525, 1423, 3614, 568, 6227], [3789, 1387, 3135, 4764, 1522], [5778, 5304], [5474, 6908, 3789, 8050, 6978, 697, 3789, 2395, 5474, 1389, 7792, 4656, 5644, 3415, 408, 7837, 7208, 8564, 6397, 3119], [408, 4853, 7337, 8346, 6926, 6059], [5419, 8054, 6978, 8440, 2244, 7811, 6351, 3999, 2849, 5899, 8405], [3343, 6871, 5644, 62, 7911, 6397, 3700, 5962, 4413, 3789, 7208, 7523, 6397, 1566, 609, 3907, 720, 683], [2244, 6397, 5474, 1866, 3789, 1013, 6596, 3789, 6087, 2412, 254, 3020, 8532, 3343, 1512, 6522, 5856, 4628], [6397, 4134, 6397, 6872, 5474, 1207, 413, 3804], [4319, 3789, 5474, 1494, 1566, 5160, 8147, 2751, 8677, 2244, 6978, 10, 3789, 1112], [939, 5778, 6171, 7662, 3907, 7457, 6353, 3343, 6415, 6978, 6834], [6774, 1349, 4637, 7297, 2412, 5174, 6883], [5644, 5174, 7930, 3343, 8461, 1729, 5474, 7210, 3789, 4617, 3907, 2782], [296, 6361, 1423, 492, 173, 7772, 6978, 3365, 3907, 1273, 6238, 3028, 6929], [6694, 3343, 4861, 7076], [2849, 5924, 5474, 3224, 3789, 7413], [408, 7784, 3343, 6801, 2849, 3343, 1491], [8501, 4662, 5644, 6836, 3715, 2412, 5474, 4959, 868, 5506, 6953, 3308], [6397, 8562, 2849, 3790, 4286, 1805, 6397, 173, 37, 6941, 7208, 6351, 3907, 2849, 5402, 7560, 4580, 3482, 7795, 6730], [2945, 6978, 7487, 2849, 3614, 5722, 6437, 6492], [3907, 2244, 6836, 2014, 6171, 5879, 3789, 3267, 1966, 6397, 3576, 3789, 817, 3699, 6051, 720, 3614, 3142, 1665, 630, 173, 4861, 1258, 720], [6171, 2720, 2412, 5474, 2184, 7424, 254, 6786, 4287, 2849, 507, 4364, 1020, 3160], [1673, 3614, 7560, 6978, 3413, 3789, 8402, 2430, 2255, 6836, 4049, 6836, 3498, 6836, 8363, 1072, 3614, 4009, 7627, 2849, 492, 1273, 5040, 2412, 1756], [630, 3343, 6662, 1245, 8440, 8644, 2645, 2244, 620, 3028, 2119, 3789, 5174, 6103, 3906], [6614, 6343, 4907, 7284, 182, 4603, 6449, 3907, 5762, 6397, 1273, 6947, 5373, 1915, 7784], [3614, 3415, 720, 3907, 4504, 2412, 5125], [2353, 2025, 5644, 4214, 5661], [3614, 2982, 6741, 3789, 6397, 3739, 5474, 22, 2412, 4940, 720, 3614, 5520], [1767, 2826, 6183, 1407, 3343, 2724, 1301, 3789, 4229, 6183, 3020, 3343, 333, 4043, 3706, 1434, 5537, 6017, 7134, 6978, 8715, 3907, 7570, 3789, 4264], [5481, 2849, 8251, 1273, 6397, 507, 4043, 6397, 1273, 2029, 5474, 7521, 4391], [6397, 4655, 2506, 4614, 3641, 3831, 3907, 2506, 979, 3641, 2706, 1011, 555, 3688, 5729, 5270, 2506, 3342], [254, 1262, 2093, 3789, 56, 3614, 4294, 4287, 1273, 1681, 8020, 1423, 3924, 3907, 4403, 492, 4080, 4043, 6397, 492, 2724, 5247, 3789, 1273, 6397, 491, 1258], [1262, 6822, 1653, 6872, 4623, 2244, 7446], [7640, 5474, 1253, 3789, 537, 6397, 7364, 6158, 2412, 5474, 352], [3789, 6135, 2849, 3614, 3641, 84], [5670, 6397, 2431, 8501, 4123, 2751, 4394, 3907, 1767, 7371, 1491, 3907, 1349, 630, 8179, 1049], [6743, 3614, 4756, 1434, 3031, 609, 131, 3031, 5498, 3907, 1434, 8713, 7626, 4705, 8676, 3907, 6397, 492, 6580, 7337, 6892, 2412, 254, 1160], [6208, 5174, 3774, 3907, 2720, 5644, 6397, 1131, 2550, 5474, 4359, 609, 540, 8422], [4287, 5644, 5174, 1423, 842, 254, 208, 6397, 4705, 3789, 2751, 5471, 2660, 5644, 3421, 5644, 975, 2435], [6397, 2412, 5474, 7219, 1389, 609, 492, 6397, 5003, 5659, 7626, 4415, 173, 1273, 4133, 1434, 3907, 1273, 8423], [3873, 4909, 6397, 254, 8702, 2910, 4956, 2979], [2849, 3343, 524, 6057, 1109, 208, 254, 1491, 720, 3614, 2827, 3907, 6068, 7742], [3342, 6397, 4219, 5644, 5402, 408, 4026, 4705, 6991, 6397, 2849, 6246, 6397, 5474, 5421], [1349, 7574, 4287, 3641, 3269, 2412, 2751, 2277, 6827, 1911, 4012, 7871, 6836, 6397, 3993, 1295], [1035, 2849, 3343, 3324, 3907, 2303, 1050, 5644, 6707, 6978, 2826], [8562, 3614, 1434, 1273, 6397, 173, 1707, 3907, 1273, 337, 6397, 3614, 8020], [8347, 700, 2509, 3343, 2033, 5644, 2355, 5607], [1922, 5174, 5602, 3945, 6978, 10, 5729, 2465, 3789, 408, 1732, 3907, 2849, 3641, 3073, 3733, 1273, 3942, 8619, 3907, 3945, 6978, 4598, 4194, 1499, 2211, 6968], [1542, 3343, 6580, 4633, 5250, 2412, 254, 5733, 7831, 3907, 254, 3789, 6968, 2849, 1076], [6872, 1207, 8412, 4287, 6868, 2849, 5211, 2412, 8390, 3907, 254, 6164, 3551, 507, 4705, 5005, 3789, 4067, 3907, 4294, 3614, 254, 1262, 2303, 6522], [4287, 651, 8346, 492, 8501, 8115, 5520, 1892], [6397, 4977, 3789, 4580, 413, 254, 6397, 8555, 6438, 4557, 5644, 803, 3907, 4950, 3789, 2395], [1349, 4637, 3343, 6113, 2235, 6397, 5174, 3231, 3343, 6558, 2412, 7546, 6769, 2412, 1273, 6397, 6576, 2751, 730], [555, 492, 6397, 2849, 3343, 4861, 156, 400, 4287, 6872, 8456], [6423, 4287, 7163, 3641, 1060, 6836, 3789, 5474, 855, 6397, 1369, 254, 7624, 6978, 7884, 3789, 8256, 4709], [3343, 7460, 5644, 2027, 4523, 3907, 3343, 594, 1423, 6171, 1908, 6836, 2607, 7937, 5964, 582], [3389, 1624, 3789, 2977, 5474, 4608, 3614, 7626, 2395, 5474, 2748, 3789, 3154, 5302, 173, 2720, 6103, 2391, 2715, 5778, 2013], [7465, 8175, 3907, 173, 8055, 3415, 4487, 6065], [3789, 3773, 7413, 1273, 847, 3907, 492, 5780, 6978, 8272, 3905], [2849, 6298, 8493, 1273, 2766, 6397, 6872, 2244, 1273, 6397, 3031, 3907, 2751, 383, 8501, 6786, 1764, 1715, 173, 2303, 4501], [2849, 2849, 7033, 2849, 983, 939, 2849, 5103], [5189, 5778, 4777, 8675, 893, 8545, 3758, 6978, 5438, 3306, 3907, 2754, 5644, 5474, 2888], [6603, 6927, 5644, 630, 6171, 5175, 5856, 4880, 492, 3201, 7742, 231, 1262], [6939, 3789, 5003, 6902, 6397, 507, 5666, 3907, 1957], [5601, 3343, 3102, 7626, 3389, 1447, 3473, 6105, 8610, 5644, 3389, 3875], [4504, 254, 2235, 1423, 5721, 3028, 3097], [3614, 496, 6397, 3343, 2641, 3641, 2738], [3836, 5596, 2849, 2303, 2945, 7465, 2303, 4963, 7626, 729, 3907, 6397, 5174, 3800, 653, 3924, 3036, 5644, 6103, 5644, 2751, 8063, 1966, 2761, 5474, 7367], [2849, 3343, 7163, 62, 1206, 408, 7784, 3343, 6801, 2849, 3343, 1491], [7603, 939], [1295, 5211, 5346, 2849, 3343, 6044, 3717, 6057, 7337], [5662, 2480, 2303, 5659, 7626, 3147, 154, 6058], [6717, 6397, 4655, 8050, 6397, 1423, 3389, 254, 8132, 2971, 4705, 8328, 5729, 3305, 3907, 7951, 5729, 698, 6397, 2751, 3789, 5419], [2849, 492, 6397, 3343, 6871, 5644, 6181, 254, 550, 3907, 720, 3343, 507, 704, 4534], [939, 2279, 175, 4705, 7844, 1966, 3907, 5345, 6397, 5142, 5474, 1729], [8097, 2923, 820, 7214, 939, 3343, 7834, 2563, 6894, 8402, 5474, 3800, 8155, 6397, 3343, 4272], [6872, 4796, 3789, 6397, 3343, 5133, 4950, 3907, 4413, 2849, 1273, 476], [3067, 3665, 5821, 3907, 4225, 6313, 3789, 5474, 7416], [2849, 4853, 6631, 4853, 6296, 6296, 3789, 5474, 4761, 6397, 173, 8127], [2701, 2701, 5520, 1273, 3789, 6937], [6057, 3670, 3789, 2751, 6446, 4043, 254, 208, 3789, 5419, 4195, 7866, 6397, 555, 3924, 1767, 3974, 3907, 408, 2849, 1273, 8352, 492, 1451, 3907, 2382, 1407], [5003, 7495, 7964, 5649, 6709, 939, 5592, 2008, 2244, 1679, 6836, 5729, 6867], [7037, 3343, 4714, 1273, 1732, 5419, 5547, 3789, 5474, 1731, 5122], [4796, 2344, 7036, 1349], [6397, 1844, 5243, 6872, 3641, 4965, 6397, 2849, 5786, 4146, 408, 2849, 3473, 254, 6186, 3789, 2751, 4950, 2849, 8179], [1051, 6872, 3641, 4534], [5759, 3614, 4364, 1810, 3789, 5174, 6397, 3389, 4523, 4907, 6743, 863, 3343, 6919, 5644, 3415, 4965, 3907, 7626, 5474, 1207, 84, 7077], [2951, 582, 36, 3453, 7626, 5474, 2999, 3907, 1471, 2301, 3614, 6397, 7004, 3789, 688, 3907, 2849, 6718, 1957, 4398, 2517], [370, 4182, 3907, 2412, 14, 2849, 1566], [50, 2725, 4705, 2308, 5733, 3614, 4364, 7092, 7742, 299], [1175, 173, 952, 5644, 6684, 254, 3789, 5474, 7766, 771, 2407], [2922, 8076, 1050, 2046, 5644, 6960, 7519, 6929, 3789, 4487, 3907, 2922, 1448, 6397, 4604, 1423, 566, 174, 7071, 555, 8067, 3620, 173, 2303], [408, 3343, 2714, 2849, 3343, 1491], [5778, 7923, 5644, 8451, 6362, 296, 3614, 84, 4491], [3343, 6113, 1529, 2312, 6677, 4287, 3688, 4705, 2314, 6991, 3789, 4067, 939, 175, 432], [6397, 8076, 3614, 6397, 1207, 3336, 5474, 837, 939, 3688, 3641, 692], [887, 2849, 555, 370, 6872, 6743, 2244, 735, 4950, 3907, 2849, 2244, 720, 175, 1301, 3789, 3718, 5174, 5498], [7764, 4599, 3800, 653, 7497, 2244, 408, 6183, 3182, 8501, 5743], [2395, 1273, 6871, 572, 5474, 5547, 2922, 2604, 2751, 698, 6836, 6090, 3907, 254, 5990, 3789, 7171, 3067, 7098, 2751, 3399, 5299], [6397, 3534, 6787, 939, 154, 5474, 5161, 7844, 3789, 3805, 254, 7539], [4026, 6573, 3097], [6677, 1360, 6397, 5174, 653, 5729, 3305, 1874, 2849, 3790, 1050, 7229, 3789, 6598, 3907, 3624, 4950], [254, 1772, 8721, 1389, 3433, 129, 4704, 5644, 6960, 1392, 2824, 6065, 5448], [5174, 1172, 3789, 7284, 582, 492, 4861, 2058, 6323, 4287, 6171, 5003, 555, 3789, 254, 756, 2849, 3614, 4637, 3789, 6289, 6057, 254, 28, 3789, 4202, 6397, 2279, 7982], [3620, 5778, 6669], [2303, 6197, 2303, 2029, 3343, 2382, 3962, 254, 7837, 3789, 5174, 7915]]\n"
          ]
        }
      ]
    },
    {
      "cell_type": "code",
      "source": [
        "# The sentences might have a different length. We want all of them of the same length\n",
        "word_count = lambda sentence: len(nltk.word_tokenize(sentence))\n",
        "longest_sentence = max(train_clean['Tweet'], key=word_count)\n",
        "length_long_sentence = len(nltk.word_tokenize(longest_sentence))\n",
        "print(length_long_sentence)"
      ],
      "metadata": {
        "colab": {
          "base_uri": "https://localhost:8080/"
        },
        "id": "IrpSuQnOLhtn",
        "outputId": "2894404c-1a2f-4a02-8a5b-2e09a1c88e38"
      },
      "execution_count": null,
      "outputs": [
        {
          "output_type": "stream",
          "name": "stdout",
          "text": [
            "33\n"
          ]
        }
      ]
    },
    {
      "cell_type": "code",
      "source": [
        "padded_sentences_train = pad_sequences(embedded_sentences, length_long_sentence, padding='post')\n",
        "print(padded_sentences_train)"
      ],
      "metadata": {
        "colab": {
          "base_uri": "https://localhost:8080/"
        },
        "id": "OtUEfq8yMIis",
        "outputId": "6c116b58-9a23-4b27-80c1-a07dd26b2926"
      },
      "execution_count": null,
      "outputs": [
        {
          "output_type": "stream",
          "name": "stdout",
          "text": [
            "[[7036 5668 1389 ...    0    0    0]\n",
            " [5474 1694 3164 ...    0    0    0]\n",
            " [5644 5174 3651 ...    0    0    0]\n",
            " ...\n",
            " [5174 1172 3789 ...    0    0    0]\n",
            " [3620 5778 6669 ...    0    0    0]\n",
            " [2303 6197 2303 ...    0    0    0]]\n"
          ]
        }
      ]
    },
    {
      "cell_type": "markdown",
      "source": [
        "###Create the train/test dataset for training and evaluation"
      ],
      "metadata": {
        "id": "-2b_RF3M4dm3"
      }
    },
    {
      "cell_type": "code",
      "source": [
        "X = padded_sentences_train\n",
        "Y = train_clean[['anger',\t'anticipation',\t'disgust',\t'fear', 'joy',\t'love','optimism', 'pessimism',\t'sadness',\t'surprise','trust']]"
      ],
      "metadata": {
        "id": "lQh8uX8yPr-z"
      },
      "execution_count": null,
      "outputs": []
    },
    {
      "cell_type": "code",
      "source": [
        "X_train, X_test, Y_train, Y_test = train_test_split(X,Y, test_size = 0.2, random_state = 1, shuffle = False)"
      ],
      "metadata": {
        "id": "dfJMWqt6gIaA"
      },
      "execution_count": null,
      "outputs": []
    },
    {
      "cell_type": "code",
      "source": [
        "# Check the format\n",
        "X_train"
      ],
      "metadata": {
        "colab": {
          "base_uri": "https://localhost:8080/"
        },
        "id": "0LZG4bQxy6Rw",
        "outputId": "a73614e2-b986-4936-9c75-05ff343b5d85"
      },
      "execution_count": null,
      "outputs": [
        {
          "output_type": "execute_result",
          "data": {
            "text/plain": [
              "array([[7036, 5668, 1389, ...,    0,    0,    0],\n",
              "       [5474, 1694, 3164, ...,    0,    0,    0],\n",
              "       [5644, 5174, 3651, ...,    0,    0,    0],\n",
              "       ...,\n",
              "       [ 630,  507, 6978, ...,    0,    0,    0],\n",
              "       [5618, 8428, 3789, ...,    0,    0,    0],\n",
              "       [ 939, 5853,  408, ...,    0,    0,    0]], dtype=int32)"
            ]
          },
          "metadata": {},
          "execution_count": 20
        }
      ]
    },
    {
      "cell_type": "code",
      "source": [
        "# Check the format\n",
        "Y_train"
      ],
      "metadata": {
        "colab": {
          "base_uri": "https://localhost:8080/",
          "height": 424
        },
        "id": "fzmzo4iaNszz",
        "outputId": "348d0398-df71-445f-d242-aeee6a4bd7b7"
      },
      "execution_count": null,
      "outputs": [
        {
          "output_type": "execute_result",
          "data": {
            "text/plain": [
              "      anger  anticipation  disgust   fear    joy   love  optimism  pessimism  \\\n",
              "0     False         False    False  False   True  False     False      False   \n",
              "1     False         False    False   True  False  False     False       True   \n",
              "2      True         False    False  False  False  False     False      False   \n",
              "3     False         False    False  False   True  False     False      False   \n",
              "4      True         False     True  False  False  False     False      False   \n",
              "...     ...           ...      ...    ...    ...    ...       ...        ...   \n",
              "2843  False          True    False  False   True  False     False      False   \n",
              "2844  False          True    False   True   True  False      True      False   \n",
              "2845  False         False    False  False   True  False     False      False   \n",
              "2846   True         False    False   True  False  False     False      False   \n",
              "2847   True         False    False  False  False  False     False      False   \n",
              "\n",
              "      sadness  surprise  trust  \n",
              "0       False     False  False  \n",
              "1       False     False  False  \n",
              "2       False     False  False  \n",
              "3       False     False  False  \n",
              "4       False     False  False  \n",
              "...       ...       ...    ...  \n",
              "2843    False     False  False  \n",
              "2844    False     False  False  \n",
              "2845    False     False  False  \n",
              "2846    False     False  False  \n",
              "2847    False     False  False  \n",
              "\n",
              "[2848 rows x 11 columns]"
            ],
            "text/html": [
              "\n",
              "  <div id=\"df-30466547-3568-4a7d-b3e1-fccca20c83f0\">\n",
              "    <div class=\"colab-df-container\">\n",
              "      <div>\n",
              "<style scoped>\n",
              "    .dataframe tbody tr th:only-of-type {\n",
              "        vertical-align: middle;\n",
              "    }\n",
              "\n",
              "    .dataframe tbody tr th {\n",
              "        vertical-align: top;\n",
              "    }\n",
              "\n",
              "    .dataframe thead th {\n",
              "        text-align: right;\n",
              "    }\n",
              "</style>\n",
              "<table border=\"1\" class=\"dataframe\">\n",
              "  <thead>\n",
              "    <tr style=\"text-align: right;\">\n",
              "      <th></th>\n",
              "      <th>anger</th>\n",
              "      <th>anticipation</th>\n",
              "      <th>disgust</th>\n",
              "      <th>fear</th>\n",
              "      <th>joy</th>\n",
              "      <th>love</th>\n",
              "      <th>optimism</th>\n",
              "      <th>pessimism</th>\n",
              "      <th>sadness</th>\n",
              "      <th>surprise</th>\n",
              "      <th>trust</th>\n",
              "    </tr>\n",
              "  </thead>\n",
              "  <tbody>\n",
              "    <tr>\n",
              "      <th>0</th>\n",
              "      <td>False</td>\n",
              "      <td>False</td>\n",
              "      <td>False</td>\n",
              "      <td>False</td>\n",
              "      <td>True</td>\n",
              "      <td>False</td>\n",
              "      <td>False</td>\n",
              "      <td>False</td>\n",
              "      <td>False</td>\n",
              "      <td>False</td>\n",
              "      <td>False</td>\n",
              "    </tr>\n",
              "    <tr>\n",
              "      <th>1</th>\n",
              "      <td>False</td>\n",
              "      <td>False</td>\n",
              "      <td>False</td>\n",
              "      <td>True</td>\n",
              "      <td>False</td>\n",
              "      <td>False</td>\n",
              "      <td>False</td>\n",
              "      <td>True</td>\n",
              "      <td>False</td>\n",
              "      <td>False</td>\n",
              "      <td>False</td>\n",
              "    </tr>\n",
              "    <tr>\n",
              "      <th>2</th>\n",
              "      <td>True</td>\n",
              "      <td>False</td>\n",
              "      <td>False</td>\n",
              "      <td>False</td>\n",
              "      <td>False</td>\n",
              "      <td>False</td>\n",
              "      <td>False</td>\n",
              "      <td>False</td>\n",
              "      <td>False</td>\n",
              "      <td>False</td>\n",
              "      <td>False</td>\n",
              "    </tr>\n",
              "    <tr>\n",
              "      <th>3</th>\n",
              "      <td>False</td>\n",
              "      <td>False</td>\n",
              "      <td>False</td>\n",
              "      <td>False</td>\n",
              "      <td>True</td>\n",
              "      <td>False</td>\n",
              "      <td>False</td>\n",
              "      <td>False</td>\n",
              "      <td>False</td>\n",
              "      <td>False</td>\n",
              "      <td>False</td>\n",
              "    </tr>\n",
              "    <tr>\n",
              "      <th>4</th>\n",
              "      <td>True</td>\n",
              "      <td>False</td>\n",
              "      <td>True</td>\n",
              "      <td>False</td>\n",
              "      <td>False</td>\n",
              "      <td>False</td>\n",
              "      <td>False</td>\n",
              "      <td>False</td>\n",
              "      <td>False</td>\n",
              "      <td>False</td>\n",
              "      <td>False</td>\n",
              "    </tr>\n",
              "    <tr>\n",
              "      <th>...</th>\n",
              "      <td>...</td>\n",
              "      <td>...</td>\n",
              "      <td>...</td>\n",
              "      <td>...</td>\n",
              "      <td>...</td>\n",
              "      <td>...</td>\n",
              "      <td>...</td>\n",
              "      <td>...</td>\n",
              "      <td>...</td>\n",
              "      <td>...</td>\n",
              "      <td>...</td>\n",
              "    </tr>\n",
              "    <tr>\n",
              "      <th>2843</th>\n",
              "      <td>False</td>\n",
              "      <td>True</td>\n",
              "      <td>False</td>\n",
              "      <td>False</td>\n",
              "      <td>True</td>\n",
              "      <td>False</td>\n",
              "      <td>False</td>\n",
              "      <td>False</td>\n",
              "      <td>False</td>\n",
              "      <td>False</td>\n",
              "      <td>False</td>\n",
              "    </tr>\n",
              "    <tr>\n",
              "      <th>2844</th>\n",
              "      <td>False</td>\n",
              "      <td>True</td>\n",
              "      <td>False</td>\n",
              "      <td>True</td>\n",
              "      <td>True</td>\n",
              "      <td>False</td>\n",
              "      <td>True</td>\n",
              "      <td>False</td>\n",
              "      <td>False</td>\n",
              "      <td>False</td>\n",
              "      <td>False</td>\n",
              "    </tr>\n",
              "    <tr>\n",
              "      <th>2845</th>\n",
              "      <td>False</td>\n",
              "      <td>False</td>\n",
              "      <td>False</td>\n",
              "      <td>False</td>\n",
              "      <td>True</td>\n",
              "      <td>False</td>\n",
              "      <td>False</td>\n",
              "      <td>False</td>\n",
              "      <td>False</td>\n",
              "      <td>False</td>\n",
              "      <td>False</td>\n",
              "    </tr>\n",
              "    <tr>\n",
              "      <th>2846</th>\n",
              "      <td>True</td>\n",
              "      <td>False</td>\n",
              "      <td>False</td>\n",
              "      <td>True</td>\n",
              "      <td>False</td>\n",
              "      <td>False</td>\n",
              "      <td>False</td>\n",
              "      <td>False</td>\n",
              "      <td>False</td>\n",
              "      <td>False</td>\n",
              "      <td>False</td>\n",
              "    </tr>\n",
              "    <tr>\n",
              "      <th>2847</th>\n",
              "      <td>True</td>\n",
              "      <td>False</td>\n",
              "      <td>False</td>\n",
              "      <td>False</td>\n",
              "      <td>False</td>\n",
              "      <td>False</td>\n",
              "      <td>False</td>\n",
              "      <td>False</td>\n",
              "      <td>False</td>\n",
              "      <td>False</td>\n",
              "      <td>False</td>\n",
              "    </tr>\n",
              "  </tbody>\n",
              "</table>\n",
              "<p>2848 rows × 11 columns</p>\n",
              "</div>\n",
              "      <button class=\"colab-df-convert\" onclick=\"convertToInteractive('df-30466547-3568-4a7d-b3e1-fccca20c83f0')\"\n",
              "              title=\"Convert this dataframe to an interactive table.\"\n",
              "              style=\"display:none;\">\n",
              "        \n",
              "  <svg xmlns=\"http://www.w3.org/2000/svg\" height=\"24px\"viewBox=\"0 0 24 24\"\n",
              "       width=\"24px\">\n",
              "    <path d=\"M0 0h24v24H0V0z\" fill=\"none\"/>\n",
              "    <path d=\"M18.56 5.44l.94 2.06.94-2.06 2.06-.94-2.06-.94-.94-2.06-.94 2.06-2.06.94zm-11 1L8.5 8.5l.94-2.06 2.06-.94-2.06-.94L8.5 2.5l-.94 2.06-2.06.94zm10 10l.94 2.06.94-2.06 2.06-.94-2.06-.94-.94-2.06-.94 2.06-2.06.94z\"/><path d=\"M17.41 7.96l-1.37-1.37c-.4-.4-.92-.59-1.43-.59-.52 0-1.04.2-1.43.59L10.3 9.45l-7.72 7.72c-.78.78-.78 2.05 0 2.83L4 21.41c.39.39.9.59 1.41.59.51 0 1.02-.2 1.41-.59l7.78-7.78 2.81-2.81c.8-.78.8-2.07 0-2.86zM5.41 20L4 18.59l7.72-7.72 1.47 1.35L5.41 20z\"/>\n",
              "  </svg>\n",
              "      </button>\n",
              "      \n",
              "  <style>\n",
              "    .colab-df-container {\n",
              "      display:flex;\n",
              "      flex-wrap:wrap;\n",
              "      gap: 12px;\n",
              "    }\n",
              "\n",
              "    .colab-df-convert {\n",
              "      background-color: #E8F0FE;\n",
              "      border: none;\n",
              "      border-radius: 50%;\n",
              "      cursor: pointer;\n",
              "      display: none;\n",
              "      fill: #1967D2;\n",
              "      height: 32px;\n",
              "      padding: 0 0 0 0;\n",
              "      width: 32px;\n",
              "    }\n",
              "\n",
              "    .colab-df-convert:hover {\n",
              "      background-color: #E2EBFA;\n",
              "      box-shadow: 0px 1px 2px rgba(60, 64, 67, 0.3), 0px 1px 3px 1px rgba(60, 64, 67, 0.15);\n",
              "      fill: #174EA6;\n",
              "    }\n",
              "\n",
              "    [theme=dark] .colab-df-convert {\n",
              "      background-color: #3B4455;\n",
              "      fill: #D2E3FC;\n",
              "    }\n",
              "\n",
              "    [theme=dark] .colab-df-convert:hover {\n",
              "      background-color: #434B5C;\n",
              "      box-shadow: 0px 1px 3px 1px rgba(0, 0, 0, 0.15);\n",
              "      filter: drop-shadow(0px 1px 2px rgba(0, 0, 0, 0.3));\n",
              "      fill: #FFFFFF;\n",
              "    }\n",
              "  </style>\n",
              "\n",
              "      <script>\n",
              "        const buttonEl =\n",
              "          document.querySelector('#df-30466547-3568-4a7d-b3e1-fccca20c83f0 button.colab-df-convert');\n",
              "        buttonEl.style.display =\n",
              "          google.colab.kernel.accessAllowed ? 'block' : 'none';\n",
              "\n",
              "        async function convertToInteractive(key) {\n",
              "          const element = document.querySelector('#df-30466547-3568-4a7d-b3e1-fccca20c83f0');\n",
              "          const dataTable =\n",
              "            await google.colab.kernel.invokeFunction('convertToInteractive',\n",
              "                                                     [key], {});\n",
              "          if (!dataTable) return;\n",
              "\n",
              "          const docLinkHtml = 'Like what you see? Visit the ' +\n",
              "            '<a target=\"_blank\" href=https://colab.research.google.com/notebooks/data_table.ipynb>data table notebook</a>'\n",
              "            + ' to learn more about interactive tables.';\n",
              "          element.innerHTML = '';\n",
              "          dataTable['output_type'] = 'display_data';\n",
              "          await google.colab.output.renderOutput(dataTable, element);\n",
              "          const docLink = document.createElement('div');\n",
              "          docLink.innerHTML = docLinkHtml;\n",
              "          element.appendChild(docLink);\n",
              "        }\n",
              "      </script>\n",
              "    </div>\n",
              "  </div>\n",
              "  "
            ]
          },
          "metadata": {},
          "execution_count": 21
        }
      ]
    },
    {
      "cell_type": "markdown",
      "source": [
        "Las columnas no son excluyentes. Cada tweet puede ser de más de un tipo de sentimiento. Por tanto, no es posible balancear el dataset.\n",
        "\n",
        "Con los datos ya tratados y listos, podemos empezar el entrenamiento"
      ],
      "metadata": {
        "id": "CwzrU-FliZhI"
      }
    },
    {
      "cell_type": "markdown",
      "source": [
        "### Generate the models"
      ],
      "metadata": {
        "id": "KLAp5QJd4ZOz"
      }
    },
    {
      "cell_type": "code",
      "source": [
        "maxlen = length_long_sentence\n",
        "\n",
        "input_1 = Input(shape=(maxlen,))\n",
        "embedding_layer = Embedding(len(X_train), length_long_sentence, input_length=length_long_sentence)(input_1)\n",
        "LSTM_Layer1 = LSTM(128)(embedding_layer)\n",
        "dense1 = Dense(64,activation = 'relu')(LSTM_Layer1)\n",
        "drop = Dropout(0.5)(dense1)\n",
        "dense2 = Dense(32,activation = 'relu')(drop)\n",
        "output1 = Dense(1, activation='sigmoid')(dense2)\n"
      ],
      "metadata": {
        "id": "ovC5wj4vZrPR"
      },
      "execution_count": null,
      "outputs": []
    },
    {
      "cell_type": "code",
      "source": [
        "models = dict()\n",
        "def train_models(models):\n",
        "    \n",
        "    # y_trains = dict()\n",
        "    history = dict()\n",
        "\n",
        "    for sent in Y_train.columns:\n",
        "        model = Model(inputs=input_1, outputs=output1)\n",
        "        model.compile(loss='binary_crossentropy', optimizer='adam', metrics=['acc'])\n",
        "        # y_trains[sent] = Y_train[[sent]].astype(int).values\n",
        "        y_trains = Y_train[[sent]].astype(int).values\n",
        "        print(sent)\n",
        "        history[sent] = model.fit(X_train, y_trains, epochs=5, verbose=1, validation_split = 0.2, shuffle = False)\n",
        "        models[sent] = copy.deepcopy(model)\n",
        "\n",
        "    return models, history"
      ],
      "metadata": {
        "id": "AA31dev9hxL1"
      },
      "execution_count": null,
      "outputs": []
    },
    {
      "cell_type": "markdown",
      "source": [
        "##Model management"
      ],
      "metadata": {
        "id": "oH0wPY-z5h_h"
      }
    },
    {
      "cell_type": "markdown",
      "source": [
        "### Train the models"
      ],
      "metadata": {
        "id": "b0V6MGoN4U1d"
      }
    },
    {
      "cell_type": "code",
      "source": [
        "models = dict()\n",
        "with tf.device('/GPU:0'):\n",
        "  models, history =  train_models(models)"
      ],
      "metadata": {
        "colab": {
          "base_uri": "https://localhost:8080/"
        },
        "id": "faBH5x-WOqmU",
        "outputId": "35170f07-f20f-4056-a4e6-5bdccc444594"
      },
      "execution_count": null,
      "outputs": [
        {
          "output_type": "stream",
          "name": "stdout",
          "text": [
            "anger\n",
            "Epoch 1/5\n",
            "72/72 [==============================] - 11s 22ms/step - loss: 0.6376 - acc: 0.6765 - val_loss: 0.6047 - val_acc: 0.7053\n",
            "Epoch 2/5\n",
            "72/72 [==============================] - 1s 14ms/step - loss: 0.6307 - acc: 0.6769 - val_loss: 0.5989 - val_acc: 0.7053\n",
            "Epoch 3/5\n",
            "72/72 [==============================] - 1s 16ms/step - loss: 0.6066 - acc: 0.6936 - val_loss: 0.5959 - val_acc: 0.6474\n",
            "Epoch 4/5\n",
            "72/72 [==============================] - 1s 15ms/step - loss: 0.5194 - acc: 0.7550 - val_loss: 0.7220 - val_acc: 0.6018\n",
            "Epoch 5/5\n",
            "72/72 [==============================] - 1s 16ms/step - loss: 0.4558 - acc: 0.7994 - val_loss: 0.5843 - val_acc: 0.6772\n"
          ]
        },
        {
          "output_type": "stream",
          "name": "stderr",
          "text": [
            "WARNING:absl:Found untraced functions such as lstm_cell_layer_call_fn, lstm_cell_layer_call_and_return_conditional_losses while saving (showing 2 of 2). These functions will not be directly callable after loading.\n"
          ]
        },
        {
          "output_type": "stream",
          "name": "stdout",
          "text": [
            "INFO:tensorflow:Assets written to: ram://cbbd1a48-21db-45f4-ae7e-93afc5b08bf0/assets\n"
          ]
        },
        {
          "output_type": "stream",
          "name": "stderr",
          "text": [
            "INFO:tensorflow:Assets written to: ram://cbbd1a48-21db-45f4-ae7e-93afc5b08bf0/assets\n",
            "WARNING:absl:<keras.layers.recurrent.LSTMCell object at 0x7f112574ea10> has the same name 'LSTMCell' as a built-in Keras object. Consider renaming <class 'keras.layers.recurrent.LSTMCell'> to avoid naming conflicts when loading with `tf.keras.models.load_model`. If renaming is not possible, pass the object in the `custom_objects` parameter of the load function.\n"
          ]
        },
        {
          "output_type": "stream",
          "name": "stdout",
          "text": [
            "anticipation\n",
            "Epoch 1/5\n",
            "72/72 [==============================] - 3s 14ms/step - loss: 0.3890 - acc: 0.8753 - val_loss: 0.3593 - val_acc: 0.8842\n",
            "Epoch 2/5\n",
            "72/72 [==============================] - 1s 8ms/step - loss: 0.3750 - acc: 0.8810 - val_loss: 0.3595 - val_acc: 0.8842\n",
            "Epoch 3/5\n",
            "72/72 [==============================] - 1s 8ms/step - loss: 0.3759 - acc: 0.8810 - val_loss: 0.3587 - val_acc: 0.8842\n",
            "Epoch 4/5\n",
            "72/72 [==============================] - 1s 7ms/step - loss: 0.3725 - acc: 0.8810 - val_loss: 0.3588 - val_acc: 0.8842\n",
            "Epoch 5/5\n",
            "72/72 [==============================] - 1s 8ms/step - loss: 0.3708 - acc: 0.8810 - val_loss: 0.5839 - val_acc: 0.8842\n"
          ]
        },
        {
          "output_type": "stream",
          "name": "stderr",
          "text": [
            "WARNING:absl:Found untraced functions such as lstm_cell_layer_call_fn, lstm_cell_layer_call_and_return_conditional_losses while saving (showing 2 of 2). These functions will not be directly callable after loading.\n"
          ]
        },
        {
          "output_type": "stream",
          "name": "stdout",
          "text": [
            "INFO:tensorflow:Assets written to: ram://e2437006-954e-4b12-bebe-7e7d319dd569/assets\n"
          ]
        },
        {
          "output_type": "stream",
          "name": "stderr",
          "text": [
            "INFO:tensorflow:Assets written to: ram://e2437006-954e-4b12-bebe-7e7d319dd569/assets\n",
            "WARNING:absl:<keras.layers.recurrent.LSTMCell object at 0x7f112574ea10> has the same name 'LSTMCell' as a built-in Keras object. Consider renaming <class 'keras.layers.recurrent.LSTMCell'> to avoid naming conflicts when loading with `tf.keras.models.load_model`. If renaming is not possible, pass the object in the `custom_objects` parameter of the load function.\n"
          ]
        },
        {
          "output_type": "stream",
          "name": "stdout",
          "text": [
            "disgust\n",
            "Epoch 1/5\n",
            "72/72 [==============================] - 3s 14ms/step - loss: 0.4049 - acc: 0.8591 - val_loss: 0.4002 - val_acc: 0.8667\n",
            "Epoch 2/5\n",
            "72/72 [==============================] - 1s 8ms/step - loss: 0.3809 - acc: 0.8591 - val_loss: 0.3953 - val_acc: 0.8667\n",
            "Epoch 3/5\n",
            "72/72 [==============================] - 1s 8ms/step - loss: 0.3750 - acc: 0.8591 - val_loss: 0.3797 - val_acc: 0.8667\n",
            "Epoch 4/5\n",
            "72/72 [==============================] - 1s 8ms/step - loss: 0.3616 - acc: 0.8591 - val_loss: 0.3942 - val_acc: 0.8667\n",
            "Epoch 5/5\n",
            "72/72 [==============================] - 1s 8ms/step - loss: 0.3428 - acc: 0.8591 - val_loss: 0.3949 - val_acc: 0.8667\n"
          ]
        },
        {
          "output_type": "stream",
          "name": "stderr",
          "text": [
            "WARNING:absl:Found untraced functions such as lstm_cell_layer_call_fn, lstm_cell_layer_call_and_return_conditional_losses while saving (showing 2 of 2). These functions will not be directly callable after loading.\n"
          ]
        },
        {
          "output_type": "stream",
          "name": "stdout",
          "text": [
            "INFO:tensorflow:Assets written to: ram://dd0fc8eb-5666-4eca-8efc-85269fae4806/assets\n"
          ]
        },
        {
          "output_type": "stream",
          "name": "stderr",
          "text": [
            "INFO:tensorflow:Assets written to: ram://dd0fc8eb-5666-4eca-8efc-85269fae4806/assets\n",
            "WARNING:absl:<keras.layers.recurrent.LSTMCell object at 0x7f112574ea10> has the same name 'LSTMCell' as a built-in Keras object. Consider renaming <class 'keras.layers.recurrent.LSTMCell'> to avoid naming conflicts when loading with `tf.keras.models.load_model`. If renaming is not possible, pass the object in the `custom_objects` parameter of the load function.\n"
          ]
        },
        {
          "output_type": "stream",
          "name": "stdout",
          "text": [
            "fear\n",
            "Epoch 1/5\n",
            "72/72 [==============================] - 3s 14ms/step - loss: 0.3446 - acc: 0.8968 - val_loss: 0.3361 - val_acc: 0.9018\n",
            "Epoch 2/5\n",
            "72/72 [==============================] - 1s 8ms/step - loss: 0.3411 - acc: 0.8968 - val_loss: 0.3313 - val_acc: 0.9018\n",
            "Epoch 3/5\n",
            "72/72 [==============================] - 1s 8ms/step - loss: 0.3361 - acc: 0.8968 - val_loss: 0.3303 - val_acc: 0.9018\n",
            "Epoch 4/5\n",
            "72/72 [==============================] - 1s 8ms/step - loss: 0.3385 - acc: 0.8968 - val_loss: 0.3261 - val_acc: 0.9018\n",
            "Epoch 5/5\n",
            "72/72 [==============================] - 1s 8ms/step - loss: 0.3349 - acc: 0.8968 - val_loss: 0.3238 - val_acc: 0.9018\n"
          ]
        },
        {
          "output_type": "stream",
          "name": "stderr",
          "text": [
            "WARNING:absl:Found untraced functions such as lstm_cell_layer_call_fn, lstm_cell_layer_call_and_return_conditional_losses while saving (showing 2 of 2). These functions will not be directly callable after loading.\n"
          ]
        },
        {
          "output_type": "stream",
          "name": "stdout",
          "text": [
            "INFO:tensorflow:Assets written to: ram://e65f020e-061d-4fad-9970-c59b73fcbc19/assets\n"
          ]
        },
        {
          "output_type": "stream",
          "name": "stderr",
          "text": [
            "INFO:tensorflow:Assets written to: ram://e65f020e-061d-4fad-9970-c59b73fcbc19/assets\n",
            "WARNING:absl:<keras.layers.recurrent.LSTMCell object at 0x7f112574ea10> has the same name 'LSTMCell' as a built-in Keras object. Consider renaming <class 'keras.layers.recurrent.LSTMCell'> to avoid naming conflicts when loading with `tf.keras.models.load_model`. If renaming is not possible, pass the object in the `custom_objects` parameter of the load function.\n"
          ]
        },
        {
          "output_type": "stream",
          "name": "stdout",
          "text": [
            "joy\n",
            "Epoch 1/5\n",
            "72/72 [==============================] - 3s 14ms/step - loss: 0.6186 - acc: 0.6918 - val_loss: 0.6461 - val_acc: 0.6719\n",
            "Epoch 2/5\n",
            "72/72 [==============================] - 1s 8ms/step - loss: 0.5760 - acc: 0.6940 - val_loss: 0.7043 - val_acc: 0.6526\n",
            "Epoch 3/5\n",
            "72/72 [==============================] - 1s 8ms/step - loss: 0.5430 - acc: 0.7191 - val_loss: 0.7815 - val_acc: 0.6632\n",
            "Epoch 4/5\n",
            "72/72 [==============================] - 1s 8ms/step - loss: 0.5076 - acc: 0.7533 - val_loss: 0.8963 - val_acc: 0.6579\n",
            "Epoch 5/5\n",
            "72/72 [==============================] - 1s 8ms/step - loss: 0.4753 - acc: 0.7902 - val_loss: 0.9122 - val_acc: 0.6719\n"
          ]
        },
        {
          "output_type": "stream",
          "name": "stderr",
          "text": [
            "WARNING:absl:Found untraced functions such as lstm_cell_layer_call_fn, lstm_cell_layer_call_and_return_conditional_losses while saving (showing 2 of 2). These functions will not be directly callable after loading.\n"
          ]
        },
        {
          "output_type": "stream",
          "name": "stdout",
          "text": [
            "INFO:tensorflow:Assets written to: ram://105b954f-336c-4a69-881c-f04706b98ec9/assets\n"
          ]
        },
        {
          "output_type": "stream",
          "name": "stderr",
          "text": [
            "INFO:tensorflow:Assets written to: ram://105b954f-336c-4a69-881c-f04706b98ec9/assets\n",
            "WARNING:absl:<keras.layers.recurrent.LSTMCell object at 0x7f112574ea10> has the same name 'LSTMCell' as a built-in Keras object. Consider renaming <class 'keras.layers.recurrent.LSTMCell'> to avoid naming conflicts when loading with `tf.keras.models.load_model`. If renaming is not possible, pass the object in the `custom_objects` parameter of the load function.\n"
          ]
        },
        {
          "output_type": "stream",
          "name": "stdout",
          "text": [
            "love\n",
            "Epoch 1/5\n",
            "72/72 [==============================] - 3s 14ms/step - loss: 0.2454 - acc: 0.9276 - val_loss: 0.2458 - val_acc: 0.9263\n",
            "Epoch 2/5\n",
            "72/72 [==============================] - 1s 8ms/step - loss: 0.2310 - acc: 0.9320 - val_loss: 0.2353 - val_acc: 0.9263\n",
            "Epoch 3/5\n",
            "72/72 [==============================] - 1s 8ms/step - loss: 0.2091 - acc: 0.9320 - val_loss: 0.2418 - val_acc: 0.9263\n",
            "Epoch 4/5\n",
            "72/72 [==============================] - 1s 8ms/step - loss: 0.1926 - acc: 0.9315 - val_loss: 0.2388 - val_acc: 0.9281\n",
            "Epoch 5/5\n",
            "72/72 [==============================] - 1s 8ms/step - loss: 0.1733 - acc: 0.9302 - val_loss: 0.2625 - val_acc: 0.9263\n"
          ]
        },
        {
          "output_type": "stream",
          "name": "stderr",
          "text": [
            "WARNING:absl:Found untraced functions such as lstm_cell_layer_call_fn, lstm_cell_layer_call_and_return_conditional_losses while saving (showing 2 of 2). These functions will not be directly callable after loading.\n"
          ]
        },
        {
          "output_type": "stream",
          "name": "stdout",
          "text": [
            "INFO:tensorflow:Assets written to: ram://2eb77b34-d9cc-45d2-8b42-f1a195c41a53/assets\n"
          ]
        },
        {
          "output_type": "stream",
          "name": "stderr",
          "text": [
            "INFO:tensorflow:Assets written to: ram://2eb77b34-d9cc-45d2-8b42-f1a195c41a53/assets\n",
            "WARNING:absl:<keras.layers.recurrent.LSTMCell object at 0x7f112574ea10> has the same name 'LSTMCell' as a built-in Keras object. Consider renaming <class 'keras.layers.recurrent.LSTMCell'> to avoid naming conflicts when loading with `tf.keras.models.load_model`. If renaming is not possible, pass the object in the `custom_objects` parameter of the load function.\n"
          ]
        },
        {
          "output_type": "stream",
          "name": "stdout",
          "text": [
            "optimism\n",
            "Epoch 1/5\n",
            "72/72 [==============================] - 3s 14ms/step - loss: 0.3431 - acc: 0.8876 - val_loss: 0.3322 - val_acc: 0.8965\n",
            "Epoch 2/5\n",
            "72/72 [==============================] - 1s 8ms/step - loss: 0.3301 - acc: 0.8911 - val_loss: 0.3366 - val_acc: 0.8965\n",
            "Epoch 3/5\n",
            "72/72 [==============================] - 1s 8ms/step - loss: 0.3203 - acc: 0.8911 - val_loss: 0.3589 - val_acc: 0.8965\n",
            "Epoch 4/5\n",
            "72/72 [==============================] - 1s 8ms/step - loss: 0.3006 - acc: 0.8911 - val_loss: 0.3960 - val_acc: 0.8965\n",
            "Epoch 5/5\n",
            "72/72 [==============================] - 1s 8ms/step - loss: 0.2917 - acc: 0.8911 - val_loss: 0.3745 - val_acc: 0.8965\n"
          ]
        },
        {
          "output_type": "stream",
          "name": "stderr",
          "text": [
            "WARNING:absl:Found untraced functions such as lstm_cell_layer_call_fn, lstm_cell_layer_call_and_return_conditional_losses while saving (showing 2 of 2). These functions will not be directly callable after loading.\n"
          ]
        },
        {
          "output_type": "stream",
          "name": "stdout",
          "text": [
            "INFO:tensorflow:Assets written to: ram://3f6537bb-fedb-4bca-b11b-29408d80b465/assets\n"
          ]
        },
        {
          "output_type": "stream",
          "name": "stderr",
          "text": [
            "INFO:tensorflow:Assets written to: ram://3f6537bb-fedb-4bca-b11b-29408d80b465/assets\n",
            "WARNING:absl:<keras.layers.recurrent.LSTMCell object at 0x7f112574ea10> has the same name 'LSTMCell' as a built-in Keras object. Consider renaming <class 'keras.layers.recurrent.LSTMCell'> to avoid naming conflicts when loading with `tf.keras.models.load_model`. If renaming is not possible, pass the object in the `custom_objects` parameter of the load function.\n"
          ]
        },
        {
          "output_type": "stream",
          "name": "stdout",
          "text": [
            "pessimism\n",
            "Epoch 1/5\n",
            "72/72 [==============================] - 3s 13ms/step - loss: 0.4664 - acc: 0.8345 - val_loss: 0.4538 - val_acc: 0.8316\n",
            "Epoch 2/5\n",
            "72/72 [==============================] - 1s 8ms/step - loss: 0.4496 - acc: 0.8345 - val_loss: 0.4530 - val_acc: 0.8316\n",
            "Epoch 3/5\n",
            "72/72 [==============================] - 1s 8ms/step - loss: 0.4442 - acc: 0.8345 - val_loss: 0.4545 - val_acc: 0.8316\n",
            "Epoch 4/5\n",
            "72/72 [==============================] - 1s 8ms/step - loss: 0.4420 - acc: 0.8345 - val_loss: 0.4658 - val_acc: 0.8316\n",
            "Epoch 5/5\n",
            "72/72 [==============================] - 1s 8ms/step - loss: 0.4531 - acc: 0.8345 - val_loss: 0.4536 - val_acc: 0.8316\n"
          ]
        },
        {
          "output_type": "stream",
          "name": "stderr",
          "text": [
            "WARNING:absl:Found untraced functions such as lstm_cell_layer_call_fn, lstm_cell_layer_call_and_return_conditional_losses while saving (showing 2 of 2). These functions will not be directly callable after loading.\n"
          ]
        },
        {
          "output_type": "stream",
          "name": "stdout",
          "text": [
            "INFO:tensorflow:Assets written to: ram://3e3ce5e9-df9b-490f-b08d-b59b69602e1f/assets\n"
          ]
        },
        {
          "output_type": "stream",
          "name": "stderr",
          "text": [
            "INFO:tensorflow:Assets written to: ram://3e3ce5e9-df9b-490f-b08d-b59b69602e1f/assets\n",
            "WARNING:absl:<keras.layers.recurrent.LSTMCell object at 0x7f112574ea10> has the same name 'LSTMCell' as a built-in Keras object. Consider renaming <class 'keras.layers.recurrent.LSTMCell'> to avoid naming conflicts when loading with `tf.keras.models.load_model`. If renaming is not possible, pass the object in the `custom_objects` parameter of the load function.\n"
          ]
        },
        {
          "output_type": "stream",
          "name": "stdout",
          "text": [
            "sadness\n",
            "Epoch 1/5\n",
            "72/72 [==============================] - 3s 14ms/step - loss: 0.5504 - acc: 0.7621 - val_loss: 0.5552 - val_acc: 0.7561\n",
            "Epoch 2/5\n",
            "72/72 [==============================] - 1s 8ms/step - loss: 0.5486 - acc: 0.7621 - val_loss: 0.5545 - val_acc: 0.7561\n",
            "Epoch 3/5\n",
            "72/72 [==============================] - 1s 8ms/step - loss: 0.5448 - acc: 0.7621 - val_loss: 0.5539 - val_acc: 0.7561\n",
            "Epoch 4/5\n",
            "72/72 [==============================] - 1s 8ms/step - loss: 0.5296 - acc: 0.7621 - val_loss: 0.5613 - val_acc: 0.7561\n",
            "Epoch 5/5\n",
            "72/72 [==============================] - 1s 8ms/step - loss: 0.5021 - acc: 0.7651 - val_loss: 0.5747 - val_acc: 0.7579\n"
          ]
        },
        {
          "output_type": "stream",
          "name": "stderr",
          "text": [
            "WARNING:absl:Found untraced functions such as lstm_cell_layer_call_fn, lstm_cell_layer_call_and_return_conditional_losses while saving (showing 2 of 2). These functions will not be directly callable after loading.\n"
          ]
        },
        {
          "output_type": "stream",
          "name": "stdout",
          "text": [
            "INFO:tensorflow:Assets written to: ram://fe992c02-feb7-4930-8b89-b4f84f6d6d90/assets\n"
          ]
        },
        {
          "output_type": "stream",
          "name": "stderr",
          "text": [
            "INFO:tensorflow:Assets written to: ram://fe992c02-feb7-4930-8b89-b4f84f6d6d90/assets\n",
            "WARNING:absl:<keras.layers.recurrent.LSTMCell object at 0x7f112574ea10> has the same name 'LSTMCell' as a built-in Keras object. Consider renaming <class 'keras.layers.recurrent.LSTMCell'> to avoid naming conflicts when loading with `tf.keras.models.load_model`. If renaming is not possible, pass the object in the `custom_objects` parameter of the load function.\n"
          ]
        },
        {
          "output_type": "stream",
          "name": "stdout",
          "text": [
            "surprise\n",
            "Epoch 1/5\n",
            "72/72 [==============================] - 3s 15ms/step - loss: 0.2167 - acc: 0.9478 - val_loss: 0.1916 - val_acc: 0.9526\n",
            "Epoch 2/5\n",
            "72/72 [==============================] - 1s 7ms/step - loss: 0.2042 - acc: 0.9491 - val_loss: 0.1920 - val_acc: 0.9526\n",
            "Epoch 3/5\n",
            "72/72 [==============================] - 1s 8ms/step - loss: 0.2014 - acc: 0.9491 - val_loss: 0.1945 - val_acc: 0.9526\n",
            "Epoch 4/5\n",
            "72/72 [==============================] - 1s 8ms/step - loss: 0.2008 - acc: 0.9491 - val_loss: 0.2016 - val_acc: 0.9526\n",
            "Epoch 5/5\n",
            "72/72 [==============================] - 1s 8ms/step - loss: 0.1803 - acc: 0.9491 - val_loss: 0.2120 - val_acc: 0.9526\n"
          ]
        },
        {
          "output_type": "stream",
          "name": "stderr",
          "text": [
            "WARNING:absl:Found untraced functions such as lstm_cell_layer_call_fn, lstm_cell_layer_call_and_return_conditional_losses while saving (showing 2 of 2). These functions will not be directly callable after loading.\n"
          ]
        },
        {
          "output_type": "stream",
          "name": "stdout",
          "text": [
            "INFO:tensorflow:Assets written to: ram://b6d67652-0cfe-4184-88cd-dfbaa6f8cea1/assets\n"
          ]
        },
        {
          "output_type": "stream",
          "name": "stderr",
          "text": [
            "INFO:tensorflow:Assets written to: ram://b6d67652-0cfe-4184-88cd-dfbaa6f8cea1/assets\n",
            "WARNING:absl:<keras.layers.recurrent.LSTMCell object at 0x7f112574ea10> has the same name 'LSTMCell' as a built-in Keras object. Consider renaming <class 'keras.layers.recurrent.LSTMCell'> to avoid naming conflicts when loading with `tf.keras.models.load_model`. If renaming is not possible, pass the object in the `custom_objects` parameter of the load function.\n"
          ]
        },
        {
          "output_type": "stream",
          "name": "stdout",
          "text": [
            "trust\n",
            "Epoch 1/5\n",
            "72/72 [==============================] - 3s 14ms/step - loss: 0.2125 - acc: 0.9482 - val_loss: 0.1701 - val_acc: 0.9596\n",
            "Epoch 2/5\n",
            "72/72 [==============================] - 1s 8ms/step - loss: 0.2032 - acc: 0.9482 - val_loss: 0.1715 - val_acc: 0.9596\n",
            "Epoch 3/5\n",
            "72/72 [==============================] - 1s 8ms/step - loss: 0.1964 - acc: 0.9482 - val_loss: 0.1761 - val_acc: 0.9596\n",
            "Epoch 4/5\n",
            "72/72 [==============================] - 1s 8ms/step - loss: 0.1845 - acc: 0.9482 - val_loss: 0.1842 - val_acc: 0.9596\n",
            "Epoch 5/5\n",
            "72/72 [==============================] - 1s 8ms/step - loss: 0.1759 - acc: 0.9482 - val_loss: 0.1905 - val_acc: 0.9596\n"
          ]
        },
        {
          "output_type": "stream",
          "name": "stderr",
          "text": [
            "WARNING:absl:Found untraced functions such as lstm_cell_layer_call_fn, lstm_cell_layer_call_and_return_conditional_losses while saving (showing 2 of 2). These functions will not be directly callable after loading.\n"
          ]
        },
        {
          "output_type": "stream",
          "name": "stdout",
          "text": [
            "INFO:tensorflow:Assets written to: ram://1e03c7ae-e00d-4cae-81b3-aa470bf4299a/assets\n"
          ]
        },
        {
          "output_type": "stream",
          "name": "stderr",
          "text": [
            "INFO:tensorflow:Assets written to: ram://1e03c7ae-e00d-4cae-81b3-aa470bf4299a/assets\n",
            "WARNING:absl:<keras.layers.recurrent.LSTMCell object at 0x7f112574ea10> has the same name 'LSTMCell' as a built-in Keras object. Consider renaming <class 'keras.layers.recurrent.LSTMCell'> to avoid naming conflicts when loading with `tf.keras.models.load_model`. If renaming is not possible, pass the object in the `custom_objects` parameter of the load function.\n"
          ]
        }
      ]
    },
    {
      "cell_type": "code",
      "source": [
        "COLAB = True\n",
        "if COLAB:\n",
        "    display(SVG(model_to_dot(models['anger'], show_shapes=True,dpi=72).create(prog='dot', format='svg')))\n",
        "else:\n",
        "    display(SVG(model_to_dot(models['anger'], show_shapes=True).create(prog='dot', format='svg')))"
      ],
      "metadata": {
        "id": "M4ND91fgN0tM",
        "colab": {
          "base_uri": "https://localhost:8080/",
          "height": 759
        },
        "outputId": "6fdfe108-58cf-4e52-9017-63d65c97fcf1"
      },
      "execution_count": null,
      "outputs": [
        {
          "output_type": "display_data",
          "data": {
            "text/plain": [
              "<IPython.core.display.SVG object>"
            ],
            "image/svg+xml": "<svg height=\"553pt\" viewBox=\"0.00 0.00 332.00 553.00\" width=\"332pt\" xmlns=\"http://www.w3.org/2000/svg\" xmlns:xlink=\"http://www.w3.org/1999/xlink\">\n<g class=\"graph\" id=\"graph0\" transform=\"scale(1 1) rotate(0) translate(4 549)\">\n<title>G</title>\n<polygon fill=\"#ffffff\" points=\"-4,4 -4,-549 328,-549 328,4 -4,4\" stroke=\"transparent\"/>\n<!-- 139709441610704 -->\n<g class=\"node\" id=\"node1\">\n<title>139709441610704</title>\n<polygon fill=\"none\" points=\"4,-498.5 4,-544.5 320,-544.5 320,-498.5 4,-498.5\" stroke=\"#000000\"/>\n<text fill=\"#000000\" font-family=\"Times,serif\" font-size=\"14.00\" text-anchor=\"middle\" x=\"44\" y=\"-529.3\">input_1</text>\n<polyline fill=\"none\" points=\"4,-521.5 84,-521.5 \" stroke=\"#000000\"/>\n<text fill=\"#000000\" font-family=\"Times,serif\" font-size=\"14.00\" text-anchor=\"middle\" x=\"44\" y=\"-506.3\">InputLayer</text>\n<polyline fill=\"none\" points=\"84,-498.5 84,-544.5 \" stroke=\"#000000\"/>\n<text fill=\"#000000\" font-family=\"Times,serif\" font-size=\"14.00\" text-anchor=\"middle\" x=\"113\" y=\"-529.3\">input:</text>\n<polyline fill=\"none\" points=\"84,-521.5 142,-521.5 \" stroke=\"#000000\"/>\n<text fill=\"#000000\" font-family=\"Times,serif\" font-size=\"14.00\" text-anchor=\"middle\" x=\"113\" y=\"-506.3\">output:</text>\n<polyline fill=\"none\" points=\"142,-498.5 142,-544.5 \" stroke=\"#000000\"/>\n<text fill=\"#000000\" font-family=\"Times,serif\" font-size=\"14.00\" text-anchor=\"middle\" x=\"186.5\" y=\"-517.8\">[(None, 33)]</text>\n<polyline fill=\"none\" points=\"231,-498.5 231,-544.5 \" stroke=\"#000000\"/>\n<text fill=\"#000000\" font-family=\"Times,serif\" font-size=\"14.00\" text-anchor=\"middle\" x=\"275.5\" y=\"-517.8\">[(None, 33)]</text>\n</g>\n<!-- 139709442833360 -->\n<g class=\"node\" id=\"node2\">\n<title>139709442833360</title>\n<polygon fill=\"none\" points=\"0,-415.5 0,-461.5 324,-461.5 324,-415.5 0,-415.5\" stroke=\"#000000\"/>\n<text fill=\"#000000\" font-family=\"Times,serif\" font-size=\"14.00\" text-anchor=\"middle\" x=\"42\" y=\"-446.3\">embedding</text>\n<polyline fill=\"none\" points=\"0,-438.5 84,-438.5 \" stroke=\"#000000\"/>\n<text fill=\"#000000\" font-family=\"Times,serif\" font-size=\"14.00\" text-anchor=\"middle\" x=\"42\" y=\"-423.3\">Embedding</text>\n<polyline fill=\"none\" points=\"84,-415.5 84,-461.5 \" stroke=\"#000000\"/>\n<text fill=\"#000000\" font-family=\"Times,serif\" font-size=\"14.00\" text-anchor=\"middle\" x=\"113\" y=\"-446.3\">input:</text>\n<polyline fill=\"none\" points=\"84,-438.5 142,-438.5 \" stroke=\"#000000\"/>\n<text fill=\"#000000\" font-family=\"Times,serif\" font-size=\"14.00\" text-anchor=\"middle\" x=\"113\" y=\"-423.3\">output:</text>\n<polyline fill=\"none\" points=\"142,-415.5 142,-461.5 \" stroke=\"#000000\"/>\n<text fill=\"#000000\" font-family=\"Times,serif\" font-size=\"14.00\" text-anchor=\"middle\" x=\"182\" y=\"-434.8\">(None, 33)</text>\n<polyline fill=\"none\" points=\"222,-415.5 222,-461.5 \" stroke=\"#000000\"/>\n<text fill=\"#000000\" font-family=\"Times,serif\" font-size=\"14.00\" text-anchor=\"middle\" x=\"273\" y=\"-434.8\">(None, 33, 33)</text>\n</g>\n<!-- 139709441610704&#45;&gt;139709442833360 -->\n<g class=\"edge\" id=\"edge1\">\n<title>139709441610704-&gt;139709442833360</title>\n<path d=\"M162,-498.3799C162,-490.1745 162,-480.7679 162,-471.8786\" fill=\"none\" stroke=\"#000000\"/>\n<polygon fill=\"#000000\" points=\"165.5001,-471.784 162,-461.784 158.5001,-471.784 165.5001,-471.784\" stroke=\"#000000\"/>\n</g>\n<!-- 139709438515152 -->\n<g class=\"node\" id=\"node3\">\n<title>139709438515152</title>\n<polygon fill=\"none\" points=\"10.5,-332.5 10.5,-378.5 313.5,-378.5 313.5,-332.5 10.5,-332.5\" stroke=\"#000000\"/>\n<text fill=\"#000000\" font-family=\"Times,serif\" font-size=\"14.00\" text-anchor=\"middle\" x=\"38.5\" y=\"-363.3\">lstm</text>\n<polyline fill=\"none\" points=\"10.5,-355.5 66.5,-355.5 \" stroke=\"#000000\"/>\n<text fill=\"#000000\" font-family=\"Times,serif\" font-size=\"14.00\" text-anchor=\"middle\" x=\"38.5\" y=\"-340.3\">LSTM</text>\n<polyline fill=\"none\" points=\"66.5,-332.5 66.5,-378.5 \" stroke=\"#000000\"/>\n<text fill=\"#000000\" font-family=\"Times,serif\" font-size=\"14.00\" text-anchor=\"middle\" x=\"95.5\" y=\"-363.3\">input:</text>\n<polyline fill=\"none\" points=\"66.5,-355.5 124.5,-355.5 \" stroke=\"#000000\"/>\n<text fill=\"#000000\" font-family=\"Times,serif\" font-size=\"14.00\" text-anchor=\"middle\" x=\"95.5\" y=\"-340.3\">output:</text>\n<polyline fill=\"none\" points=\"124.5,-332.5 124.5,-378.5 \" stroke=\"#000000\"/>\n<text fill=\"#000000\" font-family=\"Times,serif\" font-size=\"14.00\" text-anchor=\"middle\" x=\"175.5\" y=\"-351.8\">(None, 33, 33)</text>\n<polyline fill=\"none\" points=\"226.5,-332.5 226.5,-378.5 \" stroke=\"#000000\"/>\n<text fill=\"#000000\" font-family=\"Times,serif\" font-size=\"14.00\" text-anchor=\"middle\" x=\"270\" y=\"-351.8\">(None, 128)</text>\n</g>\n<!-- 139709442833360&#45;&gt;139709438515152 -->\n<g class=\"edge\" id=\"edge2\">\n<title>139709442833360-&gt;139709438515152</title>\n<path d=\"M162,-415.3799C162,-407.1745 162,-397.7679 162,-388.8786\" fill=\"none\" stroke=\"#000000\"/>\n<polygon fill=\"#000000\" points=\"165.5001,-388.784 162,-378.784 158.5001,-388.784 165.5001,-388.784\" stroke=\"#000000\"/>\n</g>\n<!-- 139709446174480 -->\n<g class=\"node\" id=\"node4\">\n<title>139709446174480</title>\n<polygon fill=\"none\" points=\"23.5,-249.5 23.5,-295.5 300.5,-295.5 300.5,-249.5 23.5,-249.5\" stroke=\"#000000\"/>\n<text fill=\"#000000\" font-family=\"Times,serif\" font-size=\"14.00\" text-anchor=\"middle\" x=\"49.5\" y=\"-280.3\">dense</text>\n<polyline fill=\"none\" points=\"23.5,-272.5 75.5,-272.5 \" stroke=\"#000000\"/>\n<text fill=\"#000000\" font-family=\"Times,serif\" font-size=\"14.00\" text-anchor=\"middle\" x=\"49.5\" y=\"-257.3\">Dense</text>\n<polyline fill=\"none\" points=\"75.5,-249.5 75.5,-295.5 \" stroke=\"#000000\"/>\n<text fill=\"#000000\" font-family=\"Times,serif\" font-size=\"14.00\" text-anchor=\"middle\" x=\"104.5\" y=\"-280.3\">input:</text>\n<polyline fill=\"none\" points=\"75.5,-272.5 133.5,-272.5 \" stroke=\"#000000\"/>\n<text fill=\"#000000\" font-family=\"Times,serif\" font-size=\"14.00\" text-anchor=\"middle\" x=\"104.5\" y=\"-257.3\">output:</text>\n<polyline fill=\"none\" points=\"133.5,-249.5 133.5,-295.5 \" stroke=\"#000000\"/>\n<text fill=\"#000000\" font-family=\"Times,serif\" font-size=\"14.00\" text-anchor=\"middle\" x=\"177\" y=\"-268.8\">(None, 128)</text>\n<polyline fill=\"none\" points=\"220.5,-249.5 220.5,-295.5 \" stroke=\"#000000\"/>\n<text fill=\"#000000\" font-family=\"Times,serif\" font-size=\"14.00\" text-anchor=\"middle\" x=\"260.5\" y=\"-268.8\">(None, 64)</text>\n</g>\n<!-- 139709438515152&#45;&gt;139709446174480 -->\n<g class=\"edge\" id=\"edge3\">\n<title>139709438515152-&gt;139709446174480</title>\n<path d=\"M162,-332.3799C162,-324.1745 162,-314.7679 162,-305.8786\" fill=\"none\" stroke=\"#000000\"/>\n<polygon fill=\"#000000\" points=\"165.5001,-305.784 162,-295.784 158.5001,-305.784 165.5001,-305.784\" stroke=\"#000000\"/>\n</g>\n<!-- 139709446137232 -->\n<g class=\"node\" id=\"node5\">\n<title>139709446137232</title>\n<polygon fill=\"none\" points=\"20.5,-166.5 20.5,-212.5 303.5,-212.5 303.5,-166.5 20.5,-166.5\" stroke=\"#000000\"/>\n<text fill=\"#000000\" font-family=\"Times,serif\" font-size=\"14.00\" text-anchor=\"middle\" x=\"53\" y=\"-197.3\">dropout</text>\n<polyline fill=\"none\" points=\"20.5,-189.5 85.5,-189.5 \" stroke=\"#000000\"/>\n<text fill=\"#000000\" font-family=\"Times,serif\" font-size=\"14.00\" text-anchor=\"middle\" x=\"53\" y=\"-174.3\">Dropout</text>\n<polyline fill=\"none\" points=\"85.5,-166.5 85.5,-212.5 \" stroke=\"#000000\"/>\n<text fill=\"#000000\" font-family=\"Times,serif\" font-size=\"14.00\" text-anchor=\"middle\" x=\"114.5\" y=\"-197.3\">input:</text>\n<polyline fill=\"none\" points=\"85.5,-189.5 143.5,-189.5 \" stroke=\"#000000\"/>\n<text fill=\"#000000\" font-family=\"Times,serif\" font-size=\"14.00\" text-anchor=\"middle\" x=\"114.5\" y=\"-174.3\">output:</text>\n<polyline fill=\"none\" points=\"143.5,-166.5 143.5,-212.5 \" stroke=\"#000000\"/>\n<text fill=\"#000000\" font-family=\"Times,serif\" font-size=\"14.00\" text-anchor=\"middle\" x=\"183.5\" y=\"-185.8\">(None, 64)</text>\n<polyline fill=\"none\" points=\"223.5,-166.5 223.5,-212.5 \" stroke=\"#000000\"/>\n<text fill=\"#000000\" font-family=\"Times,serif\" font-size=\"14.00\" text-anchor=\"middle\" x=\"263.5\" y=\"-185.8\">(None, 64)</text>\n</g>\n<!-- 139709446174480&#45;&gt;139709446137232 -->\n<g class=\"edge\" id=\"edge4\">\n<title>139709446174480-&gt;139709446137232</title>\n<path d=\"M162,-249.3799C162,-241.1745 162,-231.7679 162,-222.8786\" fill=\"none\" stroke=\"#000000\"/>\n<polygon fill=\"#000000\" points=\"165.5001,-222.784 162,-212.784 158.5001,-222.784 165.5001,-222.784\" stroke=\"#000000\"/>\n</g>\n<!-- 139709446735824 -->\n<g class=\"node\" id=\"node6\">\n<title>139709446735824</title>\n<polygon fill=\"none\" points=\"21,-83.5 21,-129.5 303,-129.5 303,-83.5 21,-83.5\" stroke=\"#000000\"/>\n<text fill=\"#000000\" font-family=\"Times,serif\" font-size=\"14.00\" text-anchor=\"middle\" x=\"53\" y=\"-114.3\">dense_1</text>\n<polyline fill=\"none\" points=\"21,-106.5 85,-106.5 \" stroke=\"#000000\"/>\n<text fill=\"#000000\" font-family=\"Times,serif\" font-size=\"14.00\" text-anchor=\"middle\" x=\"53\" y=\"-91.3\">Dense</text>\n<polyline fill=\"none\" points=\"85,-83.5 85,-129.5 \" stroke=\"#000000\"/>\n<text fill=\"#000000\" font-family=\"Times,serif\" font-size=\"14.00\" text-anchor=\"middle\" x=\"114\" y=\"-114.3\">input:</text>\n<polyline fill=\"none\" points=\"85,-106.5 143,-106.5 \" stroke=\"#000000\"/>\n<text fill=\"#000000\" font-family=\"Times,serif\" font-size=\"14.00\" text-anchor=\"middle\" x=\"114\" y=\"-91.3\">output:</text>\n<polyline fill=\"none\" points=\"143,-83.5 143,-129.5 \" stroke=\"#000000\"/>\n<text fill=\"#000000\" font-family=\"Times,serif\" font-size=\"14.00\" text-anchor=\"middle\" x=\"183\" y=\"-102.8\">(None, 64)</text>\n<polyline fill=\"none\" points=\"223,-83.5 223,-129.5 \" stroke=\"#000000\"/>\n<text fill=\"#000000\" font-family=\"Times,serif\" font-size=\"14.00\" text-anchor=\"middle\" x=\"263\" y=\"-102.8\">(None, 32)</text>\n</g>\n<!-- 139709446137232&#45;&gt;139709446735824 -->\n<g class=\"edge\" id=\"edge5\">\n<title>139709446137232-&gt;139709446735824</title>\n<path d=\"M162,-166.3799C162,-158.1745 162,-148.7679 162,-139.8786\" fill=\"none\" stroke=\"#000000\"/>\n<polygon fill=\"#000000\" points=\"165.5001,-139.784 162,-129.784 158.5001,-139.784 165.5001,-139.784\" stroke=\"#000000\"/>\n</g>\n<!-- 139709439013136 -->\n<g class=\"node\" id=\"node7\">\n<title>139709439013136</title>\n<polygon fill=\"none\" points=\"25,-.5 25,-46.5 299,-46.5 299,-.5 25,-.5\" stroke=\"#000000\"/>\n<text fill=\"#000000\" font-family=\"Times,serif\" font-size=\"14.00\" text-anchor=\"middle\" x=\"57\" y=\"-31.3\">dense_2</text>\n<polyline fill=\"none\" points=\"25,-23.5 89,-23.5 \" stroke=\"#000000\"/>\n<text fill=\"#000000\" font-family=\"Times,serif\" font-size=\"14.00\" text-anchor=\"middle\" x=\"57\" y=\"-8.3\">Dense</text>\n<polyline fill=\"none\" points=\"89,-.5 89,-46.5 \" stroke=\"#000000\"/>\n<text fill=\"#000000\" font-family=\"Times,serif\" font-size=\"14.00\" text-anchor=\"middle\" x=\"118\" y=\"-31.3\">input:</text>\n<polyline fill=\"none\" points=\"89,-23.5 147,-23.5 \" stroke=\"#000000\"/>\n<text fill=\"#000000\" font-family=\"Times,serif\" font-size=\"14.00\" text-anchor=\"middle\" x=\"118\" y=\"-8.3\">output:</text>\n<polyline fill=\"none\" points=\"147,-.5 147,-46.5 \" stroke=\"#000000\"/>\n<text fill=\"#000000\" font-family=\"Times,serif\" font-size=\"14.00\" text-anchor=\"middle\" x=\"187\" y=\"-19.8\">(None, 32)</text>\n<polyline fill=\"none\" points=\"227,-.5 227,-46.5 \" stroke=\"#000000\"/>\n<text fill=\"#000000\" font-family=\"Times,serif\" font-size=\"14.00\" text-anchor=\"middle\" x=\"263\" y=\"-19.8\">(None, 1)</text>\n</g>\n<!-- 139709446735824&#45;&gt;139709439013136 -->\n<g class=\"edge\" id=\"edge6\">\n<title>139709446735824-&gt;139709439013136</title>\n<path d=\"M162,-83.3799C162,-75.1745 162,-65.7679 162,-56.8786\" fill=\"none\" stroke=\"#000000\"/>\n<polygon fill=\"#000000\" points=\"165.5001,-56.784 162,-46.784 158.5001,-56.784 165.5001,-56.784\" stroke=\"#000000\"/>\n</g>\n</g>\n</svg>"
          },
          "metadata": {}
        }
      ]
    },
    {
      "cell_type": "code",
      "source": [
        "models['anger'].summary()"
      ],
      "metadata": {
        "id": "F8OrsJGNNvJW",
        "colab": {
          "base_uri": "https://localhost:8080/"
        },
        "outputId": "0ae8e112-e757-43d0-c114-6c8d1e6d5dc0"
      },
      "execution_count": null,
      "outputs": [
        {
          "output_type": "stream",
          "name": "stdout",
          "text": [
            "Model: \"model\"\n",
            "_________________________________________________________________\n",
            " Layer (type)                Output Shape              Param #   \n",
            "=================================================================\n",
            " input_1 (InputLayer)        [(None, 33)]              0         \n",
            "                                                                 \n",
            " embedding (Embedding)       (None, 33, 33)            93984     \n",
            "                                                                 \n",
            " lstm (LSTM)                 (None, 128)               82944     \n",
            "                                                                 \n",
            " dense (Dense)               (None, 64)                8256      \n",
            "                                                                 \n",
            " dropout (Dropout)           (None, 64)                0         \n",
            "                                                                 \n",
            " dense_1 (Dense)             (None, 32)                2080      \n",
            "                                                                 \n",
            " dense_2 (Dense)             (None, 1)                 33        \n",
            "                                                                 \n",
            "=================================================================\n",
            "Total params: 187,297\n",
            "Trainable params: 187,297\n",
            "Non-trainable params: 0\n",
            "_________________________________________________________________\n"
          ]
        }
      ]
    },
    {
      "cell_type": "markdown",
      "source": [
        "###Evaluate and Plot the results"
      ],
      "metadata": {
        "id": "jy4_z9uu49oZ"
      }
    },
    {
      "cell_type": "code",
      "source": [
        "import matplotlib.pyplot as plt\n",
        "\n",
        "for i in history.keys():\n",
        "  plt.plot(history[i].history['acc'],label='train %s' % i)\n",
        "  plt.plot(history[i].history['val_acc'], label='val %s' % i)\n",
        "  \n",
        "\n",
        "plt.title('model accuracy')\n",
        "plt.ylabel('accuracy')\n",
        "plt.xlabel('epoch')\n",
        "# plt.legend(['train','test'], loc='upper left')\n",
        "plt.legend(loc='upper left')\n",
        "plt.show()\n",
        "\n",
        "for i in history.keys():\n",
        "  plt.plot(history[i].history['loss'], label='train %s' % i)\n",
        "  plt.plot(history[i].history['val_loss'],label='val %s' % i)\n",
        "\n",
        "plt.title('model loss')\n",
        "plt.ylabel('loss')\n",
        "plt.xlabel('epoch')\n",
        "plt.legend( loc='upper left')\n",
        "plt.show()"
      ],
      "metadata": {
        "id": "hmFAUqWaw-8T",
        "colab": {
          "base_uri": "https://localhost:8080/",
          "height": 753
        },
        "outputId": "528e73b0-313c-4dbe-8128-f187cd5729fd"
      },
      "execution_count": null,
      "outputs": [
        {
          "output_type": "display_data",
          "data": {
            "text/plain": [
              "<Figure size 432x288 with 1 Axes>"
            ],
            "image/png": "[encoded data removed]"
          },
          "metadata": {
            "needs_background": "light"
          }
        },
        {
          "output_type": "display_data",
          "data": {
            "text/plain": [
              "<Figure size 432x288 with 1 Axes>"
            ],
            "image/png": "[encoded data removed]"
          },
          "metadata": {
            "needs_background": "light"
          }
        }
      ]
    },
    {
      "cell_type": "code",
      "source": [
        "def evaluate_models(model):\n",
        "    score = dict()\n",
        "\n",
        "    for sent in Y_train.columns:\n",
        "\n",
        "        # y_trains[sent] = Y_train[[sent]].astype(int).values\n",
        "        y_tests = Y_test[[sent]].astype(int).values\n",
        "        score[sent] = model.evaluate(X_test, y_tests, verbose=1)\n",
        "\n",
        "    return score"
      ],
      "metadata": {
        "id": "XG1PNtSLxSiD"
      },
      "execution_count": null,
      "outputs": []
    },
    {
      "cell_type": "code",
      "source": [
        "for i in models.keys():\n",
        "  score = evaluate_models(models[i])\n",
        "  print(\"Test Score \" + str(i) + \":\", score[i][0])\n",
        "  print(\"Test Accuracy \" + str(i) + \":\", score[i][1])\n",
        "  "
      ],
      "metadata": {
        "id": "WsqHD_PMoLJV",
        "colab": {
          "base_uri": "https://localhost:8080/"
        },
        "outputId": "06e837d4-7940-45d4-e0fa-f7b0c82f8c12"
      },
      "execution_count": null,
      "outputs": [
        {
          "output_type": "stream",
          "name": "stdout",
          "text": [
            "23/23 [==============================] - 1s 4ms/step - loss: 0.6432 - acc: 0.6466\n",
            "23/23 [==============================] - 0s 4ms/step - loss: 0.5560 - acc: 0.7013\n",
            "23/23 [==============================] - 0s 4ms/step - loss: 0.5770 - acc: 0.6928\n",
            "23/23 [==============================] - 0s 4ms/step - loss: 0.5824 - acc: 0.7125\n",
            "23/23 [==============================] - 0s 4ms/step - loss: 0.7076 - acc: 0.5989\n",
            "23/23 [==============================] - 0s 4ms/step - loss: 0.5524 - acc: 0.7181\n",
            "23/23 [==============================] - 0s 4ms/step - loss: 0.5601 - acc: 0.7111\n",
            "23/23 [==============================] - 0s 4ms/step - loss: 0.5736 - acc: 0.7055\n",
            "23/23 [==============================] - 0s 4ms/step - loss: 0.6796 - acc: 0.6199\n",
            "23/23 [==============================] - 0s 4ms/step - loss: 0.5019 - acc: 0.7546\n",
            "23/23 [==============================] - 0s 4ms/step - loss: 0.5172 - acc: 0.7405\n",
            "Test Score anger: 0.6432068347930908\n",
            "Test Accuracy anger: 0.6465638279914856\n",
            "23/23 [==============================] - 0s 4ms/step - loss: 1.8396 - acc: 0.6480\n",
            "23/23 [==============================] - 0s 4ms/step - loss: 0.5713 - acc: 0.8906\n",
            "23/23 [==============================] - 0s 4ms/step - loss: 0.9139 - acc: 0.8261\n",
            "23/23 [==============================] - 0s 3ms/step - loss: 0.5663 - acc: 0.8850\n",
            "23/23 [==============================] - 0s 4ms/step - loss: 1.4533 - acc: 0.7153\n",
            "23/23 [==============================] - 0s 4ms/step - loss: 0.4634 - acc: 0.9102\n",
            "23/23 [==============================] - 0s 4ms/step - loss: 0.5157 - acc: 0.9004\n",
            "23/23 [==============================] - 0s 4ms/step - loss: 0.7538 - acc: 0.8527\n",
            "23/23 [==============================] - 0s 4ms/step - loss: 1.1696 - acc: 0.7700\n",
            "23/23 [==============================] - 0s 4ms/step - loss: 0.1902 - acc: 0.9635\n",
            "23/23 [==============================] - 0s 4ms/step - loss: 0.2455 - acc: 0.9523\n",
            "Test Score anticipation: 0.5712611079216003\n",
            "Test Accuracy anticipation: 0.8906030654907227\n",
            "23/23 [==============================] - 0s 4ms/step - loss: 0.8947 - acc: 0.6480\n",
            "23/23 [==============================] - 0s 4ms/step - loss: 0.3757 - acc: 0.8906\n",
            "23/23 [==============================] - 0s 4ms/step - loss: 0.4986 - acc: 0.8261\n",
            "23/23 [==============================] - 0s 4ms/step - loss: 0.3814 - acc: 0.8850\n",
            "23/23 [==============================] - 0s 4ms/step - loss: 0.8186 - acc: 0.7153\n",
            "23/23 [==============================] - 0s 4ms/step - loss: 0.3412 - acc: 0.9102\n",
            "23/23 [==============================] - 0s 4ms/step - loss: 0.3592 - acc: 0.9004\n",
            "23/23 [==============================] - 0s 4ms/step - loss: 0.4681 - acc: 0.8527\n",
            "23/23 [==============================] - 0s 4ms/step - loss: 0.6909 - acc: 0.7700\n",
            "23/23 [==============================] - 0s 4ms/step - loss: 0.2077 - acc: 0.9635\n",
            "23/23 [==============================] - 0s 4ms/step - loss: 0.2374 - acc: 0.9523\n",
            "Test Score disgust: 0.4986392557621002\n",
            "Test Accuracy disgust: 0.8260869383811951\n",
            "23/23 [==============================] - 1s 4ms/step - loss: 0.8269 - acc: 0.6480\n",
            "23/23 [==============================] - 0s 4ms/step - loss: 0.3460 - acc: 0.8906\n",
            "23/23 [==============================] - 0s 4ms/step - loss: 0.4743 - acc: 0.8261\n",
            "23/23 [==============================] - 0s 4ms/step - loss: 0.3576 - acc: 0.8850\n",
            "23/23 [==============================] - 0s 3ms/step - loss: 0.6918 - acc: 0.7153\n",
            "23/23 [==============================] - 0s 4ms/step - loss: 0.3069 - acc: 0.9102\n",
            "23/23 [==============================] - 0s 4ms/step - loss: 0.3266 - acc: 0.9004\n",
            "23/23 [==============================] - 0s 4ms/step - loss: 0.4207 - acc: 0.8527\n",
            "23/23 [==============================] - 0s 4ms/step - loss: 0.5842 - acc: 0.7700\n",
            "23/23 [==============================] - 0s 4ms/step - loss: 0.2016 - acc: 0.9635\n",
            "23/23 [==============================] - 0s 4ms/step - loss: 0.2240 - acc: 0.9523\n",
            "Test Score fear: 0.35756903886795044\n",
            "Test Accuracy fear: 0.8849930167198181\n",
            "23/23 [==============================] - 0s 4ms/step - loss: 1.1944 - acc: 0.5806\n",
            "23/23 [==============================] - 0s 4ms/step - loss: 0.5456 - acc: 0.7784\n",
            "23/23 [==============================] - 0s 4ms/step - loss: 0.7178 - acc: 0.7251\n",
            "23/23 [==============================] - 0s 4ms/step - loss: 0.5516 - acc: 0.7756\n",
            "23/23 [==============================] - 0s 4ms/step - loss: 0.8098 - acc: 0.7125\n",
            "23/23 [==============================] - 0s 4ms/step - loss: 0.4173 - acc: 0.8177\n",
            "23/23 [==============================] - 0s 4ms/step - loss: 0.4577 - acc: 0.8079\n",
            "23/23 [==============================] - 0s 4ms/step - loss: 0.6381 - acc: 0.7602\n",
            "23/23 [==============================] - 0s 4ms/step - loss: 0.8101 - acc: 0.6942\n",
            "23/23 [==============================] - 0s 4ms/step - loss: 0.3384 - acc: 0.8429\n",
            "23/23 [==============================] - 0s 4ms/step - loss: 0.3638 - acc: 0.8373\n",
            "Test Score joy: 0.8098472952842712\n",
            "Test Accuracy joy: 0.7124824523925781\n",
            "23/23 [==============================] - 0s 4ms/step - loss: 1.7190 - acc: 0.6311\n",
            "23/23 [==============================] - 0s 4ms/step - loss: 0.6060 - acc: 0.8597\n",
            "23/23 [==============================] - 0s 4ms/step - loss: 0.8610 - acc: 0.8008\n",
            "23/23 [==============================] - 0s 4ms/step - loss: 0.6513 - acc: 0.8569\n",
            "23/23 [==============================] - 0s 4ms/step - loss: 1.1856 - acc: 0.7153\n",
            "23/23 [==============================] - 0s 4ms/step - loss: 0.3754 - acc: 0.8990\n",
            "23/23 [==============================] - 0s 4ms/step - loss: 0.4389 - acc: 0.8864\n",
            "23/23 [==============================] - 0s 4ms/step - loss: 0.7440 - acc: 0.8219\n",
            "23/23 [==============================] - 0s 4ms/step - loss: 1.0926 - acc: 0.7560\n",
            "23/23 [==============================] - 0s 4ms/step - loss: 0.2494 - acc: 0.9327\n",
            "23/23 [==============================] - 0s 4ms/step - loss: 0.2684 - acc: 0.9243\n",
            "Test Score love: 0.3754405677318573\n",
            "Test Accuracy love: 0.8990182280540466\n",
            "23/23 [==============================] - 0s 4ms/step - loss: 1.3371 - acc: 0.6480\n",
            "23/23 [==============================] - 0s 4ms/step - loss: 0.4663 - acc: 0.8906\n",
            "23/23 [==============================] - 0s 4ms/step - loss: 0.6845 - acc: 0.8261\n",
            "23/23 [==============================] - 0s 4ms/step - loss: 0.5114 - acc: 0.8850\n",
            "23/23 [==============================] - 0s 4ms/step - loss: 0.9104 - acc: 0.7153\n",
            "23/23 [==============================] - 0s 4ms/step - loss: 0.3115 - acc: 0.9102\n",
            "23/23 [==============================] - 0s 4ms/step - loss: 0.3451 - acc: 0.9004\n",
            "23/23 [==============================] - 0s 4ms/step - loss: 0.5856 - acc: 0.8527\n",
            "23/23 [==============================] - 0s 5ms/step - loss: 0.8575 - acc: 0.7700\n",
            "23/23 [==============================] - 0s 4ms/step - loss: 0.2067 - acc: 0.9635\n",
            "23/23 [==============================] - 0s 4ms/step - loss: 0.2185 - acc: 0.9523\n",
            "Test Score optimism: 0.34514355659484863\n",
            "Test Accuracy optimism: 0.9004207849502563\n",
            "23/23 [==============================] - 0s 4ms/step - loss: 0.7351 - acc: 0.6480\n",
            "23/23 [==============================] - 0s 4ms/step - loss: 0.3630 - acc: 0.8906\n",
            "23/23 [==============================] - 0s 4ms/step - loss: 0.4615 - acc: 0.8261\n",
            "23/23 [==============================] - 0s 4ms/step - loss: 0.3711 - acc: 0.8850\n",
            "23/23 [==============================] - 0s 3ms/step - loss: 0.6346 - acc: 0.7153\n",
            "23/23 [==============================] - 0s 4ms/step - loss: 0.3325 - acc: 0.9102\n",
            "23/23 [==============================] - 0s 4ms/step - loss: 0.3476 - acc: 0.9004\n",
            "23/23 [==============================] - 0s 4ms/step - loss: 0.4213 - acc: 0.8527\n",
            "23/23 [==============================] - 0s 4ms/step - loss: 0.5481 - acc: 0.7700\n",
            "23/23 [==============================] - 0s 4ms/step - loss: 0.2506 - acc: 0.9635\n",
            "23/23 [==============================] - 0s 4ms/step - loss: 0.2681 - acc: 0.9523\n",
            "Test Score pessimism: 0.4213486313819885\n",
            "Test Accuracy pessimism: 0.8527349233627319\n",
            "23/23 [==============================] - 0s 4ms/step - loss: 0.7420 - acc: 0.6438\n",
            "23/23 [==============================] - 0s 4ms/step - loss: 0.4360 - acc: 0.8752\n",
            "23/23 [==============================] - 0s 4ms/step - loss: 0.4991 - acc: 0.8163\n",
            "23/23 [==============================] - 0s 4ms/step - loss: 0.4357 - acc: 0.8724\n",
            "23/23 [==============================] - 0s 4ms/step - loss: 0.6730 - acc: 0.7027\n",
            "23/23 [==============================] - 0s 4ms/step - loss: 0.4130 - acc: 0.8948\n",
            "23/23 [==============================] - 0s 4ms/step - loss: 0.4342 - acc: 0.8822\n",
            "23/23 [==============================] - 0s 4ms/step - loss: 0.4589 - acc: 0.8401\n",
            "23/23 [==============================] - 0s 4ms/step - loss: 0.5858 - acc: 0.7574\n",
            "23/23 [==============================] - 0s 4ms/step - loss: 0.3361 - acc: 0.9453\n",
            "23/23 [==============================] - 0s 4ms/step - loss: 0.3547 - acc: 0.9341\n",
            "Test Score sadness: 0.5857656002044678\n",
            "Test Accuracy sadness: 0.7573632597923279\n",
            "23/23 [==============================] - 0s 4ms/step - loss: 1.3050 - acc: 0.6480\n",
            "23/23 [==============================] - 0s 4ms/step - loss: 0.4576 - acc: 0.8906\n",
            "23/23 [==============================] - 0s 4ms/step - loss: 0.6448 - acc: 0.8261\n",
            "23/23 [==============================] - 0s 4ms/step - loss: 0.4502 - acc: 0.8850\n",
            "23/23 [==============================] - 0s 4ms/step - loss: 1.0711 - acc: 0.7153\n",
            "23/23 [==============================] - 0s 4ms/step - loss: 0.3922 - acc: 0.9102\n",
            "23/23 [==============================] - 0s 4ms/step - loss: 0.4124 - acc: 0.9004\n",
            "23/23 [==============================] - 0s 4ms/step - loss: 0.6058 - acc: 0.8527\n",
            "23/23 [==============================] - 0s 3ms/step - loss: 0.8855 - acc: 0.7700\n",
            "23/23 [==============================] - 0s 4ms/step - loss: 0.1670 - acc: 0.9635\n",
            "23/23 [==============================] - 0s 4ms/step - loss: 0.2283 - acc: 0.9523\n",
            "Test Score surprise: 0.16696353256702423\n",
            "Test Accuracy surprise: 0.9635343551635742\n",
            "23/23 [==============================] - 0s 4ms/step - loss: 1.5527 - acc: 0.6480\n",
            "23/23 [==============================] - 0s 4ms/step - loss: 0.5131 - acc: 0.8906\n",
            "23/23 [==============================] - 0s 4ms/step - loss: 0.7618 - acc: 0.8261\n",
            "23/23 [==============================] - 0s 4ms/step - loss: 0.5320 - acc: 0.8850\n",
            "23/23 [==============================] - 0s 4ms/step - loss: 1.1763 - acc: 0.7153\n",
            "23/23 [==============================] - 0s 4ms/step - loss: 0.3948 - acc: 0.9102\n",
            "23/23 [==============================] - 0s 4ms/step - loss: 0.4582 - acc: 0.9004\n",
            "23/23 [==============================] - 0s 4ms/step - loss: 0.6527 - acc: 0.8527\n",
            "23/23 [==============================] - 0s 4ms/step - loss: 1.0045 - acc: 0.7700\n",
            "23/23 [==============================] - 0s 4ms/step - loss: 0.1886 - acc: 0.9635\n",
            "23/23 [==============================] - 0s 4ms/step - loss: 0.2453 - acc: 0.9523\n",
            "Test Score trust: 0.24534328281879425\n",
            "Test Accuracy trust: 0.9523141384124756\n"
          ]
        }
      ]
    },
    {
      "cell_type": "markdown",
      "source": [
        "## Test the models"
      ],
      "metadata": {
        "id": "R3vKCPU93qPV"
      }
    },
    {
      "cell_type": "markdown",
      "source": [
        "Format the test dataset"
      ],
      "metadata": {
        "id": "wqRxSB-B3w6y"
      }
    },
    {
      "cell_type": "code",
      "source": [
        "# Translate the words into their numerical values for test\n",
        "all_words = []\n",
        "embedded_sentences = []\n",
        "\n",
        "for tweet in test_clean['tokenized_sents']:\n",
        "  for word in tweet:\n",
        "    all_words.append(word)\n",
        "\n",
        "unique_words = set(all_words)\n",
        "print(len(unique_words))\n",
        "\n",
        "embedded_sentences_test = [one_hot(tweet, len(unique_words)) for tweet in test_clean['Tweet']]\n",
        "print(embedded_sentences_test)"
      ],
      "metadata": {
        "id": "JLXhAATd3t6W",
        "colab": {
          "base_uri": "https://localhost:8080/"
        },
        "outputId": "651a116d-8a56-41a1-af34-f64569a9a9fb"
      },
      "execution_count": null,
      "outputs": [
        {
          "output_type": "stream",
          "name": "stdout",
          "text": [
            "2623\n",
            "[[1913, 1084, 1591, 1279, 1213, 2188, 688, 2595, 905, 1108], [1919, 861, 729, 391, 513, 193, 1141, 1160, 4, 489, 1084, 1373, 213, 1634, 1947, 391, 1439, 1295, 546, 1913, 1160, 1678], [954, 1141, 1913, 1084, 2121, 638, 5, 2050, 80, 2426, 980, 1013, 1020], [1405, 600, 1148, 1031, 1696, 1705, 2443, 431, 2392, 2314, 2381], [1081, 489, 688, 1858, 443, 2413, 391, 2447, 2553], [944, 770, 2212, 2134], [1439, 1970, 5, 1960, 489, 1858, 1971, 1355], [2441, 1482, 489, 1213, 2220, 1913, 2284, 1173, 1405, 5, 2407, 2137, 1591, 5, 1088, 489, 1786, 1637, 1352, 391, 1974, 1031, 976, 1497, 240, 2521], [2314, 693, 1180, 28, 513, 875, 1151], [1305, 2153, 80, 1006, 1213, 2136, 391, 1480, 1858, 2418, 1514], [1919, 1993, 2314, 1213, 1485, 1841, 2572, 660, 159, 1570, 489, 653, 2490, 503, 512, 1281, 2314, 1786, 537, 99], [1857, 727, 776, 688, 1008, 968, 2365, 1497, 1213, 1042, 391, 794, 166, 727, 875, 1084, 1649, 1423, 380], [391, 2057, 1280, 561, 2314, 1073, 1084, 903, 569, 467, 25, 2598, 2212, 2330, 1786, 1331, 1235, 489, 1913, 35, 176], [1825, 2490, 1086, 2551, 1858, 195, 489, 811, 391, 626, 420, 1903, 2314, 1213, 1848, 1141, 1141, 2212, 792, 80, 1078, 709, 1913, 2002, 595, 2315, 1707], [1213, 2002, 688, 2236, 1891, 786, 2551, 1600], [624, 2000, 688, 686, 1786, 1852], [2128, 1768, 1208, 391, 806, 450, 846, 851], [1573, 2360, 1531, 524], [949, 524, 1006, 1213, 1661, 688, 172, 489, 949, 530, 1213, 171, 2330, 1569, 944, 2217, 172, 2490, 908, 489, 1188, 1439, 613], [1966, 2490, 1727, 2584, 80, 1213, 2565, 688, 2517, 289, 2284, 2285, 973, 2596, 973, 1208, 1664, 1931, 688, 727, 1502], [1913, 1267, 552, 2243, 706, 2314, 1213, 2481, 391, 1729, 1858, 628, 457, 1634, 1118, 735, 2220, 2252, 719, 843, 296], [688, 124, 1913, 2353, 1493, 311, 1586], [1213, 1364, 1031, 2327], [1919, 2490, 688, 2517, 391, 1913, 1795, 2531], [729, 80, 559, 391, 1179, 1903, 2551, 1871, 1439, 1891, 688, 2235, 102, 2612, 450, 735, 518, 2088, 2309, 1031, 1734, 859, 509, 1768, 391, 1405, 980], [543, 2346, 466], [2447, 2000, 688, 391, 1084, 414, 166, 1915], [2314, 391, 2572, 1084, 2049, 2143, 2348], [166, 1858, 1057, 2396, 166, 2490, 651, 1405, 1913, 1084, 729, 80, 80, 1487], [1084, 782, 1434, 391, 1729, 1439, 1731, 2121, 1647], [28, 944, 28, 2551, 1213, 1753, 2380, 489, 1919, 2212, 1155, 688, 1743, 2088, 1913, 1484, 453], [2314, 686, 582, 489, 256, 1913, 169, 2413, 80, 622], [711, 512, 80, 758, 391, 5, 129, 1301, 1913, 1869, 80, 103, 2490, 958, 1439, 1350, 1634, 1913, 667, 866, 2602, 2551, 2490, 1230], [2066, 1405, 1913, 1459, 80, 513, 114, 391, 768, 2443, 2146], [1084, 652, 77, 249, 391, 5, 2257, 1199, 2375, 1412, 2121, 855, 2121, 1095, 489, 1394, 1304, 391, 2490, 205, 1176, 688, 1587, 688, 1457], [1439, 2608, 937, 1288, 1911, 1942, 2408, 1288, 80, 175, 688, 391, 804, 1953, 688, 1213, 493, 649, 355, 589], [1141, 1101, 686, 513, 1681, 1199, 1068], [617, 391, 1084, 1086, 450, 1208, 391, 2490, 626, 2145, 302, 1213, 1524, 688, 1735], [890, 1913, 2490, 2284, 414, 80, 450, 1919, 391, 727, 2353, 2202], [1148, 2598, 74, 688, 944, 12, 166, 2227, 1138, 489, 1179, 1511, 741, 1213, 1981, 1199, 2602, 1412, 5, 2087, 2314, 735, 2019], [1405, 2468, 1815, 1084, 2229, 5, 1419, 1913, 1084, 2544, 391, 456, 2460, 926, 1010, 2459], [1031, 459, 973, 2284, 2145, 2346, 581, 246, 437, 2453, 623, 2468], [2066, 1031, 450, 513, 1405, 1913, 2284, 1345, 1913, 652, 2159, 2314, 727, 1837, 1199, 1876], [1850, 2314, 2345, 489, 1061, 1982, 1429], [80, 175, 688, 2353, 2359, 391, 1366, 1197, 1213, 102, 1423, 1497, 1913, 322, 488, 459, 450, 431, 1473], [1484, 513, 991, 803, 1199, 2578, 1405, 1913, 379, 793, 1858, 861, 550, 1124, 1497, 1841, 1124, 861, 856, 278], [391, 1913, 2353, 1552, 53], [2145, 1858, 1514, 391, 1913, 2468, 530, 1364], [2314, 1439, 448, 2586, 197, 2447, 1110, 1573, 2314, 1457, 618, 1919, 916], [2140, 499, 1439, 797, 688, 1413, 867, 80, 2560, 1913, 304, 2054, 688, 1389, 2088, 2128, 1935, 688, 1413, 2428], [816, 80, 2306, 1197, 2284, 2349, 1915, 2066, 1084, 1514, 650], [2314, 1439, 1650, 1141, 595, 80, 2612, 450, 1439, 2413, 1497, 450, 1213, 1485, 1913, 648, 1197, 1573], [133, 391, 2615], [53], [671, 2618, 1415, 5, 2152, 489, 1404, 467, 2551, 2309, 1730, 980], [1913, 1084, 1086, 1405, 1304, 1084, 652, 1786, 1305, 1086], [804, 2027, 944, 513, 1726], [1213, 198, 1084, 1632, 2286, 1415, 822, 431, 247], [450, 2156, 1831, 382, 688, 2478, 153, 2284, 562, 1696, 1652, 2314, 1439, 391, 782, 391, 2284, 2310, 379, 1825, 2255, 980, 890], [391, 2187, 961, 2468, 2406, 80, 5, 2498, 688, 230, 840, 2358], [1111, 109, 1439, 1848, 688, 1058, 1031, 1696, 1350, 2413, 1098, 1097], [586, 1405, 1100, 1005, 2618, 450, 166], [1531, 467, 391, 1439, 1269, 2587, 2165, 1725, 391, 581, 1200, 2068, 391, 944, 2021, 1913, 283, 1394, 316, 980], [2212, 2556, 688, 1208, 50, 2314, 513, 2220], [2212, 415, 2458, 1437, 1084, 384, 391, 1334, 1915, 781, 1464], [2353, 391, 1573, 1084, 427, 688, 1213, 1711, 688, 1676, 735, 197, 5, 388, 391, 626, 2145, 1213, 1208, 425, 2551, 640, 1913, 197, 2582], [944, 543, 1626, 1213, 249, 804, 331], [1213, 920, 2284, 1514, 1439, 1086, 1913, 1203, 727, 364], [1031, 2582, 2066, 2143, 1031, 391, 2490, 703, 1439, 2484, 421, 1405, 1031, 748], [1186, 727, 1084, 548, 2525, 450, 727, 1582], [1913, 2229, 1819], [2314, 316, 1913, 379, 359, 2212, 2314, 1850], [259, 1913, 1084, 2282, 1213, 1797, 688, 1213, 1779, 688, 2025], [1084, 2250, 1213, 2188, 1199, 727], [391, 147, 1546, 2121, 1401, 1097], [1826, 391, 944, 686, 1213, 1514, 1573, 2056, 688, 513, 2220, 1084, 1001, 391, 535, 2529, 2314, 2019, 47], [2212, 80, 1637, 688, 2195, 513, 1578, 1919, 1826, 391, 80, 1531, 2468, 104], [871, 1197, 299, 688, 727, 1073, 1853, 450, 1082, 391, 157, 1213, 2220, 1924, 114, 2314, 1696, 331, 112, 605, 1197, 2284, 679], [585, 2121, 1624, 391, 1913, 626, 595, 80, 2439, 579, 1891], [80, 175, 688, 1240, 2599, 2314, 1439, 1139, 688, 156, 2334, 384, 2227, 87, 1634, 1913, 1120, 1213, 220, 80, 1786, 1944, 489, 2034, 688, 1564], [1901, 971, 589, 2314, 280, 1394, 929, 2217, 450, 1675, 973, 777, 2314, 112, 688, 1932, 2607, 1490, 285], [299, 1199, 42, 944, 1942, 489, 967, 80, 5, 1199, 1790, 2551, 446, 1280, 2405, 557, 1858, 2157], [391, 2284, 2244, 1842, 2314, 1858, 12, 1913, 1031, 1868], [2385, 12, 1439, 2388, 866, 316, 489, 1913, 1025, 380, 2003, 1858, 657, 2582, 2027, 489, 2146, 1439, 189, 752], [12, 1084, 2431, 688, 1910, 2551, 1213, 597, 2121, 2070, 2477, 1971, 1333, 1058, 2022, 1117, 688, 1850, 2314, 513, 2220], [2420, 2212, 264, 2237], [1405, 1913, 2284, 1427, 1267, 1149], [258, 1653, 1913, 1439, 724, 1031, 391, 1931, 1696, 353, 53, 109], [1271, 421, 1084, 782, 395, 2350, 109, 1141, 947, 391, 2457, 1786, 2428, 1831], [245, 579, 2357, 2396, 391, 2168, 569, 1439, 1891, 758, 1439, 2002], [1084, 1953, 2335, 778, 2147, 489, 513, 297, 2199, 1384, 600, 2314, 1439, 507, 2164], [2290, 1084, 249, 727, 1430, 1043, 2468, 2149, 80, 727, 503, 489, 1167, 2449, 2514, 1639, 1858, 1691, 906], [2353, 2420, 1879, 2314, 1439, 973, 1208, 1573, 467, 2331], [1373, 2458, 489], [2344, 1460, 2608, 391, 1913, 1819, 1460, 80, 513, 1027, 490, 248, 450, 1304], [1913, 2274, 1405, 2612, 80, 2371, 1484, 613, 688, 1279, 513, 2479], [2309, 1031, 391, 1213, 1115, 2205, 1696, 1753, 489, 1373, 1263], [1208, 5, 37, 688, 1910, 1930, 2325, 489, 1734, 579], [623, 1213, 249, 1634, 1452, 450, 440, 1124, 1983, 944, 1401, 1634, 540, 2314, 1213, 1182], [475, 1484, 26, 1634, 1757, 388, 5, 284, 688, 1213, 1208, 1378, 197, 1915, 2256], [1920, 391, 1262, 1872, 1678, 2392, 1919, 2551, 1981, 1913, 1084, 1403, 475, 2353, 2165, 1725, 1858, 605, 176, 980], [57, 391, 1510, 2334, 1143, 688, 5, 391, 1275, 1915, 1981, 450, 284, 2505, 391, 1913, 1792, 1573, 717, 688, 735, 1843], [1240, 175, 1084, 2145, 2265, 688, 1213, 660], [579, 1891, 1199, 1654, 2006, 2551, 166, 1911, 2503, 688, 850, 327, 379, 1497, 1913, 2587, 262, 1573, 2468, 1351, 486, 1325, 415, 993], [1569, 391, 2568, 1199, 1305, 1924, 2350, 1858, 913, 1263], [2188, 688, 590], [2314, 2315, 1405, 1084, 2415, 2088, 759, 2314, 560, 2226, 489, 1267, 161, 1734, 2353, 2049, 2551, 2309, 2551, 1696, 920], [1678, 1043, 815, 2468, 2052, 1213, 1781, 1913, 626, 1701], [212, 224, 1439, 1455, 1569, 1084, 1523], [1394, 1515, 1913, 774, 590, 289], [2460, 1792, 80, 2449, 1757, 638, 5, 484, 1854, 1925, 1925], [823, 1419, 1858, 104, 1846, 2551, 1696, 281, 1696, 2239, 415, 2458, 489, 1031, 2453, 2088, 2558, 391, 5, 1897, 2596, 5, 1095], [683, 1213, 1844, 435, 391, 1013, 2002, 1897, 391, 1740, 1213, 1804, 2545, 934, 683], [1343, 944, 2088, 1478], [87, 2464, 1148, 489, 727, 1134, 1913, 1031, 1696, 1734, 1342, 1031, 1696, 1350], [1364, 1913, 2284, 1571, 688, 74], [2468, 832, 1213, 1411, 80, 1213, 2220, 2548, 2054, 2551, 2622], [2490, 1084, 2145, 391, 1031, 1439, 2389], [1084, 1224, 545, 1757, 2309, 1653, 1919, 80, 281, 653, 621, 80, 1101, 886], [1535, 758, 1696, 275, 450, 1213, 2220, 2551, 2309, 2538, 2290, 431, 1042, 2121, 1666, 464], [2039, 1213, 962, 1028, 1567, 1153], [64, 2190, 489, 1141, 620, 415, 1915, 166, 2422, 432], [1412, 629, 96, 450, 1213, 2535, 1098, 1634, 1913, 2350, 1566, 80, 488], [391, 1809, 719, 559, 1208, 2314, 1213, 2612, 1745, 1548, 1271, 2314, 1602, 2413, 2490, 1924, 299, 80, 1910, 80, 1174, 80, 1213, 924], [2316, 216, 688, 1761, 2181, 2314], [1409, 166, 1601, 688, 1734, 1374, 2576], [470, 1213, 294, 944, 2332, 2091, 391, 1460, 944, 2056], [1405, 1731, 1150, 1497, 2612, 688, 2008, 959], [1031, 166, 415, 1199, 1808, 967, 1199, 834, 2089, 980], [80, 2353, 890, 2353, 2104, 391, 1857, 391, 1879, 349, 980, 377, 1318], [80, 513, 2490, 1084, 729, 80, 1582, 1439, 1721, 2551, 1304, 1497, 2551, 952, 850, 2598, 1084, 414, 80, 1118, 80, 1629, 2602, 489, 2019, 1405, 1573, 844, 2223], [1084, 2618, 2314, 1213, 1076], [1768, 2140, 450, 1595, 758, 320, 1199, 2244, 650, 80, 513, 1084, 1989, 1858, 583, 1199, 1715], [1031, 1521, 2284, 1213, 1445], [1084, 354, 2428, 1619, 688, 293, 1913, 2284, 2357, 76, 1518, 249, 2284, 595, 80, 2369, 688, 2551, 2220], [1245, 2006], [1966, 2314, 1430, 391, 42, 2309, 475, 1050, 2598, 944, 1213, 1887, 2314, 1439, 788, 1872, 735, 1846, 980], [2165, 631, 1213, 1514, 1573, 1161, 1394, 2273, 80, 513, 2002, 1815], [391, 2056, 1213, 1208, 391, 811, 163, 1915, 1150, 166, 1439, 2554, 1591], [1913, 1031, 1086, 1305, 1151, 489, 1826, 391, 1031, 2420], [493, 2066, 2246, 1031, 1439, 1573, 1271], [447, 1957, 2314, 1696, 2608, 688, 608, 1840, 2616, 1084, 2345, 1599, 686, 727, 1795, 80, 2309], [1506, 1353, 1792, 775, 1913, 1237], [1696, 1729, 2597, 1332, 2002, 106, 391, 1696, 1175, 688, 228], [399, 1031, 1949, 1213, 2597, 2363], [475, 626, 1915, 579, 1891, 80, 1858, 1691, 780, 2019, 2314, 1213, 2133, 391, 2558], [1566, 2551, 2501], [2137, 2490, 2335, 470, 391, 1031, 1858, 1263, 2551, 640, 2522, 453, 109], [1460, 391, 2490, 729, 80, 633, 2314, 1156], [1723, 391, 2388, 5, 1361, 391, 499], [2353, 2490, 585, 346, 1084, 28, 650], [289, 1480, 142, 2088, 1828, 1913, 2399, 1439, 1117, 2330, 1213, 747, 1305, 2153], [1913, 2490, 2551, 2027, 2082, 80, 2433], [1439, 99, 944, 791], [2490, 2145, 1439, 1853, 2598, 1919, 579, 600, 489, 80, 1555], [1084, 284, 2335, 1915, 624, 484, 990, 489, 735, 1365, 1084, 278, 1867, 669, 1213, 2002], [47, 866, 2325, 688, 513, 2220, 391, 1031, 80, 735, 605, 513, 1573, 1809, 1654, 579, 1891, 513, 1578], [1017, 1434, 440, 11, 1653, 1213, 861, 2290, 1213, 746, 1388, 80, 1304, 1653, 1439, 468, 613, 489, 1913, 1267, 590, 2453, 1686, 455], [391, 2454, 1084, 28, 80, 113], [107, 2343, 2314, 316, 1031, 80, 1786, 955, 341, 391, 1765, 513, 606, 2420], [2185, 688, 371, 686, 2598, 768, 80, 114, 2088, 1010, 379, 957, 432, 489, 311, 202, 569, 1167, 1797, 1786, 1283, 2383], [28, 618, 866, 2149], [1047, 391, 652, 80, 2373, 2545, 1497, 782, 688, 2353, 391, 2490, 828, 1711, 2468, 1563, 2105, 980], [111, 2314, 316, 1439, 1880], [2490, 1084, 1434, 255, 1213, 128], [2049, 513, 505, 2434, 688, 2223], [2212, 2121, 545, 1549, 595, 617, 1909], [1141, 947, 391, 1931, 1069], [1103, 401, 1280, 2000, 688, 152], [513, 1913, 2474, 80, 1101, 909, 1784, 366, 2551, 2337, 579, 1891, 1199, 1654, 513, 80, 124, 489, 80, 5, 947], [2468, 1924, 1078, 1213, 1208, 1634, 1913, 364, 822, 489, 1721, 2314, 1413, 724], [2618, 2006, 80, 1343, 391, 1913, 723, 1213, 338, 688, 2539, 1752, 1439, 806, 2490, 318, 866, 1349, 450, 1858, 2173, 1634, 2309, 53], [2212, 2056, 489, 513, 548, 1913, 2490, 754, 2274], [1430, 2468, 1459, 513, 1182], [64, 1764, 489, 2460, 2290, 971, 2290, 110, 80, 2604, 80, 1280, 1798, 973, 1913, 2490, 207], [2212, 307, 2314, 1213, 1078, 1199, 751, 307, 2458, 489, 2052], [1919, 624, 617, 1439, 1913, 379, 1060, 2551, 391, 2212, 1745], [311, 729, 2314, 391, 166, 391, 431, 605, 391, 1213, 416, 1199, 2164, 1373, 890, 2088, 1405, 1913, 1084, 2101, 1199, 53, 307], [391, 1216, 247, 431, 2598, 459, 397, 2284, 1523, 1497, 2284, 403, 489, 2284, 2285, 391, 163, 1353, 2215, 489, 1120, 391, 166, 944, 1915], [28, 384, 391, 1031, 650, 489, 906, 961, 391, 80, 5, 2331, 949, 729, 1915, 2314, 1413, 2244, 2314, 1018], [391, 98, 1199, 2097, 1213, 606], [1141, 2460, 1213, 2481, 1913, 623, 1956, 980], [944, 606, 944, 1435, 1634, 471, 688, 1326, 1964, 489, 1361, 2506, 2212, 2521], [87, 1913, 527, 1624, 513, 1797], [1405, 1084, 1993, 1913, 1084, 1086], [1031, 391, 1197, 1474, 80, 2554, 688, 686, 2350], [489, 1405, 1240, 1409, 2179, 80, 124, 1022], [1918, 1084, 2278, 559, 391, 1522, 140], [1460, 2608, 1733, 1439, 1919, 1962, 688, 2223, 1634, 973, 1931, 1858, 2236, 2212, 1586, 2284, 822], [2490, 1086], [875, 2490, 1086, 2088, 1437, 295, 990, 2353, 2368, 2290, 1785, 489, 1141, 626, 248, 2468, 1405, 2193, 688, 2145, 569, 2066, 2147, 875], [544, 579, 1332], [2477, 2551, 727, 140, 489, 1913, 1557, 1913, 2353, 884, 2468, 1086, 391, 5, 583, 391, 2490, 984, 2490, 213, 450, 64, 931], [2314, 1786, 1284, 973, 28, 973, 1792, 80, 1734, 688, 934, 1084, 445, 5, 782, 489, 2533, 5, 382, 932, 2392, 1484, 928], [1378, 1514, 391, 1913, 1734, 866, 192], [2212, 415, 2134], [2420, 2353, 391, 1084, 1697, 2314, 2220, 1031, 1681, 391, 1818, 2314, 2620, 379, 1504, 80, 960, 688, 1696, 334, 489, 1913, 1096], [1084, 1010, 543, 1786, 2202, 1199, 1757, 1942], [1084, 28, 1569, 2350], [2143, 1497, 1573, 60], [2105, 50, 2314, 316, 2284, 2468, 758, 292, 947, 385, 1141], [1919, 585, 2261, 688, 1898], [1110, 1405, 1913, 100, 80, 513, 391, 252, 1439, 192], [2490, 1434, 1118, 1200, 391, 1439, 391, 2066, 1786, 2145, 2521, 1786, 2360, 1353, 36], [256, 450, 1213, 1804, 489, 392, 2152, 1858, 1833, 2350, 2002, 1913, 513, 431, 1031, 1858, 1711, 1439, 1550], [1280, 430, 1141, 1175, 1413, 2449, 450, 2569, 688, 1908, 1531, 1077, 489, 1786, 2316, 2314, 513, 2220], [1141, 947, 391, 2086, 2142, 1141, 391, 2142, 2464, 513, 80, 1120, 2272, 450, 1006, 225, 1302, 489, 1913, 2490, 391, 1573], [15, 1913, 2284, 1473, 2143, 1144], [2314, 1213, 2188, 2490, 1603, 866, 528, 475, 2314, 1213, 1115, 2490, 1603, 866, 283, 1055, 2344], [2314, 316, 109, 2314, 1439, 1928, 2020], [1084, 652, 613, 1213, 884], [1084, 28, 1696, 1555, 2066, 1031, 1474, 1078, 2167], [277, 80, 961, 1405, 2490, 1927, 754, 2314, 1439, 2454, 489, 2128, 311, 1415, 1413, 2219, 1915, 688, 1213, 2617], [2464, 33], [2066, 1858, 391, 906, 459, 1915, 1457, 475, 984, 1411], [1394, 80, 1765, 1213, 606, 80, 1786, 1537], [2316, 1696, 730, 122], [391, 981, 623], [270, 2309, 1919, 475, 2353, 2315, 2551, 380, 2314, 736, 2159, 2460, 2551, 37, 2416], [2223, 2551, 77, 846], [1484, 391, 1605, 391, 1084, 2212, 2047, 688, 613], [1593], [2353, 2375, 80, 513, 1455, 391, 283, 2041, 1634, 2506, 688, 660, 1637, 1964], [1267, 1696, 2509, 499, 94, 2145, 1378, 2217, 2314, 1439, 1756], [1355, 230, 797], [2460, 5, 218, 143, 5, 420, 1726, 80, 1960, 866, 136, 80, 2353, 1915, 391, 818, 1208, 1031, 1384, 356], [1649, 727], [1960, 80, 1696, 346, 1913, 1031, 1960], [2210, 2166, 2284, 1717], [2468, 1084, 2097, 632, 1101, 2256, 2314, 693, 1180, 1210, 1497, 613, 468, 593, 1375, 1047], [581, 80, 500, 80, 1304, 489, 1405, 166, 1100, 1359, 686, 1634, 440, 1691, 1213, 2310, 118, 1696, 2131], [1913, 944, 2517, 1634, 2370, 1095, 1149, 80, 1961, 964], [579, 1891, 80, 638, 5, 1658], [823, 1084, 1282, 1213, 1804, 489, 1084, 932, 2314, 1213, 1943, 2137, 1335, 2521], [1213, 1355, 688, 727, 2220, 1935, 688, 1213, 1502, 688, 1167, 1974], [1213, 1355, 2490, 269, 2314, 1971, 2490, 1566, 688, 5, 81, 89, 688, 1213, 1333], [1913, 595, 80, 651, 80, 1480, 1569, 2142, 391, 1364, 890, 947, 600, 1353, 450, 1280, 1658], [2145, 1858, 1891, 2447, 2314, 944, 1668, 2121, 2548], [391, 1276, 489, 1050, 2142, 80, 541], [2026, 586, 2097, 22], [1084, 100, 1213, 2021, 1240, 1854], [1799, 2066, 2306, 729, 1734, 1696, 136, 1920, 2330, 2460, 2255, 2053, 1073, 688, 735, 2055, 1015, 1990], [431, 198, 688, 2077, 1167, 2131, 450, 1213, 1513, 1199, 2374, 2141], [1913, 2284, 1535, 1439, 1269, 489, 1213, 237, 927, 1439, 1121, 2446, 1213, 1884, 1591, 489, 2512, 1213, 1364, 210], [1439, 1355, 1031, 1474, 80, 113], [569, 80, 2011, 2314, 1920, 1637, 1263, 2152, 1213, 143, 419, 1031, 2267, 1213, 2315, 1774, 42], [1634, 391, 1084, 585, 2261, 688, 727, 543, 993], [1433, 1405, 2490, 18, 1439, 1573, 2314, 1712, 1439, 1866], [2165, 631, 2566, 1213, 930, 1199, 1414, 2334, 1213, 1905, 688, 873, 391, 1480, 2388, 980, 58], [1378, 1084, 28], [1531, 467, 391, 1197, 1084, 1989, 1891, 2265, 2314, 1439, 1756], [1734, 80, 488, 450, 1280, 1658, 489, 1141, 2212, 2031, 1049, 2314, 513, 1073, 2212, 415, 975], [109, 1084, 569, 1696, 909, 960, 998, 1295], [1913, 177, 2142, 1031, 1891, 688, 1439, 1267, 391, 792, 778], [391, 166, 391, 2554, 1439, 2052, 292, 1439, 1205, 2330, 133, 1569, 2460], [1141, 2490, 729, 80, 2612], [431, 2188, 2553, 1239, 1405, 2612, 80, 214, 1497, 1141, 1522, 1634, 1913, 2483, 2314, 2612, 80, 214, 109, 1822, 1682, 1084, 2266], [1405, 1084, 403, 391, 1649, 1213, 1983, 1394, 513, 489, 569], [1077, 2551, 2386, 2314, 316], [866, 1685, 1913, 1084, 2140, 1213, 781, 324, 2353, 493, 135, 489, 686, 2468, 1154, 345, 286, 688, 1480], [2314, 2265, 946, 5, 48, 688, 830, 579], [727, 2284, 782, 866, 2133, 80, 2038, 727, 2543, 2353, 1294, 57], [1919, 391, 1141, 1913, 947, 410, 489, 513, 2335, 1764, 450, 1280, 1378, 688, 396, 391, 835, 2314, 1213, 1073, 688, 513, 921, 1355], [87, 2236, 1031, 206], [1213, 2499, 2290, 2243, 1031, 1696, 1959, 1573, 1271, 391, 1213, 1797, 391, 1972, 1411, 1135, 183, 2551, 2309, 1439, 1478, 1971, 1405, 1405, 1405], [80, 113, 1084, 679, 1405, 585, 1919, 1213, 875, 688, 2236, 391, 2490, 2188, 450, 166, 1439, 2554, 1497, 1786, 57, 197, 2121, 80, 489, 2121, 1541], [820, 1439, 727, 391, 2107, 1405, 2587, 1353], [1858, 1514, 1913, 1031, 1371], [1084, 1011, 1522, 1853, 1210], [1858, 2571, 1199, 2554, 1031, 1104, 1409, 1151, 80, 944, 2217], [1586, 450, 1213, 423], [2219, 1362, 80, 1184, 1502, 866, 2278, 1634, 5, 2265, 481, 1199, 1929, 489, 1851, 1277, 191, 1439, 1813, 2574, 688, 1147, 980], [1602, 664, 203, 489, 1705, 2230, 2002, 1913, 1388, 2403, 1934, 1394, 1134], [1655, 1193, 2088, 1141, 1084, 2494, 669], [1031, 2353, 1573, 1547], [955, 1084, 1335], [1913, 2490, 2551, 2027, 1141, 1795, 513, 253], [2420, 1914, 2212, 415, 264, 2551, 124, 2284, 2353, 1044, 2227, 2284, 947], [152, 688, 2484, 106, 1603, 1213, 1364, 391, 2284, 127], [1092, 2378, 2314, 1240, 2602, 5, 391, 2490, 109, 335, 1520, 450, 1439, 539, 489, 2392, 1351, 1927, 631, 655, 866, 1923], [546, 1523], [2447, 5, 2506, 489, 2212, 395, 545], [1919, 1913, 27, 688, 1213, 1364, 1484, 1371, 450, 961, 513, 873, 688, 1524, 489, 5, 2324, 688, 1540, 1141, 1893, 595, 80, 2234, 5], [1280, 2364, 2077, 395, 2409], [1031, 731, 559, 1439, 1891, 1459, 1439, 1891, 1199, 2357, 1355], [306, 489, 2284, 1068, 1904], [2, 2551, 2044, 759, 1439, 1765, 2314, 1213, 1548], [1771, 1901, 1913, 2212, 1853, 2143, 585, 2072], [2490, 2284, 1756, 1439, 569, 1024], [944, 1768, 391, 2077, 1573, 688, 725, 450, 1213, 2409, 688, 1412, 2314, 2221, 1858, 944, 1394, 2244, 343, 1431, 2012, 2165, 1392, 1378], [973, 1632, 1439, 727, 379, 626, 1373, 1413, 579, 1891, 80, 1304, 973, 823, 2413, 2550, 489, 1084, 2317, 2618, 2468, 1518, 166], [758, 2314, 1213, 506, 1913, 1267, 589, 711], [727, 391, 205, 688, 1380, 489, 688, 846, 1405, 1913, 2284, 1213, 864, 2521, 166, 1696, 1919, 688, 393], [2316, 2395, 450, 1304, 1213, 2612, 391, 1084, 652, 961, 1786, 1552, 688, 1862, 1714], [1084, 384, 2309, 489, 1084, 1021, 2335, 1880], [1868, 1654, 1338, 1317, 1084, 1220, 2556], [391, 1953, 2551, 391, 2490, 1086], [688, 2353, 391, 2490, 2515, 2517], [585, 1696, 1241, 395, 2615, 2413, 1909], [391, 198, 688, 2236, 1100], [2253, 2316, 1917, 2551, 640], [2188, 688, 1244, 636, 1913], [338, 534, 1141, 1913, 1084, 2140, 1213, 742, 1097, 2490, 1236, 415, 742, 1669], [736, 688, 506, 1213, 2209, 1915, 2399, 2551, 1333, 1439, 611, 489, 475, 15, 1280, 266, 977, 489, 2353, 43, 391, 585, 1076, 993], [1616, 2089, 489, 1468, 337, 1199, 53, 1913, 2089], [391, 1197, 2284, 2591, 688, 1587, 391, 150, 1084, 652], [1913, 1837, 820, 1763, 735, 2608, 688, 1671, 623, 80, 1280, 2191], [1786, 746, 197, 2353, 630], [650, 866, 844, 1913, 379, 410, 279, 391, 249, 391, 166, 1213, 1365, 650], [1031, 456, 2066, 80, 513, 1084, 297, 2612, 80, 1908], [980, 1439, 694, 2011, 1401, 2392, 1634, 2458, 813, 5, 547, 489, 1138, 2334, 1457, 489, 823, 166, 1031, 2468, 1924, 688, 655], [347, 391, 311, 1378], [181, 585, 1919, 1213, 391, 2454, 636, 1497, 391], [2001, 2302, 1470, 1565, 391, 981], [1944, 391, 341, 375, 688, 2554, 489, 626, 141, 1762, 80, 1439], [941, 688, 1347, 68, 1868, 459, 2143, 828, 1439, 1725], [1141, 28, 1167, 48, 315, 2239, 795, 688, 2282, 489, 653, 688, 2079, 975, 450, 1213, 285, 688, 782, 373, 2239, 264], [450, 2369, 611, 2212], [2072, 1084, 2443, 2470, 5, 501, 2598, 2212, 1853, 1696, 1891, 688, 693, 2490, 1084, 729, 80, 299, 2517], [1840, 1439, 992, 391, 1267, 569], [1084, 249, 881], [391, 1949, 2219], [585, 1459, 688, 1078, 1841, 1439, 2325, 489, 1213, 2612, 2551, 2358, 1284, 2314, 513, 2554, 1043, 1213, 2220], [1031, 1858, 944, 1439, 1071, 688, 1213, 1599, 1913, 1220, 1754, 520], [623, 109, 2598, 1339, 205, 80, 1213, 391, 1913, 1914], [391, 150, 2598, 1267, 1858, 2062, 1691, 2314, 1213, 1700], [2562, 1913, 2353, 1914, 1913, 379, 1734, 2121, 46], [1919, 1484, 1696, 1426, 1484, 2612, 1484, 80, 264, 1484, 1439, 2325, 1484, 1213, 2220, 57], [1213, 2335, 688, 1982, 1084, 1614, 2118, 489, 1084, 828, 391, 1222, 688, 410], [241, 136, 2402], [198, 2468, 525], [1591, 391, 947, 1464, 1858, 470, 1112, 1028, 1634, 391, 2490, 1021, 2468, 2541], [1217, 1659, 1413, 908, 866, 1928, 2608, 391, 392, 299, 1858, 2018, 1051, 1913, 569, 940, 1124, 87, 2351], [489, 1405, 1084, 2212, 2254, 2468, 1439, 1367, 489, 1405, 2353, 595, 80, 2395, 636, 2088, 2212, 2556, 688, 1021, 1006, 1213, 2236, 489, 1913, 423, 450, 590], [391, 2284, 117, 2031, 1913, 2490], [736, 688, 961, 2583, 489, 1405, 391, 1031, 415, 2458], [2066, 2332, 1680, 688, 5, 814, 688, 2401, 1439, 1407, 930, 624, 1498, 1394, 381, 688, 818, 98], [391, 2056, 1213, 1208, 391, 811, 163, 1915, 450, 166, 1439, 2554, 1591], [2212, 839, 80, 513, 2261, 489, 2002, 625, 310, 489, 1913, 1296, 1108, 450, 2353, 569, 391, 1084, 2077, 1492, 135, 2306], [1548, 688, 934, 755, 2335, 770], [513, 505, 570, 944, 729, 323, 866, 2404, 1439, 727, 391, 2107, 1913, 2490, 1405, 2265, 1497, 2447], [391, 2458, 1031, 1765, 1213, 606, 489, 961, 1786, 2302, 391, 2284, 1974, 1634, 2191], [1213, 2127, 2551, 1637, 432, 513, 2335, 828, 391, 475, 1334, 2282, 1933, 626, 1826], [944, 776, 2121, 1350, 688, 1913, 852, 391, 1913], [1913, 1267, 391, 2554, 391, 1439, 468, 2490, 1025, 2314, 1721, 1913, 2165, 1397, 2587, 937], [2490, 1084, 944, 403, 1439, 1578, 2314, 109], [1271, 2598, 2587, 2494, 1213, 1149, 688, 391, 128, 193], [2551, 2353, 2363, 944, 12, 2490, 1268, 2598, 1439, 748, 626, 2431, 2551, 2199, 80, 1213, 627, 1573, 391, 866, 1928, 2244], [1913, 2229, 1003, 546, 1084, 1818, 2373, 2088, 1213, 1364, 1031, 459, 415, 1161, 688, 2025, 1405, 1913, 2490, 1334, 80, 2608], [1716, 391, 1084, 652, 198, 2147], [2284, 579, 1213, 816, 489, 1357, 80, 1213, 1208, 1339, 998, 1439, 2388, 688, 1213, 654], [944, 1823, 1084, 1872, 226, 1213, 2220], [1734, 80, 785, 489, 2283, 489, 727, 288, 489, 1084, 28, 1696, 1981, 630], [2212, 395, 1155, 2088, 1439, 1319, 2377, 80, 312, 2551, 1213, 152, 450, 489, 1141, 1913, 2088, 1913, 1484, 87, 1084, 2021, 1573, 2242], [2165, 631, 1474, 1084, 1851, 1124, 1090], [513, 2133, 1322, 1031, 391, 1439, 1136, 1240, 2125], [533, 964, 2335, 1853], [1569, 2142], [355, 1913, 2495, 1786, 2302, 2088, 595, 80, 2339], [1858, 1691, 1886, 1913, 623, 2554, 388, 1084, 966, 2449, 2055, 1634, 1696, 1921, 1149], [2433, 1084, 1010, 2205, 307, 2314, 1073, 489, 1484], [391, 1216, 1031, 1213, 1208, 391, 1913, 2284, 811, 2554, 2142], [2468, 1837, 1734, 2121, 1218, 2468, 2490, 1837, 2065, 2143, 688, 459, 2121, 1071, 2269, 2236, 2490, 1282, 1208, 1401, 489, 1913, 2490, 116, 693, 2207, 1394, 2215], [2121, 1853, 2377, 80, 600, 1989], [1439, 585, 688, 1779, 109, 1647, 391, 2460, 2490, 2464, 271, 2420], [1084, 2306, 600, 140, 489, 391, 2490, 2378, 1405, 1084, 1017, 1213, 1848, 688, 1367, 1913, 2490, 1920], [222, 1213, 1831, 2346], [1567, 688, 1587, 980], [156, 1591, 1084, 351, 1213, 781, 2551, 388, 998, 624, 771, 1084, 1111, 1096, 998, 346], [1439, 2002, 1538, 2314, 1256, 1439, 1573, 2219, 2066, 2490, 2284, 1150, 1774, 1913, 1484, 1439, 1578, 688, 1096, 569, 2066, 2551, 2353, 1981, 1084, 1514, 1327], [1253, 723, 1439, 1301, 1497, 1188, 1439, 114, 2468, 686], [1185, 2543, 1569, 2314, 1439, 2215, 489, 1858, 220, 856, 2468, 1591], [944, 2021, 1239, 199, 1258, 688, 516, 489, 1842, 414, 391, 2212, 427], [1084, 2024, 2314, 1213, 1333, 1394, 1225, 688, 2121, 2556, 391, 2212, 947, 961, 459, 1474, 231, 2066, 1913, 1464, 391, 2064, 2314, 1671], [702, 626, 1484, 77, 2253, 80, 1213, 661, 688, 513, 505], [2558, 391, 1334, 459, 1542, 1913, 1084, 1243, 1078, 42, 850, 686, 1213, 2021, 1573, 1216, 688, 513, 2220], [2107, 850, 1859, 579], [2213, 57, 758, 1696, 1203, 1573, 489, 1696, 1089, 2002, 2413, 2284, 2572, 1913, 623, 1213, 249], [1784, 1572, 28, 1848], [2137, 1462, 75, 1838, 1303, 2284, 1699, 1891, 513, 1004, 1629, 727, 1573, 450, 1339, 998, 2133, 1325, 2468, 998, 489, 2284, 1043, 2143, 2142, 1480, 490], [659, 1797, 2121, 275], [2490, 2417, 513, 63, 693, 1662, 2283, 1141, 2107, 2353, 1868], [1280, 1432, 1599, 723], [1439, 316, 866, 2568, 652, 80, 1785, 735, 1656, 1439, 391, 1913, 2145, 138, 688, 1213, 2065, 1031, 208], [1664, 1405, 1084, 2538, 2551, 816, 988, 2054, 391, 2284, 311, 1569, 1439, 2233, 1213, 2591, 466], [391, 1929, 327], [28, 818, 249, 2551, 2347, 57, 391, 1394, 743, 1166, 688, 397, 2490, 688, 1047, 792, 2353, 391, 1031, 391, 2490, 2037, 1213, 1691, 391, 1823], [2077, 2031, 2314, 934, 1634, 961, 1858, 1548, 688, 934, 1031, 2090, 1950, 934, 1197, 1014, 53], [489, 1351, 688, 973, 1084, 498, 380, 1537, 1377, 1913, 585, 2396, 2413, 1537, 2413, 650, 2413, 1956, 1031, 973, 1084, 659, 2290, 944, 1313, 166, 2002], [489, 1573, 2152, 758, 181, 688, 423, 1394, 901], [33, 2314, 1343, 2302, 1031, 1439, 1342, 100, 688, 1213, 1624, 688, 2010, 1591, 2385, 866, 885, 450, 569, 2140], [391, 1779, 2490, 1810, 1279, 80, 1858, 1691, 415, 1860], [1913, 2490, 1405, 686, 1401, 28, 2440, 379, 513, 1430, 688, 275, 80, 513, 505], [2551, 1343, 1569, 2598], [1141, 1474, 80, 1879, 2468, 1439, 1971, 2314, 1439, 51], [632, 1858, 1514, 489, 1919, 1141, 2212, 861, 2551, 431, 1822, 359], [2490, 1124, 702, 5, 82], [2250, 1858, 1748, 513, 193, 1188, 1786, 1637, 2413, 489, 513, 505, 1268, 688, 1279, 1696, 2052, 1915], [1439, 879, 688, 1858, 2215, 1337, 1031, 1271, 489, 2092], [2490, 1795, 87, 2490, 1729, 391, 2612, 489, 2490, 208, 87, 1729, 391, 1577], [1343, 391, 53, 1109], [210, 961, 421, 489, 1915, 513, 1654, 1084, 652, 2612, 1681, 391, 2353, 1924, 1810, 1031, 1573, 421, 21, 2535, 2587, 858], [1913, 595, 2413, 80, 2265, 1141, 2088, 1634, 391], [1919, 1826, 391, 1084, 595, 80, 1078, 1696, 2108, 1497, 1531, 2468, 928], [585, 1573, 198, 391, 1691], [64, 2325, 1267, 2314, 1167, 2158], [1084, 652, 1696, 2463, 391, 2490, 732, 1078, 1213, 1575, 166, 1439, 2608, 624, 281], [2526, 2377, 1913, 1084, 1061, 311, 2314, 316], [1901, 585, 1213, 1691, 1531, 2052, 1199], [1484, 1239, 1795, 489, 2253, 391, 925, 391, 2539, 1240, 1770, 1779], [1768, 459, 626, 937, 80, 513, 1028, 898, 2468, 1405, 693, 2530, 475, 80, 1858, 1691, 611], [317, 1405, 550, 1213, 606, 595], [1858, 1691, 2041, 1358, 166, 2353, 391, 379, 2350, 80, 846, 1653, 1304, 489, 1084, 1076, 2551, 1213, 913, 1038, 80, 2309, 585, 1858, 612, 688, 166, 489, 638, 80], [2582, 2469, 145, 304, 866, 621, 1097, 2314, 1439], [1271, 272, 2314, 1579], [1271, 2212, 1915, 1450, 2350, 489, 632, 1696, 37, 1634, 391, 1557, 80, 5, 1764], [585, 1915, 742, 2346], [1696, 2140], [1197, 2448, 467, 688, 727, 913, 1405, 727, 1283, 2346, 392, 391, 766, 653, 2353, 1412], [2598, 2490, 341, 1245, 850, 391, 506, 2314, 1439, 1439, 1891, 1872, 431, 2146, 2226, 433, 1355], [489, 1213, 716, 2468, 2330, 569, 1351, 1370, 2066, 1353, 1457, 1601, 2598, 2284, 1335, 2551, 1483, 688, 1263], [1239, 952, 850, 1199, 2341, 489, 1974, 24, 391, 1484, 2330, 2145, 497, 1084, 576, 2551, 364, 2041, 845], [613, 80, 513, 1084, 964, 2073], [92, 247, 33, 2612, 2110, 198, 613, 73, 2019], [391, 247, 1573, 1216, 102, 2454], [788, 2040, 489, 391, 2284, 1548, 391, 1792], [1653, 1214, 1684], [1966, 489, 1913, 1931, 1956, 1071], [391, 1529, 2490, 1188, 823], [947, 815, 727, 736, 1525, 2314, 727, 524, 489, 2339, 450, 1339], [2551, 391, 944, 249, 2314, 638, 5, 1171, 2132], [1956, 2490, 1249, 1573, 1619, 391, 1858, 1466, 489, 1956, 1573, 776, 391, 1696, 640, 2083, 2473, 2055, 2422, 432, 579, 964], [1405, 1084, 1993, 1569, 391, 1084, 2119, 1913, 1084, 1086, 2011, 1084, 918], [1803, 450, 672, 2392, 1031, 1439, 331, 1573, 1410, 1199, 1365, 1439, 819, 626, 729, 2031, 2143, 2204, 2464, 415, 1915], [2212, 415, 264, 2413, 423, 688, 2353, 391, 595, 80, 2265, 2598, 1084, 1206, 391, 1141, 2117, 36, 1089], [2551, 1573, 391, 1298, 2142, 1148, 1913, 379, 1573, 1394, 11, 1696, 665, 689, 365, 1634, 1835, 1696, 353, 2164], [2583, 391, 1373, 1948, 450, 1696, 2509, 391, 1681, 493, 2314, 513, 2220], [1405, 1031, 2551, 513, 2264, 2612, 1394, 468, 2088, 80, 513, 1141, 1913, 1084, 2584, 1956], [1141, 947, 391, 1931, 1213, 2188, 688, 1131, 2595, 489, 1109, 704, 1972], [166, 1603, 2314, 735, 2572, 1062, 1439, 54, 2507, 1810, 363, 979, 688, 804, 1320, 832, 1062, 1213, 1355], [736, 688, 648, 513, 610, 489, 1484, 2449, 2331, 1199, 2420, 489, 1084, 947, 1954, 109, 2551, 1821], [1591, 2353, 1928, 391, 12, 1813], [1239, 1944, 2270, 489, 1913, 626, 2377, 2529, 489, 1913, 2219, 2363, 80, 590, 1763, 2314, 231, 729, 770], [281, 391, 1275, 688, 934, 1405, 1413, 1368, 1913, 949, 1832, 80, 1413, 1202, 1634, 352, 688, 1928], [80, 113, 2212, 2121, 2556, 391, 1913, 379, 2191, 980], [1280, 1074, 1084, 562, 613], [1929, 758, 947, 656, 943, 489, 1719, 80, 166, 1419, 2066, 1913, 947, 2599, 80, 5, 1835], [2460, 1405, 1305, 2153, 2612], [139, 891, 729, 2468, 1999, 1786, 2472, 688, 2441, 2598, 414, 2142, 80, 53], [450, 87, 2188, 239], [1418, 2219, 2363, 1439, 1921, 489, 2490, 2423, 391, 1213, 2227, 2353, 333, 2088, 944, 1569, 1439, 281, 489, 391, 944, 1586, 1213, 660, 1913, 2490, 2027, 944], [36, 944, 2021, 80, 2339], [1172, 1377, 697, 1213, 1938, 1031, 1634, 1213, 1208, 391, 1872, 613, 688, 352, 866, 567, 1213, 559, 1031, 1634, 1082, 391, 1010, 873, 1781], [2468, 1084, 197, 1078, 1439, 792, 391, 529, 80, 766, 1612, 980], [1913, 1267, 1350, 1573, 2284, 391, 2065, 1696, 1765, 1933, 80, 727, 1548], [1413, 396, 2490, 1322, 1573, 260, 2551, 1786, 2274, 391, 1407, 489, 1413, 2034, 2132, 1213, 306, 2551, 1213, 1795, 530, 688, 2451], [391, 1197, 2490, 1314, 513, 1734, 1358, 688, 951, 688, 1304, 102, 370, 2008, 450, 2565, 489, 1861, 1781], [1919, 143, 391, 1412, 1745, 1858, 1928, 1149, 80, 407, 489, 80, 513, 1439, 1319, 2283, 688, 371, 2314, 1738, 1366, 1366, 2503], [2598, 1084, 1086, 1084, 1086, 539], [391, 818, 391, 1304, 2490, 2187, 2551, 2507, 1084, 249], [1314, 450, 2309, 1883, 1768, 2353, 2236, 391, 944, 166, 2460], [927, 1840, 450, 294, 489, 1084, 828, 1634, 410, 87, 489, 2490, 1084, 1434, 1439, 1086, 1069, 377], [1913, 949, 1183, 2066, 823, 1084, 686, 650, 450, 1213, 502, 2428, 1531, 688, 547, 123, 489, 674, 111, 2314, 577, 450, 1482, 2082, 688, 2222], [1213, 2612, 2490, 278, 870], [270, 391, 934, 1734, 694, 348, 489, 391, 2284, 732, 1749, 280, 1993, 688, 1353, 2451], [1334, 1213, 2021, 2401, 459, 930, 391, 1388], [1213, 1170, 1439, 2325, 1031, 1213, 570, 381, 1199, 1734, 906, 539, 688, 576, 2325, 2226, 1355], [2351, 1911, 727, 2018, 1931, 2458, 2088, 1253, 391, 1858, 2018, 2458, 1031, 1213, 846, 1913, 788, 1595], [1405, 2461, 489, 363, 262, 1947, 1213, 1004, 450, 2335, 2551, 352, 669, 1199, 1441, 2551, 391, 1595, 774, 190, 2551, 1372], [2314, 513, 1439, 2353, 1322, 489, 1786, 2521, 1322, 1696, 449, 489, 5, 1232, 166, 1439, 2227, 1634, 1328, 688, 1343], [1084, 28, 1586, 2468, 1031, 1380, 973, 1803, 189, 2587, 1718, 836, 2008, 80, 1511, 182, 1653, 1439, 376, 2314, 1213, 103], [15, 1439, 1301, 688, 401, 80, 738, 626, 1989, 735, 1035, 80, 1858, 1555, 391, 626, 1797, 2551, 2309, 1062, 43, 489, 275], [596, 1913, 2353, 1160, 1202, 1197, 2143, 2460, 2212, 1763], [1141, 2490, 80, 87, 1324, 1213, 923, 1616, 1213, 623], [1724, 638, 1280, 682, 489, 2460, 80, 477, 1913, 626, 2064, 1741, 2231, 80, 240, 2002, 1084, 2236, 891, 2314, 1213, 884, 80, 1692], [1043, 1994, 80, 1335, 1497, 1333, 1213, 140, 450, 1439], [1913, 2212, 2028, 1634, 656, 1213, 1795, 80, 1378, 1173, 1303], [2490, 2029, 2088, 197, 775, 1497, 1658, 688, 775, 626, 1474, 80, 559, 613, 688, 112, 959, 112, 2260, 638, 2338, 1804], [562, 80, 1213, 2236, 1913, 1031, 1696, 1459, 1031, 1858, 1401, 1042, 688, 1201, 80, 1240, 1208, 80, 2511, 735, 648], [2199, 2145, 497, 391, 1084, 947, 1078, 421, 489, 2212, 2335, 545], [1439, 391, 1197, 1084, 1263], [486, 5, 1658, 391, 947, 559, 1913, 1084, 379, 1687, 2006, 2551, 166, 579, 1891], [2396, 391, 2618, 1006, 1213, 1145, 2396, 975, 1439, 941, 1475, 1990, 1799], [2142, 80, 1786, 1331, 1733], [701, 2219, 1277, 1213, 73, 489, 2128, 1913, 2219, 31, 1439, 2548, 688, 141, 1277, 1199, 2185, 1353, 926, 2444, 866, 1970, 1942], [1141, 392, 688, 1734, 2121, 43, 2551, 1185], [626, 1966, 1696, 665, 2069, 80, 2364, 489, 1084, 1614, 1351, 688, 1757, 421, 947, 1776, 391, 1239, 1634, 1801, 1696, 1921, 2615, 2460, 128, 2284, 1043], [2490, 367, 415, 1779, 2521, 669, 1339, 1913, 2285, 1578, 2033], [2544, 1213, 654], [1239, 1629, 1685, 688, 402, 391, 1216, 1734, 1576, 393, 489, 1388, 688, 1734, 1439, 1659, 921, 688, 5, 1768, 80, 1213, 2099, 1011, 2551, 837], [1213, 818, 2551, 1439, 14, 1207], [688, 725, 1148, 1913, 623, 1213, 249, 503, 80, 1177], [450, 2309, 1913, 2490, 2464], [1031, 2542, 961, 1208, 973, 1197, 2490, 1535, 450, 1439, 2325, 391, 626, 2169, 1591, 984, 1573, 489, 1573, 489, 1573, 489, 1634, 1696, 1981, 875, 1141, 2285, 80, 1304], [2006, 80, 1213, 773], [633, 1573, 688, 2512, 113, 2551, 2313], [1084, 963, 1734, 1028, 2066, 1141, 1484, 1371, 450, 1213, 1891, 978, 1470, 2551, 638, 5, 1844], [1084, 1872, 166, 2121, 2556], [1484, 1213, 646, 391, 1084, 163, 1630, 2066, 1913, 1084, 125, 410, 489, 1531, 325, 1822, 2150, 1696, 1409, 1124, 22, 391, 1913, 595], [1621, 2066, 80, 513, 1913, 1084, 341, 613, 1653], [2186, 489, 1919, 2587, 36, 80, 2612, 866, 567, 2551, 1734, 2143], [2316, 2544, 80, 1304, 1439, 1765, 2314, 1213, 1548, 1031, 1840], [1084, 2584, 1696, 2049, 701, 961, 2383, 688, 378, 2013, 631, 688, 57, 450, 1531, 688, 1637, 1631, 688, 273], [546, 926, 2419, 2551, 535, 1022, 2441, 730, 450, 1413, 1774, 688, 2369], [1484, 818, 1364, 2314, 513, 1578], [1802, 1460, 1084, 828, 99], [585, 181, 688, 448, 98, 2353, 391, 1931, 450, 112, 688, 1835, 431, 2018, 2314, 727, 2191, 513, 2325], [2353, 391, 1573, 1084, 652, 846, 1031, 391, 1031, 1198, 2206, 1197, 205, 2353, 391, 1124, 1691, 1972, 1197, 2284, 2353, 1086, 733], [1084, 626, 2118, 1658, 1913, 2212, 2121, 929], [623, 1484, 1364, 489, 1280, 2428, 984, 323, 1696, 497, 866, 1998, 688, 1280, 1167, 80, 1786, 1449, 489, 2199, 80, 1454], [823, 2332, 391, 513, 468, 80, 1786, 2594, 1031, 2420, 688, 2353, 391, 2068], [152, 688, 325, 1906, 1394, 687, 944, 1764, 579, 2006, 1728, 1569, 391, 281, 2173, 1786, 565, 1913, 1293, 1890], [289, 2143, 1031, 818, 1208], [391, 1913, 1084, 2006, 1197, 513, 1654, 593], [1347, 2460, 1031, 2056, 2066, 450, 943], [2107, 513, 1613, 450, 1786, 430, 489, 2490, 1974, 80, 2191, 489, 1919, 636, 1199, 1915, 688, 1213, 943, 1695, 489, 2521, 1792, 80, 2483, 391, 2212, 875, 1868], [632, 1858, 2188, 1497, 549, 2093], [516, 80, 516, 582, 1442, 2587, 36, 2044, 1308, 80, 1308, 1569, 1835, 1167, 2354, 489, 391, 1535, 727, 1196, 248], [1213, 96, 1031, 1439, 613, 80, 5, 742], [1919, 1484, 1637, 1415, 688, 1075, 5, 1965, 2027, 1569, 143, 391, 2212, 1282, 489, 2314, 5, 391, 1084, 1086, 489, 1084, 595], [2314, 693, 1844, 1031, 2598, 513, 1578, 2490, 365, 2447, 1084, 28, 2121, 1235, 2468, 1126], [964, 2353, 391, 2193, 2551, 385, 135], [2608, 545, 391, 2587, 1977, 166, 2353, 391, 991, 2558, 1439, 234, 489, 1786, 391, 1576], [944, 1382, 299, 2315, 489, 450, 166, 2353, 898, 80, 1240, 1667, 669, 299, 2551, 1400, 489, 1913, 175, 2562, 2463, 489, 934], [2583, 1148, 1573, 391, 1858, 2018, 1084, 340], [579, 2332, 2314, 398, 688, 975, 2560, 489, 1691, 1907, 670, 1696, 1667, 688, 1943, 985, 679], [1405, 1084, 1792, 80, 168, 2469, 1629, 1459, 2088, 1439, 1076, 489, 745, 1141, 2353, 2397, 489, 1084, 216, 1696, 2125, 653, 568], [2096, 80, 113, 1084, 2443, 1213, 140, 475, 2088, 947, 1439, 2535, 688, 2238], [1617, 2363, 1696, 1891, 688, 1779, 823, 2212, 688, 1101, 1813, 475, 391, 1913, 1484, 399, 1634, 1898, 669, 1031, 1213, 1482, 1919, 391, 2490], [1213, 2133, 166, 2551, 1213, 391, 1084, 944, 1894, 901, 1031, 475, 1634, 1473], [2330, 980, 391, 1334, 1439, 1631, 688, 1159, 1004], [1459, 1857, 1634, 1339, 1335, 1141, 304, 475, 1920, 2439, 1964, 489, 688, 1913, 1734, 2551, 1439, 2560, 2135, 1378], [2420, 2147, 2212, 2121, 264, 2468, 727], [1405, 1913, 1995, 80, 5, 2051, 2413, 2284, 1995, 80, 124, 1928, 2064, 2054, 2314, 804, 1993, 428], [1150, 1141, 1913, 1457, 911, 2448, 1805, 1084, 28, 2458], [1031, 415, 144, 2615, 2353, 391, 2283, 2598, 1260, 1028, 1186], [2212, 2121, 975, 391, 1913, 2443, 1573, 391, 2153], [1213, 1844, 1573, 1647, 1031, 1078, 1696, 2554, 391, 626, 2490, 80, 1213, 1208, 489, 2353, 1173, 2411, 2088, 2309, 1031, 2353, 391, 652, 1355], [182, 2460, 391, 382, 1913, 1768, 2490, 792, 80, 901, 391, 1913, 92, 569, 80, 1213, 1208, 391, 1480, 638, 415, 6], [2422, 432, 1919, 1484, 1696, 2013], [2047, 1913, 1084, 2219, 1073, 688, 1060, 1913, 1084, 1393, 688, 1504, 308, 2452, 1479], [289, 197, 1095, 688, 63, 2349], [1084, 652, 1635, 1096, 688, 1124, 776, 2066, 1084, 2212, 1085, 688, 727, 2553, 391, 2309, 1031, 2353, 391, 397, 1084, 2584], [1919, 1558, 688, 1086, 2088, 585, 2468, 5, 2455, 2183, 391, 1913, 454, 1078, 459, 489, 2490, 389], [489, 391, 112, 1405, 2002, 2212, 688, 2087], [1826, 391, 1084, 1220, 391, 240, 1634, 788, 246, 2386], [391, 829, 944, 1929, 539], [1484, 818, 166], [2041, 1110, 391, 1031, 144, 1573, 1634, 474, 1858, 1466, 564, 2369, 499, 768, 2325], [1937, 2468, 1924, 961, 1280, 298, 688, 1480, 1405, 1913, 320, 1213, 296, 688, 1763], [2224, 1351, 688, 391, 1439, 2428, 1497, 735, 993, 1251, 1734, 2344, 693, 1218, 415, 620, 489, 1084, 2547, 450, 1457, 142, 2353, 2307], [1405, 1304, 2107, 80, 258, 1913, 1084, 1086], [391, 2253, 391, 992, 1439, 1716, 80, 1213, 2217, 688, 1213, 1497], [2326, 1885, 318, 80, 5, 2319, 59, 2290, 1240, 462, 1913, 2490, 750, 450, 1439, 2235, 688, 1960, 80, 1213, 2550, 1389], [527, 650, 1141, 391, 2314, 766, 564, 1913, 2490, 1142, 489, 2490, 5, 164], [744, 33, 2082, 489, 2511, 1411, 89], [2072, 1084, 216, 166, 1696, 2125, 2066, 823, 2212, 1073], [2212, 2335, 965, 823], [529, 1497, 944, 630, 109, 1497, 768, 1653], [1653, 197, 257, 43], [2306, 2147, 2236, 1216], [1345, 559, 2358, 1786, 1245, 688, 1280, 1122, 489, 1578, 1837], [638, 1240, 1866, 686, 2468, 415, 1573, 1634, 513, 2140], [2468, 2212, 1696, 1981, 2056, 804, 727, 1031, 1696, 2019, 688, 513], [489, 1213, 1149], [1439, 2554, 1031, 1696, 2227, 1271], [1754, 2367, 1084, 1872, 820, 811, 506, 1296, 489, 2592, 1213, 1949, 80, 1213, 605, 489, 1913, 1213, 1064, 391, 1913, 1634], [2167, 1119, 1337, 1836, 926, 489, 5, 1236, 131, 1400, 2167, 1119, 2314, 2227, 688, 1176, 2490, 686, 980], [1405, 866, 1531, 2152, 353, 2140, 2314, 1573, 2490, 2284, 1064], [1353, 1474, 80, 788, 2460], [1675, 275], [1826, 391, 1084, 1021, 1459, 2145, 1696, 37, 489, 546, 1084, 1883, 1696, 1613], [1084, 1213, 1848, 2392, 1573, 702, 649, 669, 688, 851], [947, 1078, 1245, 667, 102, 2223, 2066, 1913, 1484, 2531], [153, 244], [1117, 688, 792, 1696, 1379, 464, 934], [1798, 1858, 1548, 688], [1031, 391, 804, 605, 391, 1084, 1086, 450, 1439, 2353, 930, 2555, 1478, 1141, 1913, 1698], [1919, 2490, 391, 626, 2140, 688, 2066, 2002, 2143, 1913, 947, 1956, 316, 450, 1304], [823, 1084, 2165, 379, 1858, 688, 42, 850, 2121, 333, 391, 1913, 1837, 2073, 2314, 1028, 2066, 391, 573, 569, 391, 423, 579], [1084, 595, 80, 2191, 1378, 2458, 2119, 489, 450, 1696, 1891, 688, 2236], [1665, 1913, 947, 1960, 2066, 1634, 513, 2309, 1031, 1858, 1860, 1913, 1439, 851, 1405, 1913, 1786, 2512, 2353, 28, 2353, 930, 391, 2439], [1591, 1872, 391, 600, 1343, 885, 2314, 727, 2220, 489, 2284, 1795, 1915], [2314, 1439, 802, 701, 1212, 489, 1913, 2284, 1213, 562, 324, 1439, 391, 1913, 2284, 1989, 1212, 1529, 1212, 1649, 489, 811, 391, 1304, 1573, 205, 2353, 391, 1439, 1913, 2145, 980], [1084, 782, 688, 415, 923, 385, 1444, 1213, 1768, 1634, 423, 1915, 1394, 901, 489, 391, 80, 513, 1084, 623, 804, 98, 450, 1439, 482, 391, 2443], [1858, 1691, 1924, 846, 569, 1497, 1981, 166, 80, 735, 1042, 2066, 1913, 944, 1956, 2055, 391, 2353, 400, 80, 2531, 2598, 475, 2407, 735, 317], [1851, 1304, 2490, 1213, 1549, 1497, 2490, 1213, 2417, 1786, 774], [1394, 1270, 1573, 1956, 391, 1696, 568, 1908, 605, 2284, 489, 61], [2460, 1634, 1734, 1389, 2490, 1384, 1734, 570, 688, 1482, 980, 1869], [1031, 1439, 1447, 2314, 803, 630], [391, 2069, 391, 1031, 513, 2314, 680, 1097], [13, 890, 1141, 944, 1913, 2279, 1573], [1591, 1186, 998, 1213, 2002], [2325, 1394, 1075, 1394, 586, 1394, 1014, 391, 2134], [2353, 924, 1213, 391, 1819, 1373, 2556, 688, 2354, 688, 2353, 1441, 688, 1663, 489, 688, 727, 26, 1405, 1405, 2284, 1799, 1405, 2284, 1043, 2066, 1084, 1043, 1573, 80, 513], [391, 353, 1459, 1024, 1591], [1858, 1815, 1872, 1637, 1737, 489, 450, 1858, 866, 844, 2505], [2551, 391, 2454, 1031, 2420], [2353, 1868, 1031, 391, 1786, 1663, 341, 1400, 735, 489, 1786, 745, 2490, 2213, 34, 2353, 1868, 688, 559, 1213, 2437, 2323], [2089, 1969, 818, 513, 2551, 1240, 1937, 1913, 1031, 1966, 2066, 1405, 1474], [1439, 650, 688, 1333, 688, 1213, 2555, 686, 1696, 2402, 688, 559, 57], [1439, 2302, 1084, 2256, 2407, 299, 450, 112, 489, 1913, 2490, 391, 1031, 2353, 391, 1573, 1084, 2165, 1753, 660, 2314, 569, 2608], [734, 2490, 632, 688, 423, 2088, 1913, 1267, 2413, 688, 391, 423, 585, 1213, 1691, 1573, 2056, 489, 1573, 478, 1199, 2554], [1648, 1084, 1818, 1657, 5, 1889, 688, 564, 1855, 80, 772, 450, 1132, 489, 80, 1851, 450, 2563, 391, 389, 2458, 391, 1084, 937, 1057], [1363, 80, 1880, 688, 161, 656, 1586, 1439, 1031, 415, 2069], [2583, 431, 1031, 1213, 28, 1768, 980], [585, 415, 187, 144, 2453, 1919], [1959, 450, 1439, 391, 1913, 2284, 2319, 1956, 1167, 2385, 489, 586, 2088, 2284, 2145, 2447], [1903, 2066, 2212, 140], [391, 2458, 2353, 1455, 2413, 430, 1484], [1919, 1913, 949, 143, 579, 1891, 80, 1280, 1658, 2088, 197, 1280, 444, 1774, 1774, 1774], [1280, 288, 688, 1134, 341, 1696, 1847, 1455, 2212, 2521], [391, 1779, 944, 1439, 736], [421, 1031, 2447, 102, 1042], [1913, 1193, 1084, 781, 783], [613, 1031, 1213, 1047, 605, 391, 1913, 2264, 2432, 1439, 331, 2131, 1213, 1856, 605, 391, 1913, 2264, 2432, 1439, 885], [18, 1573], [1439, 1068, 688, 513, 2357, 317, 56, 737, 489, 2334, 166, 579, 2031], [583, 1213, 1942], [1405, 2490, 2238, 1913, 2016, 391, 1439, 1086, 1913, 949, 1695, 166, 1439, 1891, 1913, 626, 688, 541, 866, 2133], [1160, 419, 1696, 1193, 813, 431, 1795, 1325, 659, 2551, 1439, 1928, 568, 391, 1160, 2612], [982, 489, 1919, 1394, 788, 2191], [197, 1415, 688, 567, 992, 2490, 2161, 2466, 688, 1213, 285, 406, 391, 1084, 1447], [475, 1484, 613, 80, 1858, 98, 1913, 1317, 735, 2551, 5, 391, 1084, 1658, 613], [1455, 1405, 1696, 1891, 1858, 1815, 1467, 2027, 2191, 1924, 2314, 1411, 1073, 1919, 1031, 1858, 1173, 1830, 2088, 727, 1913, 1220, 430, 1497, 1405], [2468, 1405, 1442, 865, 1858, 1814, 688, 2303, 450, 459, 744, 2468, 1213, 1364], [80, 1825, 545, 2518, 1339, 489, 1976, 2212, 611, 2316, 1696, 88], [2279, 998, 2447, 1742, 489, 691, 1315], [1084, 736, 688, 846, 1430, 391, 2250, 624, 716, 2314, 1439, 1027, 2225, 1084], [2551, 391, 136, 2236, 1249, 5, 2219, 1350], [513, 315, 2490, 686, 1345, 1913, 699, 600, 2314, 543, 391, 150], [1220, 166, 1213, 1364, 1031, 415, 1021, 1141, 102, 379, 2551, 2309, 489, 1031, 415, 1606], [2314, 138, 688, 1734, 1025, 2029, 2314, 1541, 1345, 559, 799, 2314, 1101, 138], [736, 688, 2511, 1696, 2472, 688, 1085, 2314, 509, 489, 1031, 2121, 2187, 2212, 2521], [1303, 1141, 36, 80, 2083, 1439, 1813, 263], [52, 450, 2228, 489, 452, 2027, 1031, 391, 2284, 1474, 80, 506], [1711, 591], [2235, 688, 1514, 688, 225, 1772, 2191, 688, 109, 2302, 1343, 488, 81, 450, 1689, 576, 489, 2581, 539, 2332, 1223, 2592, 1624, 1281, 579], [973, 906, 1026, 1579, 1653], [1213, 198, 1913, 1525, 2413, 1696, 331], [1653, 1343, 973, 2056, 2212, 973, 1304, 1084, 1674, 1696, 497], [240, 626, 1068, 674, 2066, 763, 580, 2284], [376, 367, 688, 1110, 973, 1213, 1416, 489, 1647, 1653, 1439, 963, 973, 92, 2309, 466, 1768, 1913], [391, 1084, 1989, 1439, 53, 688, 513, 2220, 112, 605, 2558, 391, 1084, 2377, 80, 2439, 391, 1084, 1373, 1553, 2551, 1213, 1271], [2121, 1263, 1474, 80, 600, 1192], [527, 1521, 489, 2556, 1573, 2556, 558, 1417], [1460, 1474, 80, 2054, 80, 727, 1269], [1084, 1101, 2164, 391, 613], [2284, 2201, 866, 913, 489, 1457, 2521, 2551, 640, 590, 2188, 2551, 1696, 2514], [1031, 2542, 2468, 1213, 1208, 391, 1084, 1387, 2468, 89, 823, 1084, 409, 1634, 1439, 1891, 1199, 1654], [415, 391, 906, 1026], [466, 2006, 1272], [1634, 1913, 2490, 2413, 391, 1482, 421, 688, 686, 975, 1913, 1031, 2353, 1455], [541, 2309, 1031, 2453, 1012, 1439, 1943, 1199, 748, 489, 80, 590, 626, 1793, 1541, 1913, 2145, 1439, 2402, 688, 201, 1252, 1213, 1901], [2353, 688, 1949, 1786, 850, 450, 1265, 1031, 688, 1696, 136, 415, 1634, 1213, 1096, 945, 980], [12, 1913, 1334, 459, 2187, 391, 1213, 943, 1727, 588, 80, 2358, 1786, 57, 1405, 2239, 1405, 2353, 1334, 80, 1240, 1434, 1553], [1334, 1858, 2021, 909, 489, 5, 950, 1913, 2603, 1696, 1210, 2212, 1853], [569, 2140], [1186, 1790], [1141, 1434], [2211, 2335, 2542, 1774, 1031, 513, 53, 118], [12, 2551, 391, 1913, 758, 528, 2439], [2142, 1031, 456], [1457, 197, 1786, 2087, 2302, 1634, 1078, 1439, 1464, 1935, 2212, 2521, 688, 1213, 660], [1919, 585, 2161, 1981, 516, 917, 1981, 489, 917, 2052, 973, 80, 113, 1591, 973, 80, 513, 1913, 1084, 1991, 171, 384, 1929, 1981], [2598, 1084, 1086, 1437, 1084, 2183, 1397, 5, 439, 626, 2127, 80, 513, 1097, 973, 1437, 2236, 1913, 1084, 2011, 450, 650, 109], [2212, 2335, 711, 450, 1213, 776, 688, 727, 1242, 1031, 144, 2369], [1343, 1919, 2490, 391, 727, 1220, 5, 1708, 1574, 2066, 1405, 197, 1971, 80, 5, 1980, 1913, 1084, 1086], [1213, 165, 688, 1213, 2565, 1084, 652, 77, 33, 688, 513, 2357], [391, 2236, 391, 2551, 1696, 571, 568, 882, 688, 1033, 489, 1364, 2284, 741, 80, 557, 1213, 2220, 1966, 2460, 2357, 2314, 2080, 1193], [2224, 1913, 626, 2064, 2231, 80, 795, 1601, 2088, 5, 2257, 1937, 600, 1353, 671, 1913, 653, 686, 10, 489, 2353, 929], [1880, 1412, 1061, 1653, 1591, 421, 1653, 1591, 913, 1455, 688, 1637, 432, 1763, 489, 2490, 898, 1199, 1365, 1213, 1573, 1076, 80, 113, 1291, 2066, 2353, 1043], [1128, 391, 1084, 141, 2447], [1213, 2420, 776, 688, 2141, 80, 1304, 1031, 600, 80, 735, 140, 489, 1681, 391, 1197, 2353, 1577, 559, 846], [2054, 866, 286, 474, 5, 1533, 2062, 2409, 1713], [36, 80, 961, 973, 583, 2314, 513, 2223, 2314, 5, 2032, 2503, 620], [846, 1413, 391, 944, 545, 866, 2460, 1634, 1120, 623, 80, 2449, 688, 806, 1944], [924, 513, 1666, 688, 661, 331, 1899, 1430, 2465, 1322, 2396, 535, 507, 1439, 2531], [513, 1028, 367, 1213, 716, 391, 944, 2314, 1213, 240, 1213, 391, 2212, 450, 1339, 489, 1084, 384, 198, 1024, 2598, 1353, 2377, 545]]\n"
          ]
        }
      ]
    },
    {
      "cell_type": "code",
      "source": [
        "# The sentences might have a different length. We want all of them of the same length\n",
        "word_count = lambda sentence: len(nltk.word_tokenize(sentence))\n",
        "longest_sentence = max(test_clean['Tweet'], key=word_count)\n",
        "length_long_sentence = len(nltk.word_tokenize(longest_sentence))\n",
        "print(length_long_sentence)"
      ],
      "metadata": {
        "id": "LNhDlSew4Osn",
        "colab": {
          "base_uri": "https://localhost:8080/"
        },
        "outputId": "8fb1c9cb-a370-4cea-f104-eec3753f0dfc"
      },
      "execution_count": null,
      "outputs": [
        {
          "output_type": "stream",
          "name": "stdout",
          "text": [
            "32\n"
          ]
        }
      ]
    },
    {
      "cell_type": "code",
      "source": [
        "padded_sentences_test = pad_sequences(embedded_sentences_test, 33, padding='post')\n",
        "print(padded_sentences_test)"
      ],
      "metadata": {
        "colab": {
          "base_uri": "https://localhost:8080/"
        },
        "id": "Cvd5ps2_w95M",
        "outputId": "ac436b07-0835-4a58-951e-ca556bb6f491"
      },
      "execution_count": null,
      "outputs": [
        {
          "output_type": "stream",
          "name": "stdout",
          "text": [
            "[[1913 1084 1591 ...    0    0    0]\n",
            " [1919  861  729 ...    0    0    0]\n",
            " [ 954 1141 1913 ...    0    0    0]\n",
            " ...\n",
            " [ 846 1413  391 ...    0    0    0]\n",
            " [ 924  513 1666 ...    0    0    0]\n",
            " [ 513 1028  367 ...    0    0    0]]\n"
          ]
        }
      ]
    },
    {
      "cell_type": "code",
      "source": [
        "np.shape(padded_sentences_test)"
      ],
      "metadata": {
        "colab": {
          "base_uri": "https://localhost:8080/"
        },
        "id": "_bL_hTuGyWp5",
        "outputId": "15cd6aa8-4895-432b-a7bf-2b9479092ce0"
      },
      "execution_count": null,
      "outputs": [
        {
          "output_type": "execute_result",
          "data": {
            "text/plain": [
              "(679, 33)"
            ]
          },
          "metadata": {},
          "execution_count": 33
        }
      ]
    },
    {
      "cell_type": "code",
      "source": [
        "def predict_models(model, data):\n",
        "  y_preds = model.predict(data, verbose=1)\n",
        "  return y_preds"
      ],
      "metadata": {
        "id": "Mif_KCOS2_9j"
      },
      "execution_count": null,
      "outputs": []
    },
    {
      "cell_type": "code",
      "source": [
        "# import copy\n",
        "# results = pd.DataFrame(test[['Tweet']])\n",
        "\n",
        "\n",
        "# y_preds = predict_models(models['anger'], padded_sentences_test)\n",
        "# print(y_preds[0])\n",
        "\n",
        "# y_preds2 = dict()\n",
        "# y_preds2 = predict_models(models['trust'], padded_sentences_test)\n",
        "# print(y_preds2[0])\n",
        "\n",
        "\n",
        "# models = dict()\n",
        "# # y_trains = dict()\n",
        "# history = dict()\n",
        "\n",
        "# for sent in Y_train.columns:\n",
        "#     model = Model(inputs=input_1, outputs=output1)\n",
        "#     model.compile(loss='binary_crossentropy', optimizer='adam', metrics=['acc'])\n",
        "#     # y_trains[sent] = Y_train[[sent]].astype(int).values\n",
        "#     y_trains = Y_train[[sent]].astype(int).values\n",
        "#     print(sent)\n",
        "#     history[sent] = model.fit(X_train, y_trains, epochs=5, verbose=0, validation_split = 0.2, shuffle = False)\n",
        "#     models[sent] = copy.deepcopy(model)\n",
        "#     #models[sent] = model\n",
        "#     y_preds = predict_models(model, padded_sentences_test)\n",
        "#     y_preds2 = predict_models(models['anger'], padded_sentences_test)\n",
        "#     y_preds_1 = predict_models(models[sent], padded_sentences_test)\n",
        "#     print(y_preds[0])\n",
        "#     print(y_preds_1[0])\n",
        "#     print(y_preds2[0])\n",
        "#     results[sent] = y_preds\n",
        "\n",
        "\n",
        "# # y_preds = dict()\n",
        "# for sent in Y_train.columns:\n",
        "#   results[sent] = predict_models(models[sent], padded_sentences_test)\n",
        "#     # y_preds_1 = predict_models(models[sent], padded_sentences_test)\n",
        "#     # print(results[sent][0])\n",
        "#     #   print(y_preds_1[0])\n",
        "\n",
        "\n",
        "\n",
        "# for i in models.keys():\n",
        "#   print(i)\n",
        "#   print('New iteration')\n",
        "#   # y_preds = predict_models(models[i], padded_sentences_test)\n",
        "#   # print(y_preds[0])\n",
        "#   results[i] = predict_models(models[i], padded_sentences_test)"
      ],
      "metadata": {
        "id": "DyLUhI9U6sJ_"
      },
      "execution_count": null,
      "outputs": []
    },
    {
      "cell_type": "code",
      "source": [
        "# results = pd.DataFrame(test[['Tweet']])\n",
        "# results['anger'] = models['anger'].predict(padded_sentences_test, verbose=1)\n",
        "# results['trust'] = models['trust'].predict(padded_sentences_test, verbose=1)\n",
        "\n",
        "# print(results['anger'][0])\n",
        "# print(results['trust'][0])\n",
        "\n",
        "\n",
        "\n",
        "\n",
        "# for sent in Y_train.columns:\n",
        "#   results[sent] = models[sent].predict(padded_sentences_test, verbose=1)\n",
        "#     # y_preds_1 = predict_models(models[sent], padded_sentences_test)\n",
        "#   print(results[sent][0])"
      ],
      "metadata": {
        "id": "wyWeTbbUSM5b"
      },
      "execution_count": null,
      "outputs": []
    },
    {
      "cell_type": "code",
      "source": [
        "results = pd.DataFrame(test[['Tweet']])\n",
        "\n",
        "for i in models.keys():\n",
        "  results[i] = predict_models(models[i], padded_sentences_test)"
      ],
      "metadata": {
        "colab": {
          "base_uri": "https://localhost:8080/"
        },
        "id": "X-RNNY9jbKNZ",
        "outputId": "a8a3b1bc-c2f3-4371-b78f-00d487177321"
      },
      "execution_count": null,
      "outputs": [
        {
          "output_type": "stream",
          "name": "stdout",
          "text": [
            "22/22 [==============================] - 0s 3ms/step\n",
            "22/22 [==============================] - 0s 3ms/step\n",
            "22/22 [==============================] - 0s 3ms/step\n",
            "22/22 [==============================] - 0s 3ms/step\n",
            "22/22 [==============================] - 0s 3ms/step\n",
            "22/22 [==============================] - 0s 3ms/step\n",
            "22/22 [==============================] - 0s 3ms/step\n",
            "22/22 [==============================] - 0s 3ms/step\n",
            "22/22 [==============================] - 0s 3ms/step\n",
            "22/22 [==============================] - 0s 3ms/step\n",
            "22/22 [==============================] - 0s 3ms/step\n"
          ]
        }
      ]
    },
    {
      "cell_type": "code",
      "source": [
        "results"
      ],
      "metadata": {
        "colab": {
          "base_uri": "https://localhost:8080/",
          "height": 641
        },
        "id": "_L9N3HxG8kGt",
        "outputId": "7f751565-7a83-4438-8f93-d79854f8a189"
      },
      "execution_count": null,
      "outputs": [
        {
          "output_type": "execute_result",
          "data": {
            "text/plain": [
              "                                                 Tweet     anger  \\\n",
              "0    no me pienso perder la pelea de mcgregor contr...  0.574464   \n",
              "1    yo preocupada pensando que mi papa ya habia ll...  0.166749   \n",
              "2    pucha ya no me sirven todos los carros a rondi...  0.667632   \n",
              "3    si estar contigo es un delito hago cien anos e...  0.354895   \n",
              "4           perfect y de una mansa ni que terrible plr  0.082222   \n",
              "..                                                 ...       ...   \n",
              "674    peligro al volante tec los santos memes gall...  0.630387   \n",
              "675  vamos a ver q sucedio en mi barrio en los 90 v...  0.808168   \n",
              "676   felicidades fer  que esta pasando al agus par...  0.236309   \n",
              "677   lamento mi confusion de rama legislativa  hab...  0.132404   \n",
              "678  mi sobrina vio la foto que esta en la pared la...  0.050780   \n",
              "\n",
              "     anticipation   disgust      fear       joy      love  optimism  \\\n",
              "0        0.004359  0.183212  0.122804  0.017944  0.002399  0.005455   \n",
              "1        0.004584  0.029463  0.126262  0.778818  0.492765  0.184113   \n",
              "2        0.004339  0.120794  0.121356  0.026411  0.002675  0.004604   \n",
              "3        0.004583  0.048651  0.122274  0.018513  0.002354  0.005459   \n",
              "4        0.008308  0.036996  0.122683  0.029699  0.003064  0.005790   \n",
              "..            ...       ...       ...       ...       ...       ...   \n",
              "674      0.004337  0.111139  0.121921  0.019949  0.002351  0.004945   \n",
              "675      0.004172  0.230781  0.123524  0.016788  0.002444  0.005502   \n",
              "676      0.004467  0.062508  0.122215  0.471015  0.100102  0.156753   \n",
              "677      0.005815  0.049819  0.118154  0.032356  0.001981  0.004648   \n",
              "678      0.004426  0.028028  0.124250  0.017761  0.002559  0.005574   \n",
              "\n",
              "     pessimism   sadness  surprise     trust  \n",
              "0     0.175846  0.304241  0.016909  0.001262  \n",
              "1     0.183080  0.481178  0.145272  0.047869  \n",
              "2     0.175599  0.106711  0.012954  0.018682  \n",
              "3     0.175571  0.268617  0.005050  0.194943  \n",
              "4     0.173293  0.113802  0.032455  0.001248  \n",
              "..         ...       ...       ...       ...  \n",
              "674   0.175104  0.190420  0.006509  0.001718  \n",
              "675   0.177543  0.518497  0.007041  0.157783  \n",
              "676   0.174398  0.222116  0.178218  0.042206  \n",
              "677   0.183165  0.101685  0.007656  0.002481  \n",
              "678   0.184794  0.277056  0.026560  0.000517  \n",
              "\n",
              "[679 rows x 12 columns]"
            ],
            "text/html": [
              "\n",
              "  <div id=\"df-fe9da500-acee-4aa7-913e-2de065d2b22f\">\n",
              "    <div class=\"colab-df-container\">\n",
              "      <div>\n",
              "<style scoped>\n",
              "    .dataframe tbody tr th:only-of-type {\n",
              "        vertical-align: middle;\n",
              "    }\n",
              "\n",
              "    .dataframe tbody tr th {\n",
              "        vertical-align: top;\n",
              "    }\n",
              "\n",
              "    .dataframe thead th {\n",
              "        text-align: right;\n",
              "    }\n",
              "</style>\n",
              "<table border=\"1\" class=\"dataframe\">\n",
              "  <thead>\n",
              "    <tr style=\"text-align: right;\">\n",
              "      <th></th>\n",
              "      <th>Tweet</th>\n",
              "      <th>anger</th>\n",
              "      <th>anticipation</th>\n",
              "      <th>disgust</th>\n",
              "      <th>fear</th>\n",
              "      <th>joy</th>\n",
              "      <th>love</th>\n",
              "      <th>optimism</th>\n",
              "      <th>pessimism</th>\n",
              "      <th>sadness</th>\n",
              "      <th>surprise</th>\n",
              "      <th>trust</th>\n",
              "    </tr>\n",
              "  </thead>\n",
              "  <tbody>\n",
              "    <tr>\n",
              "      <th>0</th>\n",
              "      <td>no me pienso perder la pelea de mcgregor contr...</td>\n",
              "      <td>0.574464</td>\n",
              "      <td>0.004359</td>\n",
              "      <td>0.183212</td>\n",
              "      <td>0.122804</td>\n",
              "      <td>0.017944</td>\n",
              "      <td>0.002399</td>\n",
              "      <td>0.005455</td>\n",
              "      <td>0.175846</td>\n",
              "      <td>0.304241</td>\n",
              "      <td>0.016909</td>\n",
              "      <td>0.001262</td>\n",
              "    </tr>\n",
              "    <tr>\n",
              "      <th>1</th>\n",
              "      <td>yo preocupada pensando que mi papa ya habia ll...</td>\n",
              "      <td>0.166749</td>\n",
              "      <td>0.004584</td>\n",
              "      <td>0.029463</td>\n",
              "      <td>0.126262</td>\n",
              "      <td>0.778818</td>\n",
              "      <td>0.492765</td>\n",
              "      <td>0.184113</td>\n",
              "      <td>0.183080</td>\n",
              "      <td>0.481178</td>\n",
              "      <td>0.145272</td>\n",
              "      <td>0.047869</td>\n",
              "    </tr>\n",
              "    <tr>\n",
              "      <th>2</th>\n",
              "      <td>pucha ya no me sirven todos los carros a rondi...</td>\n",
              "      <td>0.667632</td>\n",
              "      <td>0.004339</td>\n",
              "      <td>0.120794</td>\n",
              "      <td>0.121356</td>\n",
              "      <td>0.026411</td>\n",
              "      <td>0.002675</td>\n",
              "      <td>0.004604</td>\n",
              "      <td>0.175599</td>\n",
              "      <td>0.106711</td>\n",
              "      <td>0.012954</td>\n",
              "      <td>0.018682</td>\n",
              "    </tr>\n",
              "    <tr>\n",
              "      <th>3</th>\n",
              "      <td>si estar contigo es un delito hago cien anos e...</td>\n",
              "      <td>0.354895</td>\n",
              "      <td>0.004583</td>\n",
              "      <td>0.048651</td>\n",
              "      <td>0.122274</td>\n",
              "      <td>0.018513</td>\n",
              "      <td>0.002354</td>\n",
              "      <td>0.005459</td>\n",
              "      <td>0.175571</td>\n",
              "      <td>0.268617</td>\n",
              "      <td>0.005050</td>\n",
              "      <td>0.194943</td>\n",
              "    </tr>\n",
              "    <tr>\n",
              "      <th>4</th>\n",
              "      <td>perfect y de una mansa ni que terrible plr</td>\n",
              "      <td>0.082222</td>\n",
              "      <td>0.008308</td>\n",
              "      <td>0.036996</td>\n",
              "      <td>0.122683</td>\n",
              "      <td>0.029699</td>\n",
              "      <td>0.003064</td>\n",
              "      <td>0.005790</td>\n",
              "      <td>0.173293</td>\n",
              "      <td>0.113802</td>\n",
              "      <td>0.032455</td>\n",
              "      <td>0.001248</td>\n",
              "    </tr>\n",
              "    <tr>\n",
              "      <th>...</th>\n",
              "      <td>...</td>\n",
              "      <td>...</td>\n",
              "      <td>...</td>\n",
              "      <td>...</td>\n",
              "      <td>...</td>\n",
              "      <td>...</td>\n",
              "      <td>...</td>\n",
              "      <td>...</td>\n",
              "      <td>...</td>\n",
              "      <td>...</td>\n",
              "      <td>...</td>\n",
              "      <td>...</td>\n",
              "    </tr>\n",
              "    <tr>\n",
              "      <th>674</th>\n",
              "      <td>peligro al volante tec los santos memes gall...</td>\n",
              "      <td>0.630387</td>\n",
              "      <td>0.004337</td>\n",
              "      <td>0.111139</td>\n",
              "      <td>0.121921</td>\n",
              "      <td>0.019949</td>\n",
              "      <td>0.002351</td>\n",
              "      <td>0.004945</td>\n",
              "      <td>0.175104</td>\n",
              "      <td>0.190420</td>\n",
              "      <td>0.006509</td>\n",
              "      <td>0.001718</td>\n",
              "    </tr>\n",
              "    <tr>\n",
              "      <th>675</th>\n",
              "      <td>vamos a ver q sucedio en mi barrio en los 90 v...</td>\n",
              "      <td>0.808168</td>\n",
              "      <td>0.004172</td>\n",
              "      <td>0.230781</td>\n",
              "      <td>0.123524</td>\n",
              "      <td>0.016788</td>\n",
              "      <td>0.002444</td>\n",
              "      <td>0.005502</td>\n",
              "      <td>0.177543</td>\n",
              "      <td>0.518497</td>\n",
              "      <td>0.007041</td>\n",
              "      <td>0.157783</td>\n",
              "    </tr>\n",
              "    <tr>\n",
              "      <th>676</th>\n",
              "      <td>felicidades fer  que esta pasando al agus par...</td>\n",
              "      <td>0.236309</td>\n",
              "      <td>0.004467</td>\n",
              "      <td>0.062508</td>\n",
              "      <td>0.122215</td>\n",
              "      <td>0.471015</td>\n",
              "      <td>0.100102</td>\n",
              "      <td>0.156753</td>\n",
              "      <td>0.174398</td>\n",
              "      <td>0.222116</td>\n",
              "      <td>0.178218</td>\n",
              "      <td>0.042206</td>\n",
              "    </tr>\n",
              "    <tr>\n",
              "      <th>677</th>\n",
              "      <td>lamento mi confusion de rama legislativa  hab...</td>\n",
              "      <td>0.132404</td>\n",
              "      <td>0.005815</td>\n",
              "      <td>0.049819</td>\n",
              "      <td>0.118154</td>\n",
              "      <td>0.032356</td>\n",
              "      <td>0.001981</td>\n",
              "      <td>0.004648</td>\n",
              "      <td>0.183165</td>\n",
              "      <td>0.101685</td>\n",
              "      <td>0.007656</td>\n",
              "      <td>0.002481</td>\n",
              "    </tr>\n",
              "    <tr>\n",
              "      <th>678</th>\n",
              "      <td>mi sobrina vio la foto que esta en la pared la...</td>\n",
              "      <td>0.050780</td>\n",
              "      <td>0.004426</td>\n",
              "      <td>0.028028</td>\n",
              "      <td>0.124250</td>\n",
              "      <td>0.017761</td>\n",
              "      <td>0.002559</td>\n",
              "      <td>0.005574</td>\n",
              "      <td>0.184794</td>\n",
              "      <td>0.277056</td>\n",
              "      <td>0.026560</td>\n",
              "      <td>0.000517</td>\n",
              "    </tr>\n",
              "  </tbody>\n",
              "</table>\n",
              "<p>679 rows × 12 columns</p>\n",
              "</div>\n",
              "      <button class=\"colab-df-convert\" onclick=\"convertToInteractive('df-fe9da500-acee-4aa7-913e-2de065d2b22f')\"\n",
              "              title=\"Convert this dataframe to an interactive table.\"\n",
              "              style=\"display:none;\">\n",
              "        \n",
              "  <svg xmlns=\"http://www.w3.org/2000/svg\" height=\"24px\"viewBox=\"0 0 24 24\"\n",
              "       width=\"24px\">\n",
              "    <path d=\"M0 0h24v24H0V0z\" fill=\"none\"/>\n",
              "    <path d=\"M18.56 5.44l.94 2.06.94-2.06 2.06-.94-2.06-.94-.94-2.06-.94 2.06-2.06.94zm-11 1L8.5 8.5l.94-2.06 2.06-.94-2.06-.94L8.5 2.5l-.94 2.06-2.06.94zm10 10l.94 2.06.94-2.06 2.06-.94-2.06-.94-.94-2.06-.94 2.06-2.06.94z\"/><path d=\"M17.41 7.96l-1.37-1.37c-.4-.4-.92-.59-1.43-.59-.52 0-1.04.2-1.43.59L10.3 9.45l-7.72 7.72c-.78.78-.78 2.05 0 2.83L4 21.41c.39.39.9.59 1.41.59.51 0 1.02-.2 1.41-.59l7.78-7.78 2.81-2.81c.8-.78.8-2.07 0-2.86zM5.41 20L4 18.59l7.72-7.72 1.47 1.35L5.41 20z\"/>\n",
              "  </svg>\n",
              "      </button>\n",
              "      \n",
              "  <style>\n",
              "    .colab-df-container {\n",
              "      display:flex;\n",
              "      flex-wrap:wrap;\n",
              "      gap: 12px;\n",
              "    }\n",
              "\n",
              "    .colab-df-convert {\n",
              "      background-color: #E8F0FE;\n",
              "      border: none;\n",
              "      border-radius: 50%;\n",
              "      cursor: pointer;\n",
              "      display: none;\n",
              "      fill: #1967D2;\n",
              "      height: 32px;\n",
              "      padding: 0 0 0 0;\n",
              "      width: 32px;\n",
              "    }\n",
              "\n",
              "    .colab-df-convert:hover {\n",
              "      background-color: #E2EBFA;\n",
              "      box-shadow: 0px 1px 2px rgba(60, 64, 67, 0.3), 0px 1px 3px 1px rgba(60, 64, 67, 0.15);\n",
              "      fill: #174EA6;\n",
              "    }\n",
              "\n",
              "    [theme=dark] .colab-df-convert {\n",
              "      background-color: #3B4455;\n",
              "      fill: #D2E3FC;\n",
              "    }\n",
              "\n",
              "    [theme=dark] .colab-df-convert:hover {\n",
              "      background-color: #434B5C;\n",
              "      box-shadow: 0px 1px 3px 1px rgba(0, 0, 0, 0.15);\n",
              "      filter: drop-shadow(0px 1px 2px rgba(0, 0, 0, 0.3));\n",
              "      fill: #FFFFFF;\n",
              "    }\n",
              "  </style>\n",
              "\n",
              "      <script>\n",
              "        const buttonEl =\n",
              "          document.querySelector('#df-fe9da500-acee-4aa7-913e-2de065d2b22f button.colab-df-convert');\n",
              "        buttonEl.style.display =\n",
              "          google.colab.kernel.accessAllowed ? 'block' : 'none';\n",
              "\n",
              "        async function convertToInteractive(key) {\n",
              "          const element = document.querySelector('#df-fe9da500-acee-4aa7-913e-2de065d2b22f');\n",
              "          const dataTable =\n",
              "            await google.colab.kernel.invokeFunction('convertToInteractive',\n",
              "                                                     [key], {});\n",
              "          if (!dataTable) return;\n",
              "\n",
              "          const docLinkHtml = 'Like what you see? Visit the ' +\n",
              "            '<a target=\"_blank\" href=https://colab.research.google.com/notebooks/data_table.ipynb>data table notebook</a>'\n",
              "            + ' to learn more about interactive tables.';\n",
              "          element.innerHTML = '';\n",
              "          dataTable['output_type'] = 'display_data';\n",
              "          await google.colab.output.renderOutput(dataTable, element);\n",
              "          const docLink = document.createElement('div');\n",
              "          docLink.innerHTML = docLinkHtml;\n",
              "          element.appendChild(docLink);\n",
              "        }\n",
              "      </script>\n",
              "    </div>\n",
              "  </div>\n",
              "  "
            ]
          },
          "metadata": {},
          "execution_count": 38
        }
      ]
    },
    {
      "cell_type": "code",
      "source": [
        "#export DataFrame to CSV file\n",
        "results.to_csv(r'/content/drive/MyDrive/Colab Notebooks/Datasets/NLP/test_results.csv', index=False)"
      ],
      "metadata": {
        "id": "E1FiCm7Bo-nS"
      },
      "execution_count": null,
      "outputs": []
    }
  ]
}